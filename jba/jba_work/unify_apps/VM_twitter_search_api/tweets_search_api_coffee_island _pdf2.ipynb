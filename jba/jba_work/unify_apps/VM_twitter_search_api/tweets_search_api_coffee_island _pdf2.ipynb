{
 "cells": [
  {
   "cell_type": "markdown",
   "metadata": {},
   "source": [
    "# Get Tweets\n",
    "\n",
    "This script extracts all the tweets with hashtag #covid-19 related to the day before today (yesterday) and saves them into a .csv file.\n",
    "We use the `tweepy` library, which can be installed with the command `pip install tweepy`.\n",
    "\n",
    "Firstly, we import the configuration file, called `config.py`, which is located in the same directory of this script."
   ]
  },
  {
   "cell_type": "code",
   "execution_count": 1,
   "metadata": {},
   "outputs": [],
   "source": [
    "import os\n",
    "jv = os.environ.get('JAVA_HOME', None)\n",
    "\n",
    "# import findspark\n",
    "# findspark.init()\n",
    "\n",
    "# os.environ['PYSPARK_SUBMIT_ARGS'] = \\\n",
    "# '--packages com.johnsnowlabs.nlp:spark-nlp_2.12:3.0.0 pyspark-shell'\n",
    "# # '--packages org.postgresql:postgresql:42.1.1 pyspark-shell'\n"
   ]
  },
  {
   "cell_type": "code",
   "execution_count": 2,
   "metadata": {},
   "outputs": [
    {
     "data": {
      "text/plain": [
       "['/home/hadoopuser/Documents/twitter_search_api',\n",
       " '/home/hadoopuser/.vscode/extensions/ms-toolsai.jupyter-2021.6.999662501/pythonFiles/vscode_datascience_helpers',\n",
       " '/home/hadoopuser/.vscode/extensions/ms-toolsai.jupyter-2021.6.999662501/pythonFiles',\n",
       " '/home/hadoopuser/.vscode/extensions/ms-toolsai.jupyter-2021.6.999662501/pythonFiles/lib/python',\n",
       " '/opt/anaconda/envs/pyspark_env/lib/python37.zip',\n",
       " '/opt/anaconda/envs/pyspark_env/lib/python3.7',\n",
       " '/opt/anaconda/envs/pyspark_env/lib/python3.7/lib-dynload',\n",
       " '',\n",
       " '/opt/anaconda/envs/pyspark_env/lib/python3.7/site-packages',\n",
       " '/opt/anaconda/envs/pyspark_env/lib/python3.7/site-packages/IPython/extensions',\n",
       " '/home/hadoopuser/.ipython']"
      ]
     },
     "execution_count": 2,
     "metadata": {},
     "output_type": "execute_result"
    }
   ],
   "source": [
    "import sys, glob, os\n",
    "# sys.path.extend(glob.glob(os.path.join(os.path.expanduser(\"~\"), \".ivy2/jars/*.jar\")))\n",
    "sys.path"
   ]
  },
  {
   "cell_type": "code",
   "execution_count": 92,
   "metadata": {},
   "outputs": [],
   "source": [
    "import mypy\n",
    "from config import *\n",
    "import tweepy\n",
    "import datetime\n",
    "\n",
    "import logging\n",
    "\n",
    "logger = logging.getLogger('tweets_search')"
   ]
  },
  {
   "cell_type": "code",
   "execution_count": 4,
   "metadata": {},
   "outputs": [],
   "source": [
    "import pandas as pd\n",
    "# import nltk\n",
    "from nltk.sentiment.vader import SentimentIntensityAnalyzer"
   ]
  },
  {
   "cell_type": "code",
   "execution_count": 5,
   "metadata": {},
   "outputs": [
    {
     "name": "stdout",
     "output_type": "stream",
     "text": [
      "logger.root.level = 30, logger.root.name = root\n",
      "logger.name = tweets_search\n"
     ]
    }
   ],
   "source": [
    "print(f\"logger.root.level = {logger.root.level}, logger.root.name = {logger.root.name}\")\n",
    "print(f\"logger.name = {logger.name}\")"
   ]
  },
  {
   "cell_type": "code",
   "execution_count": 7,
   "metadata": {},
   "outputs": [],
   "source": [
    "# format = \"%(asctime)s - %(levelname)s - %(message)s\"\n",
    "# logging.basicConfig(format=format, stream=sys.stdout, level = logging.DEBUG)\n",
    "logging.basicConfig(format=format, stream=sys.stdout, level = logging.INFO)"
   ]
  },
  {
   "cell_type": "code",
   "execution_count": 6,
   "metadata": {},
   "outputs": [
    {
     "name": "stdout",
     "output_type": "stream",
     "text": [
      "30\n"
     ]
    }
   ],
   "source": [
    "print(logger.root.level)"
   ]
  },
  {
   "cell_type": "code",
   "execution_count": 17,
   "metadata": {},
   "outputs": [],
   "source": [
    "# logger.root.level = 10"
   ]
  },
  {
   "cell_type": "code",
   "execution_count": 18,
   "metadata": {},
   "outputs": [
    {
     "name": "stdout",
     "output_type": "stream",
     "text": [
      "10\n"
     ]
    }
   ],
   "source": [
    "# print(logger.root.level)"
   ]
  },
  {
   "cell_type": "markdown",
   "metadata": {},
   "source": [
    "We setup the connection to our Twitter App by using the `OAuthHandler()` class and its `access_token()` function. Then we call the Twitter API through the `API()` function."
   ]
  },
  {
   "cell_type": "code",
   "execution_count": 7,
   "metadata": {},
   "outputs": [],
   "source": [
    "auth = tweepy.OAuthHandler(TWITTER_CONSUMER_KEY, TWITTER_CONSUMER_SECRET)\n",
    "auth.set_access_token(TWITTER_ACCESS_TOKEN, TWITTER_ACCESS_TOKEN_SECRET)\n",
    "api = tweepy.API(auth,wait_on_rate_limit=True, wait_on_rate_limit_notify = True)"
   ]
  },
  {
   "cell_type": "code",
   "execution_count": 10,
   "metadata": {},
   "outputs": [],
   "source": [
    "# api.me()"
   ]
  },
  {
   "cell_type": "code",
   "execution_count": 11,
   "metadata": {},
   "outputs": [],
   "source": [
    "# api.rate_limit_status()"
   ]
  },
  {
   "cell_type": "markdown",
   "metadata": {},
   "source": [
    "## setup dates (recent 7 days max)\n",
    "\n",
    "\n",
    "If today is 2021-06-26 then :\n",
    "\n",
    "1. `time_frame = {timedelta:'2'}` (we get tweets from 2021-0-24 up to 2021-06-25 (today - 1 day))\n",
    "2. `time_frame = {since:'2021-06-23', timedelta:'2'}` \n",
    "3. `time_frame = {until:'2021-06-25', timedelta:'2'}` (2 & 3 & 4 expressions are equivalent)\n",
    "4. `time_frame = {since:'2021-06-23', until:'2021-06-25'}` -> we get tweets from 2021-06-23 up to 2021-06-24\n",
    "\n",
    "`note:` from today we can get a time_frame of 7 days max, i.e since 2021-06-19"
   ]
  },
  {
   "cell_type": "code",
   "execution_count": 30,
   "metadata": {},
   "outputs": [
    {
     "name": "stderr",
     "output_type": "stream",
     "text": [
      "full_text: '(datetime.date(2021, 6, 26), datetime.date(2021, 6, 25))'\n"
     ]
    }
   ],
   "source": [
    "today = datetime.date.today()\n",
    "since= today - datetime.timedelta(days=1)\n",
    "until= today\n",
    "until, since\n",
    "\n",
    "logger.warning(f\"full_text: '{until, since}'\")"
   ]
  },
  {
   "cell_type": "code",
   "execution_count": 117,
   "metadata": {},
   "outputs": [],
   "source": [
    "\n",
    "def time_frame(until=None, since=None, timedelta=0):\n",
    "    print(until, since, timedelta)\n",
    "    if isinstance(timedelta, str):\n",
    "        print(timedelta)\n",
    "        try:\n",
    "            timedelta = int(timedelta)\n",
    "            logger.warning(f\"timedelta: '{timedelta}'\")\n",
    "        except (ValueError, TypeError):\n",
    "            print(f'ValueError: \"timedelta = {timedelta}\". It must be an int')\n",
    "    # print((timedelta))\n",
    "    # if isinstance(int(timedelta), int):\n",
    "    #     print(timedelta)\n",
    "    #     if (1 <= timedelta <=7) and since==None:\n",
    "    #         today = datetime.date.today()\n",
    "    #         since= today - datetime.timedelta(days=timedelta)\n",
    "    #         until= today\n",
    "    #         logger.warning(f\"time_frame: '{until, since}'\") # until, since\n",
    "            \n",
    "               \n",
    "    # today = datetime.date.today()\n",
    "    # since= today - datetime.timedelta(days=1)\n",
    "    # until= today\n",
    "    # until, since\n",
    "# (datetime.date(2021, 6, 7), datetime.date(2021, 6, 6))"
   ]
  },
  {
   "cell_type": "code",
   "execution_count": 118,
   "metadata": {},
   "outputs": [
    {
     "name": "stderr",
     "output_type": "stream",
     "text": [
      "timedelta: '2'\n",
      "2\n",
      "None None 2\n",
      "2\n"
     ]
    }
   ],
   "source": [
    "\n",
    "timedelta = '2'\n",
    "print(timedelta)\n",
    "time_frame(timedelta = timedelta)\n",
    "# print(timedelta)\n",
    "# time_frame(timedelta = 'a')"
   ]
  },
  {
   "cell_type": "markdown",
   "metadata": {},
   "source": [
    "### type checking with mypy"
   ]
  },
  {
   "cell_type": "code",
   "execution_count": 100,
   "metadata": {},
   "outputs": [
    {
     "name": "stdout",
     "output_type": "stream",
     "text": [
      "Python Type Checking\n",
      "--------------------\n",
      "oooooooooooooooooooo Use Mypy oooooooooooooooooooo\n"
     ]
    }
   ],
   "source": [
    "\n",
    "def headline(text: str, align: bool = True) -> str:\n",
    "    if not align:\n",
    "        return f\"{text.title()}\\n{'-' * len(text)}\"\n",
    "    else:\n",
    "        return f\" {text.title()} \".center(50, \"o\")\n",
    "\n",
    "print(headline(\"python type checking\", False))\n",
    "print(headline(\"use mypy\", align=\"center\"))"
   ]
  },
  {
   "cell_type": "code",
   "execution_count": 98,
   "metadata": {},
   "outputs": [
    {
     "name": "stdout",
     "output_type": "stream",
     "text": [
      "Help on function headline in module __main__:\n",
      "\n",
      "headline(text: str, align: bool = True) -> str\n",
      "\n"
     ]
    }
   ],
   "source": [
    "help(headline)"
   ]
  },
  {
   "cell_type": "code",
   "execution_count": 6,
   "metadata": {},
   "outputs": [],
   "source": [
    "from __future__ import annotations\n",
    "import datetime\n",
    "from typing import List, Set, Dict, Tuple, Text, Optional, AnyStr\n",
    "import mypy \n",
    "def time_frame1(until:datetime=None, since:datetime=None, timedelta:int=0) -> tuple[datetime]:\n",
    "    today = datetime.date.today()\n",
    "    # print((timedelta))\n",
    "    # if isinstance(int(timedelta), int):\n",
    "    #     print(timedelta)\n",
    "    #     if (1 <= timedelta <=7) and since==None:\n",
    "    #         today = datetime.date.today()\n",
    "    #         since= today - datetime.timedelta(days=timedelta)\n",
    "    #         until= today\n",
    "    #         logger.warning(f\"time_frame: '{until, since}'\") # until, since\n",
    "    if isinstance(timedelta, int) and 0 < timedelta <=7:    \n",
    "        if until == None and since == None:        \n",
    "            today = datetime.date.today()\n",
    "            since= today - datetime.timedelta(days=timedelta)\n",
    "            until= today\n",
    "        if until == None and isinstance(since, datetime.date): \n",
    "            if 0 < (today - since).days <= 7:\n",
    "                until= since + datetime.timedelta(days=timedelta)\n",
    "    return until, since\n",
    "# (datetime.date(2021, 6, 7), datetime.date(2021, 6, 6))"
   ]
  },
  {
   "cell_type": "code",
   "execution_count": 8,
   "metadata": {},
   "outputs": [],
   "source": [
    "today = datetime.date.today()"
   ]
  },
  {
   "cell_type": "code",
   "execution_count": 9,
   "metadata": {},
   "outputs": [
    {
     "data": {
      "text/plain": [
       "(datetime.date(2021, 6, 28), datetime.date(2021, 6, 26))"
      ]
     },
     "execution_count": 9,
     "metadata": {},
     "output_type": "execute_result"
    }
   ],
   "source": [
    "time_frame1(since= today - datetime.timedelta(days=3), timedelta=2)"
   ]
  },
  {
   "cell_type": "code",
   "execution_count": 155,
   "metadata": {},
   "outputs": [
    {
     "name": "stdout",
     "output_type": "stream",
     "text": [
      "yes date\n"
     ]
    }
   ],
   "source": [
    "# until:datetime = None\n",
    "until:datetime = datetime.date.today()\n",
    "since:datetime=None\n",
    "timedelta=0\n",
    "\n",
    "if until is  None:\n",
    "    print('yes is None')\n",
    "\n",
    "if isinstance(until, datetime.date):\n",
    "    print('yes date')"
   ]
  },
  {
   "cell_type": "code",
   "execution_count": 122,
   "metadata": {},
   "outputs": [
    {
     "name": "stdout",
     "output_type": "stream",
     "text": [
      "Help on function time_frame1 in module __main__:\n",
      "\n",
      "time_frame1(until: 'datetime' = None, since: 'datetime' = None, timedelta=0) -> 'tuple[datetime]'\n",
      "\n"
     ]
    }
   ],
   "source": [
    "help(time_frame1)"
   ]
  },
  {
   "cell_type": "code",
   "execution_count": 128,
   "metadata": {},
   "outputs": [
    {
     "name": "stdout",
     "output_type": "stream",
     "text": [
      "2021-06-26 2021-06-24\n"
     ]
    }
   ],
   "source": [
    "until, since = time_frame1(timedelta=2)\n",
    "print(until, since)"
   ]
  },
  {
   "cell_type": "code",
   "execution_count": 88,
   "metadata": {},
   "outputs": [],
   "source": [
    "def evaluate_arguments_to_calculate_slope(point):\n",
    "    \"\"\"\n",
    "    Evaluate three conditions of point to see if we can later use this point to calculate the slope of a line\n",
    "    \n",
    "    Keyword arguments:\n",
    "    point -- tuple or list of x-y coordinates of a point\n",
    "    \"\"\"\n",
    "    precondition_statuses = []\n",
    "    \n",
    "    # validate each data structure is a list or tuple\n",
    "    condition_status = isinstance(point, (tuple, list))\n",
    "    precondition_statuses.append((\"tuple or list data structure\", condition_status))\n",
    "    \n",
    "    # validate there are two values in that data structure\n",
    "    condition_status = len(point) == 2\n",
    "    precondition_statuses.append((\"two values in data structures\", condition_status))\n",
    "    \n",
    "    '''\n",
    "    Validate the two values in that data struxture are floats or ints.\n",
    "    Create a list comprehension to create a new list of two Boolean values.\n",
    "    Logic returns True if the value is a float or int and False if neither data type\n",
    "    '''\n",
    "    digit_statuses = [isinstance(value, (float, int)) for value in point]\n",
    "    # returns True if both items in list are boolean True values; otherwise, returns False\n",
    "    condition_status = all(digit_statuses)\n",
    "    precondition_statuses.append((\"ints or floats\", condition_status))\n",
    "        \n",
    "    return precondition_statuses"
   ]
  },
  {
   "cell_type": "code",
   "execution_count": 84,
   "metadata": {},
   "outputs": [],
   "source": [
    "def all_argument_conditions_met(condition_results):\n",
    "    \"\"\"\n",
    "    Evalute booleans of conditions\n",
    "    \n",
    "    Keyword arguments:\n",
    "    condition_results -- list of tuples of (condition name, boolean status)\n",
    "    \"\"\"\n",
    "    conditions_pass = True\n",
    "    \n",
    "    for condition in condition_results:\n",
    "        if condition[1] is False:\n",
    "            conditions_pass = False\n",
    "    return conditions_pass"
   ]
  },
  {
   "cell_type": "code",
   "execution_count": 91,
   "metadata": {},
   "outputs": [
    {
     "name": "stdout",
     "output_type": "stream",
     "text": [
      "[('tuple or list data structure', True), ('two values in data structures', True), ('ints or floats', True)]\n"
     ]
    }
   ],
   "source": [
    "point_one = (1,2)\n",
    "cont = evaluate_arguments_to_calculate_slope(point_one)\n",
    "print(cont)"
   ]
  },
  {
   "cell_type": "code",
   "execution_count": 13,
   "metadata": {},
   "outputs": [],
   "source": [
    "logger.debug(f\"full_text: '{until, since}'\")"
   ]
  },
  {
   "cell_type": "markdown",
   "metadata": {},
   "source": [
    "We search for tweets on Twitter by using the `Cursor()` function. \n",
    "We pass the `api.search` parameter to the cursor, as well as the query string, which is specified through the `q` parameter of the cursor.\n",
    "The query string can receive many parameters, such as the following (not mandatory) ones:\n",
    "* `from:` - to specify a specific Twitter user profile\n",
    "* `since:` - to specify the beginning date of search\n",
    "* `until:` - to specify the ending date of search\n",
    "The cursor can also receive other parameters, such as the language and the `tweet_mode`. If `tweet_mode='extended'`, all the text of the tweet is returned, otherwise only the first 140 characters."
   ]
  },
  {
   "cell_type": "code",
   "execution_count": null,
   "metadata": {},
   "outputs": [],
   "source": [
    "# # example \n",
    "# code tweets = tweepy.Cursor(api.search, tweet_mode=’extended’) \n",
    "# for tweet in tweets:\n",
    "#     content = tweet.full_text"
   ]
  },
  {
   "cell_type": "code",
   "execution_count": null,
   "metadata": {},
   "outputs": [],
   "source": [
    "# tweets_list = tweepy.Cursor(api.search, q=\"#Covid-19 since:\" + str(yesterday)+ \" until:\" + str(today),tweet_mode='extended', lang='en').items()"
   ]
  },
  {
   "cell_type": "code",
   "execution_count": null,
   "metadata": {},
   "outputs": [],
   "source": [
    "# tweets_list = tweepy.Cursor(api.search, q=f\"#Covid-19 since:{str(yesterday)} until:{str(today)}\",tweet_mode='extended', lang='en').items()"
   ]
  },
  {
   "cell_type": "markdown",
   "metadata": {},
   "source": [
    "### Get all related tweets from `date:since` to `date:until(not_incluted)`"
   ]
  },
  {
   "cell_type": "code",
   "execution_count": 131,
   "metadata": {},
   "outputs": [],
   "source": [
    "# tweets_list = tweepy.Cursor(api.search, q=['astrazeneca', 'pfizer'],since= str(since), until=str(until),tweet_mode='extended', lang='en').items()\n",
    "\n",
    "# Greek Language = el\n",
    "# tweets_list = tweepy.Cursor(api.search, q=['coffee island'],since= str(since), until=str(until),tweet_mode='extended', lang='el').items()\n",
    "\n",
    "# English Language = en\n",
    "# tweets_list = tweepy.Cursor(api.search, q=['coffee island OR CoffeeIsland'],since= str(since), until=str(until),tweet_mode='extended', lang='en').items()\n",
    "\n",
    "tweets_list = tweepy.Cursor(api.search, q=['astrazeneca OR pfizer'],since= str(since), until=str(until),tweet_mode='extended', lang='en').items()"
   ]
  },
  {
   "cell_type": "markdown",
   "metadata": {},
   "source": [
    "Now we loop across the `tweets_list`, and, for each tweet, we extract the text, the creation date, the number of retweets and the favourite count. We store every tweet into a list, called `output`."
   ]
  },
  {
   "cell_type": "code",
   "execution_count": 26,
   "metadata": {},
   "outputs": [
    {
     "name": "stdout",
     "output_type": "stream",
     "text": [
      "2021-06-25 03:00:56,957 - INFO - elapsed_time: '5.004919528961182'\n"
     ]
    }
   ],
   "source": [
    "# import time\n",
    "# seconds = 5\n",
    "# start = time.time()\n",
    "# time.sleep(seconds)\n",
    "# end = time.time()\n",
    "# logger.info(f\"elapsed_time: '{end - start}'\")"
   ]
  },
  {
   "cell_type": "markdown",
   "metadata": {},
   "source": [
    "---\n",
    "# TEST"
   ]
  },
  {
   "cell_type": "code",
   "execution_count": 17,
   "metadata": {
    "tags": []
   },
   "outputs": [
    {
     "name": "stdout",
     "output_type": "stream",
     "text": [
      "2021-06-24 23:18:06,420 - DEBUG - PARAMS: {'q': b\"['coffee island']\", 'since': b'2021-06-22', 'until': b'2021-06-24', 'tweet_mode': b'extended', 'lang': b'gr'}\n",
      "2021-06-24 23:18:06,428 - DEBUG - Signing request <PreparedRequest [GET]> using client <Client client_key=pw0ihLFxH3nwDrd4HBd7pqUrc, client_secret=****, resource_owner_key=1360011857969479682-iLrxBUlqdtExwkqiN9iZsHYDXIFTZz, resource_owner_secret=****, signature_method=HMAC-SHA1, signature_type=AUTH_HEADER, callback_uri=None, rsa_key=None, verifier=None, realm=None, encoding=utf-8, decoding=None, nonce=None, timestamp=None>\n",
      "2021-06-24 23:18:06,429 - DEBUG - Including body in call to sign: False\n",
      "2021-06-24 23:18:06,442 - DEBUG - Collected params: [('q', \"['coffee island']\"), ('since', '2021-06-22'), ('until', '2021-06-24'), ('tweet_mode', 'extended'), ('lang', 'gr'), ('oauth_nonce', '89097120203846973971624565886'), ('oauth_timestamp', '1624565886'), ('oauth_version', '1.0'), ('oauth_signature_method', 'HMAC-SHA1'), ('oauth_consumer_key', 'pw0ihLFxH3nwDrd4HBd7pqUrc'), ('oauth_token', '1360011857969479682-iLrxBUlqdtExwkqiN9iZsHYDXIFTZz')]\n",
      "2021-06-24 23:18:06,448 - DEBUG - Normalized params: lang=gr&oauth_consumer_key=pw0ihLFxH3nwDrd4HBd7pqUrc&oauth_nonce=89097120203846973971624565886&oauth_signature_method=HMAC-SHA1&oauth_timestamp=1624565886&oauth_token=1360011857969479682-iLrxBUlqdtExwkqiN9iZsHYDXIFTZz&oauth_version=1.0&q=%5B%27coffee%20island%27%5D&since=2021-06-22&tweet_mode=extended&until=2021-06-24\n",
      "2021-06-24 23:18:06,449 - DEBUG - Normalized URI: https://api.twitter.com/1.1/search/tweets.json\n",
      "2021-06-24 23:18:06,450 - DEBUG - Signing: signature base string: GET&https%3A%2F%2Fapi.twitter.com%2F1.1%2Fsearch%2Ftweets.json&lang%3Dgr%26oauth_consumer_key%3Dpw0ihLFxH3nwDrd4HBd7pqUrc%26oauth_nonce%3D89097120203846973971624565886%26oauth_signature_method%3DHMAC-SHA1%26oauth_timestamp%3D1624565886%26oauth_token%3D1360011857969479682-iLrxBUlqdtExwkqiN9iZsHYDXIFTZz%26oauth_version%3D1.0%26q%3D%255B%2527coffee%2520island%2527%255D%26since%3D2021-06-22%26tweet_mode%3Dextended%26until%3D2021-06-24\n",
      "2021-06-24 23:18:06,457 - DEBUG - Signature: 0aK/4MeMjbf3kLgJW6Twy4Veu10=\n",
      "2021-06-24 23:18:06,460 - DEBUG - Updated url: https://api.twitter.com/1.1/search/tweets.json?q=%5B%27coffee+island%27%5D&since=2021-06-22&until=2021-06-24&tweet_mode=extended&lang=gr\n",
      "2021-06-24 23:18:06,461 - DEBUG - Updated headers: {'Host': 'api.twitter.com', 'Authorization': 'OAuth oauth_nonce=\"89097120203846973971624565886\", oauth_timestamp=\"1624565886\", oauth_version=\"1.0\", oauth_signature_method=\"HMAC-SHA1\", oauth_consumer_key=\"pw0ihLFxH3nwDrd4HBd7pqUrc\", oauth_token=\"1360011857969479682-iLrxBUlqdtExwkqiN9iZsHYDXIFTZz\", oauth_signature=\"0aK%2F4MeMjbf3kLgJW6Twy4Veu10%3D\"'}\n",
      "2021-06-24 23:18:06,462 - DEBUG - Updated body: None\n",
      "2021-06-24 23:18:06,473 - DEBUG - Starting new HTTPS connection (1): api.twitter.com:443\n",
      "2021-06-24 23:18:07,527 - DEBUG - https://api.twitter.com:443 \"GET /1.1/search/tweets.json?q=%5B%27coffee+island%27%5D&since=2021-06-22&until=2021-06-24&tweet_mode=extended&lang=gr HTTP/1.1\" 200 382\n",
      "2021-06-24 23:18:07,535 - DEBUG - PARAMS: {'create': b'True'}\n"
     ]
    }
   ],
   "source": [
    "# tweets_list2 = tweepy.Cursor(api.search, q=['pfizer','astrazeneca'],since= str(since), until=str(until),tweet_mode='extended', lang='en').items(2)\n",
    "\n",
    "import time\n",
    "start = time.time()\n",
    "output = []\n",
    "for tweet in tweets_list:\n",
    "    # text = tweet._json[\"full_text\"]\n",
    "    #print(text) \n",
    "    # https://developer.twitter.com/en/docs/twitter-api/v1/tweets/search/api-reference/get-search-tweets           \n",
    "    # \"geo\": null,\"coordinates\": null,\"place\": null,\"contributors\": null,\n",
    "    # \"is_quote_status\": false,\"retweet_count\": 988,\"favorite_count\": 3875,\n",
    "    # \"favorited\": false,\"retweeted\": false,\"possibly_sensitive\": false,\"lang\": \"en\"\n",
    "    # https://developer.twitter.com/en/docs/twitter-ids\n",
    "    logger.info(f\"tweet_id_str: {'-'*30}\")\n",
    "    logger.info(f\"created_at: {tweet.created_at}\")\n",
    "    logger.info(f\"full_text: {tweet._json['full_text']}\")\n",
    "    logger.info(f\"tweet_id: {tweet.id}\")\n",
    "    logger.info(f\"tweet_id_str: {tweet.id_str}\")\n",
    "    logger.info(f\"user: {tweet._json['user']['name']}\")\n",
    "    logger.info(f\"user_id: {tweet._json['user']['id']}\")    \n",
    "    # favourite_count = tweet.favorite_count\n",
    "    # retweet_count = tweet.retweet_count\n",
    "    # created_at = tweet.created_at\n",
    "    \n",
    "#     line = {'text' : text, 'favourite_count' : favourite_count, 'retweet_count' : retweet_count, 'created_at' : created_at}\n",
    "#     output.append(line)\n",
    "#     logger.info(f\"Append list length : { len(output)}\")\n",
    "# end = time.time()\n",
    "# logger.info(f\"elapsed_time: '{end - start}'\")"
   ]
  },
  {
   "cell_type": "markdown",
   "metadata": {},
   "source": [
    "---"
   ]
  },
  {
   "cell_type": "code",
   "execution_count": 132,
   "metadata": {
    "tags": []
   },
   "outputs": [],
   "source": [
    "import time\n",
    "start = time.time()\n",
    "output = []\n",
    "for tweet in tweets_list:\n",
    "    text = tweet._json[\"full_text\"]\n",
    "    #print(text) \n",
    "    # https://developer.twitter.com/en/docs/twitter-api/v1/tweets/search/api-reference/get-search-tweets           \n",
    "    # \"geo\": null,\"coordinates\": null,\"place\": null,\"contributors\": null,\n",
    "    # \"is_quote_status\": false,\"retweet_count\": 988,\"favorite_count\": 3875,\n",
    "    # \"favorited\": false,\"retweeted\": false,\"possibly_sensitive\": false,\"lang\": \"en\"\n",
    "    logger.debug(f\"full_text: '{text}'\")\n",
    "    favourite_count = tweet.favorite_count\n",
    "    retweet_count = tweet.retweet_count\n",
    "    created_at = tweet.created_at\n",
    "    \n",
    "    line = {'text' : text, 'favourite_count' : favourite_count, 'retweet_count' : retweet_count, 'created_at' : created_at}\n",
    "    output.append(line)\n",
    "    logger.info(f\"Append list length : { len(output)}\")\n",
    "end = time.time()\n",
    "logger.info(f\"elapsed_time: '{end - start}'\")"
   ]
  },
  {
   "cell_type": "code",
   "execution_count": 133,
   "metadata": {},
   "outputs": [
    {
     "data": {
      "text/plain": [
       "ext': '@AdyLady9969 I got my first Pfizer dose at Claremont about two weeks agom due for my second Thursday week. I had no side effects aside from a sore arm for two days. The Pfizer is fine.',\n",
       "  'favourite_count': 0,\n",
       "  'retweet_count': 0,\n",
       "  'created_at': datetime.datetime(2021, 6, 25, 23, 59, 6)},\n",
       " {'text': \"RT @Habia_2: Israeli researchers: 'Rare autoimmune disease' linked to Pfizer Covid-19 vaccine https://t.co/zaG3ahBQUe\",\n",
       "  'favourite_count': 0,\n",
       "  'retweet_count': 9,\n",
       "  'created_at': datetime.datetime(2021, 6, 25, 23, 59, 2)},\n",
       " {'text': 'RT @ke11ybender: Maddie is a Pfizer trial participant that is now disabled. https://t.co/s8EaHi99GO',\n",
       "  'favourite_count': 0,\n",
       "  'retweet_count': 546,\n",
       "  'created_at': datetime.datetime(2021, 6, 25, 23, 59, 1)},\n",
       " {'text': 'RT @Teddybird: If You Got Pfizer or Moderna, the FDA Has a New Warning For You https://t.co/ntZQFT2iXp',\n",
       "  'favourite_count': 0,\n",
       "  'retweet_count': 75,\n",
       "  'created_at': datetime.datetime(2021, 6, 25, 23, 59)},\n",
       " {'text': 'Get your first dose of the Pfizer #COVID19 Vaccine from 10am-2pm TOMORROW at Humphrey Middle School in Bolingbrook.\\n\\nVisit https://t.co/POz3lxt0FP to schedule your appointment online. https://t.co/pc5KYWUjPG',\n",
       "  'favourite_count': 1,\n",
       "  'retweet_count': 0,\n",
       "  'created_at': datetime.datetime(2021, 6, 25, 23, 59)},\n",
       " {'text': 'RT @lllDare_Devilll: Takeaways from #AVSpace for Covid.\\n\\n- 3rd wave has already started although media is not currently covering it. Cases…',\n",
       "  'favourite_count': 0,\n",
       "  'retweet_count': 20,\n",
       "  'created_at': datetime.datetime(2021, 6, 25, 23, 58, 48)},\n",
       " {'text': \"@bfriendmyles @twtrrr @Sunsplashsun good info. thanks. even though in a different state.\\nmy sister has had first shot of AZ but looking for second shot of Pfizer. I wouldn't be surprised if rules change again soon anyway 🙄\",\n",
       "  'favourite_count': 10,\n",
       "  'retweet_count': 0,\n",
       "  'created_at': datetime.datetime(2021, 6, 25, 23, 58, 46)},\n",
       " {'text': '@THP_hospital You guys are always awesome . Service and everything…. I got the appointment of 2nd week of July and would like to get Pfizer as first dose . Hope nothing changed to Moderna etc unless email right ..please confirm ..',\n",
       "  'favourite_count': 0,\n",
       "  'retweet_count': 0,\n",
       "  'created_at': datetime.datetime(2021, 6, 25, 23, 58, 41)},\n",
       " {'text': 'RT @FaryalAhmedN: Any students currently in Pakistan on their student visa, struggling to return abroad due to the European vaccine situati…',\n",
       "  'favourite_count': 0,\n",
       "  'retweet_count': 192,\n",
       "  'created_at': datetime.datetime(2021, 6, 25, 23, 58, 36)},\n",
       " {'text': 'RT @peggymel2001: The end of AstraZeneca | The Saturday Paper\\n\\n“On Thursday morning the Prime Minister did the rounds of morning TV program…',\n",
       "  'favourite_count': 0,\n",
       "  'retweet_count': 1,\n",
       "  'created_at': datetime.datetime(2021, 6, 25, 23, 58, 34)},\n",
       " {'text': 'RT @birgitomo: I cannot tell you how many people walked away from the clinic after they found out they were receiving the Moderna vaccine.…',\n",
       "  'favourite_count': 0,\n",
       "  'retweet_count': 574,\n",
       "  'created_at': datetime.datetime(2021, 6, 25, 23, 58, 33)},\n",
       " {'text': 'RT @AlexBerenson: Hey, people of vaccination, please take a moment to answer this one-question survey from @pfizer @cdcgov: Do you like you…',\n",
       "  'favourite_count': 0,\n",
       "  'retweet_count': 652,\n",
       "  'created_at': datetime.datetime(2021, 6, 25, 23, 58, 29)},\n",
       " {'text': 'Full vaccination (mRNA/pfizer) is 90% effective in preventing asymptomatic infection and mask wearing in this group can be relaxed. \\n\\nhttps://t.co/Thhnf1gAio',\n",
       "  'favourite_count': 0,\n",
       "  'retweet_count': 0,\n",
       "  'created_at': datetime.datetime(2021, 6, 25, 23, 58, 28)},\n",
       " {'text': 'RT @AlexBerenson: Hey, people of vaccination, please take a moment to answer this one-question survey from @pfizer @cdcgov: Do you like you…',\n",
       "  'favourite_count': 0,\n",
       "  'retweet_count': 652,\n",
       "  'created_at': datetime.datetime(2021, 6, 25, 23, 58, 28)},\n",
       " {'text': '@GaetanBurgio Hoping that the TGA takes note of this study and approves second dose Pfizer for first dose AZ recipients soon.',\n",
       "  'favourite_count': 2,\n",
       "  'retweet_count': 0,\n",
       "  'created_at': datetime.datetime(2021, 6, 25, 23, 58, 27)},\n",
       " {'text': '@DrMukeshH @FamilyGPau3025 @pfizer @jimmyrees @RACGP @amavictoria @australian @9NewsMelb Love it. 👊👊👊',\n",
       "  'favourite_count': 2,\n",
       "  'retweet_count': 1,\n",
       "  'created_at': datetime.datetime(2021, 6, 25, 23, 58, 26)},\n",
       " {'text': 'RT @drmikehart: Peer-reviewed research: \\n\\nTo prevent one case of COVID, 200–700 people need to be vaccinated with the mRNA vaccine marketed…',\n",
       "  'favourite_count': 0,\n",
       "  'retweet_count': 82,\n",
       "  'created_at': datetime.datetime(2021, 6, 25, 23, 58, 16)},\n",
       " {'text': 'RT @m_scribe: About half of the adults in Israel who tested positive for the delta variant were fully vaccinated with the Pfizer/BioNTech v…',\n",
       "  'favourite_count': 0,\n",
       "  'retweet_count': 3,\n",
       "  'created_at': datetime.datetime(2021, 6, 25, 23, 58, 11)},\n",
       " {'text': 'RT @Teddybird: If You Got Pfizer or Moderna, the FDA Has a New Warning For You https://t.co/ntZQFT2iXp',\n",
       "  'favourite_count': 0,\n",
       "  'retweet_count': 75,\n",
       "  'created_at': datetime.datetime(2021, 6, 25, 23, 58, 10)},\n",
       " {'text': 'RT @francesmao: This interview with the limo driver at the centre of the Sydney outbreak reports that while he was eligible for AstraZeneca…',\n",
       "  'favourite_count': 0,\n",
       "  'retweet_count': 198,\n",
       "  'created_at': datetime.datetime(2021, 6, 25, 23, 58, 9)},\n",
       " {'text': 'RT @jjalt5: Somebody said channie went to LA to get pfizer nghfkdk 😭',\n",
       "  'favourite_count': 0,\n",
       "  'retweet_count': 28,\n",
       "  'created_at': datetime.datetime(2021, 6, 25, 23, 58, 7)},\n",
       " {'text': 'RT @DrJulioSandoval: Pfizer says COVID vaccine is highly effective against Delta variant | Reuters https://t.co/HmeFSzVY3M',\n",
       "  'favourite_count': 0,\n",
       "  'retweet_count': 49,\n",
       "  'created_at': datetime.datetime(2021, 6, 25, 23, 58, 7)},\n",
       " {'text': 'RT @EricTopol: Just published @TheLancet \\nLargest mix-and-match, randomized, clinical vaccine trial of people with AZ first dose, Pfizer 2n…',\n",
       "  'favourite_count': 0,\n",
       "  'retweet_count': 768,\n",
       "  'created_at': datetime.datetime(2021, 6, 25, 23, 58, 4)},\n",
       " {'text': '@drmusanordin Those 1st batch recipients of AZ (5th May) hv passed their 8 weeks . Looks like no speeding up of 2nd dose to 8 or 10weeks. Hope @JKJAVMY gives out the 12th week appointments soon ( end July) or is supply still problem? MCO anxiety &amp; vaccination anxiety… we’ll take pfizer or Az',\n",
       "  'favourite_count': 1,\n",
       "  'retweet_count': 0,\n",
       "  'created_at': datetime.datetime(2021, 6, 25, 23, 58)},\n",
       " {'text': \"insurance. #Saatchi have multiple #pharmaceutical clients, including; #Astrazeneca, #Pfizer and #Merck. There website says: 'We transform raw data about life-changing brands into real meaning for healthcare professionals.'\",\n",
       "  'favourite_count': 0,\n",
       "  'retweet_count': 0,\n",
       "  'created_at': datetime.datetime(2021, 6, 25, 23, 57, 56)},\n",
       " {'text': \"@Cob_Zombie @akmayhem @shane_mauss I didn't get the jab in the secret hope that the virus would kill me. Maybe I should get the Pfizer shot in the secret hope that that'll get the job done.\",\n",
       "  'favourite_count': 0,\n",
       "  'retweet_count': 0,\n",
       "  'created_at': datetime.datetime(2021, 6, 25, 23, 57, 56)},\n",
       " {'text': 'RT @RepThomasMassie: @CDCgov Neither the Pfizer trial, nor the Moderna trial, nor the Cleveland Clinic study showed a benefit from the vacc…',\n",
       "  'favourite_count': 0,\n",
       "  'retweet_count': 695,\n",
       "  'created_at': datetime.datetime(2021, 6, 25, 23, 57, 54)},\n",
       " {'text': 'RT @AlexBerenson: Hey, people of vaccination, please take a moment to answer this one-question survey from @pfizer @cdcgov: Do you like you…',\n",
       "  'favourite_count': 0,\n",
       "  'retweet_count': 652,\n",
       "  'created_at': datetime.datetime(2021, 6, 25, 23, 57, 53)},\n",
       " {'text': 'RT @Zinnsgh0st: @AlexBerenson Even in a “mild” case of myocarditis, kids are looking at 3-6 months of rest before being cleared for sports…',\n",
       "  'favourite_count': 0,\n",
       "  'retweet_count': 33,\n",
       "  'created_at': datetime.datetime(2021, 6, 25, 23, 57, 53)},\n",
       " {'text': \"RT @Reuters_Health: A single dose of Russia's Sputnik V or the Oxford University-AstraZeneca (AZN.L) vaccine reduces mortality from COVID-1…\",\n",
       "  'favourite_count': 0,\n",
       "  'retweet_count': 39,\n",
       "  'created_at': datetime.datetime(2021, 6, 25, 23, 57, 52)},\n",
       " {'text': 'RT @euan_wallace: I am now a week out from my 2nd dose of AstraZeneca. \\n\\nNo side effects at all from 2nd dose. \\n\\nA resident of Sandringham,…',\n",
       "  'favourite_count': 0,\n",
       "  'retweet_count': 66,\n",
       "  'created_at': datetime.datetime(2021, 6, 25, 23, 57, 52)},\n",
       " {'text': 'RT @peggymel2001: The end of AstraZeneca | The Saturday Paper\\n\\nRick Morton.  Questions are being asked about how decisions were initially m…',\n",
       "  'favourite_count': 0,\n",
       "  'retweet_count': 2,\n",
       "  'created_at': datetime.datetime(2021, 6, 25, 23, 57, 51)},\n",
       " {'text': 'RT @RegionWaterloo: Anyone 18+ can book a first and second dose at upcoming mobile clinic locations. Your second dose must be booked for no…',\n",
       "  'favourite_count': 0,\n",
       "  'retweet_count': 47,\n",
       "  'created_at': datetime.datetime(2021, 6, 25, 23, 57, 49)},\n",
       " {'text': 'RT @EricTopol: Just published @TheLancet \\nLargest mix-and-match, randomized, clinical vaccine trial of people with AZ first dose, Pfizer 2n…',\n",
       "  'favourite_count': 0,\n",
       "  'retweet_count': 768,\n",
       "  'created_at': datetime.datetime(2021, 6, 25, 23, 57, 48)},\n",
       " {'text': '@smh So no Pfizer vaccine for them after the pollies got it all.',\n",
       "  'favourite_count': 0,\n",
       "  'retweet_count': 0,\n",
       "  'created_at': datetime.datetime(2021, 6, 25, 23, 57, 45)},\n",
       " {'text': 'RT @ABC: Amid more than 300 confirmed cases of heart inflammation in teens and young adults who have received COVID-19 vaccines, the nation…',\n",
       "  'favourite_count': 0,\n",
       "  'retweet_count': 45,\n",
       "  'created_at': datetime.datetime(2021, 6, 25, 23, 57, 44)},\n",
       " {'text': 'RT @Zinnsgh0st: @AlexBerenson Even in a “mild” case of myocarditis, kids are looking at 3-6 months of rest before being cleared for sports…',\n",
       "  'favourite_count': 0,\n",
       "  'retweet_count': 33,\n",
       "  'created_at': datetime.datetime(2021, 6, 25, 23, 57, 42)},\n",
       " {'text': 'RT @ke11ybender: Maddie is a Pfizer trial participant that is now disabled. https://t.co/s8EaHi99GO',\n",
       "  'favourite_count': 0,\n",
       "  'retweet_count': 546,\n",
       "  'created_at': datetime.datetime(2021, 6, 25, 23, 57, 39)},\n",
       " {'text': 'RT @WSJ: About half of adults infected in an outbreak of the Delta variant of Covid-19 in Israel were fully inoculated with the Pfizer  vac…',\n",
       "  'favourite_count': 0,\n",
       "  'retweet_count': 422,\n",
       "  'created_at': datetime.datetime(2021, 6, 25, 23, 57, 38)},\n",
       " {'text': 'RT @EricTopol: Just published @TheLancet \\nLargest mix-and-match, randomized, clinical vaccine trial of people with AZ first dose, Pfizer 2n…',\n",
       "  'favourite_count': 0,\n",
       "  'retweet_count': 768,\n",
       "  'created_at': datetime.datetime(2021, 6, 25, 23, 57, 34)},\n",
       " {'text': 'RT @plutoexperiment: @AlexBerenson @pfizer @CDCgov ... when there is liability, and fear of getting sued -\\nvia @statnews #Pfizer \\nhttps://t…',\n",
       "  'favourite_count': 0,\n",
       "  'retweet_count': 3,\n",
       "  'created_at': datetime.datetime(2021, 6, 25, 23, 57, 32)},\n",
       " {'text': 'RT @kathyross2: @LaTrioli @abcmelbourne @abcnews Please direct frustration at government for not procuring enough Pfizer-haranguing over 50…',\n",
       "  'favourite_count': 0,\n",
       "  'retweet_count': 10,\n",
       "  'created_at': datetime.datetime(2021, 6, 25, 23, 57, 30)},\n",
       " {'text': 'RT @jcho710: \"Research suggests Pfizer-BioNTech C19 vaccine reprograms innate immune responses\": \"These results collectively demonstrate th…',\n",
       "  'favourite_count': 0,\n",
       "  'retweet_count': 16,\n",
       "  'created_at': datetime.datetime(2021, 6, 25, 23, 57, 28)},\n",
       " {'text': 'RT @ABC: Amid more than 300 confirmed cases of heart inflammation in teens and young adults who have received COVID-19 vaccines, the nation…',\n",
       "  'favourite_count': 0,\n",
       "  'retweet_count': 45,\n",
       "  'created_at': datetime.datetime(2021, 6, 25, 23, 57, 24)},\n",
       " {'text': 'RT @IndoPac_Info: Japan to donate 1 million more doses of AstraZeneca vaccine to Taiwan https://t.co/BqwoVGESNc https://t.co/ua8KM8TIzi',\n",
       "  'favourite_count': 0,\n",
       "  'retweet_count': 32,\n",
       "  'created_at': datetime.datetime(2021, 6, 25, 23, 57, 24)},\n",
       " {'text': 'RT @MarinaMuckpaloo: Ya girl here is fully vaccinated today! \\n#gotmyshot #ldnont #Pfizer  #Moderna https://t.co/UCK7M3S4Sm',\n",
       "  'favourite_count': 0,\n",
       "  'retweet_count': 1,\n",
       "  'created_at': datetime.datetime(2021, 6, 25, 23, 57, 23)},\n",
       " {'text': 'RT @AlexBerenson: Hey, people of vaccination, please take a moment to answer this one-question survey from @pfizer @cdcgov: Do you like you…',\n",
       "  'favourite_count': 0,\n",
       "  'retweet_count': 652,\n",
       "  'created_at': datetime.datetime(2021, 6, 25, 23, 57, 19)},\n",
       " {'text': 'RT @Robyn_TRuth: \"About 1/2 of adults infected in outbreak of #DeltaVariant of #COVID19 in Israel were fully inoculated with @pfizer vaccin…',\n",
       "  'favourite_count': 0,\n",
       "  'retweet_count': 10,\n",
       "  'created_at': datetime.datetime(2021, 6, 25, 23, 57, 7)},\n",
       " {'text': '@monkeysteinel @KamalaHarris What adverse effects are you anticipating Jw? I took two doses of the Pfizer vaccine. First one, I got a bit lethargic and had a really sore arm. Two weeks later, after the second, I had a couple of bad headaches and a bit of congestion. It went away fast.',\n",
       "  'favourite_count': 0,\n",
       "  'retweet_count': 0,\n",
       "  'created_at': datetime.datetime(2021, 6, 25, 23, 57, 1)},\n",
       " {'text': 'Instead of AstraZeneca for my second dose, can I get Dumbreka instead? I want the black bile removed from me too 🖤',\n",
       "  'favourite_count': 3,\n",
       "  'retweet_count': 0,\n",
       "  'created_at': datetime.datetime(2021, 6, 25, 23, 56, 59)},\n",
       " {'text': 'Note to self:\\nMixed vaxx trial of AZ first dose, Pfizer 2nd dose. Rather positive outcome.\\nhttps://t.co/PTT1QKiW9B',\n",
       "  'favourite_count': 0,\n",
       "  'retweet_count': 0,\n",
       "  'created_at': datetime.datetime(2021, 6, 25, 23, 56, 56)},\n",
       " {'text': 'RT @shctoronto: We now releasing approx. 600 1st &amp; 2nd dose vaccination appointments for June 28 -July 3\\n💉Moderna for 18+ &amp; Pfizer for 12-1…',\n",
       "  'favourite_count': 0,\n",
       "  'retweet_count': 15,\n",
       "  'created_at': datetime.datetime(2021, 6, 25, 23, 56, 50)},\n",
       " {'text': \"@01Waller I thought you only got the superpowers with 2 MRNA vaccines.  I don't think the A/Z Pfizer cocktail gets you there.\",\n",
       "  'favourite_count': 2,\n",
       "  'retweet_count': 0,\n",
       "  'created_at': datetime.datetime(2021, 6, 25, 23, 56, 46)},\n",
       " {'text': 'RT @AlexBerenson: Hey, people of vaccination, please take a moment to answer this one-question survey from @pfizer @cdcgov: Do you like you…',\n",
       "  'favourite_count': 0,\n",
       "  'retweet_count': 652,\n",
       "  'created_at': datetime.datetime(2021, 6, 25, 23, 56, 43)},\n",
       " {'text': 'RT @beer_nun: Should be printed and in every window during lockdown. #auspol #covidsydney #MorrisonOutbreak #MorrisonLockdown #PfizerVaccin…',\n",
       "  'favourite_count': 0,\n",
       "  'retweet_count': 103,\n",
       "  'created_at': datetime.datetime(2021, 6, 25, 23, 56, 40)},\n",
       " {'text': 'RT @beer_nun: Should be printed and in every window during lockdown. #auspol #covidsydney #MorrisonOutbreak #MorrisonLockdown #PfizerVaccin…',\n",
       "  'favourite_count': 0,\n",
       "  'retweet_count': 103,\n",
       "  'created_at': datetime.datetime(2021, 6, 25, 23, 56, 29)},\n",
       " {'text': 'FDA to add warning about rare heart inflammation to Pfizer, Moderna vaccines https://t.co/WJcqpl3C7M',\n",
       "  'favourite_count': 0,\n",
       "  'retweet_count': 0,\n",
       "  'created_at': datetime.datetime(2021, 6, 25, 23, 56, 29)},\n",
       " {'text': 'RT @birgitomo: I cannot tell you how many people walked away from the clinic after they found out they were receiving the Moderna vaccine.…',\n",
       "  'favourite_count': 0,\n",
       "  'retweet_count': 574,\n",
       "  'created_at': datetime.datetime(2021, 6, 25, 23, 56, 26)},\n",
       " {'text': \"RT @Habia_2: Israeli researchers: 'Rare autoimmune disease' linked to Pfizer Covid-19 vaccine https://t.co/zaG3ahBQUe\",\n",
       "  'favourite_count': 0,\n",
       "  'retweet_count': 9,\n",
       "  'created_at': datetime.datetime(2021, 6, 25, 23, 56, 21)},\n",
       " {'text': 'RT @AlexBerenson: Hey, people of vaccination, please take a moment to answer this one-question survey from @pfizer @cdcgov: Do you like you…',\n",
       "  'favourite_count': 0,\n",
       "  'retweet_count': 652,\n",
       "  'created_at': datetime.datetime(2021, 6, 25, 23, 56, 19)},\n",
       " {'text': 'RT @AlexBerenson: Hey, people of vaccination, please take a moment to answer this one-question survey from @pfizer @cdcgov: Do you like you…',\n",
       "  'favourite_count': 0,\n",
       "  'retweet_count': 652,\n",
       "  'created_at': datetime.datetime(2021, 6, 25, 23, 56, 19)},\n",
       " {'text': 'RT @jossreimer: To all the parents and youth out there waiting for their 2nd Pfizer dose: I know this has been a challenging time. (1/6)',\n",
       "  'favourite_count': 0,\n",
       "  'retweet_count': 16,\n",
       "  'created_at': datetime.datetime(2021, 6, 25, 23, 56, 18)},\n",
       " {'text': '@AdyLady9969 Get the Pfizer 👍',\n",
       "  'favourite_count': 1,\n",
       "  'retweet_count': 0,\n",
       "  'created_at': datetime.datetime(2021, 6, 25, 23, 56, 14)},\n",
       " {'text': 'AstraZ gave blood platelets to clot.\\nPfizer and Moderna gives myocarditis in young. And still there are ppl who want children to have this? WHY?????????????\\nhttps://t.co/RUOtYqwN6i',\n",
       "  'favourite_count': 6,\n",
       "  'retweet_count': 2,\n",
       "  'created_at': datetime.datetime(2021, 6, 25, 23, 56, 10)},\n",
       " {'text': \"RT @DailyExposeGB: BREAKING - A 13-year-old boy has died three days after having the C0V-1-D jab, however it's just a coincidence because 1…\",\n",
       "  'favourite_count': 0,\n",
       "  'retweet_count': 338,\n",
       "  'created_at': datetime.datetime(2021, 6, 25, 23, 56, 9)},\n",
       " {'text': 'RT @francesmao: This interview with the limo driver at the centre of the Sydney outbreak reports that while he was eligible for AstraZeneca…',\n",
       "  'favourite_count': 0,\n",
       "  'retweet_count': 198,\n",
       "  'created_at': datetime.datetime(2021, 6, 25, 23, 56, 8)},\n",
       " {'text': 'RT @Iperborea_: Finalmente lo posso dire anche io: this girl is on pfizer 🔥',\n",
       "  'favourite_count': 0,\n",
       "  'retweet_count': 21,\n",
       "  'created_at': datetime.datetime(2021, 6, 25, 23, 56, 8)},\n",
       " {'text': 'RT @euan_wallace: I am now a week out from my 2nd dose of AstraZeneca. \\n\\nNo side effects at all from 2nd dose. \\n\\nA resident of Sandringham,…',\n",
       "  'favourite_count': 0,\n",
       "  'retweet_count': 66,\n",
       "  'created_at': datetime.datetime(2021, 6, 25, 23, 56, 5)},\n",
       " {'text': 'RT @RepThomasMassie: @CDCgov Neither the Pfizer trial, nor the Moderna trial, nor the Cleveland Clinic study showed a benefit from the vacc…',\n",
       "  'favourite_count': 0,\n",
       "  'retweet_count': 695,\n",
       "  'created_at': datetime.datetime(2021, 6, 25, 23, 56)},\n",
       " {'text': '@BobNYC59 Well, the data is coming in on #MIXandMATCH  - big study out today from an AZ + Pfizer study in Spain in @TheLancet 600 subjects \"robust immune response\" but on J&amp;J nothing yet',\n",
       "  'favourite_count': 2,\n",
       "  'retweet_count': 0,\n",
       "  'created_at': datetime.datetime(2021, 6, 25, 23, 55, 58)},\n",
       " {'text': 'RT @WSJ: About half of adults infected in an outbreak of the Delta variant of Covid-19 in Israel were fully inoculated with the Pfizer  vac…',\n",
       "  'favourite_count': 0,\n",
       "  'retweet_count': 422,\n",
       "  'created_at': datetime.datetime(2021, 6, 25, 23, 55, 54)},\n",
       " {'text': 'Keep letting them”experiment” 🔬on us\\n“The study found that out of the first 100 reported deaths in nursing home residents who received the Pfizer vaccine, 10 were “likely” due to the vaccine. An additional 26 deaths were “possibly” caused by the vaccine, said the study authors.” https://t.co/8kIU3MmrLW',\n",
       "  'favourite_count': 1,\n",
       "  'retweet_count': 1,\n",
       "  'created_at': datetime.datetime(2021, 6, 25, 23, 55, 53)},\n",
       " {'text': \"RT @InfoPEI: If you got either Pfizer or Moderna for 1st COVID vaccine, you should get same for 2nd dose. If not available, it's OK to get…\",\n",
       "  'favourite_count': 0,\n",
       "  'retweet_count': 4,\n",
       "  'created_at': datetime.datetime(2021, 6, 25, 23, 55, 47)},\n",
       " {'text': 'RT @Pelham_3: Latest data shows over 1,200 16-24-year-olds had developed rare heart conditions after receiving Pfizer or Moderna shots. htt…',\n",
       "  'favourite_count': 0,\n",
       "  'retweet_count': 26,\n",
       "  'created_at': datetime.datetime(2021, 6, 25, 23, 55, 47)},\n",
       " {'text': '@twtrrr @Sunsplashsun Imogen, it might be worth trying a walk in at Mater (entrance between Hudson Coffee &amp; Zaraffas), they refused me without a booking and I stood my ground and was allowed up to get the Pfizer. Worth a try...',\n",
       "  'favourite_count': 15,\n",
       "  'retweet_count': 2,\n",
       "  'created_at': datetime.datetime(2021, 6, 25, 23, 55, 44)}]"
      ]
     },
     "execution_count": 133,
     "metadata": {},
     "output_type": "execute_result"
    }
   ],
   "source": [
    "output"
   ]
  },
  {
   "cell_type": "code",
   "execution_count": 71,
   "metadata": {},
   "outputs": [
    {
     "data": {
      "text/plain": [
       "685"
      ]
     },
     "execution_count": 71,
     "metadata": {},
     "output_type": "execute_result"
    }
   ],
   "source": [
    "len(output)"
   ]
  },
  {
   "cell_type": "markdown",
   "metadata": {},
   "source": [
    "---\n",
    "### create pdf from list"
   ]
  },
  {
   "cell_type": "code",
   "execution_count": 85,
   "metadata": {},
   "outputs": [],
   "source": [
    "pdf = pd.DataFrame(output)\n"
   ]
  },
  {
   "cell_type": "code",
   "execution_count": 86,
   "metadata": {},
   "outputs": [
    {
     "data": {
      "text/plain": [
       "(685, 4)"
      ]
     },
     "execution_count": 86,
     "metadata": {},
     "output_type": "execute_result"
    }
   ],
   "source": [
    "pdf.shape"
   ]
  },
  {
   "cell_type": "code",
   "execution_count": 87,
   "metadata": {},
   "outputs": [
    {
     "data": {
      "text/html": [
       "<div>\n",
       "<style scoped>\n",
       "    .dataframe tbody tr th:only-of-type {\n",
       "        vertical-align: middle;\n",
       "    }\n",
       "\n",
       "    .dataframe tbody tr th {\n",
       "        vertical-align: top;\n",
       "    }\n",
       "\n",
       "    .dataframe thead th {\n",
       "        text-align: right;\n",
       "    }\n",
       "</style>\n",
       "<table border=\"1\" class=\"dataframe\">\n",
       "  <thead>\n",
       "    <tr style=\"text-align: right;\">\n",
       "      <th></th>\n",
       "      <th>text</th>\n",
       "      <th>favourite_count</th>\n",
       "      <th>retweet_count</th>\n",
       "      <th>created_at</th>\n",
       "    </tr>\n",
       "  </thead>\n",
       "  <tbody>\n",
       "    <tr>\n",
       "      <th>0</th>\n",
       "      <td>The #Nanaimo 7-10 Club is running a cooling ce...</td>\n",
       "      <td>0</td>\n",
       "      <td>0</td>\n",
       "      <td>2021-06-25 23:37:24</td>\n",
       "    </tr>\n",
       "    <tr>\n",
       "      <th>1</th>\n",
       "      <td>@LegendaryEnergy Barrel aged puna coffee from ...</td>\n",
       "      <td>0</td>\n",
       "      <td>0</td>\n",
       "      <td>2021-06-25 22:49:10</td>\n",
       "    </tr>\n",
       "  </tbody>\n",
       "</table>\n",
       "</div>"
      ],
      "text/plain": [
       "                                                text  favourite_count  \\\n",
       "0  The #Nanaimo 7-10 Club is running a cooling ce...                0   \n",
       "1  @LegendaryEnergy Barrel aged puna coffee from ...                0   \n",
       "\n",
       "   retweet_count          created_at  \n",
       "0              0 2021-06-25 23:37:24  \n",
       "1              0 2021-06-25 22:49:10  "
      ]
     },
     "execution_count": 87,
     "metadata": {},
     "output_type": "execute_result"
    }
   ],
   "source": [
    "pdf.head(2)"
   ]
  },
  {
   "cell_type": "code",
   "execution_count": 88,
   "metadata": {},
   "outputs": [
    {
     "name": "stdout",
     "output_type": "stream",
     "text": [
      "<class 'pandas.core.frame.DataFrame'>\n",
      "RangeIndex: 685 entries, 0 to 684\n",
      "Data columns (total 4 columns):\n",
      " #   Column           Non-Null Count  Dtype         \n",
      "---  ------           --------------  -----         \n",
      " 0   text             685 non-null    object        \n",
      " 1   favourite_count  685 non-null    int64         \n",
      " 2   retweet_count    685 non-null    int64         \n",
      " 3   created_at       685 non-null    datetime64[ns]\n",
      "dtypes: datetime64[ns](1), int64(2), object(1)\n",
      "memory usage: 21.5+ KB\n"
     ]
    }
   ],
   "source": [
    "pdf.info()"
   ]
  },
  {
   "cell_type": "markdown",
   "metadata": {},
   "source": [
    "Selecting specific columns in a pandas dataframe"
   ]
  },
  {
   "cell_type": "code",
   "execution_count": 89,
   "metadata": {},
   "outputs": [
    {
     "data": {
      "text/html": [
       "<div>\n",
       "<style scoped>\n",
       "    .dataframe tbody tr th:only-of-type {\n",
       "        vertical-align: middle;\n",
       "    }\n",
       "\n",
       "    .dataframe tbody tr th {\n",
       "        vertical-align: top;\n",
       "    }\n",
       "\n",
       "    .dataframe thead th {\n",
       "        text-align: right;\n",
       "    }\n",
       "</style>\n",
       "<table border=\"1\" class=\"dataframe\">\n",
       "  <thead>\n",
       "    <tr style=\"text-align: right;\">\n",
       "      <th></th>\n",
       "      <th>text</th>\n",
       "      <th>created_at</th>\n",
       "    </tr>\n",
       "  </thead>\n",
       "  <tbody>\n",
       "    <tr>\n",
       "      <th>0</th>\n",
       "      <td>The #Nanaimo 7-10 Club is running a cooling ce...</td>\n",
       "      <td>2021-06-25 23:37:24</td>\n",
       "    </tr>\n",
       "    <tr>\n",
       "      <th>1</th>\n",
       "      <td>@LegendaryEnergy Barrel aged puna coffee from ...</td>\n",
       "      <td>2021-06-25 22:49:10</td>\n",
       "    </tr>\n",
       "  </tbody>\n",
       "</table>\n",
       "</div>"
      ],
      "text/plain": [
       "                                                text          created_at\n",
       "0  The #Nanaimo 7-10 Club is running a cooling ce... 2021-06-25 23:37:24\n",
       "1  @LegendaryEnergy Barrel aged puna coffee from ... 2021-06-25 22:49:10"
      ]
     },
     "execution_count": 89,
     "metadata": {},
     "output_type": "execute_result"
    }
   ],
   "source": [
    "pdf[['text', 'created_at']].head(2)"
   ]
  },
  {
   "cell_type": "code",
   "execution_count": 90,
   "metadata": {},
   "outputs": [
    {
     "data": {
      "text/plain": [
       "text               685\n",
       "favourite_count    685\n",
       "retweet_count      685\n",
       "created_at         685\n",
       "dtype: int64"
      ]
     },
     "execution_count": 90,
     "metadata": {},
     "output_type": "execute_result"
    }
   ],
   "source": [
    "pdf.count()"
   ]
  },
  {
   "cell_type": "code",
   "execution_count": 91,
   "metadata": {},
   "outputs": [
    {
     "data": {
      "text/plain": [
       "text    668\n",
       "dtype: int64"
      ]
     },
     "execution_count": 91,
     "metadata": {},
     "output_type": "execute_result"
    }
   ],
   "source": [
    "pdf[['text', 'created_at']].groupby('created_at').first().count()"
   ]
  },
  {
   "cell_type": "code",
   "execution_count": 83,
   "metadata": {},
   "outputs": [],
   "source": [
    "# pdf['created_at'] = pdf['created_at'].dt.date"
   ]
  },
  {
   "cell_type": "code",
   "execution_count": 84,
   "metadata": {},
   "outputs": [
    {
     "data": {
      "text/html": [
       "<div>\n",
       "<style scoped>\n",
       "    .dataframe tbody tr th:only-of-type {\n",
       "        vertical-align: middle;\n",
       "    }\n",
       "\n",
       "    .dataframe tbody tr th {\n",
       "        vertical-align: top;\n",
       "    }\n",
       "\n",
       "    .dataframe thead th {\n",
       "        text-align: right;\n",
       "    }\n",
       "</style>\n",
       "<table border=\"1\" class=\"dataframe\">\n",
       "  <thead>\n",
       "    <tr style=\"text-align: right;\">\n",
       "      <th></th>\n",
       "      <th>text</th>\n",
       "    </tr>\n",
       "    <tr>\n",
       "      <th>created_at</th>\n",
       "      <th></th>\n",
       "    </tr>\n",
       "  </thead>\n",
       "  <tbody>\n",
       "    <tr>\n",
       "      <th>2021-06-19</th>\n",
       "      <td>@BelTel The Government of Ireland can go to an...</td>\n",
       "    </tr>\n",
       "    <tr>\n",
       "      <th>2021-06-20</th>\n",
       "      <td>RT @RottenInDenmark: The indigenous population...</td>\n",
       "    </tr>\n",
       "    <tr>\n",
       "      <th>2021-06-21</th>\n",
       "      <td>RT @cathsherman: #Bahamas Fishing Pier, Great ...</td>\n",
       "    </tr>\n",
       "    <tr>\n",
       "      <th>2021-06-22</th>\n",
       "      <td>@iwantbrewster Commission someone to draw Brew...</td>\n",
       "    </tr>\n",
       "    <tr>\n",
       "      <th>2021-06-23</th>\n",
       "      <td>@Schreibernews We are too.\\nBig hoopla when Pl...</td>\n",
       "    </tr>\n",
       "    <tr>\n",
       "      <th>2021-06-24</th>\n",
       "      <td>Stop by the @nespressousa store after my docto...</td>\n",
       "    </tr>\n",
       "    <tr>\n",
       "      <th>2021-06-25</th>\n",
       "      <td>The #Nanaimo 7-10 Club is running a cooling ce...</td>\n",
       "    </tr>\n",
       "  </tbody>\n",
       "</table>\n",
       "</div>"
      ],
      "text/plain": [
       "                                                         text\n",
       "created_at                                                   \n",
       "2021-06-19  @BelTel The Government of Ireland can go to an...\n",
       "2021-06-20  RT @RottenInDenmark: The indigenous population...\n",
       "2021-06-21  RT @cathsherman: #Bahamas Fishing Pier, Great ...\n",
       "2021-06-22  @iwantbrewster Commission someone to draw Brew...\n",
       "2021-06-23  @Schreibernews We are too.\\nBig hoopla when Pl...\n",
       "2021-06-24  Stop by the @nespressousa store after my docto...\n",
       "2021-06-25  The #Nanaimo 7-10 Club is running a cooling ce..."
      ]
     },
     "execution_count": 84,
     "metadata": {},
     "output_type": "execute_result"
    }
   ],
   "source": [
    "# pdf[['text', 'created_at']].groupby('created_at').first()"
   ]
  },
  {
   "cell_type": "code",
   "execution_count": 65,
   "metadata": {},
   "outputs": [
    {
     "data": {
      "text/plain": [
       "text    7\n",
       "dtype: int64"
      ]
     },
     "execution_count": 65,
     "metadata": {},
     "output_type": "execute_result"
    }
   ],
   "source": [
    "# pdf[['text', 'created_at']].groupby('created_at').first().count()"
   ]
  },
  {
   "cell_type": "code",
   "execution_count": 66,
   "metadata": {},
   "outputs": [
    {
     "data": {
      "text/html": [
       "<div>\n",
       "<style scoped>\n",
       "    .dataframe tbody tr th:only-of-type {\n",
       "        vertical-align: middle;\n",
       "    }\n",
       "\n",
       "    .dataframe tbody tr th {\n",
       "        vertical-align: top;\n",
       "    }\n",
       "\n",
       "    .dataframe thead th {\n",
       "        text-align: right;\n",
       "    }\n",
       "</style>\n",
       "<table border=\"1\" class=\"dataframe\">\n",
       "  <thead>\n",
       "    <tr style=\"text-align: right;\">\n",
       "      <th></th>\n",
       "      <th>text</th>\n",
       "    </tr>\n",
       "    <tr>\n",
       "      <th>created_at</th>\n",
       "      <th></th>\n",
       "    </tr>\n",
       "  </thead>\n",
       "  <tbody>\n",
       "    <tr>\n",
       "      <th>2021-06-19</th>\n",
       "      <td>94</td>\n",
       "    </tr>\n",
       "    <tr>\n",
       "      <th>2021-06-20</th>\n",
       "      <td>83</td>\n",
       "    </tr>\n",
       "    <tr>\n",
       "      <th>2021-06-21</th>\n",
       "      <td>79</td>\n",
       "    </tr>\n",
       "    <tr>\n",
       "      <th>2021-06-22</th>\n",
       "      <td>183</td>\n",
       "    </tr>\n",
       "    <tr>\n",
       "      <th>2021-06-23</th>\n",
       "      <td>52</td>\n",
       "    </tr>\n",
       "    <tr>\n",
       "      <th>2021-06-24</th>\n",
       "      <td>80</td>\n",
       "    </tr>\n",
       "    <tr>\n",
       "      <th>2021-06-25</th>\n",
       "      <td>114</td>\n",
       "    </tr>\n",
       "  </tbody>\n",
       "</table>\n",
       "</div>"
      ],
      "text/plain": [
       "            text\n",
       "created_at      \n",
       "2021-06-19    94\n",
       "2021-06-20    83\n",
       "2021-06-21    79\n",
       "2021-06-22   183\n",
       "2021-06-23    52\n",
       "2021-06-24    80\n",
       "2021-06-25   114"
      ]
     },
     "execution_count": 66,
     "metadata": {},
     "output_type": "execute_result"
    }
   ],
   "source": [
    "# pdf[['text', 'created_at']].groupby('created_at').count()"
   ]
  },
  {
   "cell_type": "markdown",
   "metadata": {},
   "source": [
    "---\n",
    "### save and read pdf without header\n",
    "\n",
    "`index` = By default, when your data is saved, Pandas will include your index. This can be very annoying because when you load up your data again, your index will be there as a new column. I highly recommend setting `index`= false unless you have a specific reason not to.\n",
    "\n",
    "`header` = Say you wanted to switch your column names, then you can specify what you want your columns to be called here. This should be a list of the same length as the number of columns in your data."
   ]
  },
  {
   "cell_type": "code",
   "execution_count": 92,
   "metadata": {},
   "outputs": [],
   "source": [
    "pdf.to_csv('output_cof_island.csv', header = False, index = False )\n",
    "#df.to_csv('output.csv') #mode='a', "
   ]
  },
  {
   "cell_type": "code",
   "execution_count": 93,
   "metadata": {},
   "outputs": [
    {
     "data": {
      "text/html": [
       "<div>\n",
       "<style scoped>\n",
       "    .dataframe tbody tr th:only-of-type {\n",
       "        vertical-align: middle;\n",
       "    }\n",
       "\n",
       "    .dataframe tbody tr th {\n",
       "        vertical-align: top;\n",
       "    }\n",
       "\n",
       "    .dataframe thead th {\n",
       "        text-align: right;\n",
       "    }\n",
       "</style>\n",
       "<table border=\"1\" class=\"dataframe\">\n",
       "  <thead>\n",
       "    <tr style=\"text-align: right;\">\n",
       "      <th></th>\n",
       "      <th>text</th>\n",
       "      <th>favourite_count</th>\n",
       "      <th>retweet_count</th>\n",
       "      <th>created_at</th>\n",
       "    </tr>\n",
       "  </thead>\n",
       "  <tbody>\n",
       "    <tr>\n",
       "      <th>0</th>\n",
       "      <td>The #Nanaimo 7-10 Club is running a cooling ce...</td>\n",
       "      <td>0</td>\n",
       "      <td>0</td>\n",
       "      <td>2021-06-25 23:37:24</td>\n",
       "    </tr>\n",
       "    <tr>\n",
       "      <th>1</th>\n",
       "      <td>@LegendaryEnergy Barrel aged puna coffee from ...</td>\n",
       "      <td>0</td>\n",
       "      <td>0</td>\n",
       "      <td>2021-06-25 22:49:10</td>\n",
       "    </tr>\n",
       "    <tr>\n",
       "      <th>2</th>\n",
       "      <td>Back on the saddle with a big tall glass of co...</td>\n",
       "      <td>2</td>\n",
       "      <td>0</td>\n",
       "      <td>2021-06-25 22:46:38</td>\n",
       "    </tr>\n",
       "    <tr>\n",
       "      <th>3</th>\n",
       "      <td>RT @cathsherman: #Bahamas Fishing Pier, Great ...</td>\n",
       "      <td>0</td>\n",
       "      <td>31</td>\n",
       "      <td>2021-06-25 22:17:23</td>\n",
       "    </tr>\n",
       "    <tr>\n",
       "      <th>4</th>\n",
       "      <td>@SuperWeenieHtJr You in Rhode Island? You need...</td>\n",
       "      <td>1</td>\n",
       "      <td>0</td>\n",
       "      <td>2021-06-25 21:31:06</td>\n",
       "    </tr>\n",
       "  </tbody>\n",
       "</table>\n",
       "</div>"
      ],
      "text/plain": [
       "                                                text  favourite_count  \\\n",
       "0  The #Nanaimo 7-10 Club is running a cooling ce...                0   \n",
       "1  @LegendaryEnergy Barrel aged puna coffee from ...                0   \n",
       "2  Back on the saddle with a big tall glass of co...                2   \n",
       "3  RT @cathsherman: #Bahamas Fishing Pier, Great ...                0   \n",
       "4  @SuperWeenieHtJr You in Rhode Island? You need...                1   \n",
       "\n",
       "   retweet_count          created_at  \n",
       "0              0 2021-06-25 23:37:24  \n",
       "1              0 2021-06-25 22:49:10  \n",
       "2              0 2021-06-25 22:46:38  \n",
       "3             31 2021-06-25 22:17:23  \n",
       "4              0 2021-06-25 21:31:06  "
      ]
     },
     "execution_count": 93,
     "metadata": {},
     "output_type": "execute_result"
    }
   ],
   "source": [
    "pdf2 = pd.read_csv('output_cof_island.csv', names=['text',\t'favourite_count',\t'retweet_count','created_at'], parse_dates=['created_at',])\n",
    "pdf.head(5)"
   ]
  },
  {
   "cell_type": "code",
   "execution_count": 94,
   "metadata": {},
   "outputs": [
    {
     "data": {
      "text/html": [
       "<div>\n",
       "<style scoped>\n",
       "    .dataframe tbody tr th:only-of-type {\n",
       "        vertical-align: middle;\n",
       "    }\n",
       "\n",
       "    .dataframe tbody tr th {\n",
       "        vertical-align: top;\n",
       "    }\n",
       "\n",
       "    .dataframe thead th {\n",
       "        text-align: right;\n",
       "    }\n",
       "</style>\n",
       "<table border=\"1\" class=\"dataframe\">\n",
       "  <thead>\n",
       "    <tr style=\"text-align: right;\">\n",
       "      <th></th>\n",
       "      <th>text</th>\n",
       "      <th>favourite_count</th>\n",
       "      <th>retweet_count</th>\n",
       "      <th>created_at</th>\n",
       "    </tr>\n",
       "  </thead>\n",
       "  <tbody>\n",
       "    <tr>\n",
       "      <th>682</th>\n",
       "      <td>RT @CatherineSher10: Dauphin Island Sunset\\nCl...</td>\n",
       "      <td>0</td>\n",
       "      <td>62</td>\n",
       "      <td>2021-06-19 01:12:39</td>\n",
       "    </tr>\n",
       "    <tr>\n",
       "      <th>683</th>\n",
       "      <td>RT @CatherineSher10: A statue of Hawaiian King...</td>\n",
       "      <td>0</td>\n",
       "      <td>28</td>\n",
       "      <td>2021-06-19 00:20:52</td>\n",
       "    </tr>\n",
       "    <tr>\n",
       "      <th>684</th>\n",
       "      <td>Small Town Coffee! Loving the island life! htt...</td>\n",
       "      <td>0</td>\n",
       "      <td>0</td>\n",
       "      <td>2021-06-19 00:19:21</td>\n",
       "    </tr>\n",
       "  </tbody>\n",
       "</table>\n",
       "</div>"
      ],
      "text/plain": [
       "                                                  text  favourite_count  \\\n",
       "682  RT @CatherineSher10: Dauphin Island Sunset\\nCl...                0   \n",
       "683  RT @CatherineSher10: A statue of Hawaiian King...                0   \n",
       "684  Small Town Coffee! Loving the island life! htt...                0   \n",
       "\n",
       "     retweet_count          created_at  \n",
       "682             62 2021-06-19 01:12:39  \n",
       "683             28 2021-06-19 00:20:52  \n",
       "684              0 2021-06-19 00:19:21  "
      ]
     },
     "execution_count": 94,
     "metadata": {},
     "output_type": "execute_result"
    }
   ],
   "source": [
    "pdf2.tail(3)"
   ]
  },
  {
   "cell_type": "code",
   "execution_count": 95,
   "metadata": {},
   "outputs": [
    {
     "data": {
      "text/plain": [
       "(685, 4)"
      ]
     },
     "execution_count": 95,
     "metadata": {},
     "output_type": "execute_result"
    }
   ],
   "source": [
    "pdf2.shape"
   ]
  },
  {
   "cell_type": "markdown",
   "metadata": {},
   "source": [
    "---\n",
    "## save a pdf to a csv file with header"
   ]
  },
  {
   "cell_type": "code",
   "execution_count": 46,
   "metadata": {},
   "outputs": [],
   "source": [
    "#df = pd.DataFrame(output)\n",
    "pdf.to_csv('output_cof_island.csv', mode='a', header=True, index = False)"
   ]
  },
  {
   "cell_type": "markdown",
   "metadata": {},
   "source": [
    "---\n",
    "## Create a pdf from a csv file with header"
   ]
  },
  {
   "cell_type": "markdown",
   "metadata": {},
   "source": [
    "---\n",
    "### pdf"
   ]
  },
  {
   "cell_type": "code",
   "execution_count": 39,
   "metadata": {},
   "outputs": [
    {
     "data": {
      "text/html": [
       "<div>\n",
       "<style scoped>\n",
       "    .dataframe tbody tr th:only-of-type {\n",
       "        vertical-align: middle;\n",
       "    }\n",
       "\n",
       "    .dataframe tbody tr th {\n",
       "        vertical-align: top;\n",
       "    }\n",
       "\n",
       "    .dataframe thead th {\n",
       "        text-align: right;\n",
       "    }\n",
       "</style>\n",
       "<table border=\"1\" class=\"dataframe\">\n",
       "  <thead>\n",
       "    <tr style=\"text-align: right;\">\n",
       "      <th></th>\n",
       "      <th>text</th>\n",
       "      <th>favourite_count</th>\n",
       "      <th>retweet_count</th>\n",
       "      <th>created_at</th>\n",
       "    </tr>\n",
       "  </thead>\n",
       "  <tbody>\n",
       "    <tr>\n",
       "      <th>0</th>\n",
       "      <td>RT @NikosPachilas: Mikel και Coffee Island αντ...</td>\n",
       "      <td>0</td>\n",
       "      <td>2</td>\n",
       "      <td>2021-06-24 12:26:01</td>\n",
       "    </tr>\n",
       "    <tr>\n",
       "      <th>1</th>\n",
       "      <td>RT @NikosPachilas: Mikel και Coffee Island αντ...</td>\n",
       "      <td>0</td>\n",
       "      <td>2</td>\n",
       "      <td>2021-06-24 12:20:35</td>\n",
       "    </tr>\n",
       "    <tr>\n",
       "      <th>2</th>\n",
       "      <td>RT @RealTime_eu: Mikel και Coffee Island ανταγ...</td>\n",
       "      <td>0</td>\n",
       "      <td>2</td>\n",
       "      <td>2021-06-24 12:20:27</td>\n",
       "    </tr>\n",
       "    <tr>\n",
       "      <th>3</th>\n",
       "      <td>RT @RealTime_eu: Mikel και Coffee Island ανταγ...</td>\n",
       "      <td>0</td>\n",
       "      <td>2</td>\n",
       "      <td>2021-06-24 12:19:07</td>\n",
       "    </tr>\n",
       "    <tr>\n",
       "      <th>4</th>\n",
       "      <td>Mikel και Coffee Island ανταγωνίζονται στην αγ...</td>\n",
       "      <td>2</td>\n",
       "      <td>2</td>\n",
       "      <td>2021-06-24 12:15:01</td>\n",
       "    </tr>\n",
       "  </tbody>\n",
       "</table>\n",
       "</div>"
      ],
      "text/plain": [
       "                                                text  favourite_count  \\\n",
       "0  RT @NikosPachilas: Mikel και Coffee Island αντ...                0   \n",
       "1  RT @NikosPachilas: Mikel και Coffee Island αντ...                0   \n",
       "2  RT @RealTime_eu: Mikel και Coffee Island ανταγ...                0   \n",
       "3  RT @RealTime_eu: Mikel και Coffee Island ανταγ...                0   \n",
       "4  Mikel και Coffee Island ανταγωνίζονται στην αγ...                2   \n",
       "\n",
       "   retweet_count          created_at  \n",
       "0              2 2021-06-24 12:26:01  \n",
       "1              2 2021-06-24 12:20:35  \n",
       "2              2 2021-06-24 12:20:27  \n",
       "3              2 2021-06-24 12:19:07  \n",
       "4              2 2021-06-24 12:15:01  "
      ]
     },
     "execution_count": 39,
     "metadata": {},
     "output_type": "execute_result"
    }
   ],
   "source": [
    "pdf_cof_island2 = pd.read_csv('output_cof_island.csv', parse_dates=['created_at',])\n",
    "pdf_cof_island2.head(5)"
   ]
  },
  {
   "cell_type": "code",
   "execution_count": 23,
   "metadata": {},
   "outputs": [
    {
     "data": {
      "text/plain": [
       "(14, 4)"
      ]
     },
     "execution_count": 23,
     "metadata": {},
     "output_type": "execute_result"
    }
   ],
   "source": [
    "pdf_cof_island2.shape"
   ]
  },
  {
   "cell_type": "code",
   "execution_count": 25,
   "metadata": {},
   "outputs": [
    {
     "name": "stdout",
     "output_type": "stream",
     "text": [
      "<class 'pandas.core.frame.DataFrame'>\n",
      "RangeIndex: 14 entries, 0 to 13\n",
      "Data columns (total 4 columns):\n",
      " #   Column           Non-Null Count  Dtype         \n",
      "---  ------           --------------  -----         \n",
      " 0   text             14 non-null     object        \n",
      " 1   favourite_count  14 non-null     int64         \n",
      " 2   retweet_count    14 non-null     int64         \n",
      " 3   created_at       14 non-null     datetime64[ns]\n",
      "dtypes: datetime64[ns](1), int64(2), object(1)\n",
      "memory usage: 576.0+ bytes\n"
     ]
    }
   ],
   "source": [
    "pdf_cof_island2.info()"
   ]
  },
  {
   "cell_type": "markdown",
   "metadata": {},
   "source": [
    "#### Convert a pdf datetime column to date"
   ]
  },
  {
   "cell_type": "code",
   "execution_count": 101,
   "metadata": {},
   "outputs": [
    {
     "name": "stdout",
     "output_type": "stream",
     "text": [
      "<class 'pandas.core.frame.DataFrame'>\n",
      "RangeIndex: 685 entries, 0 to 684\n",
      "Data columns (total 4 columns):\n",
      " #   Column           Non-Null Count  Dtype \n",
      "---  ------           --------------  ----- \n",
      " 0   text             685 non-null    object\n",
      " 1   favourite_count  685 non-null    int64 \n",
      " 2   retweet_count    685 non-null    int64 \n",
      " 3   created_at       685 non-null    object\n",
      "dtypes: int64(2), object(2)\n",
      "memory usage: 21.5+ KB\n"
     ]
    }
   ],
   "source": [
    "pdf2.info()"
   ]
  },
  {
   "cell_type": "code",
   "execution_count": 96,
   "metadata": {},
   "outputs": [],
   "source": [
    "pdf2['created_at'] = pdf2['created_at'].dt.date"
   ]
  },
  {
   "cell_type": "code",
   "execution_count": 97,
   "metadata": {},
   "outputs": [
    {
     "name": "stdout",
     "output_type": "stream",
     "text": [
      "<class 'pandas.core.frame.DataFrame'>\n",
      "RangeIndex: 685 entries, 0 to 684\n",
      "Data columns (total 4 columns):\n",
      " #   Column           Non-Null Count  Dtype \n",
      "---  ------           --------------  ----- \n",
      " 0   text             685 non-null    object\n",
      " 1   favourite_count  685 non-null    int64 \n",
      " 2   retweet_count    685 non-null    int64 \n",
      " 3   created_at       685 non-null    object\n",
      "dtypes: int64(2), object(2)\n",
      "memory usage: 21.5+ KB\n"
     ]
    }
   ],
   "source": [
    "pdf2.info()"
   ]
  },
  {
   "cell_type": "code",
   "execution_count": 99,
   "metadata": {},
   "outputs": [
    {
     "data": {
      "text/plain": [
       "datetime.date(2021, 6, 25)"
      ]
     },
     "execution_count": 99,
     "metadata": {},
     "output_type": "execute_result"
    }
   ],
   "source": [
    "pdf2['created_at'][0]"
   ]
  },
  {
   "cell_type": "code",
   "execution_count": 29,
   "metadata": {},
   "outputs": [],
   "source": [
    "# pdf_cof_island2 = pd.to_csv('output_cof_island.csv', date_format='%Y-%m-%d')\n",
    "# \n",
    "# pdf_cof_island2.head(5)"
   ]
  },
  {
   "cell_type": "code",
   "execution_count": 100,
   "metadata": {},
   "outputs": [
    {
     "data": {
      "text/html": [
       "<div>\n",
       "<style scoped>\n",
       "    .dataframe tbody tr th:only-of-type {\n",
       "        vertical-align: middle;\n",
       "    }\n",
       "\n",
       "    .dataframe tbody tr th {\n",
       "        vertical-align: top;\n",
       "    }\n",
       "\n",
       "    .dataframe thead th {\n",
       "        text-align: right;\n",
       "    }\n",
       "</style>\n",
       "<table border=\"1\" class=\"dataframe\">\n",
       "  <thead>\n",
       "    <tr style=\"text-align: right;\">\n",
       "      <th></th>\n",
       "      <th>favourite_count</th>\n",
       "      <th>retweet_count</th>\n",
       "    </tr>\n",
       "  </thead>\n",
       "  <tbody>\n",
       "    <tr>\n",
       "      <th>count</th>\n",
       "      <td>685.000000</td>\n",
       "      <td>685.000000</td>\n",
       "    </tr>\n",
       "    <tr>\n",
       "      <th>mean</th>\n",
       "      <td>4.975182</td>\n",
       "      <td>72.442336</td>\n",
       "    </tr>\n",
       "    <tr>\n",
       "      <th>std</th>\n",
       "      <td>68.720497</td>\n",
       "      <td>494.795372</td>\n",
       "    </tr>\n",
       "    <tr>\n",
       "      <th>min</th>\n",
       "      <td>0.000000</td>\n",
       "      <td>0.000000</td>\n",
       "    </tr>\n",
       "    <tr>\n",
       "      <th>25%</th>\n",
       "      <td>0.000000</td>\n",
       "      <td>0.000000</td>\n",
       "    </tr>\n",
       "    <tr>\n",
       "      <th>50%</th>\n",
       "      <td>0.000000</td>\n",
       "      <td>1.000000</td>\n",
       "    </tr>\n",
       "    <tr>\n",
       "      <th>75%</th>\n",
       "      <td>1.000000</td>\n",
       "      <td>31.000000</td>\n",
       "    </tr>\n",
       "    <tr>\n",
       "      <th>max</th>\n",
       "      <td>1737.000000</td>\n",
       "      <td>8756.000000</td>\n",
       "    </tr>\n",
       "  </tbody>\n",
       "</table>\n",
       "</div>"
      ],
      "text/plain": [
       "       favourite_count  retweet_count\n",
       "count       685.000000     685.000000\n",
       "mean          4.975182      72.442336\n",
       "std          68.720497     494.795372\n",
       "min           0.000000       0.000000\n",
       "25%           0.000000       0.000000\n",
       "50%           0.000000       1.000000\n",
       "75%           1.000000      31.000000\n",
       "max        1737.000000    8756.000000"
      ]
     },
     "execution_count": 100,
     "metadata": {},
     "output_type": "execute_result"
    }
   ],
   "source": [
    "pdf2.describe()"
   ]
  },
  {
   "cell_type": "markdown",
   "metadata": {},
   "source": [
    "---\n",
    "### def sentiment_scores "
   ]
  },
  {
   "cell_type": "code",
   "execution_count": 103,
   "metadata": {},
   "outputs": [],
   "source": [
    "import sys\n",
    "from nltk.sentiment.vader import SentimentIntensityAnalyzer\n",
    "\n",
    "def sentiment_scores(sentance: str) -> dict :\n",
    "    # Create a SentimentIntensityAnalyzer object.\n",
    "    sid = SentimentIntensityAnalyzer()\n",
    "    # polarity_scores method of SentimentIntensityAnalyzer\n",
    "    # oject gives a sentiment dictionary.\n",
    "    # which contains pos, neg, neu, and compound scores.\n",
    "    r = sid.polarity_scores(sentance);\n",
    "    return r"
   ]
  },
  {
   "cell_type": "markdown",
   "metadata": {},
   "source": [
    "---\n",
    "### pdf"
   ]
  },
  {
   "cell_type": "markdown",
   "metadata": {},
   "source": [
    "#### create a new column with sentiment_scores"
   ]
  },
  {
   "cell_type": "code",
   "execution_count": 104,
   "metadata": {},
   "outputs": [],
   "source": [
    "#df3['rating'] = df3['text'].apply(sid.polarity_scores)\n",
    "\n",
    "pdf2['rating'] = pdf2['text'].apply(sentiment_scores)"
   ]
  },
  {
   "cell_type": "code",
   "execution_count": 105,
   "metadata": {},
   "outputs": [
    {
     "data": {
      "text/html": [
       "<div>\n",
       "<style scoped>\n",
       "    .dataframe tbody tr th:only-of-type {\n",
       "        vertical-align: middle;\n",
       "    }\n",
       "\n",
       "    .dataframe tbody tr th {\n",
       "        vertical-align: top;\n",
       "    }\n",
       "\n",
       "    .dataframe thead th {\n",
       "        text-align: right;\n",
       "    }\n",
       "</style>\n",
       "<table border=\"1\" class=\"dataframe\">\n",
       "  <thead>\n",
       "    <tr style=\"text-align: right;\">\n",
       "      <th></th>\n",
       "      <th>text</th>\n",
       "      <th>favourite_count</th>\n",
       "      <th>retweet_count</th>\n",
       "      <th>created_at</th>\n",
       "      <th>rating</th>\n",
       "    </tr>\n",
       "  </thead>\n",
       "  <tbody>\n",
       "    <tr>\n",
       "      <th>0</th>\n",
       "      <td>The #Nanaimo 7-10 Club is running a cooling ce...</td>\n",
       "      <td>0</td>\n",
       "      <td>0</td>\n",
       "      <td>2021-06-25</td>\n",
       "      <td>{'neg': 0.0, 'neu': 0.777, 'pos': 0.223, 'comp...</td>\n",
       "    </tr>\n",
       "    <tr>\n",
       "      <th>1</th>\n",
       "      <td>@LegendaryEnergy Barrel aged puna coffee from ...</td>\n",
       "      <td>0</td>\n",
       "      <td>0</td>\n",
       "      <td>2021-06-25</td>\n",
       "      <td>{'neg': 0.0, 'neu': 0.769, 'pos': 0.231, 'comp...</td>\n",
       "    </tr>\n",
       "  </tbody>\n",
       "</table>\n",
       "</div>"
      ],
      "text/plain": [
       "                                                text  favourite_count  \\\n",
       "0  The #Nanaimo 7-10 Club is running a cooling ce...                0   \n",
       "1  @LegendaryEnergy Barrel aged puna coffee from ...                0   \n",
       "\n",
       "   retweet_count  created_at  \\\n",
       "0              0  2021-06-25   \n",
       "1              0  2021-06-25   \n",
       "\n",
       "                                              rating  \n",
       "0  {'neg': 0.0, 'neu': 0.777, 'pos': 0.223, 'comp...  \n",
       "1  {'neg': 0.0, 'neu': 0.769, 'pos': 0.231, 'comp...  "
      ]
     },
     "execution_count": 105,
     "metadata": {},
     "output_type": "execute_result"
    }
   ],
   "source": [
    "pdf2.head(2)"
   ]
  },
  {
   "cell_type": "code",
   "execution_count": 33,
   "metadata": {},
   "outputs": [
    {
     "data": {
      "text/html": [
       "<div>\n",
       "<style scoped>\n",
       "    .dataframe tbody tr th:only-of-type {\n",
       "        vertical-align: middle;\n",
       "    }\n",
       "\n",
       "    .dataframe tbody tr th {\n",
       "        vertical-align: top;\n",
       "    }\n",
       "\n",
       "    .dataframe thead th {\n",
       "        text-align: right;\n",
       "    }\n",
       "</style>\n",
       "<table border=\"1\" class=\"dataframe\">\n",
       "  <thead>\n",
       "    <tr style=\"text-align: right;\">\n",
       "      <th></th>\n",
       "      <th>text</th>\n",
       "      <th>favourite_count</th>\n",
       "      <th>retweet_count</th>\n",
       "      <th>created_at</th>\n",
       "      <th>rating</th>\n",
       "    </tr>\n",
       "  </thead>\n",
       "  <tbody>\n",
       "    <tr>\n",
       "      <th>6508</th>\n",
       "      <td>RT @JohnRHewson: For the record, how many of o...</td>\n",
       "      <td>0</td>\n",
       "      <td>890</td>\n",
       "      <td>2021-06-19 00:00:27</td>\n",
       "      <td>{'neg': 0.0, 'neu': 1.0, 'pos': 0.0, 'compound...</td>\n",
       "    </tr>\n",
       "    <tr>\n",
       "      <th>6509</th>\n",
       "      <td>RT @DrEricDing: 3) “After years of reading res...</td>\n",
       "      <td>0</td>\n",
       "      <td>55</td>\n",
       "      <td>2021-06-19 00:00:08</td>\n",
       "      <td>{'neg': 0.0, 'neu': 1.0, 'pos': 0.0, 'compound...</td>\n",
       "    </tr>\n",
       "  </tbody>\n",
       "</table>\n",
       "</div>"
      ],
      "text/plain": [
       "                                                   text  favourite_count  \\\n",
       "6508  RT @JohnRHewson: For the record, how many of o...                0   \n",
       "6509  RT @DrEricDing: 3) “After years of reading res...                0   \n",
       "\n",
       "      retweet_count           created_at  \\\n",
       "6508            890  2021-06-19 00:00:27   \n",
       "6509             55  2021-06-19 00:00:08   \n",
       "\n",
       "                                                 rating  \n",
       "6508  {'neg': 0.0, 'neu': 1.0, 'pos': 0.0, 'compound...  \n",
       "6509  {'neg': 0.0, 'neu': 1.0, 'pos': 0.0, 'compound...  "
      ]
     },
     "execution_count": 33,
     "metadata": {},
     "output_type": "execute_result"
    }
   ],
   "source": [
    "pdf.tail(2)"
   ]
  },
  {
   "cell_type": "code",
   "execution_count": 106,
   "metadata": {},
   "outputs": [
    {
     "name": "stdout",
     "output_type": "stream",
     "text": [
      "<class 'pandas.core.frame.DataFrame'>\n",
      "RangeIndex: 685 entries, 0 to 684\n",
      "Data columns (total 5 columns):\n",
      " #   Column           Non-Null Count  Dtype \n",
      "---  ------           --------------  ----- \n",
      " 0   text             685 non-null    object\n",
      " 1   favourite_count  685 non-null    int64 \n",
      " 2   retweet_count    685 non-null    int64 \n",
      " 3   created_at       685 non-null    object\n",
      " 4   rating           685 non-null    object\n",
      "dtypes: int64(2), object(3)\n",
      "memory usage: 26.9+ KB\n"
     ]
    }
   ],
   "source": [
    "pdf2.info()"
   ]
  },
  {
   "cell_type": "markdown",
   "metadata": {},
   "source": [
    "https://stackoverflow.com/questions/61608057/output-vader-sentiment-scores-in-columns-based-on-dataframe-rows-of-tweets"
   ]
  },
  {
   "cell_type": "code",
   "execution_count": 107,
   "metadata": {},
   "outputs": [
    {
     "data": {
      "text/html": [
       "<div>\n",
       "<style scoped>\n",
       "    .dataframe tbody tr th:only-of-type {\n",
       "        vertical-align: middle;\n",
       "    }\n",
       "\n",
       "    .dataframe tbody tr th {\n",
       "        vertical-align: top;\n",
       "    }\n",
       "\n",
       "    .dataframe thead th {\n",
       "        text-align: right;\n",
       "    }\n",
       "</style>\n",
       "<table border=\"1\" class=\"dataframe\">\n",
       "  <thead>\n",
       "    <tr style=\"text-align: right;\">\n",
       "      <th></th>\n",
       "      <th>text</th>\n",
       "      <th>favourite_count</th>\n",
       "      <th>retweet_count</th>\n",
       "      <th>created_at</th>\n",
       "      <th>rating</th>\n",
       "    </tr>\n",
       "  </thead>\n",
       "  <tbody>\n",
       "    <tr>\n",
       "      <th>0</th>\n",
       "      <td>The #Nanaimo 7-10 Club is running a cooling ce...</td>\n",
       "      <td>0</td>\n",
       "      <td>0</td>\n",
       "      <td>2021-06-25</td>\n",
       "      <td>{'neg': 0.0, 'neu': 0.777, 'pos': 0.223, 'comp...</td>\n",
       "    </tr>\n",
       "    <tr>\n",
       "      <th>1</th>\n",
       "      <td>@LegendaryEnergy Barrel aged puna coffee from ...</td>\n",
       "      <td>0</td>\n",
       "      <td>0</td>\n",
       "      <td>2021-06-25</td>\n",
       "      <td>{'neg': 0.0, 'neu': 0.769, 'pos': 0.231, 'comp...</td>\n",
       "    </tr>\n",
       "    <tr>\n",
       "      <th>2</th>\n",
       "      <td>Back on the saddle with a big tall glass of co...</td>\n",
       "      <td>2</td>\n",
       "      <td>0</td>\n",
       "      <td>2021-06-25</td>\n",
       "      <td>{'neg': 0.0, 'neu': 1.0, 'pos': 0.0, 'compound...</td>\n",
       "    </tr>\n",
       "    <tr>\n",
       "      <th>3</th>\n",
       "      <td>RT @cathsherman: #Bahamas Fishing Pier, Great ...</td>\n",
       "      <td>0</td>\n",
       "      <td>31</td>\n",
       "      <td>2021-06-25</td>\n",
       "      <td>{'neg': 0.0, 'neu': 0.773, 'pos': 0.227, 'comp...</td>\n",
       "    </tr>\n",
       "    <tr>\n",
       "      <th>4</th>\n",
       "      <td>@SuperWeenieHtJr You in Rhode Island? You need...</td>\n",
       "      <td>1</td>\n",
       "      <td>0</td>\n",
       "      <td>2021-06-25</td>\n",
       "      <td>{'neg': 0.0, 'neu': 1.0, 'pos': 0.0, 'compound...</td>\n",
       "    </tr>\n",
       "    <tr>\n",
       "      <th>...</th>\n",
       "      <td>...</td>\n",
       "      <td>...</td>\n",
       "      <td>...</td>\n",
       "      <td>...</td>\n",
       "      <td>...</td>\n",
       "    </tr>\n",
       "    <tr>\n",
       "      <th>680</th>\n",
       "      <td>RT @TheW0lfpup: Coffee island</td>\n",
       "      <td>0</td>\n",
       "      <td>20</td>\n",
       "      <td>2021-06-19</td>\n",
       "      <td>{'neg': 0.0, 'neu': 1.0, 'pos': 0.0, 'compound...</td>\n",
       "    </tr>\n",
       "    <tr>\n",
       "      <th>681</th>\n",
       "      <td>@Merkabagaming Man before we got it we’d go to...</td>\n",
       "      <td>1</td>\n",
       "      <td>0</td>\n",
       "      <td>2021-06-19</td>\n",
       "      <td>{'neg': 0.0, 'neu': 0.797, 'pos': 0.203, 'comp...</td>\n",
       "    </tr>\n",
       "    <tr>\n",
       "      <th>682</th>\n",
       "      <td>RT @CatherineSher10: Dauphin Island Sunset\\nCl...</td>\n",
       "      <td>0</td>\n",
       "      <td>62</td>\n",
       "      <td>2021-06-19</td>\n",
       "      <td>{'neg': 0.0, 'neu': 1.0, 'pos': 0.0, 'compound...</td>\n",
       "    </tr>\n",
       "    <tr>\n",
       "      <th>683</th>\n",
       "      <td>RT @CatherineSher10: A statue of Hawaiian King...</td>\n",
       "      <td>0</td>\n",
       "      <td>28</td>\n",
       "      <td>2021-06-19</td>\n",
       "      <td>{'neg': 0.0, 'neu': 0.83, 'pos': 0.17, 'compou...</td>\n",
       "    </tr>\n",
       "    <tr>\n",
       "      <th>684</th>\n",
       "      <td>Small Town Coffee! Loving the island life! htt...</td>\n",
       "      <td>0</td>\n",
       "      <td>0</td>\n",
       "      <td>2021-06-19</td>\n",
       "      <td>{'neg': 0.0, 'neu': 0.61, 'pos': 0.39, 'compou...</td>\n",
       "    </tr>\n",
       "  </tbody>\n",
       "</table>\n",
       "<p>685 rows × 5 columns</p>\n",
       "</div>"
      ],
      "text/plain": [
       "                                                  text  favourite_count  \\\n",
       "0    The #Nanaimo 7-10 Club is running a cooling ce...                0   \n",
       "1    @LegendaryEnergy Barrel aged puna coffee from ...                0   \n",
       "2    Back on the saddle with a big tall glass of co...                2   \n",
       "3    RT @cathsherman: #Bahamas Fishing Pier, Great ...                0   \n",
       "4    @SuperWeenieHtJr You in Rhode Island? You need...                1   \n",
       "..                                                 ...              ...   \n",
       "680                      RT @TheW0lfpup: Coffee island                0   \n",
       "681  @Merkabagaming Man before we got it we’d go to...                1   \n",
       "682  RT @CatherineSher10: Dauphin Island Sunset\\nCl...                0   \n",
       "683  RT @CatherineSher10: A statue of Hawaiian King...                0   \n",
       "684  Small Town Coffee! Loving the island life! htt...                0   \n",
       "\n",
       "     retweet_count  created_at  \\\n",
       "0                0  2021-06-25   \n",
       "1                0  2021-06-25   \n",
       "2                0  2021-06-25   \n",
       "3               31  2021-06-25   \n",
       "4                0  2021-06-25   \n",
       "..             ...         ...   \n",
       "680             20  2021-06-19   \n",
       "681              0  2021-06-19   \n",
       "682             62  2021-06-19   \n",
       "683             28  2021-06-19   \n",
       "684              0  2021-06-19   \n",
       "\n",
       "                                                rating  \n",
       "0    {'neg': 0.0, 'neu': 0.777, 'pos': 0.223, 'comp...  \n",
       "1    {'neg': 0.0, 'neu': 0.769, 'pos': 0.231, 'comp...  \n",
       "2    {'neg': 0.0, 'neu': 1.0, 'pos': 0.0, 'compound...  \n",
       "3    {'neg': 0.0, 'neu': 0.773, 'pos': 0.227, 'comp...  \n",
       "4    {'neg': 0.0, 'neu': 1.0, 'pos': 0.0, 'compound...  \n",
       "..                                                 ...  \n",
       "680  {'neg': 0.0, 'neu': 1.0, 'pos': 0.0, 'compound...  \n",
       "681  {'neg': 0.0, 'neu': 0.797, 'pos': 0.203, 'comp...  \n",
       "682  {'neg': 0.0, 'neu': 1.0, 'pos': 0.0, 'compound...  \n",
       "683  {'neg': 0.0, 'neu': 0.83, 'pos': 0.17, 'compou...  \n",
       "684  {'neg': 0.0, 'neu': 0.61, 'pos': 0.39, 'compou...  \n",
       "\n",
       "[685 rows x 5 columns]"
      ]
     },
     "execution_count": 107,
     "metadata": {},
     "output_type": "execute_result"
    }
   ],
   "source": [
    "pdf2"
   ]
  },
  {
   "cell_type": "code",
   "execution_count": 108,
   "metadata": {},
   "outputs": [
    {
     "data": {
      "text/html": [
       "<div>\n",
       "<style scoped>\n",
       "    .dataframe tbody tr th:only-of-type {\n",
       "        vertical-align: middle;\n",
       "    }\n",
       "\n",
       "    .dataframe tbody tr th {\n",
       "        vertical-align: top;\n",
       "    }\n",
       "\n",
       "    .dataframe thead th {\n",
       "        text-align: right;\n",
       "    }\n",
       "</style>\n",
       "<table border=\"1\" class=\"dataframe\">\n",
       "  <thead>\n",
       "    <tr style=\"text-align: right;\">\n",
       "      <th></th>\n",
       "      <th>text</th>\n",
       "      <th>favourite_count</th>\n",
       "      <th>retweet_count</th>\n",
       "      <th>created_at</th>\n",
       "      <th>rating</th>\n",
       "      <th>negative_nltk</th>\n",
       "      <th>positive_nltk</th>\n",
       "      <th>neutral_nltk</th>\n",
       "      <th>ncompound_nltk</th>\n",
       "    </tr>\n",
       "  </thead>\n",
       "  <tbody>\n",
       "    <tr>\n",
       "      <th>0</th>\n",
       "      <td>The #Nanaimo 7-10 Club is running a cooling ce...</td>\n",
       "      <td>0</td>\n",
       "      <td>0</td>\n",
       "      <td>2021-06-25</td>\n",
       "      <td>{'neg': 0.0, 'neu': 0.777, 'pos': 0.223, 'comp...</td>\n",
       "      <td>0.0</td>\n",
       "      <td>0.223</td>\n",
       "      <td>0.777</td>\n",
       "      <td>0.8172</td>\n",
       "    </tr>\n",
       "    <tr>\n",
       "      <th>1</th>\n",
       "      <td>@LegendaryEnergy Barrel aged puna coffee from ...</td>\n",
       "      <td>0</td>\n",
       "      <td>0</td>\n",
       "      <td>2021-06-25</td>\n",
       "      <td>{'neg': 0.0, 'neu': 0.769, 'pos': 0.231, 'comp...</td>\n",
       "      <td>0.0</td>\n",
       "      <td>0.231</td>\n",
       "      <td>0.769</td>\n",
       "      <td>0.6369</td>\n",
       "    </tr>\n",
       "  </tbody>\n",
       "</table>\n",
       "</div>"
      ],
      "text/plain": [
       "                                                text  favourite_count  \\\n",
       "0  The #Nanaimo 7-10 Club is running a cooling ce...                0   \n",
       "1  @LegendaryEnergy Barrel aged puna coffee from ...                0   \n",
       "\n",
       "   retweet_count  created_at  \\\n",
       "0              0  2021-06-25   \n",
       "1              0  2021-06-25   \n",
       "\n",
       "                                              rating  negative_nltk  \\\n",
       "0  {'neg': 0.0, 'neu': 0.777, 'pos': 0.223, 'comp...            0.0   \n",
       "1  {'neg': 0.0, 'neu': 0.769, 'pos': 0.231, 'comp...            0.0   \n",
       "\n",
       "   positive_nltk  neutral_nltk  ncompound_nltk  \n",
       "0          0.223         0.777          0.8172  \n",
       "1          0.231         0.769          0.6369  "
      ]
     },
     "execution_count": 108,
     "metadata": {},
     "output_type": "execute_result"
    }
   ],
   "source": [
    "pdf2['negative_nltk']=[i['neg'] for i in pdf2.rating]\n",
    "pdf2['positive_nltk']=[i['pos'] for i in pdf2.rating]\n",
    "pdf2['neutral_nltk']=[i['neu'] for i in pdf2.rating]\n",
    "pdf2['compound_nltk']=[i['compound'] for i in pdf2.rating]\n",
    "\n",
    "pdf2.head(2)"
   ]
  },
  {
   "cell_type": "code",
   "execution_count": 109,
   "metadata": {},
   "outputs": [
    {
     "data": {
      "text/html": [
       "<div>\n",
       "<style scoped>\n",
       "    .dataframe tbody tr th:only-of-type {\n",
       "        vertical-align: middle;\n",
       "    }\n",
       "\n",
       "    .dataframe tbody tr th {\n",
       "        vertical-align: top;\n",
       "    }\n",
       "\n",
       "    .dataframe thead th {\n",
       "        text-align: right;\n",
       "    }\n",
       "</style>\n",
       "<table border=\"1\" class=\"dataframe\">\n",
       "  <thead>\n",
       "    <tr style=\"text-align: right;\">\n",
       "      <th></th>\n",
       "      <th>text</th>\n",
       "      <th>favourite_count</th>\n",
       "      <th>retweet_count</th>\n",
       "      <th>created_at</th>\n",
       "      <th>negative_nltk</th>\n",
       "      <th>positive_nltk</th>\n",
       "      <th>neutral_nltk</th>\n",
       "      <th>ncompound_nltk</th>\n",
       "      <th>compound_nltk</th>\n",
       "    </tr>\n",
       "  </thead>\n",
       "  <tbody>\n",
       "    <tr>\n",
       "      <th>0</th>\n",
       "      <td>The #Nanaimo 7-10 Club is running a cooling ce...</td>\n",
       "      <td>0</td>\n",
       "      <td>0</td>\n",
       "      <td>2021-06-25</td>\n",
       "      <td>0.0</td>\n",
       "      <td>0.223</td>\n",
       "      <td>0.777</td>\n",
       "      <td>0.8172</td>\n",
       "      <td>0.8172</td>\n",
       "    </tr>\n",
       "    <tr>\n",
       "      <th>1</th>\n",
       "      <td>@LegendaryEnergy Barrel aged puna coffee from ...</td>\n",
       "      <td>0</td>\n",
       "      <td>0</td>\n",
       "      <td>2021-06-25</td>\n",
       "      <td>0.0</td>\n",
       "      <td>0.231</td>\n",
       "      <td>0.769</td>\n",
       "      <td>0.6369</td>\n",
       "      <td>0.6369</td>\n",
       "    </tr>\n",
       "  </tbody>\n",
       "</table>\n",
       "</div>"
      ],
      "text/plain": [
       "                                                text  favourite_count  \\\n",
       "0  The #Nanaimo 7-10 Club is running a cooling ce...                0   \n",
       "1  @LegendaryEnergy Barrel aged puna coffee from ...                0   \n",
       "\n",
       "   retweet_count  created_at  negative_nltk  positive_nltk  neutral_nltk  \\\n",
       "0              0  2021-06-25            0.0          0.223         0.777   \n",
       "1              0  2021-06-25            0.0          0.231         0.769   \n",
       "\n",
       "   ncompound_nltk  compound_nltk  \n",
       "0          0.8172         0.8172  \n",
       "1          0.6369         0.6369  "
      ]
     },
     "execution_count": 109,
     "metadata": {},
     "output_type": "execute_result"
    }
   ],
   "source": [
    "pdf2['negative_nltk'] = pdf2['rating'].apply(lambda x : x['neg'])\n",
    "pdf2['positive_nltk'] = pdf2['rating'].apply(lambda x : x['pos'])\n",
    "pdf2['neutral_nltk'] = pdf2['rating'].apply(lambda x : x['neu'])\n",
    "pdf2['compound_nltk'] = pdf2['rating'].apply(lambda x : x['compound'])\n",
    "\n",
    "pdf2 = pdf2.drop('rating', axis=1)\n",
    "pdf2.head(2)"
   ]
  },
  {
   "cell_type": "code",
   "execution_count": 13,
   "metadata": {
    "tags": []
   },
   "outputs": [],
   "source": [
    "# Create the dataframe\n",
    "# df = spark.createDataFrame([(\"a\", 1), (\"b\", 2), (\"c\", 3)], [\"letter\", \"name\"])\n",
    "\n",
    "# Function to get rows at `rownums`\n",
    "# def getrows(df, rownums=None):\n",
    "    # return df.rdd.zipWithIndex().filter(lambda x: x[1] in rownums).map(lambda x: x[0])\n",
    "\n",
    "# Get rows at positions 0 and 2.\n",
    "# getrows(df, rownums=[0, 2]).collect()"
   ]
  },
  {
   "cell_type": "markdown",
   "metadata": {},
   "source": [
    "show last's row date"
   ]
  },
  {
   "cell_type": "code",
   "execution_count": 113,
   "metadata": {},
   "outputs": [
    {
     "data": {
      "text/plain": [
       "datetime.date(2021, 6, 19)"
      ]
     },
     "execution_count": 113,
     "metadata": {},
     "output_type": "execute_result"
    }
   ],
   "source": [
    "pdf2['created_at'][pdf.shape[0]-1]"
   ]
  },
  {
   "cell_type": "code",
   "execution_count": 114,
   "metadata": {},
   "outputs": [
    {
     "data": {
      "text/plain": [
       "685"
      ]
     },
     "execution_count": 114,
     "metadata": {},
     "output_type": "execute_result"
    }
   ],
   "source": [
    "pdf2['text'].count()"
   ]
  },
  {
   "cell_type": "code",
   "execution_count": 115,
   "metadata": {},
   "outputs": [
    {
     "data": {
      "text/plain": [
       "text               685\n",
       "favourite_count    685\n",
       "retweet_count      685\n",
       "created_at         685\n",
       "negative_nltk      685\n",
       "positive_nltk      685\n",
       "neutral_nltk       685\n",
       "ncompound_nltk     685\n",
       "compound_nltk      685\n",
       "dtype: int64"
      ]
     },
     "execution_count": 115,
     "metadata": {},
     "output_type": "execute_result"
    }
   ],
   "source": [
    "pdf2.count()"
   ]
  },
  {
   "cell_type": "code",
   "execution_count": 116,
   "metadata": {},
   "outputs": [
    {
     "data": {
      "text/plain": [
       "text               685\n",
       "favourite_count    685\n",
       "retweet_count      685\n",
       "created_at         685\n",
       "negative_nltk      685\n",
       "positive_nltk      685\n",
       "neutral_nltk       685\n",
       "ncompound_nltk     685\n",
       "compound_nltk      685\n",
       "dtype: int64"
      ]
     },
     "execution_count": 116,
     "metadata": {},
     "output_type": "execute_result"
    }
   ],
   "source": [
    "pdf2.count(axis=0)"
   ]
  },
  {
   "cell_type": "code",
   "execution_count": 117,
   "metadata": {},
   "outputs": [
    {
     "data": {
      "text/plain": [
       "685"
      ]
     },
     "execution_count": 117,
     "metadata": {},
     "output_type": "execute_result"
    }
   ],
   "source": [
    "pdf2.shape[0]"
   ]
  },
  {
   "cell_type": "code",
   "execution_count": 118,
   "metadata": {},
   "outputs": [
    {
     "data": {
      "text/plain": [
       "685"
      ]
     },
     "execution_count": 118,
     "metadata": {},
     "output_type": "execute_result"
    }
   ],
   "source": [
    "len(pdf.index)"
   ]
  },
  {
   "cell_type": "markdown",
   "metadata": {},
   "source": [
    "---"
   ]
  },
  {
   "cell_type": "markdown",
   "metadata": {},
   "source": [
    "---\n",
    "## Pandas groupBy and aggregate functions \n",
    "\n",
    "`GroupBy` allows you to group rows together based off some column value, for example, you could group together sales data by the day the sale occured, or group repeast customer data based off the name of the customer.\n",
    "\n",
    "Once you've performed the GroupBy operation you can use an aggregate function off that data.An `aggregate function` aggregates multiple rows of data into a single output, such as taking the sum of inputs, or counting the number of inputs.\n",
    "\n",
    "**`Dataframe Aggregation`**\n",
    "\n",
    "A set of methods for aggregations on a DataFrame:\n",
    "\n",
    "    agg\n",
    "    avg\n",
    "    count\n",
    "    max\n",
    "    mean\n",
    "    min\n",
    "    pivot\n",
    "    sum"
   ]
  },
  {
   "cell_type": "markdown",
   "metadata": {},
   "source": [
    "### Rename a column"
   ]
  },
  {
   "cell_type": "code",
   "execution_count": 88,
   "metadata": {},
   "outputs": [
    {
     "data": {
      "text/html": [
       "<div>\n",
       "<style scoped>\n",
       "    .dataframe tbody tr th:only-of-type {\n",
       "        vertical-align: middle;\n",
       "    }\n",
       "\n",
       "    .dataframe tbody tr th {\n",
       "        vertical-align: top;\n",
       "    }\n",
       "\n",
       "    .dataframe thead th {\n",
       "        text-align: right;\n",
       "    }\n",
       "</style>\n",
       "<table border=\"1\" class=\"dataframe\">\n",
       "  <thead>\n",
       "    <tr style=\"text-align: right;\">\n",
       "      <th></th>\n",
       "      <th>text</th>\n",
       "      <th>favourite_count</th>\n",
       "      <th>retweet_count</th>\n",
       "      <th>created_at</th>\n",
       "      <th>negative_nltk</th>\n",
       "      <th>positive_nltk</th>\n",
       "      <th>neutral_nltk</th>\n",
       "      <th>compound_nltk</th>\n",
       "    </tr>\n",
       "  </thead>\n",
       "  <tbody>\n",
       "    <tr>\n",
       "      <th>0</th>\n",
       "      <td>@breakfasttv I received the Astrazeneca vaccin...</td>\n",
       "      <td>0</td>\n",
       "      <td>0</td>\n",
       "      <td>2021-06-20 23:59:37</td>\n",
       "      <td>0.049</td>\n",
       "      <td>0.199</td>\n",
       "      <td>0.752</td>\n",
       "      <td>0.7793</td>\n",
       "    </tr>\n",
       "    <tr>\n",
       "      <th>1</th>\n",
       "      <td>#Pfizer\\n#AstraZeneca\\n#Moderna\\n#JohnsonAndJo...</td>\n",
       "      <td>3</td>\n",
       "      <td>5</td>\n",
       "      <td>2021-06-20 23:59:33</td>\n",
       "      <td>0.000</td>\n",
       "      <td>0.397</td>\n",
       "      <td>0.603</td>\n",
       "      <td>0.7639</td>\n",
       "    </tr>\n",
       "  </tbody>\n",
       "</table>\n",
       "</div>"
      ],
      "text/plain": [
       "                                                text  favourite_count  \\\n",
       "0  @breakfasttv I received the Astrazeneca vaccin...                0   \n",
       "1  #Pfizer\\n#AstraZeneca\\n#Moderna\\n#JohnsonAndJo...                3   \n",
       "\n",
       "   retweet_count           created_at  negative_nltk  positive_nltk  \\\n",
       "0              0  2021-06-20 23:59:37          0.049          0.199   \n",
       "1              5  2021-06-20 23:59:33          0.000          0.397   \n",
       "\n",
       "   neutral_nltk  compound_nltk  \n",
       "0         0.752         0.7793  \n",
       "1         0.603         0.7639  "
      ]
     },
     "execution_count": 88,
     "metadata": {},
     "output_type": "execute_result"
    }
   ],
   "source": [
    "# Change name of a specific column\n",
    "# pdf = pdf.rename(columns={'ncompound_nltk':'compound_nltk'})\n",
    "# pdf.head(2)"
   ]
  },
  {
   "cell_type": "code",
   "execution_count": 121,
   "metadata": {},
   "outputs": [
    {
     "name": "stdout",
     "output_type": "stream",
     "text": [
      "<class 'pandas.core.frame.DataFrame'>\n",
      "RangeIndex: 685 entries, 0 to 684\n",
      "Data columns (total 4 columns):\n",
      " #   Column           Non-Null Count  Dtype         \n",
      "---  ------           --------------  -----         \n",
      " 0   text             685 non-null    object        \n",
      " 1   favourite_count  685 non-null    int64         \n",
      " 2   retweet_count    685 non-null    int64         \n",
      " 3   created_at       685 non-null    datetime64[ns]\n",
      "dtypes: datetime64[ns](1), int64(2), object(1)\n",
      "memory usage: 21.5+ KB\n"
     ]
    }
   ],
   "source": [
    "pdf.info()"
   ]
  },
  {
   "cell_type": "markdown",
   "metadata": {},
   "source": [
    "### to_datetime\n",
    "\n",
    "When a csv file is imported and a Data Frame is made, the Date time objects in the file are read as a string object rather a Date Time object and Hence it’s very tough to perform operations like Time difference on a string rather a Date Time object. Pandas to_datetime() method helps to convert string Date time into Python Date time object."
   ]
  },
  {
   "cell_type": "code",
   "execution_count": 122,
   "metadata": {},
   "outputs": [],
   "source": [
    "pdf['created_at'] = pd.to_datetime(pdf['created_at'])\n"
   ]
  },
  {
   "cell_type": "code",
   "execution_count": 123,
   "metadata": {},
   "outputs": [
    {
     "name": "stdout",
     "output_type": "stream",
     "text": [
      "<class 'pandas.core.frame.DataFrame'>\n",
      "RangeIndex: 685 entries, 0 to 684\n",
      "Data columns (total 4 columns):\n",
      " #   Column           Non-Null Count  Dtype         \n",
      "---  ------           --------------  -----         \n",
      " 0   text             685 non-null    object        \n",
      " 1   favourite_count  685 non-null    int64         \n",
      " 2   retweet_count    685 non-null    int64         \n",
      " 3   created_at       685 non-null    datetime64[ns]\n",
      "dtypes: datetime64[ns](1), int64(2), object(1)\n",
      "memory usage: 21.5+ KB\n"
     ]
    }
   ],
   "source": [
    "pdf.info()"
   ]
  },
  {
   "cell_type": "code",
   "execution_count": 124,
   "metadata": {},
   "outputs": [
    {
     "data": {
      "text/html": [
       "<div>\n",
       "<style scoped>\n",
       "    .dataframe tbody tr th:only-of-type {\n",
       "        vertical-align: middle;\n",
       "    }\n",
       "\n",
       "    .dataframe tbody tr th {\n",
       "        vertical-align: top;\n",
       "    }\n",
       "\n",
       "    .dataframe thead th {\n",
       "        text-align: right;\n",
       "    }\n",
       "</style>\n",
       "<table border=\"1\" class=\"dataframe\">\n",
       "  <thead>\n",
       "    <tr style=\"text-align: right;\">\n",
       "      <th></th>\n",
       "      <th>text</th>\n",
       "      <th>favourite_count</th>\n",
       "      <th>retweet_count</th>\n",
       "      <th>created_at</th>\n",
       "    </tr>\n",
       "  </thead>\n",
       "  <tbody>\n",
       "    <tr>\n",
       "      <th>0</th>\n",
       "      <td>The #Nanaimo 7-10 Club is running a cooling ce...</td>\n",
       "      <td>0</td>\n",
       "      <td>0</td>\n",
       "      <td>2021-06-25 23:37:24</td>\n",
       "    </tr>\n",
       "    <tr>\n",
       "      <th>1</th>\n",
       "      <td>@LegendaryEnergy Barrel aged puna coffee from ...</td>\n",
       "      <td>0</td>\n",
       "      <td>0</td>\n",
       "      <td>2021-06-25 22:49:10</td>\n",
       "    </tr>\n",
       "  </tbody>\n",
       "</table>\n",
       "</div>"
      ],
      "text/plain": [
       "                                                text  favourite_count  \\\n",
       "0  The #Nanaimo 7-10 Club is running a cooling ce...                0   \n",
       "1  @LegendaryEnergy Barrel aged puna coffee from ...                0   \n",
       "\n",
       "   retweet_count          created_at  \n",
       "0              0 2021-06-25 23:37:24  \n",
       "1              0 2021-06-25 22:49:10  "
      ]
     },
     "execution_count": 124,
     "metadata": {},
     "output_type": "execute_result"
    }
   ],
   "source": [
    "pdf.head(2)"
   ]
  },
  {
   "cell_type": "code",
   "execution_count": 205,
   "metadata": {},
   "outputs": [],
   "source": [
    "pdf['created_at'] = pdf['created_at'].dt.strftime('%Y-%m-%d')"
   ]
  },
  {
   "cell_type": "code",
   "execution_count": 206,
   "metadata": {},
   "outputs": [
    {
     "name": "stdout",
     "output_type": "stream",
     "text": [
      "<class 'pandas.core.frame.DataFrame'>\n",
      "RangeIndex: 6510 entries, 0 to 6509\n",
      "Data columns (total 8 columns):\n",
      " #   Column           Non-Null Count  Dtype  \n",
      "---  ------           --------------  -----  \n",
      " 0   text             6510 non-null   object \n",
      " 1   favourite_count  6510 non-null   int64  \n",
      " 2   retweet_count    6510 non-null   int64  \n",
      " 3   created_at       6510 non-null   object \n",
      " 4   negative_nltk    6510 non-null   float64\n",
      " 5   positive_nltk    6510 non-null   float64\n",
      " 6   neutral_nltk     6510 non-null   float64\n",
      " 7   compound_nltk    6510 non-null   float64\n",
      "dtypes: float64(4), int64(2), object(2)\n",
      "memory usage: 407.0+ KB\n"
     ]
    }
   ],
   "source": [
    "pdf.info()"
   ]
  },
  {
   "cell_type": "code",
   "execution_count": 125,
   "metadata": {},
   "outputs": [
    {
     "data": {
      "text/plain": [
       "negative_nltk    7\n",
       "positive_nltk    7\n",
       "neutral_nltk     7\n",
       "compound_nltk    7\n",
       "created_at       7\n",
       "dtype: int64"
      ]
     },
     "execution_count": 125,
     "metadata": {},
     "output_type": "execute_result"
    }
   ],
   "source": [
    "# For a DataFrame, by default the aggregates return results within each column:\n",
    "# pdf['created_at'].dt.date => Converts Datetime to Date in Pandas df\n",
    "pdf_agg_byDate =  pdf2.groupby('created_at').agg({'negative_nltk':'sum','positive_nltk':'sum','neutral_nltk':'sum','compound_nltk':'sum', 'created_at':'size'})\n",
    "\n",
    "pdf_agg_byDate.count()"
   ]
  },
  {
   "cell_type": "code",
   "execution_count": 126,
   "metadata": {},
   "outputs": [
    {
     "data": {
      "text/html": [
       "<div>\n",
       "<style scoped>\n",
       "    .dataframe tbody tr th:only-of-type {\n",
       "        vertical-align: middle;\n",
       "    }\n",
       "\n",
       "    .dataframe tbody tr th {\n",
       "        vertical-align: top;\n",
       "    }\n",
       "\n",
       "    .dataframe thead th {\n",
       "        text-align: right;\n",
       "    }\n",
       "</style>\n",
       "<table border=\"1\" class=\"dataframe\">\n",
       "  <thead>\n",
       "    <tr style=\"text-align: right;\">\n",
       "      <th></th>\n",
       "      <th>negative_nltk</th>\n",
       "      <th>positive_nltk</th>\n",
       "      <th>neutral_nltk</th>\n",
       "      <th>compound_nltk</th>\n",
       "      <th>created_at</th>\n",
       "    </tr>\n",
       "    <tr>\n",
       "      <th>created_at</th>\n",
       "      <th></th>\n",
       "      <th></th>\n",
       "      <th></th>\n",
       "      <th></th>\n",
       "      <th></th>\n",
       "    </tr>\n",
       "  </thead>\n",
       "  <tbody>\n",
       "    <tr>\n",
       "      <th>2021-06-19</th>\n",
       "      <td>0.358</td>\n",
       "      <td>11.796</td>\n",
       "      <td>81.846</td>\n",
       "      <td>37.3705</td>\n",
       "      <td>94</td>\n",
       "    </tr>\n",
       "    <tr>\n",
       "      <th>2021-06-20</th>\n",
       "      <td>1.202</td>\n",
       "      <td>7.170</td>\n",
       "      <td>74.628</td>\n",
       "      <td>18.9599</td>\n",
       "      <td>83</td>\n",
       "    </tr>\n",
       "    <tr>\n",
       "      <th>2021-06-21</th>\n",
       "      <td>2.616</td>\n",
       "      <td>9.877</td>\n",
       "      <td>66.506</td>\n",
       "      <td>23.0233</td>\n",
       "      <td>79</td>\n",
       "    </tr>\n",
       "    <tr>\n",
       "      <th>2021-06-22</th>\n",
       "      <td>14.005</td>\n",
       "      <td>8.949</td>\n",
       "      <td>160.045</td>\n",
       "      <td>-28.7149</td>\n",
       "      <td>183</td>\n",
       "    </tr>\n",
       "    <tr>\n",
       "      <th>2021-06-23</th>\n",
       "      <td>1.566</td>\n",
       "      <td>6.605</td>\n",
       "      <td>43.828</td>\n",
       "      <td>15.6423</td>\n",
       "      <td>52</td>\n",
       "    </tr>\n",
       "    <tr>\n",
       "      <th>2021-06-24</th>\n",
       "      <td>1.369</td>\n",
       "      <td>7.399</td>\n",
       "      <td>71.231</td>\n",
       "      <td>22.1919</td>\n",
       "      <td>80</td>\n",
       "    </tr>\n",
       "    <tr>\n",
       "      <th>2021-06-25</th>\n",
       "      <td>0.409</td>\n",
       "      <td>7.851</td>\n",
       "      <td>105.740</td>\n",
       "      <td>25.1654</td>\n",
       "      <td>114</td>\n",
       "    </tr>\n",
       "  </tbody>\n",
       "</table>\n",
       "</div>"
      ],
      "text/plain": [
       "            negative_nltk  positive_nltk  neutral_nltk  compound_nltk  \\\n",
       "created_at                                                              \n",
       "2021-06-19          0.358         11.796        81.846        37.3705   \n",
       "2021-06-20          1.202          7.170        74.628        18.9599   \n",
       "2021-06-21          2.616          9.877        66.506        23.0233   \n",
       "2021-06-22         14.005          8.949       160.045       -28.7149   \n",
       "2021-06-23          1.566          6.605        43.828        15.6423   \n",
       "2021-06-24          1.369          7.399        71.231        22.1919   \n",
       "2021-06-25          0.409          7.851       105.740        25.1654   \n",
       "\n",
       "            created_at  \n",
       "created_at              \n",
       "2021-06-19          94  \n",
       "2021-06-20          83  \n",
       "2021-06-21          79  \n",
       "2021-06-22         183  \n",
       "2021-06-23          52  \n",
       "2021-06-24          80  \n",
       "2021-06-25         114  "
      ]
     },
     "execution_count": 126,
     "metadata": {},
     "output_type": "execute_result"
    }
   ],
   "source": [
    "pdf_agg_byDate"
   ]
  },
  {
   "cell_type": "code",
   "execution_count": 127,
   "metadata": {},
   "outputs": [
    {
     "data": {
      "text/plain": [
       "created_at       7\n",
       "negative_nltk    7\n",
       "positive_nltk    7\n",
       "neutral_nltk     7\n",
       "compound_nltk    7\n",
       "tweets           7\n",
       "dtype: int64"
      ]
     },
     "execution_count": 127,
     "metadata": {},
     "output_type": "execute_result"
    }
   ],
   "source": [
    "pdf_agg_byDate =  pdf2.groupby('created_at').agg(negative_nltk=('negative_nltk','sum'),positive_nltk=('positive_nltk','sum'),neutral_nltk=('neutral_nltk','sum'),compound_nltk=('compound_nltk','sum'), tweets = ('created_at','size'))\n",
    "\n",
    "pdf_agg_byDate.reset_index(level=0, inplace=True)\n",
    "pdf_agg_byDate.count()"
   ]
  },
  {
   "cell_type": "code",
   "execution_count": 128,
   "metadata": {},
   "outputs": [
    {
     "data": {
      "text/plain": [
       "pandas._libs.tslibs.timestamps.Timestamp"
      ]
     },
     "execution_count": 128,
     "metadata": {},
     "output_type": "execute_result"
    }
   ],
   "source": [
    "# row 0\n",
    "type(pdf.created_at[0])"
   ]
  },
  {
   "cell_type": "code",
   "execution_count": 129,
   "metadata": {},
   "outputs": [
    {
     "data": {
      "text/plain": [
       "pandas._libs.tslibs.timestamps.Timestamp"
      ]
     },
     "execution_count": 129,
     "metadata": {},
     "output_type": "execute_result"
    }
   ],
   "source": [
    "# row 5\n",
    "type(pdf.created_at[5])"
   ]
  },
  {
   "cell_type": "code",
   "execution_count": 130,
   "metadata": {},
   "outputs": [
    {
     "data": {
      "text/html": [
       "<div>\n",
       "<style scoped>\n",
       "    .dataframe tbody tr th:only-of-type {\n",
       "        vertical-align: middle;\n",
       "    }\n",
       "\n",
       "    .dataframe tbody tr th {\n",
       "        vertical-align: top;\n",
       "    }\n",
       "\n",
       "    .dataframe thead th {\n",
       "        text-align: right;\n",
       "    }\n",
       "</style>\n",
       "<table border=\"1\" class=\"dataframe\">\n",
       "  <thead>\n",
       "    <tr style=\"text-align: right;\">\n",
       "      <th></th>\n",
       "      <th>created_at</th>\n",
       "      <th>negative_nltk</th>\n",
       "      <th>positive_nltk</th>\n",
       "      <th>neutral_nltk</th>\n",
       "      <th>compound_nltk</th>\n",
       "      <th>tweets</th>\n",
       "    </tr>\n",
       "  </thead>\n",
       "  <tbody>\n",
       "    <tr>\n",
       "      <th>0</th>\n",
       "      <td>2021-06-19</td>\n",
       "      <td>0.358</td>\n",
       "      <td>11.796</td>\n",
       "      <td>81.846</td>\n",
       "      <td>37.3705</td>\n",
       "      <td>94</td>\n",
       "    </tr>\n",
       "    <tr>\n",
       "      <th>1</th>\n",
       "      <td>2021-06-20</td>\n",
       "      <td>1.202</td>\n",
       "      <td>7.170</td>\n",
       "      <td>74.628</td>\n",
       "      <td>18.9599</td>\n",
       "      <td>83</td>\n",
       "    </tr>\n",
       "    <tr>\n",
       "      <th>2</th>\n",
       "      <td>2021-06-21</td>\n",
       "      <td>2.616</td>\n",
       "      <td>9.877</td>\n",
       "      <td>66.506</td>\n",
       "      <td>23.0233</td>\n",
       "      <td>79</td>\n",
       "    </tr>\n",
       "    <tr>\n",
       "      <th>3</th>\n",
       "      <td>2021-06-22</td>\n",
       "      <td>14.005</td>\n",
       "      <td>8.949</td>\n",
       "      <td>160.045</td>\n",
       "      <td>-28.7149</td>\n",
       "      <td>183</td>\n",
       "    </tr>\n",
       "    <tr>\n",
       "      <th>4</th>\n",
       "      <td>2021-06-23</td>\n",
       "      <td>1.566</td>\n",
       "      <td>6.605</td>\n",
       "      <td>43.828</td>\n",
       "      <td>15.6423</td>\n",
       "      <td>52</td>\n",
       "    </tr>\n",
       "    <tr>\n",
       "      <th>5</th>\n",
       "      <td>2021-06-24</td>\n",
       "      <td>1.369</td>\n",
       "      <td>7.399</td>\n",
       "      <td>71.231</td>\n",
       "      <td>22.1919</td>\n",
       "      <td>80</td>\n",
       "    </tr>\n",
       "    <tr>\n",
       "      <th>6</th>\n",
       "      <td>2021-06-25</td>\n",
       "      <td>0.409</td>\n",
       "      <td>7.851</td>\n",
       "      <td>105.740</td>\n",
       "      <td>25.1654</td>\n",
       "      <td>114</td>\n",
       "    </tr>\n",
       "  </tbody>\n",
       "</table>\n",
       "</div>"
      ],
      "text/plain": [
       "   created_at  negative_nltk  positive_nltk  neutral_nltk  compound_nltk  \\\n",
       "0  2021-06-19          0.358         11.796        81.846        37.3705   \n",
       "1  2021-06-20          1.202          7.170        74.628        18.9599   \n",
       "2  2021-06-21          2.616          9.877        66.506        23.0233   \n",
       "3  2021-06-22         14.005          8.949       160.045       -28.7149   \n",
       "4  2021-06-23          1.566          6.605        43.828        15.6423   \n",
       "5  2021-06-24          1.369          7.399        71.231        22.1919   \n",
       "6  2021-06-25          0.409          7.851       105.740        25.1654   \n",
       "\n",
       "   tweets  \n",
       "0      94  \n",
       "1      83  \n",
       "2      79  \n",
       "3     183  \n",
       "4      52  \n",
       "5      80  \n",
       "6     114  "
      ]
     },
     "execution_count": 130,
     "metadata": {},
     "output_type": "execute_result"
    }
   ],
   "source": [
    "pdf_agg_byDate"
   ]
  },
  {
   "cell_type": "code",
   "execution_count": 131,
   "metadata": {},
   "outputs": [
    {
     "name": "stdout",
     "output_type": "stream",
     "text": [
      "<class 'pandas.core.frame.DataFrame'>\n",
      "RangeIndex: 7 entries, 0 to 6\n",
      "Data columns (total 6 columns):\n",
      " #   Column         Non-Null Count  Dtype  \n",
      "---  ------         --------------  -----  \n",
      " 0   created_at     7 non-null      object \n",
      " 1   negative_nltk  7 non-null      float64\n",
      " 2   positive_nltk  7 non-null      float64\n",
      " 3   neutral_nltk   7 non-null      float64\n",
      " 4   compound_nltk  7 non-null      float64\n",
      " 5   tweets         7 non-null      int64  \n",
      "dtypes: float64(4), int64(1), object(1)\n",
      "memory usage: 464.0+ bytes\n"
     ]
    }
   ],
   "source": [
    "pdf_agg_byDate.info()"
   ]
  },
  {
   "cell_type": "markdown",
   "metadata": {},
   "source": [
    "### Divide multiple columns by another column in pandas"
   ]
  },
  {
   "cell_type": "code",
   "execution_count": 132,
   "metadata": {},
   "outputs": [
    {
     "data": {
      "text/html": [
       "<div>\n",
       "<style scoped>\n",
       "    .dataframe tbody tr th:only-of-type {\n",
       "        vertical-align: middle;\n",
       "    }\n",
       "\n",
       "    .dataframe tbody tr th {\n",
       "        vertical-align: top;\n",
       "    }\n",
       "\n",
       "    .dataframe thead th {\n",
       "        text-align: right;\n",
       "    }\n",
       "</style>\n",
       "<table border=\"1\" class=\"dataframe\">\n",
       "  <thead>\n",
       "    <tr style=\"text-align: right;\">\n",
       "      <th></th>\n",
       "      <th>created_at</th>\n",
       "      <th>negative_nltk</th>\n",
       "      <th>positive_nltk</th>\n",
       "      <th>neutral_nltk</th>\n",
       "      <th>compound_nltk</th>\n",
       "      <th>tweets</th>\n",
       "    </tr>\n",
       "  </thead>\n",
       "  <tbody>\n",
       "    <tr>\n",
       "      <th>0</th>\n",
       "      <td>2021-06-19</td>\n",
       "      <td>0.003809</td>\n",
       "      <td>0.125489</td>\n",
       "      <td>0.870702</td>\n",
       "      <td>0.397559</td>\n",
       "      <td>94</td>\n",
       "    </tr>\n",
       "    <tr>\n",
       "      <th>1</th>\n",
       "      <td>2021-06-20</td>\n",
       "      <td>0.014482</td>\n",
       "      <td>0.086386</td>\n",
       "      <td>0.899133</td>\n",
       "      <td>0.228433</td>\n",
       "      <td>83</td>\n",
       "    </tr>\n",
       "    <tr>\n",
       "      <th>2</th>\n",
       "      <td>2021-06-21</td>\n",
       "      <td>0.033114</td>\n",
       "      <td>0.125025</td>\n",
       "      <td>0.841848</td>\n",
       "      <td>0.291434</td>\n",
       "      <td>79</td>\n",
       "    </tr>\n",
       "    <tr>\n",
       "      <th>3</th>\n",
       "      <td>2021-06-22</td>\n",
       "      <td>0.076530</td>\n",
       "      <td>0.048902</td>\n",
       "      <td>0.874563</td>\n",
       "      <td>-0.156912</td>\n",
       "      <td>183</td>\n",
       "    </tr>\n",
       "    <tr>\n",
       "      <th>4</th>\n",
       "      <td>2021-06-23</td>\n",
       "      <td>0.030115</td>\n",
       "      <td>0.127019</td>\n",
       "      <td>0.842846</td>\n",
       "      <td>0.300813</td>\n",
       "      <td>52</td>\n",
       "    </tr>\n",
       "    <tr>\n",
       "      <th>5</th>\n",
       "      <td>2021-06-24</td>\n",
       "      <td>0.017112</td>\n",
       "      <td>0.092488</td>\n",
       "      <td>0.890388</td>\n",
       "      <td>0.277399</td>\n",
       "      <td>80</td>\n",
       "    </tr>\n",
       "    <tr>\n",
       "      <th>6</th>\n",
       "      <td>2021-06-25</td>\n",
       "      <td>0.003588</td>\n",
       "      <td>0.068868</td>\n",
       "      <td>0.927544</td>\n",
       "      <td>0.220749</td>\n",
       "      <td>114</td>\n",
       "    </tr>\n",
       "  </tbody>\n",
       "</table>\n",
       "</div>"
      ],
      "text/plain": [
       "   created_at  negative_nltk  positive_nltk  neutral_nltk  compound_nltk  \\\n",
       "0  2021-06-19       0.003809       0.125489      0.870702       0.397559   \n",
       "1  2021-06-20       0.014482       0.086386      0.899133       0.228433   \n",
       "2  2021-06-21       0.033114       0.125025      0.841848       0.291434   \n",
       "3  2021-06-22       0.076530       0.048902      0.874563      -0.156912   \n",
       "4  2021-06-23       0.030115       0.127019      0.842846       0.300813   \n",
       "5  2021-06-24       0.017112       0.092488      0.890388       0.277399   \n",
       "6  2021-06-25       0.003588       0.068868      0.927544       0.220749   \n",
       "\n",
       "   tweets  \n",
       "0      94  \n",
       "1      83  \n",
       "2      79  \n",
       "3     183  \n",
       "4      52  \n",
       "5      80  \n",
       "6     114  "
      ]
     },
     "execution_count": 132,
     "metadata": {},
     "output_type": "execute_result"
    }
   ],
   "source": [
    "\n",
    "# pdf_agg_byDate = (pdf_agg_byDate.apply(['compound_nltk']/pdf_agg_byDate['tweets']\n",
    "#     .withColumn( 'positive_nltk',f.col('sum(positive_nltk)')/f.col('count(created_at)'))\n",
    "#     .withColumn( 'negativen_ltk',f.col('sum(negative_nltk)')/f.col('count(created_at)'))\n",
    "#     .withColumn( 'neutral_nltk',f.col('sum(neutral_nltk)')/f.col('count(created_at)'))\n",
    "#     .withColumnRenamed('count(created_at)', 'tweets')).drop(*columns_to_drop\n",
    "\n",
    "pdf_agg_byDate[['negative_nltk','positive_nltk','neutral_nltk','compound_nltk']]=\\\n",
    "    (pdf_agg_byDate[['negative_nltk','positive_nltk','neutral_nltk','compound_nltk']].divide(pdf_agg_byDate ['tweets'], axis = 'index'))\n",
    "\n",
    "\n",
    "pdf_agg_byDate\n"
   ]
  },
  {
   "cell_type": "code",
   "execution_count": 133,
   "metadata": {},
   "outputs": [],
   "source": [
    "pdf_agg_byDate['sentiment'] = (pdf_agg_byDate['compound_nltk']\n",
    "        .apply(lambda comp: 'positive' if comp > 0.05 else 'negative' if comp < -0.05 else 'neutral'))"
   ]
  },
  {
   "cell_type": "code",
   "execution_count": 135,
   "metadata": {},
   "outputs": [
    {
     "data": {
      "text/html": [
       "<div>\n",
       "<style scoped>\n",
       "    .dataframe tbody tr th:only-of-type {\n",
       "        vertical-align: middle;\n",
       "    }\n",
       "\n",
       "    .dataframe tbody tr th {\n",
       "        vertical-align: top;\n",
       "    }\n",
       "\n",
       "    .dataframe thead th {\n",
       "        text-align: right;\n",
       "    }\n",
       "</style>\n",
       "<table border=\"1\" class=\"dataframe\">\n",
       "  <thead>\n",
       "    <tr style=\"text-align: right;\">\n",
       "      <th></th>\n",
       "      <th>created_at</th>\n",
       "      <th>negative_nltk</th>\n",
       "      <th>positive_nltk</th>\n",
       "      <th>neutral_nltk</th>\n",
       "      <th>compound_nltk</th>\n",
       "      <th>tweets</th>\n",
       "      <th>sentiment</th>\n",
       "    </tr>\n",
       "  </thead>\n",
       "  <tbody>\n",
       "    <tr>\n",
       "      <th>0</th>\n",
       "      <td>2021-06-19</td>\n",
       "      <td>0.003809</td>\n",
       "      <td>0.125489</td>\n",
       "      <td>0.870702</td>\n",
       "      <td>0.397559</td>\n",
       "      <td>94</td>\n",
       "      <td>positive</td>\n",
       "    </tr>\n",
       "    <tr>\n",
       "      <th>1</th>\n",
       "      <td>2021-06-20</td>\n",
       "      <td>0.014482</td>\n",
       "      <td>0.086386</td>\n",
       "      <td>0.899133</td>\n",
       "      <td>0.228433</td>\n",
       "      <td>83</td>\n",
       "      <td>positive</td>\n",
       "    </tr>\n",
       "    <tr>\n",
       "      <th>2</th>\n",
       "      <td>2021-06-21</td>\n",
       "      <td>0.033114</td>\n",
       "      <td>0.125025</td>\n",
       "      <td>0.841848</td>\n",
       "      <td>0.291434</td>\n",
       "      <td>79</td>\n",
       "      <td>positive</td>\n",
       "    </tr>\n",
       "    <tr>\n",
       "      <th>3</th>\n",
       "      <td>2021-06-22</td>\n",
       "      <td>0.076530</td>\n",
       "      <td>0.048902</td>\n",
       "      <td>0.874563</td>\n",
       "      <td>-0.156912</td>\n",
       "      <td>183</td>\n",
       "      <td>negative</td>\n",
       "    </tr>\n",
       "    <tr>\n",
       "      <th>4</th>\n",
       "      <td>2021-06-23</td>\n",
       "      <td>0.030115</td>\n",
       "      <td>0.127019</td>\n",
       "      <td>0.842846</td>\n",
       "      <td>0.300813</td>\n",
       "      <td>52</td>\n",
       "      <td>positive</td>\n",
       "    </tr>\n",
       "    <tr>\n",
       "      <th>5</th>\n",
       "      <td>2021-06-24</td>\n",
       "      <td>0.017112</td>\n",
       "      <td>0.092488</td>\n",
       "      <td>0.890388</td>\n",
       "      <td>0.277399</td>\n",
       "      <td>80</td>\n",
       "      <td>positive</td>\n",
       "    </tr>\n",
       "    <tr>\n",
       "      <th>6</th>\n",
       "      <td>2021-06-25</td>\n",
       "      <td>0.003588</td>\n",
       "      <td>0.068868</td>\n",
       "      <td>0.927544</td>\n",
       "      <td>0.220749</td>\n",
       "      <td>114</td>\n",
       "      <td>positive</td>\n",
       "    </tr>\n",
       "  </tbody>\n",
       "</table>\n",
       "</div>"
      ],
      "text/plain": [
       "   created_at  negative_nltk  positive_nltk  neutral_nltk  compound_nltk  \\\n",
       "0  2021-06-19       0.003809       0.125489      0.870702       0.397559   \n",
       "1  2021-06-20       0.014482       0.086386      0.899133       0.228433   \n",
       "2  2021-06-21       0.033114       0.125025      0.841848       0.291434   \n",
       "3  2021-06-22       0.076530       0.048902      0.874563      -0.156912   \n",
       "4  2021-06-23       0.030115       0.127019      0.842846       0.300813   \n",
       "5  2021-06-24       0.017112       0.092488      0.890388       0.277399   \n",
       "6  2021-06-25       0.003588       0.068868      0.927544       0.220749   \n",
       "\n",
       "   tweets sentiment  \n",
       "0      94  positive  \n",
       "1      83  positive  \n",
       "2      79  positive  \n",
       "3     183  negative  \n",
       "4      52  positive  \n",
       "5      80  positive  \n",
       "6     114  positive  "
      ]
     },
     "execution_count": 135,
     "metadata": {},
     "output_type": "execute_result"
    }
   ],
   "source": [
    "pdf_agg_byDate"
   ]
  },
  {
   "cell_type": "markdown",
   "metadata": {},
   "source": [
    "# perfplot"
   ]
  },
  {
   "cell_type": "code",
   "execution_count": 68,
   "metadata": {},
   "outputs": [
    {
     "data": {
      "application/vnd.jupyter.widget-view+json": {
       "model_id": "888ad0ae7731483fb3b8c5d2faa93965",
       "version_major": 2,
       "version_minor": 0
      },
      "text/plain": [
       "Output()"
      ]
     },
     "metadata": {},
     "output_type": "display_data"
    }
   ],
   "source": [
    "import numpy as np\n",
    "import pandas as pd\n",
    "import perfplot\n",
    "\n",
    "perfplot.save(\n",
    "    \"out.png\",\n",
    "    setup=lambda n: pd.DataFrame(np.arange(n * 3).reshape(n, 3)),\n",
    "    n_range=[2**k for k in range(25)],\n",
    "    kernels=[\n",
    "        lambda df: len(df.index),\n",
    "        lambda df: df.shape[0],\n",
    "        lambda df: df[df.columns[0]].count(),\n",
    "    ],\n",
    "    labels=[\"len(df.index)\", \"df.shape[0]\", \"df[df.columns[0]].count()\"],\n",
    "    xlabel=\"Number of rows\",\n",
    ")"
   ]
  },
  {
   "cell_type": "code",
   "execution_count": null,
   "metadata": {},
   "outputs": [],
   "source": []
  }
 ],
 "metadata": {
  "interpreter": {
   "hash": "c027416a0caaaf5e4fd3b25f66102efea033e33be1f6b9d7ac7164ef671d094d"
  },
  "kernelspec": {
   "display_name": "Python 3.7.10 64-bit ('base': conda)",
   "name": "python3"
  },
  "language_info": {
   "codemirror_mode": {
    "name": "ipython",
    "version": 3
   },
   "file_extension": ".py",
   "mimetype": "text/x-python",
   "name": "python",
   "nbconvert_exporter": "python",
   "pygments_lexer": "ipython3",
   "version": "3.7.10"
  }
 },
 "nbformat": 4,
 "nbformat_minor": 4
}