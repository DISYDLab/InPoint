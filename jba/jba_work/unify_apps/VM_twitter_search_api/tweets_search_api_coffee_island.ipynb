{
 "cells": [
  {
   "source": [
    "### Finding your Python Path\n",
    "\n",
    "Your Python path can be displayed using the built-in os module. The OS module is for operating system dependent functionality into Python programs and scripts.\n",
    "\n",
    "To find your current working directory, the function required is os.getcwd(). The  os.listdir() function can be used to display all files in a directory, which is a good check to see if the CSV file you are loading is in the directory as expected."
   ],
   "cell_type": "markdown",
   "metadata": {}
  },
  {
   "source": [
    "```\n",
    "# Find out your current working directory\n",
    "import os\n",
    "print(os.getcwd())\n",
    "\n",
    "# Out: /Users/shane/Documents/blog\n",
    "\n",
    "# Display all of the files found in your current working directory\n",
    "print(os.listdir(os.getcwd())\n",
    "\n",
    "\n",
    "# Out: ['test_delimted.ssv', 'CSV Blog.ipynb', 'test_data.csv']\n",
    "```"
   ],
   "cell_type": "markdown",
   "metadata": {}
  },
  {
   "source": [
    "Instead of moving the required data files to your working directory, you can also change your current working directory to the directory where the files reside using `os.chdir()`."
   ],
   "cell_type": "markdown",
   "metadata": {}
  },
  {
   "source": [
    "### Advanced Read CSV Files\n",
    "\n",
    "There are some additional flexible parameters in the Pandas read_csv() function that are useful to have in your arsenal of data science techniques:\n",
    "\n",
    "Specifying Data Types\n",
    "As mentioned before, CSV files do not contain any type information for data. Data types are inferred through examination of the top rows of the file, which can lead to errors. To manually specify the data types for different columns, the dtype parameter can be used with a dictionary of column names and data types to be applied, for example: \n",
    "\n",
    "`dtype={\"name\": str, \"age\": np.int32}`\n",
    "\n",
    "Note that for dates and date times, the format, columns, and other behaviour can be adjusted using parse_dates, date_parser, dayfirst, keep_date parameters."
   ],
   "cell_type": "markdown",
   "metadata": {}
  },
  {
   "source": [
    "There is a parse_dates parameter for read_csv which allows you to define the names of the columns you want treated as dates or datetimes:\n",
    "```\n",
    "date_cols = ['col1', 'col2']\n",
    "pd.read_csv(file, sep='\\t', header=None, names=headers, parse_dates=date_cols)\n",
    "```"
   ],
   "cell_type": "markdown",
   "metadata": {}
  },
  {
   "cell_type": "code",
   "execution_count": 27,
   "metadata": {},
   "outputs": [
    {
     "output_type": "stream",
     "name": "stdout",
     "text": [
      "<class 'pandas.core.frame.DataFrame'>\nRangeIndex: 6510 entries, 0 to 6509\nData columns (total 4 columns):\n #   Column           Non-Null Count  Dtype \n---  ------           --------------  ----- \n 0   text             6510 non-null   object\n 1   favourite_count  6510 non-null   int64 \n 2   retweet_count    6510 non-null   int64 \n 3   created_at       6510 non-null   object\ndtypes: int64(2), object(2)\nmemory usage: 203.6+ KB\n"
     ]
    }
   ],
   "source": [
    "import pandas as pd\n",
    "\n",
    "pdf2 = pd.read_csv('output3.csv')\n",
    "pdf2.info()"
   ]
  },
  {
   "source": [
    "My workaround was to load as its default type, then use pandas.to_datetime() function one line down.\n",
    "\n",
    "`df[target_col] = pd.to_datetime(df[target_col])`"
   ],
   "cell_type": "markdown",
   "metadata": {}
  },
  {
   "cell_type": "code",
   "execution_count": 128,
   "metadata": {},
   "outputs": [
    {
     "output_type": "stream",
     "name": "stdout",
     "text": [
      "<class 'pandas.core.frame.DataFrame'>\nRangeIndex: 6510 entries, 0 to 6509\nData columns (total 4 columns):\n #   Column           Non-Null Count  Dtype         \n---  ------           --------------  -----         \n 0   text             6510 non-null   object        \n 1   favourite_count  6510 non-null   int64         \n 2   retweet_count    6510 non-null   int64         \n 3   created_at       6510 non-null   datetime64[ns]\ndtypes: datetime64[ns](1), int64(2), object(1)\nmemory usage: 203.6+ KB\n"
     ]
    }
   ],
   "source": [
    "pdf2['created_at'] = pd.to_datetime(pdf2['created_at'])\n",
    "pdf2.info()"
   ]
  },
  {
   "cell_type": "code",
   "execution_count": 118,
   "metadata": {},
   "outputs": [
    {
     "output_type": "execute_result",
     "data": {
      "text/plain": [
       "                                                text  favourite_count  \\\n",
       "0  @breakfasttv I received the Astrazeneca vaccin...                0   \n",
       "1  #Pfizer\\n#AstraZeneca\\n#Moderna\\n#JohnsonAndJo...                3   \n",
       "2  RT @TimWattsMP: Can you believe this?\\n\\nThe M...                0   \n",
       "3  RT @DrEricDing: 5) One dose of the vaccine is ...                0   \n",
       "4  RT @DrEricDing: 5) One dose of the vaccine is ...                0   \n",
       "\n",
       "   retweet_count          created_at  \n",
       "0              0 2021-06-20 23:59:37  \n",
       "1              5 2021-06-20 23:59:33  \n",
       "2            212 2021-06-20 23:58:46  \n",
       "3            270 2021-06-20 23:57:54  \n",
       "4            270 2021-06-20 23:56:29  "
      ],
      "text/html": "<div>\n<style scoped>\n    .dataframe tbody tr th:only-of-type {\n        vertical-align: middle;\n    }\n\n    .dataframe tbody tr th {\n        vertical-align: top;\n    }\n\n    .dataframe thead th {\n        text-align: right;\n    }\n</style>\n<table border=\"1\" class=\"dataframe\">\n  <thead>\n    <tr style=\"text-align: right;\">\n      <th></th>\n      <th>text</th>\n      <th>favourite_count</th>\n      <th>retweet_count</th>\n      <th>created_at</th>\n    </tr>\n  </thead>\n  <tbody>\n    <tr>\n      <th>0</th>\n      <td>@breakfasttv I received the Astrazeneca vaccin...</td>\n      <td>0</td>\n      <td>0</td>\n      <td>2021-06-20 23:59:37</td>\n    </tr>\n    <tr>\n      <th>1</th>\n      <td>#Pfizer\\n#AstraZeneca\\n#Moderna\\n#JohnsonAndJo...</td>\n      <td>3</td>\n      <td>5</td>\n      <td>2021-06-20 23:59:33</td>\n    </tr>\n    <tr>\n      <th>2</th>\n      <td>RT @TimWattsMP: Can you believe this?\\n\\nThe M...</td>\n      <td>0</td>\n      <td>212</td>\n      <td>2021-06-20 23:58:46</td>\n    </tr>\n    <tr>\n      <th>3</th>\n      <td>RT @DrEricDing: 5) One dose of the vaccine is ...</td>\n      <td>0</td>\n      <td>270</td>\n      <td>2021-06-20 23:57:54</td>\n    </tr>\n    <tr>\n      <th>4</th>\n      <td>RT @DrEricDing: 5) One dose of the vaccine is ...</td>\n      <td>0</td>\n      <td>270</td>\n      <td>2021-06-20 23:56:29</td>\n    </tr>\n  </tbody>\n</table>\n</div>"
     },
     "metadata": {},
     "execution_count": 118
    }
   ],
   "source": [
    "import pandas as pd\n",
    "\n",
    "pdf2 = pd.read_csv('output3.csv', parse_dates = ['created_at',])\n",
    "pdf2.head(5)"
   ]
  },
  {
   "cell_type": "code",
   "execution_count": 119,
   "metadata": {},
   "outputs": [
    {
     "output_type": "stream",
     "name": "stdout",
     "text": [
      "<class 'pandas.core.frame.DataFrame'>\nRangeIndex: 6510 entries, 0 to 6509\nData columns (total 4 columns):\n #   Column           Non-Null Count  Dtype         \n---  ------           --------------  -----         \n 0   text             6510 non-null   object        \n 1   favourite_count  6510 non-null   int64         \n 2   retweet_count    6510 non-null   int64         \n 3   created_at       6510 non-null   datetime64[ns]\ndtypes: datetime64[ns](1), int64(2), object(1)\nmemory usage: 203.6+ KB\n"
     ]
    }
   ],
   "source": [
    "pdf2.info()"
   ]
  },
  {
   "cell_type": "markdown",
   "metadata": {},
   "source": [
    "# Get Tweets\n",
    "\n",
    "This script extracts all the tweets with hashtag #covid-19 related to the day before today (yesterday) and saves them into a .csv file.\n",
    "We use the `tweepy` library, which can be installed with the command `pip install tweepy`.\n",
    "\n",
    "Firstly, we import the configuration file, called `config.py`, which is located in the same directory of this script."
   ]
  },
  {
   "cell_type": "code",
   "execution_count": 1,
   "metadata": {},
   "outputs": [
    {
     "output_type": "execute_result",
     "data": {
      "text/plain": [
       "['/opt/spark/python',\n",
       " '/opt/spark/python/lib/py4j-0.10.9-src.zip',\n",
       " '/home/hadoopuser/Documents/twitter_search_api',\n",
       " '/home/hadoopuser/.vscode/extensions/ms-toolsai.jupyter-2021.6.999662501/pythonFiles/vscode_datascience_helpers',\n",
       " '/home/hadoopuser/.vscode/extensions/ms-toolsai.jupyter-2021.6.999662501/pythonFiles',\n",
       " '/home/hadoopuser/.vscode/extensions/ms-toolsai.jupyter-2021.6.999662501/pythonFiles/lib/python',\n",
       " '/opt/anaconda/envs/pyspark_env/lib/python37.zip',\n",
       " '/opt/anaconda/envs/pyspark_env/lib/python3.7',\n",
       " '/opt/anaconda/envs/pyspark_env/lib/python3.7/lib-dynload',\n",
       " '',\n",
       " '/opt/anaconda/envs/pyspark_env/lib/python3.7/site-packages',\n",
       " '/opt/anaconda/envs/pyspark_env/lib/python3.7/site-packages/IPython/extensions',\n",
       " '/home/hadoopuser/.ipython']"
      ]
     },
     "metadata": {},
     "execution_count": 1
    }
   ],
   "source": [
    "import os\n",
    "jv = os.environ.get('JAVA_HOME', None)\n",
    "\n",
    "import findspark\n",
    "findspark.init()\n",
    "\n",
    "os.environ['PYSPARK_SUBMIT_ARGS'] = \\\n",
    "'--packages com.johnsnowlabs.nlp:spark-nlp_2.12:3.0.0 pyspark-shell'\n",
    "# '--packages org.postgresql:postgresql:42.1.1 pyspark-shell'\n",
    "\n",
    "sys.path\n"
   ]
  },
  {
   "cell_type": "code",
   "execution_count": 2,
   "metadata": {},
   "outputs": [],
   "source": [
    "import sys, glob, os\n",
    "sys.path.extend(glob.glob(os.path.join(os.path.expanduser(\"~\"), \".ivy2/jars/*.jar\")))"
   ]
  },
  {
   "cell_type": "code",
   "execution_count": 4,
   "metadata": {},
   "outputs": [],
   "source": [
    "from pyspark.sql import SparkSession\n",
    "import pyspark.sql.functions as F\n",
    "\n",
    "\n",
    "spark=SparkSession.builder \\\n",
    ".appName(\"Spark_and_Pandas_twitter_dfs\") \\\n",
    ".master(\"local[*]\") \\\n",
    ".getOrCreate()"
   ]
  },
  {
   "cell_type": "code",
   "execution_count": 5,
   "metadata": {},
   "outputs": [
    {
     "output_type": "execute_result",
     "data": {
      "text/plain": [
       "<pyspark.sql.session.SparkSession at 0x7f7738828110>"
      ],
      "text/html": "\n            <div>\n                <p><b>SparkSession - in-memory</b></p>\n                \n        <div>\n            <p><b>SparkContext</b></p>\n\n            <p><a href=\"http://spark-client:4040\">Spark UI</a></p>\n\n            <dl>\n              <dt>Version</dt>\n                <dd><code>v3.0.0</code></dd>\n              <dt>Master</dt>\n                <dd><code>local[*]</code></dd>\n              <dt>AppName</dt>\n                <dd><code>Spark_and_Pandas_twitter_dfs</code></dd>\n            </dl>\n        </div>\n        \n            </div>\n        "
     },
     "metadata": {},
     "execution_count": 5
    }
   ],
   "source": [
    "spark"
   ]
  },
  {
   "cell_type": "code",
   "execution_count": 6,
   "metadata": {},
   "outputs": [],
   "source": [
    "from config import *\n",
    "import tweepy\n",
    "import datetime\n",
    "\n",
    "import sys\n",
    "import logging\n",
    "\n",
    "logger = logging.getLogger('tweets_search')"
   ]
  },
  {
   "cell_type": "code",
   "execution_count": 7,
   "metadata": {},
   "outputs": [],
   "source": [
    "import pandas as pd\n",
    "# import nltk\n",
    "from nltk.sentiment.vader import SentimentIntensityAnalyzer"
   ]
  },
  {
   "cell_type": "code",
   "execution_count": 8,
   "metadata": {},
   "outputs": [
    {
     "output_type": "stream",
     "name": "stdout",
     "text": [
      "logger.root.level = 30, logger.root.name = root\nlogger.name = tweets_search\n"
     ]
    }
   ],
   "source": [
    "print(f\"logger.root.level = {logger.root.level}, logger.root.name = {logger.root.name}\")\n",
    "print(f\"logger.name = {logger.name}\")"
   ]
  },
  {
   "cell_type": "code",
   "execution_count": 9,
   "metadata": {},
   "outputs": [],
   "source": [
    "format = \"%(asctime)s - %(levelname)s - %(message)s\"\n",
    "logging.basicConfig(format=format, stream=sys.stdout, level = logging.DEBUG)\n",
    "# logging.basicConfig(format=format, stream=sys.stdout, level = logging.INFO)"
   ]
  },
  {
   "cell_type": "code",
   "execution_count": 10,
   "metadata": {},
   "outputs": [
    {
     "output_type": "stream",
     "name": "stdout",
     "text": [
      "10\n"
     ]
    }
   ],
   "source": [
    "print(logger.root.level)"
   ]
  },
  {
   "cell_type": "code",
   "execution_count": 17,
   "metadata": {},
   "outputs": [],
   "source": [
    "# logger.root.level = 10"
   ]
  },
  {
   "cell_type": "code",
   "execution_count": 18,
   "metadata": {},
   "outputs": [
    {
     "output_type": "stream",
     "name": "stdout",
     "text": [
      "10\n"
     ]
    }
   ],
   "source": [
    "# print(logger.root.level)"
   ]
  },
  {
   "cell_type": "markdown",
   "metadata": {},
   "source": [
    "We setup the connection to our Twitter App by using the `OAuthHandler()` class and its `access_token()` function. Then we call the Twitter API through the `API()` function."
   ]
  },
  {
   "cell_type": "code",
   "execution_count": 11,
   "metadata": {},
   "outputs": [],
   "source": [
    "auth = tweepy.OAuthHandler(TWITTER_CONSUMER_KEY, TWITTER_CONSUMER_SECRET)\n",
    "auth.set_access_token(TWITTER_ACCESS_TOKEN, TWITTER_ACCESS_TOKEN_SECRET)\n",
    "api = tweepy.API(auth,wait_on_rate_limit=True, wait_on_rate_limit_notify = True)"
   ]
  },
  {
   "cell_type": "code",
   "execution_count": 11,
   "metadata": {},
   "outputs": [
    {
     "output_type": "stream",
     "name": "stdout",
     "text": [
      "2021-06-24 23:14:44,448 - DEBUG - PARAMS: {}\n",
      "2021-06-24 23:14:44,450 - DEBUG - Signing request <PreparedRequest [GET]> using client <Client client_key=pw0ihLFxH3nwDrd4HBd7pqUrc, client_secret=****, resource_owner_key=1360011857969479682-iLrxBUlqdtExwkqiN9iZsHYDXIFTZz, resource_owner_secret=****, signature_method=HMAC-SHA1, signature_type=AUTH_HEADER, callback_uri=None, rsa_key=None, verifier=None, realm=None, encoding=utf-8, decoding=None, nonce=None, timestamp=None>\n",
      "2021-06-24 23:14:44,451 - DEBUG - Including body in call to sign: False\n",
      "2021-06-24 23:14:44,455 - DEBUG - Collected params: [('oauth_nonce', '111288902889639547901624565684'), ('oauth_timestamp', '1624565684'), ('oauth_version', '1.0'), ('oauth_signature_method', 'HMAC-SHA1'), ('oauth_consumer_key', 'pw0ihLFxH3nwDrd4HBd7pqUrc'), ('oauth_token', '1360011857969479682-iLrxBUlqdtExwkqiN9iZsHYDXIFTZz')]\n",
      "2021-06-24 23:14:44,458 - DEBUG - Normalized params: oauth_consumer_key=pw0ihLFxH3nwDrd4HBd7pqUrc&oauth_nonce=111288902889639547901624565684&oauth_signature_method=HMAC-SHA1&oauth_timestamp=1624565684&oauth_token=1360011857969479682-iLrxBUlqdtExwkqiN9iZsHYDXIFTZz&oauth_version=1.0\n",
      "2021-06-24 23:14:44,461 - DEBUG - Normalized URI: https://api.twitter.com/1.1/account/verify_credentials.json\n",
      "2021-06-24 23:14:44,462 - DEBUG - Signing: signature base string: GET&https%3A%2F%2Fapi.twitter.com%2F1.1%2Faccount%2Fverify_credentials.json&oauth_consumer_key%3Dpw0ihLFxH3nwDrd4HBd7pqUrc%26oauth_nonce%3D111288902889639547901624565684%26oauth_signature_method%3DHMAC-SHA1%26oauth_timestamp%3D1624565684%26oauth_token%3D1360011857969479682-iLrxBUlqdtExwkqiN9iZsHYDXIFTZz%26oauth_version%3D1.0\n",
      "2021-06-24 23:14:44,475 - DEBUG - Signature: OPJvHp+wfn64s6RCBDDmvG6Xev8=\n",
      "2021-06-24 23:14:44,477 - DEBUG - Updated url: https://api.twitter.com/1.1/account/verify_credentials.json\n",
      "2021-06-24 23:14:44,478 - DEBUG - Updated headers: {'Host': 'api.twitter.com', 'Authorization': 'OAuth oauth_nonce=\"111288902889639547901624565684\", oauth_timestamp=\"1624565684\", oauth_version=\"1.0\", oauth_signature_method=\"HMAC-SHA1\", oauth_consumer_key=\"pw0ihLFxH3nwDrd4HBd7pqUrc\", oauth_token=\"1360011857969479682-iLrxBUlqdtExwkqiN9iZsHYDXIFTZz\", oauth_signature=\"OPJvHp%2Bwfn64s6RCBDDmvG6Xev8%3D\"'}\n",
      "2021-06-24 23:14:44,478 - DEBUG - Updated body: None\n",
      "2021-06-24 23:14:44,483 - DEBUG - Starting new HTTPS connection (1): api.twitter.com:443\n",
      "2021-06-24 23:14:46,587 - DEBUG - https://api.twitter.com:443 \"GET /1.1/account/verify_credentials.json HTTP/1.1\" 200 1295\n",
      "2021-06-24 23:14:46,601 - DEBUG - PARAMS: {'screen_name': b'vasiange'}\n",
      "2021-06-24 23:14:46,608 - DEBUG - Signing request <PreparedRequest [GET]> using client <Client client_key=pw0ihLFxH3nwDrd4HBd7pqUrc, client_secret=****, resource_owner_key=1360011857969479682-iLrxBUlqdtExwkqiN9iZsHYDXIFTZz, resource_owner_secret=****, signature_method=HMAC-SHA1, signature_type=AUTH_HEADER, callback_uri=None, rsa_key=None, verifier=None, realm=None, encoding=utf-8, decoding=None, nonce=None, timestamp=None>\n",
      "2021-06-24 23:14:46,609 - DEBUG - Including body in call to sign: False\n",
      "2021-06-24 23:14:46,615 - DEBUG - Collected params: [('screen_name', 'vasiange'), ('oauth_nonce', '85808766550224443101624565686'), ('oauth_timestamp', '1624565686'), ('oauth_version', '1.0'), ('oauth_signature_method', 'HMAC-SHA1'), ('oauth_consumer_key', 'pw0ihLFxH3nwDrd4HBd7pqUrc'), ('oauth_token', '1360011857969479682-iLrxBUlqdtExwkqiN9iZsHYDXIFTZz')]\n",
      "2021-06-24 23:14:46,615 - DEBUG - Normalized params: oauth_consumer_key=pw0ihLFxH3nwDrd4HBd7pqUrc&oauth_nonce=85808766550224443101624565686&oauth_signature_method=HMAC-SHA1&oauth_timestamp=1624565686&oauth_token=1360011857969479682-iLrxBUlqdtExwkqiN9iZsHYDXIFTZz&oauth_version=1.0&screen_name=vasiange\n",
      "2021-06-24 23:14:46,616 - DEBUG - Normalized URI: https://api.twitter.com/1.1/users/show.json\n",
      "2021-06-24 23:14:46,617 - DEBUG - Signing: signature base string: GET&https%3A%2F%2Fapi.twitter.com%2F1.1%2Fusers%2Fshow.json&oauth_consumer_key%3Dpw0ihLFxH3nwDrd4HBd7pqUrc%26oauth_nonce%3D85808766550224443101624565686%26oauth_signature_method%3DHMAC-SHA1%26oauth_timestamp%3D1624565686%26oauth_token%3D1360011857969479682-iLrxBUlqdtExwkqiN9iZsHYDXIFTZz%26oauth_version%3D1.0%26screen_name%3Dvasiange\n",
      "2021-06-24 23:14:46,617 - DEBUG - Signature: nUeyDo6knkuU6DKEjksoueoDrS0=\n",
      "2021-06-24 23:14:46,618 - DEBUG - Updated url: https://api.twitter.com/1.1/users/show.json?screen_name=vasiange\n",
      "2021-06-24 23:14:46,622 - DEBUG - Updated headers: {'Host': 'api.twitter.com', 'Authorization': 'OAuth oauth_nonce=\"85808766550224443101624565686\", oauth_timestamp=\"1624565686\", oauth_version=\"1.0\", oauth_signature_method=\"HMAC-SHA1\", oauth_consumer_key=\"pw0ihLFxH3nwDrd4HBd7pqUrc\", oauth_token=\"1360011857969479682-iLrxBUlqdtExwkqiN9iZsHYDXIFTZz\", oauth_signature=\"nUeyDo6knkuU6DKEjksoueoDrS0%3D\"'}\n",
      "2021-06-24 23:14:46,623 - DEBUG - Updated body: None\n",
      "2021-06-24 23:14:46,626 - DEBUG - Starting new HTTPS connection (1): api.twitter.com:443\n",
      "2021-06-24 23:14:47,602 - DEBUG - https://api.twitter.com:443 \"GET /1.1/users/show.json?screen_name=vasiange HTTP/1.1\" 200 1319\n"
     ]
    },
    {
     "output_type": "execute_result",
     "data": {
      "text/plain": [
       "User(_api=<tweepy.api.API object at 0x7f6253980850>, _json={'id': 1360011857969479682, 'id_str': '1360011857969479682', 'name': 'vasiange', 'screen_name': 'vasiange', 'location': '', 'profile_location': None, 'description': '', 'url': None, 'entities': {'description': {'urls': []}}, 'protected': False, 'followers_count': 0, 'friends_count': 15, 'listed_count': 0, 'created_at': 'Thu Feb 11 23:45:06 +0000 2021', 'favourites_count': 0, 'utc_offset': None, 'time_zone': None, 'geo_enabled': False, 'verified': False, 'statuses_count': 0, 'lang': None, 'contributors_enabled': False, 'is_translator': False, 'is_translation_enabled': False, 'profile_background_color': 'F5F8FA', 'profile_background_image_url': None, 'profile_background_image_url_https': None, 'profile_background_tile': False, 'profile_image_url': 'http://abs.twimg.com/sticky/default_profile_images/default_profile_normal.png', 'profile_image_url_https': 'https://abs.twimg.com/sticky/default_profile_images/default_profile_normal.png', 'profile_link_color': '1DA1F2', 'profile_sidebar_border_color': 'C0DEED', 'profile_sidebar_fill_color': 'DDEEF6', 'profile_text_color': '333333', 'profile_use_background_image': True, 'has_extended_profile': True, 'default_profile': True, 'default_profile_image': True, 'following': False, 'follow_request_sent': False, 'notifications': False, 'translator_type': 'none', 'withheld_in_countries': [], 'suspended': False, 'needs_phone_verification': False}, id=1360011857969479682, id_str='1360011857969479682', name='vasiange', screen_name='vasiange', location='', profile_location=None, description='', url=None, entities={'description': {'urls': []}}, protected=False, followers_count=0, friends_count=15, listed_count=0, created_at=datetime.datetime(2021, 2, 11, 23, 45, 6), favourites_count=0, utc_offset=None, time_zone=None, geo_enabled=False, verified=False, statuses_count=0, lang=None, contributors_enabled=False, is_translator=False, is_translation_enabled=False, profile_background_color='F5F8FA', profile_background_image_url=None, profile_background_image_url_https=None, profile_background_tile=False, profile_image_url='http://abs.twimg.com/sticky/default_profile_images/default_profile_normal.png', profile_image_url_https='https://abs.twimg.com/sticky/default_profile_images/default_profile_normal.png', profile_link_color='1DA1F2', profile_sidebar_border_color='C0DEED', profile_sidebar_fill_color='DDEEF6', profile_text_color='333333', profile_use_background_image=True, has_extended_profile=True, default_profile=True, default_profile_image=True, following=False, follow_request_sent=False, notifications=False, translator_type='none', withheld_in_countries=[], suspended=False, needs_phone_verification=False)"
      ]
     },
     "metadata": {},
     "execution_count": 11
    }
   ],
   "source": [
    "api.me()"
   ]
  },
  {
   "cell_type": "code",
   "execution_count": 12,
   "metadata": {},
   "outputs": [
    {
     "output_type": "stream",
     "name": "stdout",
     "text": [
      "2021-06-24 23:14:55,395 - DEBUG - PARAMS: {}\n",
      "2021-06-24 23:14:55,396 - DEBUG - Signing request <PreparedRequest [GET]> using client <Client client_key=pw0ihLFxH3nwDrd4HBd7pqUrc, client_secret=****, resource_owner_key=1360011857969479682-iLrxBUlqdtExwkqiN9iZsHYDXIFTZz, resource_owner_secret=****, signature_method=HMAC-SHA1, signature_type=AUTH_HEADER, callback_uri=None, rsa_key=None, verifier=None, realm=None, encoding=utf-8, decoding=None, nonce=None, timestamp=None>\n",
      "2021-06-24 23:14:55,398 - DEBUG - Including body in call to sign: False\n",
      "2021-06-24 23:14:55,399 - DEBUG - Collected params: [('oauth_nonce', '126286861049097242631624565695'), ('oauth_timestamp', '1624565695'), ('oauth_version', '1.0'), ('oauth_signature_method', 'HMAC-SHA1'), ('oauth_consumer_key', 'pw0ihLFxH3nwDrd4HBd7pqUrc'), ('oauth_token', '1360011857969479682-iLrxBUlqdtExwkqiN9iZsHYDXIFTZz')]\n",
      "2021-06-24 23:14:55,400 - DEBUG - Normalized params: oauth_consumer_key=pw0ihLFxH3nwDrd4HBd7pqUrc&oauth_nonce=126286861049097242631624565695&oauth_signature_method=HMAC-SHA1&oauth_timestamp=1624565695&oauth_token=1360011857969479682-iLrxBUlqdtExwkqiN9iZsHYDXIFTZz&oauth_version=1.0\n",
      "2021-06-24 23:14:55,401 - DEBUG - Normalized URI: https://api.twitter.com/1.1/application/rate_limit_status.json\n",
      "2021-06-24 23:14:55,406 - DEBUG - Signing: signature base string: GET&https%3A%2F%2Fapi.twitter.com%2F1.1%2Fapplication%2Frate_limit_status.json&oauth_consumer_key%3Dpw0ihLFxH3nwDrd4HBd7pqUrc%26oauth_nonce%3D126286861049097242631624565695%26oauth_signature_method%3DHMAC-SHA1%26oauth_timestamp%3D1624565695%26oauth_token%3D1360011857969479682-iLrxBUlqdtExwkqiN9iZsHYDXIFTZz%26oauth_version%3D1.0\n",
      "2021-06-24 23:14:55,407 - DEBUG - Signature: pKwVTEhN0+b6fx7rHgc2g6A84Ls=\n",
      "2021-06-24 23:14:55,407 - DEBUG - Updated url: https://api.twitter.com/1.1/application/rate_limit_status.json\n",
      "2021-06-24 23:14:55,408 - DEBUG - Updated headers: {'Host': 'api.twitter.com', 'Authorization': 'OAuth oauth_nonce=\"126286861049097242631624565695\", oauth_timestamp=\"1624565695\", oauth_version=\"1.0\", oauth_signature_method=\"HMAC-SHA1\", oauth_consumer_key=\"pw0ihLFxH3nwDrd4HBd7pqUrc\", oauth_token=\"1360011857969479682-iLrxBUlqdtExwkqiN9iZsHYDXIFTZz\", oauth_signature=\"pKwVTEhN0%2Bb6fx7rHgc2g6A84Ls%3D\"'}\n",
      "2021-06-24 23:14:55,412 - DEBUG - Updated body: None\n",
      "2021-06-24 23:14:55,417 - DEBUG - Starting new HTTPS connection (1): api.twitter.com:443\n",
      "2021-06-24 23:14:56,715 - DEBUG - https://api.twitter.com:443 \"GET /1.1/application/rate_limit_status.json HTTP/1.1\" 200 18959\n"
     ]
    },
    {
     "output_type": "execute_result",
     "data": {
      "text/plain": [
       "reset': 1624566596}},\n",
       "  'guide': {'/guide': {'limit': 180, 'remaining': 180, 'reset': 1624566596},\n",
       "   '/guide/get_explore_locations': {'limit': 100,\n",
       "    'remaining': 100,\n",
       "    'reset': 1624566596},\n",
       "   '/guide/explore_locations_with_autocomplete': {'limit': 200,\n",
       "    'remaining': 200,\n",
       "    'reset': 1624566596}},\n",
       "  'auth': {'/auth/csrf_token': {'limit': 15,\n",
       "    'remaining': 15,\n",
       "    'reset': 1624566596}},\n",
       "  'blocks': {'/blocks/list': {'limit': 15,\n",
       "    'remaining': 15,\n",
       "    'reset': 1624566596},\n",
       "   '/blocks/ids': {'limit': 15, 'remaining': 15, 'reset': 1624566596}},\n",
       "  'geo': {'/geo/similar_places': {'limit': 15,\n",
       "    'remaining': 15,\n",
       "    'reset': 1624566596},\n",
       "   '/geo/place_page': {'limit': 75, 'remaining': 75, 'reset': 1624566596},\n",
       "   '/geo/id/:place_id': {'limit': 75, 'remaining': 75, 'reset': 1624566596},\n",
       "   '/geo/reverse_geocode': {'limit': 15, 'remaining': 15, 'reset': 1624566596},\n",
       "   '/geo/search': {'limit': 15, 'remaining': 15, 'reset': 1624566596}},\n",
       "  'users': {'/users/': {'limit': 900, 'remaining': 900, 'reset': 1624566596},\n",
       "   '/users/:id': {'limit': 900, 'remaining': 899, 'reset': 1624566587},\n",
       "   '/users/report_spam': {'limit': 15, 'remaining': 15, 'reset': 1624566596},\n",
       "   '/users/:source_user_id/blocking/:target_user_id&DELETE': {'limit': 50,\n",
       "    'remaining': 50,\n",
       "    'reset': 1624566596},\n",
       "   '/users/contributors/pending': {'limit': 2000,\n",
       "    'remaining': 2000,\n",
       "    'reset': 1624566596},\n",
       "   '/users/show/:id': {'limit': 900, 'remaining': 900, 'reset': 1624566596},\n",
       "   '/users/:source_user_id/following&POST': {'limit': 50,\n",
       "    'remaining': 50,\n",
       "    'reset': 1624566596},\n",
       "   '/users/:id/tweets': {'limit': 900, 'remaining': 900, 'reset': 1624566596},\n",
       "   '/users/:id/retweets/:source_tweet_id&DELETE': {'limit': 50,\n",
       "    'remaining': 50,\n",
       "    'reset': 1624566596},\n",
       "   '/users/search': {'limit': 900, 'remaining': 900, 'reset': 1624566596},\n",
       "   '/users/:id/likes&POST': {'limit': 50,\n",
       "    'remaining': 50,\n",
       "    'reset': 1624566596},\n",
       "   '/users/suggestions/:slug': {'limit': 15,\n",
       "    'remaining': 15,\n",
       "    'reset': 1624566596},\n",
       "   '/users/contributees/pending': {'limit': 200,\n",
       "    'remaining': 200,\n",
       "    'reset': 1624566596},\n",
       "   '/users/:id/retweets&POST': {'limit': 50,\n",
       "    'remaining': 50,\n",
       "    'reset': 1624566596},\n",
       "   '/users/profile_banner': {'limit': 180,\n",
       "    'remaining': 180,\n",
       "    'reset': 1624566596},\n",
       "   '/users/by/username/:source_username/following/:target_user_name&DELETE': {'limit': 50,\n",
       "    'remaining': 50,\n",
       "    'reset': 1624566596},\n",
       "   '/users/by/username/:handle/tweets': {'limit': 900,\n",
       "    'remaining': 900,\n",
       "    'reset': 1624566596},\n",
       "   '/users/derived_info': {'limit': 15, 'remaining': 15, 'reset': 1624566596},\n",
       "   '/users/:id/blocking&POST': {'limit': 50,\n",
       "    'remaining': 50,\n",
       "    'reset': 1624566596},\n",
       "   '/users/by/username/:source_username/following&POST': {'limit': 50,\n",
       "    'remaining': 50,\n",
       "    'reset': 1624566596},\n",
       "   '/users/:id/followers': {'limit': 15, 'remaining': 15, 'reset': 1624566596},\n",
       "   '/users/suggestions/:slug/members': {'limit': 15,\n",
       "    'remaining': 15,\n",
       "    'reset': 1624566596},\n",
       "   '/users/:id/muting': {'limit': 50, 'remaining': 50, 'reset': 1624566596},\n",
       "   '/users/:id/following': {'limit': 15, 'remaining': 15, 'reset': 1624566596},\n",
       "   '/users/:id/mentions': {'limit': 180,\n",
       "    'remaining': 180,\n",
       "    'reset': 1624566596},\n",
       "   '/users/:source_user_id/following/:target_user_id&DELETE': {'limit': 50,\n",
       "    'remaining': 50,\n",
       "    'reset': 1624566596},\n",
       "   '/users/by/username/:username': {'limit': 900,\n",
       "    'remaining': 900,\n",
       "    'reset': 1624566596},\n",
       "   '/users/by/username/:username/followers': {'limit': 15,\n",
       "    'remaining': 15,\n",
       "    'reset': 1624566596},\n",
       "   '/users/lookup': {'limit': 900, 'remaining': 900, 'reset': 1624566596},\n",
       "   '/users/:id/blocking': {'limit': 15, 'remaining': 15, 'reset': 1624566596},\n",
       "   '/users/suggestions': {'limit': 15, 'remaining': 15, 'reset': 1624566596},\n",
       "   '/users/:id/likes/:tweet_id&DELETE': {'limit': 50,\n",
       "    'remaining': 50,\n",
       "    'reset': 1624566596},\n",
       "   '/users/by/username/:username/following': {'limit': 15,\n",
       "    'remaining': 15,\n",
       "    'reset': 1624566596},\n",
       "   '/users/by/username/:handle/mentions': {'limit': 180,\n",
       "    'remaining': 180,\n",
       "    'reset': 1624566596},\n",
       "   '/users/by': {'limit': 900, 'remaining': 900, 'reset': 1624566596},\n",
       "   '/users/:id/liked_tweets': {'limit': 75,\n",
       "    'remaining': 75,\n",
       "    'reset': 1624566596}},\n",
       "  'teams': {'/teams/authorize': {'limit': 15,\n",
       "    'remaining': 15,\n",
       "    'reset': 1624566596}},\n",
       "  'followers': {'/followers/ids': {'limit': 15,\n",
       "    'remaining': 15,\n",
       "    'reset': 1624566596},\n",
       "   '/followers/list': {'limit': 15, 'remaining': 15, 'reset': 1624566596}},\n",
       "  'collections': {'/collections/list': {'limit': 1000,\n",
       "    'remaining': 1000,\n",
       "    'reset': 1624566596},\n",
       "   '/collections/entries': {'limit': 1000,\n",
       "    'remaining': 1000,\n",
       "    'reset': 1624566596},\n",
       "   '/collections/show': {'limit': 1000,\n",
       "    'remaining': 1000,\n",
       "    'reset': 1624566596}},\n",
       "  'permissions': {'/permissions/user_permissions/admin_email_verification': {'limit': 3,\n",
       "    'remaining': 3,\n",
       "    'reset': 1624566596},\n",
       "   '/permissions/user_permissions': {'limit': 3,\n",
       "    'remaining': 3,\n",
       "    'reset': 1624566596}},\n",
       "  'statuses': {'/statuses/retweeters/ids': {'limit': 75,\n",
       "    'remaining': 75,\n",
       "    'reset': 1624566596},\n",
       "   '/statuses/retweets_of_me': {'limit': 75,\n",
       "    'remaining': 75,\n",
       "    'reset': 1624566596},\n",
       "   '/statuses/home_timeline': {'limit': 15,\n",
       "    'remaining': 15,\n",
       "    'reset': 1624566596},\n",
       "   '/statuses/show/:id': {'limit': 900, 'remaining': 900, 'reset': 1624566596},\n",
       "   '/statuses/user_timeline': {'limit': 900,\n",
       "    'remaining': 900,\n",
       "    'reset': 1624566596},\n",
       "   '/statuses/friends': {'limit': 15, 'remaining': 15, 'reset': 1624566596},\n",
       "   '/statuses/retweets/:id': {'limit': 75,\n",
       "    'remaining': 75,\n",
       "    'reset': 1624566596},\n",
       "   '/statuses/mentions_timeline': {'limit': 75,\n",
       "    'remaining': 75,\n",
       "    'reset': 1624566596},\n",
       "   '/statuses/oembed': {'limit': 180, 'remaining': 180, 'reset': 1624566596},\n",
       "   '/statuses/lookup': {'limit': 900, 'remaining': 900, 'reset': 1624566596}},\n",
       "  'custom_profiles': {'/custom_profiles/list': {'limit': 180,\n",
       "    'remaining': 180,\n",
       "    'reset': 1624566596},\n",
       "   '/custom_profiles/show': {'limit': 180,\n",
       "    'remaining': 180,\n",
       "    'reset': 1624566596}},\n",
       "  'webhooks': {'/webhooks/subscriptions/direct_messages': {'limit': 15,\n",
       "    'remaining': 15,\n",
       "    'reset': 1624566596},\n",
       "   '/webhooks': {'limit': 15, 'remaining': 15, 'reset': 1624566596}},\n",
       "  'contacts': {'/contacts/uploaded_by': {'limit': 300,\n",
       "    'remaining': 300,\n",
       "    'reset': 1624566596},\n",
       "   '/contacts/users': {'limit': 300, 'remaining': 300, 'reset': 1624566596},\n",
       "   '/contacts/addressbook': {'limit': 300,\n",
       "    'remaining': 300,\n",
       "    'reset': 1624566596},\n",
       "   '/contacts/users_and_uploaded_by': {'limit': 300,\n",
       "    'remaining': 300,\n",
       "    'reset': 1624566596},\n",
       "   '/contacts/delete/status': {'limit': 300,\n",
       "    'remaining': 300,\n",
       "    'reset': 1624566596}},\n",
       "  'labs': {'/labs/2/platform_manipulation/reports': {'limit': 5,\n",
       "    'remaining': 5,\n",
       "    'reset': 1624566596},\n",
       "   '/labs/:version/tweets/:id/hidden&PUT': {'limit': 10,\n",
       "    'remaining': 10,\n",
       "    'reset': 1624566596},\n",
       "   '/labs/:version/tweets/stream/filter/': {'limit': 50,\n",
       "    'remaining': 50,\n",
       "    'reset': 1624566596},\n",
       "   '/labs/:version/users/:id/tweets': {'limit': 225,\n",
       "    'remaining': 225,\n",
       "    'reset': 1624566596},\n",
       "   '/labs/2/reports': {'limit': 5, 'remaining': 5, 'reset': 1624566596},\n",
       "   '/labs/:version/tweets/stream/filter/rules&POST': {'limit': 450,\n",
       "    'remaining': 450,\n",
       "    'reset': 1624566596},\n",
       "   '/labs/:version/tweets/stream/sample': {'limit': 50,\n",
       "    'remaining': 50,\n",
       "    'reset': 1624566596},\n",
       "   '/labs/:version/users/by/username/:handle/tweets': {'limit': 225,\n",
       "    'remaining': 225,\n",
       "    'reset': 1624566596},\n",
       "   '/labs/:version/tweets/metrics/private': {'limit': 15,\n",
       "    'remaining': 15,\n",
       "    'reset': 1624566596},\n",
       "   '/labs/:version/tweets/stream/filter/rules/:instance_name': {'limit': 450,\n",
       "    'remaining': 450,\n",
       "    'reset': 1624566596},\n",
       "   '/labs/:version/tweets/*': {'limit': 900,\n",
       "    'remaining': 900,\n",
       "    'reset': 1624566596},\n",
       "   '/labs/:version/users/*': {'limit': 900,\n",
       "    'remaining': 900,\n",
       "    'reset': 1624566596},\n",
       "   '/labs/:version/tweets/stream/filter/:instance_name': {'limit': 50,\n",
       "    'remaining': 50,\n",
       "    'reset': 1624566596},\n",
       "   '/labs/:version/tweets/stream/filter/rules/': {'limit': 450,\n",
       "    'remaining': 450,\n",
       "    'reset': 1624566596},\n",
       "   '/labs/:version/tweets/stream/compliance': {'limit': 500,\n",
       "    'remaining': 500,\n",
       "    'reset': 1624566596},\n",
       "   '/labs/:version/tweets/search': {'limit': 225,\n",
       "    'remaining': 225,\n",
       "    'reset': 1624566596}},\n",
       "  'i': {'/i/config': {'limit': 15, 'remaining': 15, 'reset': 1624566596},\n",
       "   '/i/tfb/v1/smb/web/:account_id/payment/save': {'limit': 15,\n",
       "    'remaining': 15,\n",
       "    'reset': 1624566596}},\n",
       "  'tweet_prompts': {'/tweet_prompts/report_interaction': {'limit': 180,\n",
       "    'remaining': 180,\n",
       "    'reset': 1624566596},\n",
       "   '/tweet_prompts/show': {'limit': 180,\n",
       "    'remaining': 180,\n",
       "    'reset': 1624566596}},\n",
       "  'moments': {'/moments/statuses/update': {'limit': 5,\n",
       "    'remaining': 5,\n",
       "    'reset': 1624566596},\n",
       "   '/moments/create': {'limit': 15, 'remaining': 15, 'reset': 1624566596},\n",
       "   '/moments/permissions': {'limit': 300,\n",
       "    'remaining': 300,\n",
       "    'reset': 1624566596}},\n",
       "  'limiter_scalding_report_creation': {'/limiter_scalding_report_creation': {'limit': 4500,\n",
       "    'remaining': 4500,\n",
       "    'reset': 1624566596}},\n",
       "  'fleets': {'/fleets/:version/mutes/create': {'limit': 100,\n",
       "    'remaining': 100,\n",
       "    'reset': 1624566596},\n",
       "   '/fleets/:version/viewers': {'limit': 100,\n",
       "    'remaining': 100,\n",
       "    'reset': 1624566596},\n",
       "   '/fleets/:version/delete': {'limit': 50,\n",
       "    'remaining': 50,\n",
       "    'reset': 1624566596},\n",
       "   '/fleets/:version/avatar_content': {'limit': 100,\n",
       "    'remaining': 100,\n",
       "    'reset': 1624566596},\n",
       "   '/fleets/:version/create': {'limit': 50,\n",
       "    'remaining': 50,\n",
       "    'reset': 1624566596},\n",
       "   '/fleets/:version/user_fleets': {'limit': 180,\n",
       "    'remaining': 180,\n",
       "    'reset': 1624566596},\n",
       "   '/fleets/:version/fleetline': {'limit': 100,\n",
       "    'remaining': 100,\n",
       "    'reset': 1624566596},\n",
       "   '/fleets/:version/track_events': {'limit': 100,\n",
       "    'remaining': 100,\n",
       "    'reset': 1624566596},\n",
       "   '/fleets/:version/update': {'limit': 50,\n",
       "    'remaining': 50,\n",
       "    'reset': 1624566596},\n",
       "   '/fleets/:version/fleet_threads': {'limit': 1000,\n",
       "    'remaining': 1000,\n",
       "    'reset': 1624566596},\n",
       "   '/fleets/:version/mutes/list': {'limit': 100,\n",
       "    'remaining': 100,\n",
       "    'reset': 1624566596},\n",
       "   '/fleets/:version/mutes/destroy': {'limit': 100,\n",
       "    'remaining': 100,\n",
       "    'reset': 1624566596},\n",
       "   '/fleets/:version/home_timeline': {'limit': 100,\n",
       "    'remaining': 100,\n",
       "    'reset': 1624566596},\n",
       "   '/fleets/:version/feedback/create': {'limit': 500,\n",
       "    'remaining': 500,\n",
       "    'reset': 1624566596},\n",
       "   '/fleets/:version/mark_read': {'limit': 1000,\n",
       "    'remaining': 1000,\n",
       "    'reset': 1624566596}},\n",
       "  'help': {'/help/tos': {'limit': 15, 'remaining': 15, 'reset': 1624566596},\n",
       "   '/help/configuration': {'limit': 15, 'remaining': 15, 'reset': 1624566596},\n",
       "   '/help/settings': {'limit': 15, 'remaining': 15, 'reset': 1624566596},\n",
       "   '/help/privacy': {'limit': 15, 'remaining': 15, 'reset': 1624566596},\n",
       "   '/help/languages': {'limit': 15, 'remaining': 15, 'reset': 1624566596}},\n",
       "  'feedback': {'/feedback/show/:id': {'limit': 180,\n",
       "    'remaining': 180,\n",
       "    'reset': 1624566596},\n",
       "   '/feedback/events': {'limit': 1000,\n",
       "    'remaining': 1000,\n",
       "    'reset': 1624566596}},\n",
       "  'business_experience': {'/business_experience/dashboard_settings/destroy': {'limit': 450,\n",
       "    'remaining': 450,\n",
       "    'reset': 1624566596},\n",
       "   '/business_experience/dashboard_features': {'limit': 450,\n",
       "    'remaining': 450,\n",
       "    'reset': 1624566596},\n",
       "   '/business_experience/keywords': {'limit': 450,\n",
       "    'remaining': 450,\n",
       "    'reset': 1624566596},\n",
       "   '/business_experience/dashboard_settings/update': {'limit': 450,\n",
       "    'remaining': 450,\n",
       "    'reset': 1624566596},\n",
       "   '/business_experience/dashboard_settings/show': {'limit': 450,\n",
       "    'remaining': 450,\n",
       "    'reset': 1624566596}},\n",
       "  'graphql&POST': {'/graphql&POST': {'limit': 15,\n",
       "    'remaining': 15,\n",
       "    'reset': 1624566596}},\n",
       "  'friends': {'/friends/following/ids': {'limit': 15,\n",
       "    'remaining': 15,\n",
       "    'reset': 1624566596},\n",
       "   '/friends/following/list': {'limit': 15,\n",
       "    'remaining': 15,\n",
       "    'reset': 1624566596},\n",
       "   '/friends/list': {'limit': 15, 'remaining': 15, 'reset': 1624566596},\n",
       "   '/friends/ids': {'limit': 15, 'remaining': 15, 'reset': 1624566596}},\n",
       "  'sandbox': {'/sandbox/account_activity/webhooks/:id/subscriptions': {'limit': 500,\n",
       "    'remaining': 500,\n",
       "    'reset': 1624566596}},\n",
       "  'drafts': {'/drafts/statuses/update': {'limit': 450,\n",
       "    'remaining': 450,\n",
       "    'reset': 1624566596},\n",
       "   '/drafts/statuses/destroy': {'limit': 450,\n",
       "    'remaining': 450,\n",
       "    'reset': 1624566596},\n",
       "   '/drafts/statuses/ids': {'limit': 450,\n",
       "    'remaining': 450,\n",
       "    'reset': 1624566596},\n",
       "   '/drafts/statuses/list': {'limit': 450,\n",
       "    'remaining': 450,\n",
       "    'reset': 1624566596},\n",
       "   '/drafts/statuses/show': {'limit': 450,\n",
       "    'remaining': 450,\n",
       "    'reset': 1624566596},\n",
       "   '/drafts/statuses/create': {'limit': 450,\n",
       "    'remaining': 450,\n",
       "    'reset': 1624566596}},\n",
       "  'direct_messages': {'/direct_messages/sent': {'limit': 300,\n",
       "    'remaining': 300,\n",
       "    'reset': 1624566596},\n",
       "   '/direct_messages/broadcasts/list': {'limit': 60,\n",
       "    'remaining': 60,\n",
       "    'reset': 1624566596},\n",
       "   '/direct_messages/subscribers/lists/members/show': {'limit': 1000,\n",
       "    'remaining': 1000,\n",
       "    'reset': 1624566596},\n",
       "   '/direct_messages/mark_read': {'limit': 1000,\n",
       "    'remaining': 1000,\n",
       "    'reset': 1624566596},\n",
       "   '/direct_messages/subscribers/ids': {'limit': 180,\n",
       "    'remaining': 180,\n",
       "    'reset': 1624566596},\n",
       "   '/direct_messages/sent_and_received': {'limit': 300,\n",
       "    'remaining': 300,\n",
       "    'reset': 1624566596},\n",
       "   '/direct_messages/broadcasts/statuses/list': {'limit': 60,\n",
       "    'remaining': 60,\n",
       "    'reset': 1624566596},\n",
       "   '/direct_messages': {'limit': 300, 'remaining': 300, 'reset': 1624566596},\n",
       "   '/direct_messages/subscribers/lists/members/ids': {'limit': 180,\n",
       "    'remaining': 180,\n",
       "    'reset': 1624566596},\n",
       "   '/direct_messages/subscribers/show': {'limit': 180,\n",
       "    'remaining': 180,\n",
       "    'reset': 1624566596},\n",
       "   '/direct_messages/broadcasts/show': {'limit': 60,\n",
       "    'remaining': 60,\n",
       "    'reset': 1624566596},\n",
       "   '/direct_messages/broadcasts/statuses/show': {'limit': 60,\n",
       "    'remaining': 60,\n",
       "    'reset': 1624566596},\n",
       "   '/direct_messages/subscribers/lists/list': {'limit': 180,\n",
       "    'remaining': 180,\n",
       "    'reset': 1624566596},\n",
       "   '/direct_messages/show': {'limit': 300,\n",
       "    'remaining': 300,\n",
       "    'reset': 1624566596},\n",
       "   '/direct_messages/subscribers/lists/show': {'limit': 180,\n",
       "    'remaining': 180,\n",
       "    'reset': 1624566596},\n",
       "   '/direct_messages/events/list': {'limit': 15,\n",
       "    'remaining': 15,\n",
       "    'reset': 1624566596},\n",
       "   '/direct_messages/events/show': {'limit': 15,\n",
       "    'remaining': 15,\n",
       "    'reset': 1624566596}},\n",
       "  'media': {'/media/upload': {'limit': 500,\n",
       "    'remaining': 500,\n",
       "    'reset': 1624566596}},\n",
       "  'traffic': {'/traffic/map': {'limit': 15,\n",
       "    'remaining': 15,\n",
       "    'reset': 1624566596}},\n",
       "  'strato': {'/strato/column/None/:id/cms/*': {'limit': 150,\n",
       "    'remaining': 150,\n",
       "    'reset': 1624566596}},\n",
       "  'account_activity': {'/account_activity/all/webhooks': {'limit': 15,\n",
       "    'remaining': 15,\n",
       "    'reset': 1624566596},\n",
       "   '/account_activity/all/:instance_name/subscriptions': {'limit': 500,\n",
       "    'remaining': 500,\n",
       "    'reset': 1624566596},\n",
       "   '/account_activity/direct_messages/webhooks': {'limit': 15,\n",
       "    'remaining': 15,\n",
       "    'reset': 1624566596},\n",
       "   '/account_activity/webhooks/:id/subscriptions/direct_messages/list': {'limit': 15,\n",
       "    'remaining': 15,\n",
       "    'reset': 1624566596},\n",
       "   '/account_activity/webhooks/:id/subscriptions/all': {'limit': 500,\n",
       "    'remaining': 500,\n",
       "    'reset': 1624566596},\n",
       "   '/account_activity/direct_messages/:instance_name/webhooks': {'limit': 15,\n",
       "    'remaining': 15,\n",
       "    'reset': 1624566596},\n",
       "   '/account_activity/webhooks/:id/subscriptions/all/list': {'limit': 15,\n",
       "    'remaining': 15,\n",
       "    'reset': 1624566596},\n",
       "   '/account_activity/webhooks/:id/subscriptions/direct_messages': {'limit': 500,\n",
       "    'remaining': 500,\n",
       "    'reset': 1624566596},\n",
       "   '/account_activity/webhooks': {'limit': 15,\n",
       "    'remaining': 15,\n",
       "    'reset': 1624566596},\n",
       "   '/account_activity/direct_messages/:instance_name/subscriptions': {'limit': 15,\n",
       "    'remaining': 15,\n",
       "    'reset': 1624566596},\n",
       "   '/account_activity/webhooks/:id/subscriptions': {'limit': 500,\n",
       "    'remaining': 500,\n",
       "    'reset': 1624566596},\n",
       "   '/account_activity/all/:instance_name/webhooks': {'limit': 15,\n",
       "    'remaining': 15,\n",
       "    'reset': 1624566596}},\n",
       "  'account': {'/account/login_verification_enrollment': {'limit': 15,\n",
       "    'remaining': 15,\n",
       "    'reset': 1624566596},\n",
       "   '/account/update_profile': {'limit': 15,\n",
       "    'remaining': 15,\n",
       "    'reset': 1624566596},\n",
       "   '/account/authenticate_web_view': {'limit': 50,\n",
       "    'remaining': 50,\n",
       "    'reset': 1624566596},\n",
       "   '/account/verify_credentials': {'limit': 75,\n",
       "    'remaining': 74,\n",
       "    'reset': 1624566586},\n",
       "   '/account/settings': {'limit': 15, 'remaining': 15, 'reset': 1624566596},\n",
       "   '/account/change_password': {'limit': 15,\n",
       "    'remaining': 15,\n",
       "    'reset': 1624566596}},\n",
       "  'safety': {'/safety/detection_feedback': {'limit': 450000,\n",
       "    'remaining': 450000,\n",
       "    'reset': 1624566596}},\n",
       "  'favorites': {'/favorites/list': {'limit': 75,\n",
       "    'remaining': 75,\n",
       "    'reset': 1624566596}},\n",
       "  'device': {'/device/token': {'limit': 15,\n",
       "    'remaining': 15,\n",
       "    'reset': 1624566596}},\n",
       "  'tweets': {'/tweets/search/all': {'limit': 900,\n",
       "    'remaining': 900,\n",
       "    'reset': 1624566596},\n",
       "   '/tweets/search/stream/rules': {'limit': 450,\n",
       "    'remaining': 450,\n",
       "    'reset': 1624566596},\n",
       "   '/tweets/search/recent': {'limit': 180,\n",
       "    'remaining': 180,\n",
       "    'reset': 1624566596},\n",
       "   '/tweets/sample/stream': {'limit': 50,\n",
       "    'remaining': 50,\n",
       "    'reset': 1624566596},\n",
       "   '/tweets/': {'limit': 900, 'remaining': 900, 'reset': 1624566596},\n",
       "   '/tweets/counts/all': {'limit': 900, 'remaining': 900, 'reset': 1624566596},\n",
       "   '/tweets/search/stream': {'limit': 50,\n",
       "    'remaining': 50,\n",
       "    'reset': 1624566596},\n",
       "   '/tweets/search/:product/:label': {'limit': 1800,\n",
       "    'remaining': 1800,\n",
       "    'reset': 1624566596},\n",
       "   '/tweets/search/stream/rules/validation&POST': {'limit': 450,\n",
       "    'remaining': 450,\n",
       "    'reset': 1624566596},\n",
       "   '/tweets/search/:product/:instance/counts': {'limit': 900,\n",
       "    'remaining': 900,\n",
       "    'reset': 1624566596},\n",
       "   '/tweets/:tweet_id/liking_users': {'limit': 75,\n",
       "    'remaining': 75,\n",
       "    'reset': 1624566596},\n",
       "   '/tweets/search/stream/rules&DELETE': {'limit': 450,\n",
       "    'remaining': 450,\n",
       "    'reset': 1624566596},\n",
       "   '/tweets/:id': {'limit': 900, 'remaining': 900, 'reset': 1624566596},\n",
       "   '/tweets/counts/recent': {'limit': 900,\n",
       "    'remaining': 900,\n",
       "    'reset': 1624566596},\n",
       "   '/tweets/search/stream/rules&POST': {'limit': 450,\n",
       "    'remaining': 450,\n",
       "    'reset': 1624566596},\n",
       "   '/tweets/:id/hidden&PUT': {'limit': 50,\n",
       "    'remaining': 50,\n",
       "    'reset': 1624566596}},\n",
       "  'saved_searches': {'/saved_searches/destroy/:id': {'limit': 15,\n",
       "    'remaining': 15,\n",
       "    'reset': 1624566596},\n",
       "   '/saved_searches/show/:id': {'limit': 15,\n",
       "    'remaining': 15,\n",
       "    'reset': 1624566596},\n",
       "   '/saved_searches/list': {'limit': 15,\n",
       "    'remaining': 15,\n",
       "    'reset': 1624566596}},\n",
       "  'oauth': {'/oauth/revoke': {'limit': 15,\n",
       "    'remaining': 15,\n",
       "    'reset': 1624566596},\n",
       "   '/oauth/invalidate_token': {'limit': 450,\n",
       "    'remaining': 450,\n",
       "    'reset': 1624566596},\n",
       "   '/oauth/revoke_html': {'limit': 15, 'remaining': 15, 'reset': 1624566596}},\n",
       "  'search': {'/search/tweets': {'limit': 180,\n",
       "    'remaining': 180,\n",
       "    'reset': 1624566596}},\n",
       "  'trends': {'/trends/closest': {'limit': 75,\n",
       "    'remaining': 75,\n",
       "    'reset': 1624566596},\n",
       "   '/trends/available': {'limit': 75, 'remaining': 75, 'reset': 1624566596},\n",
       "   '/trends/place': {'limit': 75, 'remaining': 75, 'reset': 1624566596}},\n",
       "  'live_pipeline': {'/live_pipeline/events': {'limit': 180,\n",
       "    'remaining': 180,\n",
       "    'reset': 1624566596}},\n",
       "  'graphql': {'/graphql': {'limit': 15,\n",
       "    'remaining': 15,\n",
       "    'reset': 1624566596}}}}"
      ]
     },
     "metadata": {},
     "execution_count": 12
    }
   ],
   "source": [
    "api.rate_limit_status()"
   ]
  },
  {
   "cell_type": "markdown",
   "metadata": {},
   "source": [
    "Now we setup dates. We need to setup today and yesterday."
   ]
  },
  {
   "cell_type": "code",
   "execution_count": 24,
   "metadata": {},
   "outputs": [
    {
     "output_type": "execute_result",
     "data": {
      "text/plain": [
       "(datetime.date(2021, 6, 25), datetime.date(2021, 6, 18))"
      ]
     },
     "metadata": {},
     "execution_count": 24
    }
   ],
   "source": [
    "today = datetime.date.today()\n",
    "since= today - datetime.timedelta(days=7)\n",
    "until= today\n",
    "until, since\n",
    "# (datetime.date(2021, 6, 7), datetime.date(2021, 6, 6))"
   ]
  },
  {
   "cell_type": "code",
   "execution_count": 67,
   "metadata": {},
   "outputs": [
    {
     "output_type": "stream",
     "name": "stdout",
     "text": [
      "2021-06-25 01:50:41,724 - DEBUG - full_text: '(datetime.date(2021, 6, 25), datetime.date(2021, 6, 18))'\n"
     ]
    }
   ],
   "source": [
    "    logger.debug(f\"full_text: '{until, since}'\")"
   ]
  },
  {
   "cell_type": "markdown",
   "metadata": {},
   "source": [
    "We search for tweets on Twitter by using the `Cursor()` function. \n",
    "We pass the `api.search` parameter to the cursor, as well as the query string, which is specified through the `q` parameter of the cursor.\n",
    "The query string can receive many parameters, such as the following (not mandatory) ones:\n",
    "* `from:` - to specify a specific Twitter user profile\n",
    "* `since:` - to specify the beginning date of search\n",
    "* `until:` - to specify the ending date of search\n",
    "The cursor can also receive other parameters, such as the language and the `tweet_mode`. If `tweet_mode='extended'`, all the text of the tweet is returned, otherwise only the first 140 characters."
   ]
  },
  {
   "cell_type": "code",
   "execution_count": null,
   "metadata": {},
   "outputs": [],
   "source": [
    "# # example \n",
    "# code tweets = tweepy.Cursor(api.search, tweet_mode=’extended’) \n",
    "# for tweet in tweets:\n",
    "#     content = tweet.full_text"
   ]
  },
  {
   "cell_type": "code",
   "execution_count": null,
   "metadata": {},
   "outputs": [],
   "source": [
    "# tweets_list = tweepy.Cursor(api.search, q=\"#Covid-19 since:\" + str(yesterday)+ \" until:\" + str(today),tweet_mode='extended', lang='en').items()"
   ]
  },
  {
   "cell_type": "code",
   "execution_count": null,
   "metadata": {},
   "outputs": [],
   "source": [
    "# tweets_list = tweepy.Cursor(api.search, q=f\"#Covid-19 since:{str(yesterday)} until:{str(today)}\",tweet_mode='extended', lang='en').items()"
   ]
  },
  {
   "cell_type": "code",
   "execution_count": 29,
   "metadata": {},
   "outputs": [],
   "source": [
    "# tweets_list = tweepy.Cursor(api.search, q=['astrazeneca', 'pfizer'],since= str(since), until=str(until),tweet_mode='extended', lang='en').items()\n",
    "\n",
    "# Greek Language = el\n",
    "# tweets_list = tweepy.Cursor(api.search, q=['coffee island'],since= str(since), until=str(until),tweet_mode='extended', lang='el').items()\n",
    "\n",
    "# English Language = en\n",
    "tweets_list = tweepy.Cursor(api.search, q=['coffee island OR CoffeeIsland'],since= str(since), until=str(until),tweet_mode='extended', lang='en').items()"
   ]
  },
  {
   "cell_type": "markdown",
   "metadata": {},
   "source": [
    "Now we loop across the `tweets_list`, and, for each tweet, we extract the text, the creation date, the number of retweets and the favourite count. We store every tweet into a list, called `output`."
   ]
  },
  {
   "cell_type": "code",
   "execution_count": 26,
   "metadata": {},
   "outputs": [
    {
     "output_type": "stream",
     "name": "stdout",
     "text": [
      "2021-06-25 03:00:56,957 - INFO - elapsed_time: '5.004919528961182'\n"
     ]
    }
   ],
   "source": [
    "import time\n",
    "seconds = 5\n",
    "start = time.time()\n",
    "time.sleep(seconds)\n",
    "end = time.time()\n",
    "logger.info(f\"elapsed_time: '{end - start}'\")"
   ]
  },
  {
   "source": [
    "---\n",
    "# TEST"
   ],
   "cell_type": "markdown",
   "metadata": {}
  },
  {
   "source": [
    "---"
   ],
   "cell_type": "markdown",
   "metadata": {}
  },
  {
   "cell_type": "code",
   "execution_count": 17,
   "metadata": {
    "tags": []
   },
   "outputs": [
    {
     "output_type": "stream",
     "name": "stdout",
     "text": [
      "2021-06-24 23:18:06,420 - DEBUG - PARAMS: {'q': b\"['coffee island']\", 'since': b'2021-06-22', 'until': b'2021-06-24', 'tweet_mode': b'extended', 'lang': b'gr'}\n",
      "2021-06-24 23:18:06,428 - DEBUG - Signing request <PreparedRequest [GET]> using client <Client client_key=pw0ihLFxH3nwDrd4HBd7pqUrc, client_secret=****, resource_owner_key=1360011857969479682-iLrxBUlqdtExwkqiN9iZsHYDXIFTZz, resource_owner_secret=****, signature_method=HMAC-SHA1, signature_type=AUTH_HEADER, callback_uri=None, rsa_key=None, verifier=None, realm=None, encoding=utf-8, decoding=None, nonce=None, timestamp=None>\n",
      "2021-06-24 23:18:06,429 - DEBUG - Including body in call to sign: False\n",
      "2021-06-24 23:18:06,442 - DEBUG - Collected params: [('q', \"['coffee island']\"), ('since', '2021-06-22'), ('until', '2021-06-24'), ('tweet_mode', 'extended'), ('lang', 'gr'), ('oauth_nonce', '89097120203846973971624565886'), ('oauth_timestamp', '1624565886'), ('oauth_version', '1.0'), ('oauth_signature_method', 'HMAC-SHA1'), ('oauth_consumer_key', 'pw0ihLFxH3nwDrd4HBd7pqUrc'), ('oauth_token', '1360011857969479682-iLrxBUlqdtExwkqiN9iZsHYDXIFTZz')]\n",
      "2021-06-24 23:18:06,448 - DEBUG - Normalized params: lang=gr&oauth_consumer_key=pw0ihLFxH3nwDrd4HBd7pqUrc&oauth_nonce=89097120203846973971624565886&oauth_signature_method=HMAC-SHA1&oauth_timestamp=1624565886&oauth_token=1360011857969479682-iLrxBUlqdtExwkqiN9iZsHYDXIFTZz&oauth_version=1.0&q=%5B%27coffee%20island%27%5D&since=2021-06-22&tweet_mode=extended&until=2021-06-24\n",
      "2021-06-24 23:18:06,449 - DEBUG - Normalized URI: https://api.twitter.com/1.1/search/tweets.json\n",
      "2021-06-24 23:18:06,450 - DEBUG - Signing: signature base string: GET&https%3A%2F%2Fapi.twitter.com%2F1.1%2Fsearch%2Ftweets.json&lang%3Dgr%26oauth_consumer_key%3Dpw0ihLFxH3nwDrd4HBd7pqUrc%26oauth_nonce%3D89097120203846973971624565886%26oauth_signature_method%3DHMAC-SHA1%26oauth_timestamp%3D1624565886%26oauth_token%3D1360011857969479682-iLrxBUlqdtExwkqiN9iZsHYDXIFTZz%26oauth_version%3D1.0%26q%3D%255B%2527coffee%2520island%2527%255D%26since%3D2021-06-22%26tweet_mode%3Dextended%26until%3D2021-06-24\n",
      "2021-06-24 23:18:06,457 - DEBUG - Signature: 0aK/4MeMjbf3kLgJW6Twy4Veu10=\n",
      "2021-06-24 23:18:06,460 - DEBUG - Updated url: https://api.twitter.com/1.1/search/tweets.json?q=%5B%27coffee+island%27%5D&since=2021-06-22&until=2021-06-24&tweet_mode=extended&lang=gr\n",
      "2021-06-24 23:18:06,461 - DEBUG - Updated headers: {'Host': 'api.twitter.com', 'Authorization': 'OAuth oauth_nonce=\"89097120203846973971624565886\", oauth_timestamp=\"1624565886\", oauth_version=\"1.0\", oauth_signature_method=\"HMAC-SHA1\", oauth_consumer_key=\"pw0ihLFxH3nwDrd4HBd7pqUrc\", oauth_token=\"1360011857969479682-iLrxBUlqdtExwkqiN9iZsHYDXIFTZz\", oauth_signature=\"0aK%2F4MeMjbf3kLgJW6Twy4Veu10%3D\"'}\n",
      "2021-06-24 23:18:06,462 - DEBUG - Updated body: None\n",
      "2021-06-24 23:18:06,473 - DEBUG - Starting new HTTPS connection (1): api.twitter.com:443\n",
      "2021-06-24 23:18:07,527 - DEBUG - https://api.twitter.com:443 \"GET /1.1/search/tweets.json?q=%5B%27coffee+island%27%5D&since=2021-06-22&until=2021-06-24&tweet_mode=extended&lang=gr HTTP/1.1\" 200 382\n",
      "2021-06-24 23:18:07,535 - DEBUG - PARAMS: {'create': b'True'}\n"
     ]
    }
   ],
   "source": [
    "# tweets_list2 = tweepy.Cursor(api.search, q=['pfizer','astrazeneca'],since= str(since), until=str(until),tweet_mode='extended', lang='en').items(2)\n",
    "\n",
    "import time\n",
    "start = time.time()\n",
    "output = []\n",
    "for tweet in tweets_list:\n",
    "    # text = tweet._json[\"full_text\"]\n",
    "    #print(text) \n",
    "    # https://developer.twitter.com/en/docs/twitter-api/v1/tweets/search/api-reference/get-search-tweets           \n",
    "    # \"geo\": null,\"coordinates\": null,\"place\": null,\"contributors\": null,\n",
    "    # \"is_quote_status\": false,\"retweet_count\": 988,\"favorite_count\": 3875,\n",
    "    # \"favorited\": false,\"retweeted\": false,\"possibly_sensitive\": false,\"lang\": \"en\"\n",
    "    # https://developer.twitter.com/en/docs/twitter-ids\n",
    "    logger.info(f\"tweet_id_str: {'-'*30}\")\n",
    "    logger.info(f\"created_at: {tweet.created_at}\")\n",
    "    logger.info(f\"full_text: {tweet._json['full_text']}\")\n",
    "    logger.info(f\"tweet_id: {tweet.id}\")\n",
    "    logger.info(f\"tweet_id_str: {tweet.id_str}\")\n",
    "    logger.info(f\"user: {tweet._json['user']['name']}\")\n",
    "    logger.info(f\"user_id: {tweet._json['user']['id']}\")    \n",
    "    # favourite_count = tweet.favorite_count\n",
    "    # retweet_count = tweet.retweet_count\n",
    "    # created_at = tweet.created_at\n",
    "    \n",
    "#     line = {'text' : text, 'favourite_count' : favourite_count, 'retweet_count' : retweet_count, 'created_at' : created_at}\n",
    "#     output.append(line)\n",
    "#     logger.info(f\"Append list length : { len(output)}\")\n",
    "# end = time.time()\n",
    "# logger.info(f\"elapsed_time: '{end - start}'\")"
   ]
  },
  {
   "source": [
    "---"
   ],
   "cell_type": "markdown",
   "metadata": {}
  },
  {
   "cell_type": "code",
   "execution_count": 30,
   "metadata": {
    "tags": [
     "outputPrepend"
    ]
   },
   "outputs": [
    {
     "output_type": "stream",
     "name": "stdout",
     "text": [
      " full_text: '@jessicahodlr DM use to reserve Satoshi's Selection coffee. its Bitcoin coffee from the enchanted island of Puerto Rico 🇵🇷☕️ Available in 2 weeks for shipping'\n",
      "2021-06-25 03:18:30,485 - INFO - Append list length : 604\n",
      "2021-06-25 03:18:30,486 - DEBUG - full_text: 'Colourful handmade chocolates being boxed up from Arlene's Island Artisan Chocolate 🍫 😋\n",
      "\n",
      "Available here  ➡️ https://t.co/yT7USQMTcx https://t.co/BzsOiRjgoh'\n",
      "2021-06-25 03:18:30,486 - INFO - Append list length : 605\n",
      "2021-06-25 03:18:30,487 - DEBUG - full_text: '90% of socializing in Rhode Island involves iced coffee'\n",
      "2021-06-25 03:18:30,488 - INFO - Append list length : 606\n",
      "2021-06-25 03:18:30,489 - DEBUG - full_text: 'ここー\n",
      "[Friends+]Treasure Hunt Island #VRCinHere 21:37:10'\n",
      "2021-06-25 03:18:30,490 - INFO - Append list length : 607\n",
      "2021-06-25 03:18:30,490 - DEBUG - full_text: '@island_iverson This tweet made me spill hot coffee on my d region. Good stuff.'\n",
      "2021-06-25 03:18:30,491 - INFO - Append list length : 608\n",
      "2021-06-25 03:18:30,491 - DEBUG - full_text: 'RT @CatherineSher10: A statue of Hawaiian King Kamehameha the Great, Wailoa State Park in #Hilo #Hawaii on the Big Island. 🌺\n",
      "#BigIsland #CL…'\n",
      "2021-06-25 03:18:30,492 - INFO - Append list length : 609\n",
      "2021-06-25 03:18:30,492 - DEBUG - full_text: 'RT @cathsherman: Afternoon at the Eighteenth Hole, Kiawah Island, South Carolina #KiawahIsland #Golf ⛳️🏌️  #SouthCarolina Clubhouse \n",
      "#SOLD…'\n",
      "2021-06-25 03:18:30,493 - INFO - Append list length : 610\n",
      "2021-06-25 03:18:30,493 - DEBUG - full_text: 'RT @cathsherman: Afternoon at the Eighteenth Hole, Kiawah Island, South Carolina #KiawahIsland #Golf ⛳️🏌️  #SouthCarolina Clubhouse \n",
      "#SOLD…'\n",
      "2021-06-25 03:18:30,494 - INFO - Append list length : 611\n",
      "2021-06-25 03:18:30,494 - DEBUG - full_text: 'Good morning from Hilton Head Island, SC! Coffee and a great book by @JulieDiCaro on the balcony. https://t.co/Z8R2VdSubX'\n",
      "2021-06-25 03:18:30,495 - INFO - Append list length : 612\n",
      "2021-06-25 03:18:30,495 - DEBUG - full_text: '@LorinOnTV Found a great Long Island coffee company.\n",
      "https://t.co/GMdMO6ndPv'\n",
      "2021-06-25 03:18:30,496 - INFO - Append list length : 613\n",
      "2021-06-25 03:18:30,496 - DEBUG - full_text: 'RT @visitcyprus: Morning coffee by the sea at charming locations, here, at your favourite island destination! Where are you having your cof…'\n",
      "2021-06-25 03:18:30,496 - INFO - Append list length : 614\n",
      "2021-06-25 03:18:30,497 - DEBUG - PARAMS: {'max_id': b'1405849986219261951', 'q': b\"['coffee island OR CoffeeIsland']\", 'since': b'2021-06-18', 'until': b'2021-06-25', 'tweet_mode': b'extended', 'lang': b'en'}\n",
      "2021-06-25 03:18:30,498 - DEBUG - Signing request <PreparedRequest [GET]> using client <Client client_key=pw0ihLFxH3nwDrd4HBd7pqUrc, client_secret=****, resource_owner_key=1360011857969479682-iLrxBUlqdtExwkqiN9iZsHYDXIFTZz, resource_owner_secret=****, signature_method=HMAC-SHA1, signature_type=AUTH_HEADER, callback_uri=None, rsa_key=None, verifier=None, realm=None, encoding=utf-8, decoding=None, nonce=None, timestamp=None>\n",
      "2021-06-25 03:18:30,499 - DEBUG - Including body in call to sign: False\n",
      "2021-06-25 03:18:30,500 - DEBUG - Collected params: [('max_id', '1405849986219261951'), ('q', \"['coffee island OR CoffeeIsland']\"), ('since', '2021-06-18'), ('until', '2021-06-25'), ('tweet_mode', 'extended'), ('lang', 'en'), ('oauth_nonce', '147693561906163895201624580310'), ('oauth_timestamp', '1624580310'), ('oauth_version', '1.0'), ('oauth_signature_method', 'HMAC-SHA1'), ('oauth_consumer_key', 'pw0ihLFxH3nwDrd4HBd7pqUrc'), ('oauth_token', '1360011857969479682-iLrxBUlqdtExwkqiN9iZsHYDXIFTZz')]\n",
      "2021-06-25 03:18:30,501 - DEBUG - Normalized params: lang=en&max_id=1405849986219261951&oauth_consumer_key=pw0ihLFxH3nwDrd4HBd7pqUrc&oauth_nonce=147693561906163895201624580310&oauth_signature_method=HMAC-SHA1&oauth_timestamp=1624580310&oauth_token=1360011857969479682-iLrxBUlqdtExwkqiN9iZsHYDXIFTZz&oauth_version=1.0&q=%5B%27coffee%20island%20OR%20CoffeeIsland%27%5D&since=2021-06-18&tweet_mode=extended&until=2021-06-25\n",
      "2021-06-25 03:18:30,502 - DEBUG - Normalized URI: https://api.twitter.com/1.1/search/tweets.json\n",
      "2021-06-25 03:18:30,503 - DEBUG - Signing: signature base string: GET&https%3A%2F%2Fapi.twitter.com%2F1.1%2Fsearch%2Ftweets.json&lang%3Den%26max_id%3D1405849986219261951%26oauth_consumer_key%3Dpw0ihLFxH3nwDrd4HBd7pqUrc%26oauth_nonce%3D147693561906163895201624580310%26oauth_signature_method%3DHMAC-SHA1%26oauth_timestamp%3D1624580310%26oauth_token%3D1360011857969479682-iLrxBUlqdtExwkqiN9iZsHYDXIFTZz%26oauth_version%3D1.0%26q%3D%255B%2527coffee%2520island%2520OR%2520CoffeeIsland%2527%255D%26since%3D2021-06-18%26tweet_mode%3Dextended%26until%3D2021-06-25\n",
      "2021-06-25 03:18:30,503 - DEBUG - Signature: /CZb47lwHs3NFdMybfdok4fUjKc=\n",
      "2021-06-25 03:18:30,505 - DEBUG - Updated url: https://api.twitter.com/1.1/search/tweets.json?max_id=1405849986219261951&q=%5B%27coffee+island+OR+CoffeeIsland%27%5D&since=2021-06-18&until=2021-06-25&tweet_mode=extended&lang=en\n",
      "2021-06-25 03:18:30,508 - DEBUG - Updated headers: {'Host': 'api.twitter.com', 'Cookie': 'guest_id=v1%3A162458023776513966; personalization_id=\"v1_xu/E8D37HQfaLp3okgVYng==\"', 'Authorization': 'OAuth oauth_nonce=\"147693561906163895201624580310\", oauth_timestamp=\"1624580310\", oauth_version=\"1.0\", oauth_signature_method=\"HMAC-SHA1\", oauth_consumer_key=\"pw0ihLFxH3nwDrd4HBd7pqUrc\", oauth_token=\"1360011857969479682-iLrxBUlqdtExwkqiN9iZsHYDXIFTZz\", oauth_signature=\"%2FCZb47lwHs3NFdMybfdok4fUjKc%3D\"'}\n",
      "2021-06-25 03:18:30,509 - DEBUG - Updated body: None\n",
      "2021-06-25 03:18:30,512 - DEBUG - Starting new HTTPS connection (1): api.twitter.com:443\n",
      "2021-06-25 03:18:31,437 - DEBUG - https://api.twitter.com:443 \"GET /1.1/search/tweets.json?max_id=1405849986219261951&q=%5B%27coffee+island+OR+CoffeeIsland%27%5D&since=2021-06-18&until=2021-06-25&tweet_mode=extended&lang=en HTTP/1.1\" 200 80282\n",
      "2021-06-25 03:18:31,531 - DEBUG - PARAMS: {'create': b'True'}\n",
      "2021-06-25 03:18:31,538 - DEBUG - full_text: 'Here's your OTD trivia for 6/18... Join us tonight at Amelia Island Coffee, and have a great Friday! #trivia30 #wakeupyourbrain #OnThisDay #Monterey #California #JimiHendrix #JanisJoplin #TheWho #OtisRedding #USSR #FastAndFurious #Spain #CarolKane #KurtBrowning #BlakeShelton https://t.co/K6IMU3DNGy'\n",
      "2021-06-25 03:18:31,543 - INFO - Append list length : 615\n",
      "2021-06-25 03:18:31,548 - DEBUG - full_text: 'Join us tonight for an evening of TRIVIA:30 at Amelia Island Coffee! The fun starts at 6:00... Free answer is *Ensenada* See you there! #whattimeisit #TRIVIA30 #wakeupyourbrain #trivia #fridaynight #AmeliaIsland #FernandinaBeach #LoveAmelia #Fernandina #trivia #fridayfun https://t.co/T2JENW0hlT'\n",
      "2021-06-25 03:18:31,550 - INFO - Append list length : 616\n",
      "2021-06-25 03:18:31,551 - DEBUG - full_text: 'Good Morning, I've got the coffee on for you.'\n",
      "2021-06-25 03:18:31,552 - INFO - Append list length : 617\n",
      "2021-06-25 03:18:31,556 - DEBUG - full_text: 'RT @TheW0lfpup: Coffee island'\n",
      "2021-06-25 03:18:31,557 - INFO - Append list length : 618\n",
      "2021-06-25 03:18:31,570 - DEBUG - full_text: 'RT @GySgt2: @justmeagain34 Good morning my friend, it is 73 degrees here on Parris island,  the coffee is strong and black,  the spiders wh…'\n",
      "2021-06-25 03:18:31,572 - INFO - Append list length : 619\n",
      "2021-06-25 03:18:31,572 - DEBUG - full_text: '@justmeagain34 Good morning my friend, it is 73 degrees here on Parris island,  the coffee is strong and black,  the spiders where All over me this morning leaving my house I guess I am just going to have to get a flame thrower for the armory be fir I go home tonight, TGIF 😎'\n",
      "2021-06-25 03:18:31,573 - INFO - Append list length : 620\n",
      "2021-06-25 03:18:31,573 - DEBUG - full_text: '@mochis_island_ 👀👀👀 I’m watching tv and kissing coffee but I should be working'\n",
      "2021-06-25 03:18:31,574 - INFO - Append list length : 621\n",
      "2021-06-25 03:18:31,574 - DEBUG - full_text: '@SarkySage coffee followed by Russell Island tap water vintage 2021'\n",
      "2021-06-25 03:18:31,574 - INFO - Append list length : 622\n",
      "2021-06-25 03:18:31,575 - DEBUG - full_text: 'Bonjour! Let's make a sandwich to start a happy day!  Open the fridge, and grab two pieces of toasts.  Take ham as the protein, tomato and spinach as veggies.  Finally, add some thousand island dressing and cheddar cheese.  Have it with a cup of black coffee.  Enjoy your morning! https://t.co/lzew0c0HhG'\n",
      "2021-06-25 03:18:31,577 - INFO - Append list length : 623\n",
      "2021-06-25 03:18:31,578 - DEBUG - full_text: 'Read Treasure Island and enjoy some kombucha out of a irish coffee glass.'\n",
      "2021-06-25 03:18:31,581 - INFO - Append list length : 624\n",
      "2021-06-25 03:18:31,582 - DEBUG - full_text: 'Magical island #Howth🏝☀️\n",
      "View from #Blackrock #Dublin💙\n",
      "\n",
      "Morning dip &amp; coffee with pals 🏊🏻‍♀️☕️\n",
      "#Reset #VitaminSea💖\n",
      "\n",
      " ⁦@janeconan⁩ ⁦@TheGinaLondon⁩ https://t.co/LQd53AoUz4'\n",
      "2021-06-25 03:18:31,583 - INFO - Append list length : 625\n",
      "2021-06-25 03:18:31,584 - DEBUG - full_text: 'RT @TheW0lfpup: Coffee island'\n",
      "2021-06-25 03:18:31,589 - INFO - Append list length : 626\n",
      "2021-06-25 03:18:31,590 - DEBUG - full_text: 'RT @TheW0lfpup: Coffee island https://t.co/52WId63NXo'\n",
      "2021-06-25 03:18:31,590 - INFO - Append list length : 627\n",
      "2021-06-25 03:18:31,591 - DEBUG - full_text: 'RT @TheW0lfpup: Coffee island'\n",
      "2021-06-25 03:18:31,591 - INFO - Append list length : 628\n",
      "2021-06-25 03:18:31,593 - DEBUG - full_text: 'RT @TheW0lfpup: Coffee island'\n",
      "2021-06-25 03:18:31,594 - INFO - Append list length : 629\n",
      "2021-06-25 03:18:31,601 - DEBUG - PARAMS: {'max_id': b'1405771752257449985', 'q': b\"['coffee island OR CoffeeIsland']\", 'since': b'2021-06-18', 'until': b'2021-06-25', 'tweet_mode': b'extended', 'lang': b'en'}\n",
      "2021-06-25 03:18:31,621 - DEBUG - Signing request <PreparedRequest [GET]> using client <Client client_key=pw0ihLFxH3nwDrd4HBd7pqUrc, client_secret=****, resource_owner_key=1360011857969479682-iLrxBUlqdtExwkqiN9iZsHYDXIFTZz, resource_owner_secret=****, signature_method=HMAC-SHA1, signature_type=AUTH_HEADER, callback_uri=None, rsa_key=None, verifier=None, realm=None, encoding=utf-8, decoding=None, nonce=None, timestamp=None>\n",
      "2021-06-25 03:18:31,622 - DEBUG - Including body in call to sign: False\n",
      "2021-06-25 03:18:31,624 - DEBUG - Collected params: [('max_id', '1405771752257449985'), ('q', \"['coffee island OR CoffeeIsland']\"), ('since', '2021-06-18'), ('until', '2021-06-25'), ('tweet_mode', 'extended'), ('lang', 'en'), ('oauth_nonce', '80464792822679196621624580311'), ('oauth_timestamp', '1624580311'), ('oauth_version', '1.0'), ('oauth_signature_method', 'HMAC-SHA1'), ('oauth_consumer_key', 'pw0ihLFxH3nwDrd4HBd7pqUrc'), ('oauth_token', '1360011857969479682-iLrxBUlqdtExwkqiN9iZsHYDXIFTZz')]\n",
      "2021-06-25 03:18:31,626 - DEBUG - Normalized params: lang=en&max_id=1405771752257449985&oauth_consumer_key=pw0ihLFxH3nwDrd4HBd7pqUrc&oauth_nonce=80464792822679196621624580311&oauth_signature_method=HMAC-SHA1&oauth_timestamp=1624580311&oauth_token=1360011857969479682-iLrxBUlqdtExwkqiN9iZsHYDXIFTZz&oauth_version=1.0&q=%5B%27coffee%20island%20OR%20CoffeeIsland%27%5D&since=2021-06-18&tweet_mode=extended&until=2021-06-25\n",
      "2021-06-25 03:18:31,628 - DEBUG - Normalized URI: https://api.twitter.com/1.1/search/tweets.json\n",
      "2021-06-25 03:18:31,629 - DEBUG - Signing: signature base string: GET&https%3A%2F%2Fapi.twitter.com%2F1.1%2Fsearch%2Ftweets.json&lang%3Den%26max_id%3D1405771752257449985%26oauth_consumer_key%3Dpw0ihLFxH3nwDrd4HBd7pqUrc%26oauth_nonce%3D80464792822679196621624580311%26oauth_signature_method%3DHMAC-SHA1%26oauth_timestamp%3D1624580311%26oauth_token%3D1360011857969479682-iLrxBUlqdtExwkqiN9iZsHYDXIFTZz%26oauth_version%3D1.0%26q%3D%255B%2527coffee%2520island%2520OR%2520CoffeeIsland%2527%255D%26since%3D2021-06-18%26tweet_mode%3Dextended%26until%3D2021-06-25\n",
      "2021-06-25 03:18:31,630 - DEBUG - Signature: GwKp/JTMZq5qEQry7n7ufpU5tp8=\n",
      "2021-06-25 03:18:31,632 - DEBUG - Updated url: https://api.twitter.com/1.1/search/tweets.json?max_id=1405771752257449985&q=%5B%27coffee+island+OR+CoffeeIsland%27%5D&since=2021-06-18&until=2021-06-25&tweet_mode=extended&lang=en\n",
      "2021-06-25 03:18:31,634 - DEBUG - Updated headers: {'Host': 'api.twitter.com', 'Cookie': 'guest_id=v1%3A162458023776513966; personalization_id=\"v1_xu/E8D37HQfaLp3okgVYng==\"', 'Authorization': 'OAuth oauth_nonce=\"80464792822679196621624580311\", oauth_timestamp=\"1624580311\", oauth_version=\"1.0\", oauth_signature_method=\"HMAC-SHA1\", oauth_consumer_key=\"pw0ihLFxH3nwDrd4HBd7pqUrc\", oauth_token=\"1360011857969479682-iLrxBUlqdtExwkqiN9iZsHYDXIFTZz\", oauth_signature=\"GwKp%2FJTMZq5qEQry7n7ufpU5tp8%3D\"'}\n",
      "2021-06-25 03:18:31,635 - DEBUG - Updated body: None\n",
      "2021-06-25 03:18:31,641 - DEBUG - Starting new HTTPS connection (1): api.twitter.com:443\n",
      "2021-06-25 03:18:33,361 - DEBUG - https://api.twitter.com:443 \"GET /1.1/search/tweets.json?max_id=1405771752257449985&q=%5B%27coffee+island+OR+CoffeeIsland%27%5D&since=2021-06-18&until=2021-06-25&tweet_mode=extended&lang=en HTTP/1.1\" 200 80405\n",
      "2021-06-25 03:18:33,473 - DEBUG - PARAMS: {'create': b'True'}\n",
      "2021-06-25 03:18:33,478 - DEBUG - full_text: 'RT @TheW0lfpup: Coffee island https://t.co/52WId63NXo'\n",
      "2021-06-25 03:18:33,487 - INFO - Append list length : 630\n",
      "2021-06-25 03:18:33,488 - DEBUG - full_text: 'RT @visitcyprus: Morning coffee by the sea at charming locations, here, at your favourite island destination! Where are you having your cof…'\n",
      "2021-06-25 03:18:33,489 - INFO - Append list length : 631\n",
      "2021-06-25 03:18:33,491 - DEBUG - full_text: 'RT @TheW0lfpup: Coffee island'\n",
      "2021-06-25 03:18:33,491 - INFO - Append list length : 632\n",
      "2021-06-25 03:18:33,494 - DEBUG - full_text: 'Coffee Island https://t.co/yM2zbp9hp3'\n",
      "2021-06-25 03:18:33,502 - INFO - Append list length : 633\n",
      "2021-06-25 03:18:33,510 - DEBUG - full_text: 'DDDaniel just supported @cretetravel on @buymeacoffee! 🎉\n",
      "\n",
      "@cretetravel is ... creating memorable experiences in lovely Crete Island! . You can support by buying a coffee ☕️ here — https://t.co/Qo8h8xTPAN'\n",
      "2021-06-25 03:18:33,513 - INFO - Append list length : 634\n",
      "2021-06-25 03:18:33,515 - DEBUG - full_text: 'RT @TheW0lfpup: Coffee island'\n",
      "2021-06-25 03:18:33,520 - INFO - Append list length : 635\n",
      "2021-06-25 03:18:33,523 - DEBUG - full_text: '@SerpicoDet That's incredible! It would have been in Nanaimo, my family spoke very highly of you. If you ever end up on the island you're more than welcome over for coffee again. Thanks for confirming an old story!'\n",
      "2021-06-25 03:18:33,527 - INFO - Append list length : 636\n",
      "2021-06-25 03:18:33,528 - DEBUG - full_text: 'RT @TheW0lfpup: Coffee island'\n",
      "2021-06-25 03:18:33,529 - INFO - Append list length : 637\n",
      "2021-06-25 03:18:33,529 - DEBUG - full_text: 'RT @visitcyprus: Morning coffee by the sea at charming locations, here, at your favourite island destination! Where are you having your cof…'\n",
      "2021-06-25 03:18:33,537 - INFO - Append list length : 638\n",
      "2021-06-25 03:18:33,538 - DEBUG - full_text: 'Read Treasure Island and drink some chilled kombucha from a irish coffee glass.'\n",
      "2021-06-25 03:18:33,540 - INFO - Append list length : 639\n",
      "2021-06-25 03:18:33,541 - DEBUG - full_text: '@ARlESVENUSX the coffee ice cream slander here is disturbing. i am here to say you would not survive in rhode island 🍦'\n",
      "2021-06-25 03:18:33,544 - INFO - Append list length : 640\n",
      "2021-06-25 03:18:33,545 - DEBUG - full_text: '\"She also loves to travel around the world and sip coffee along the way, so if we are ever able to connect in real life, I think we’d get along splendidly.\" 🌎☕️\n",
      "\n",
      "Truth, Dr. Hasty!🥰\n",
      "\n",
      "Thanks for a fun #bookfeature with #IslandCharm from @PelicanBookGrp.📚\n",
      "\n",
      "https://t.co/EfOH61FEky'\n",
      "2021-06-25 03:18:33,560 - INFO - Append list length : 641\n",
      "2021-06-25 03:18:33,567 - DEBUG - full_text: 'RT @lizwadsworth65: @quinncy Exile and Duke, a used bookstore/cafe specializing in historical romances with unhappy endings. It's located i…'\n",
      "2021-06-25 03:18:33,569 - INFO - Append list length : 642\n",
      "2021-06-25 03:18:33,570 - DEBUG - full_text: '@quinncy Exile and Duke, a used bookstore/cafe specializing in historical romances with unhappy endings. It's located in a refurbished island prison in which all the cells are private reading rooms with French press coffee makers and complimentary macarons.'\n",
      "2021-06-25 03:18:33,570 - INFO - Append list length : 643\n",
      "2021-06-25 03:18:33,571 - DEBUG - full_text: '@bananzers I wanna visit the big island and drink Kona coffee from the source 🤤'\n",
      "2021-06-25 03:18:33,572 - INFO - Append list length : 644\n",
      "2021-06-25 03:18:33,574 - DEBUG - PARAMS: {'max_id': b'1405681100459028483', 'q': b\"['coffee island OR CoffeeIsland']\", 'since': b'2021-06-18', 'until': b'2021-06-25', 'tweet_mode': b'extended', 'lang': b'en'}\n",
      "2021-06-25 03:18:33,578 - DEBUG - Signing request <PreparedRequest [GET]> using client <Client client_key=pw0ihLFxH3nwDrd4HBd7pqUrc, client_secret=****, resource_owner_key=1360011857969479682-iLrxBUlqdtExwkqiN9iZsHYDXIFTZz, resource_owner_secret=****, signature_method=HMAC-SHA1, signature_type=AUTH_HEADER, callback_uri=None, rsa_key=None, verifier=None, realm=None, encoding=utf-8, decoding=None, nonce=None, timestamp=None>\n",
      "2021-06-25 03:18:33,579 - DEBUG - Including body in call to sign: False\n",
      "2021-06-25 03:18:33,580 - DEBUG - Collected params: [('max_id', '1405681100459028483'), ('q', \"['coffee island OR CoffeeIsland']\"), ('since', '2021-06-18'), ('until', '2021-06-25'), ('tweet_mode', 'extended'), ('lang', 'en'), ('oauth_nonce', '113879326453028059981624580313'), ('oauth_timestamp', '1624580313'), ('oauth_version', '1.0'), ('oauth_signature_method', 'HMAC-SHA1'), ('oauth_consumer_key', 'pw0ihLFxH3nwDrd4HBd7pqUrc'), ('oauth_token', '1360011857969479682-iLrxBUlqdtExwkqiN9iZsHYDXIFTZz')]\n",
      "2021-06-25 03:18:33,582 - DEBUG - Normalized params: lang=en&max_id=1405681100459028483&oauth_consumer_key=pw0ihLFxH3nwDrd4HBd7pqUrc&oauth_nonce=113879326453028059981624580313&oauth_signature_method=HMAC-SHA1&oauth_timestamp=1624580313&oauth_token=1360011857969479682-iLrxBUlqdtExwkqiN9iZsHYDXIFTZz&oauth_version=1.0&q=%5B%27coffee%20island%20OR%20CoffeeIsland%27%5D&since=2021-06-18&tweet_mode=extended&until=2021-06-25\n",
      "2021-06-25 03:18:33,583 - DEBUG - Normalized URI: https://api.twitter.com/1.1/search/tweets.json\n",
      "2021-06-25 03:18:33,584 - DEBUG - Signing: signature base string: GET&https%3A%2F%2Fapi.twitter.com%2F1.1%2Fsearch%2Ftweets.json&lang%3Den%26max_id%3D1405681100459028483%26oauth_consumer_key%3Dpw0ihLFxH3nwDrd4HBd7pqUrc%26oauth_nonce%3D113879326453028059981624580313%26oauth_signature_method%3DHMAC-SHA1%26oauth_timestamp%3D1624580313%26oauth_token%3D1360011857969479682-iLrxBUlqdtExwkqiN9iZsHYDXIFTZz%26oauth_version%3D1.0%26q%3D%255B%2527coffee%2520island%2520OR%2520CoffeeIsland%2527%255D%26since%3D2021-06-18%26tweet_mode%3Dextended%26until%3D2021-06-25\n",
      "2021-06-25 03:18:33,585 - DEBUG - Signature: oANPns3UzMayAeo0shOWx9E/naA=\n",
      "2021-06-25 03:18:33,588 - DEBUG - Updated url: https://api.twitter.com/1.1/search/tweets.json?max_id=1405681100459028483&q=%5B%27coffee+island+OR+CoffeeIsland%27%5D&since=2021-06-18&until=2021-06-25&tweet_mode=extended&lang=en\n",
      "2021-06-25 03:18:33,592 - DEBUG - Updated headers: {'Host': 'api.twitter.com', 'Cookie': 'guest_id=v1%3A162458023776513966; personalization_id=\"v1_xu/E8D37HQfaLp3okgVYng==\"', 'Authorization': 'OAuth oauth_nonce=\"113879326453028059981624580313\", oauth_timestamp=\"1624580313\", oauth_version=\"1.0\", oauth_signature_method=\"HMAC-SHA1\", oauth_consumer_key=\"pw0ihLFxH3nwDrd4HBd7pqUrc\", oauth_token=\"1360011857969479682-iLrxBUlqdtExwkqiN9iZsHYDXIFTZz\", oauth_signature=\"oANPns3UzMayAeo0shOWx9E%2FnaA%3D\"'}\n",
      "2021-06-25 03:18:33,594 - DEBUG - Updated body: None\n",
      "2021-06-25 03:18:33,603 - DEBUG - Starting new HTTPS connection (1): api.twitter.com:443\n",
      "2021-06-25 03:18:35,089 - DEBUG - https://api.twitter.com:443 \"GET /1.1/search/tweets.json?max_id=1405681100459028483&q=%5B%27coffee+island+OR+CoffeeIsland%27%5D&since=2021-06-18&until=2021-06-25&tweet_mode=extended&lang=en HTTP/1.1\" 200 417\n",
      "2021-06-25 03:18:35,092 - DEBUG - PARAMS: {'create': b'True'}\n",
      "2021-06-25 03:18:35,095 - INFO - elapsed_time: '78.96849727630615'\n"
     ]
    }
   ],
   "source": [
    "import time\n",
    "start = time.time()\n",
    "output = []\n",
    "for tweet in tweets_list:\n",
    "    text = tweet._json[\"full_text\"]\n",
    "    #print(text) \n",
    "    # https://developer.twitter.com/en/docs/twitter-api/v1/tweets/search/api-reference/get-search-tweets           \n",
    "    # \"geo\": null,\"coordinates\": null,\"place\": null,\"contributors\": null,\n",
    "    # \"is_quote_status\": false,\"retweet_count\": 988,\"favorite_count\": 3875,\n",
    "    # \"favorited\": false,\"retweeted\": false,\"possibly_sensitive\": false,\"lang\": \"en\"\n",
    "    logger.debug(f\"full_text: '{text}'\")\n",
    "    favourite_count = tweet.favorite_count\n",
    "    retweet_count = tweet.retweet_count\n",
    "    created_at = tweet.created_at\n",
    "    \n",
    "    line = {'text' : text, 'favourite_count' : favourite_count, 'retweet_count' : retweet_count, 'created_at' : created_at}\n",
    "    output.append(line)\n",
    "    logger.info(f\"Append list length : { len(output)}\")\n",
    "end = time.time()\n",
    "logger.info(f\"elapsed_time: '{end - start}'\")"
   ]
  },
  {
   "cell_type": "code",
   "execution_count": 31,
   "metadata": {},
   "outputs": [
    {
     "output_type": "execute_result",
     "data": {
      "text/plain": [
       ",\n",
       " {'text': 'RT @mir_gifs: June 19th bunny and animal crossing island coffee status ☕️🐰🐶 https://t.co/cHdGkmEMN1',\n",
       "  'favourite_count': 0,\n",
       "  'retweet_count': 4,\n",
       "  'created_at': datetime.datetime(2021, 6, 19, 3, 4, 41)},\n",
       " {'text': 'June 19th bunny and animal crossing island coffee status ☕️🐰🐶 https://t.co/cHdGkmEMN1',\n",
       "  'favourite_count': 14,\n",
       "  'retweet_count': 4,\n",
       "  'created_at': datetime.datetime(2021, 6, 19, 2, 55, 57)},\n",
       " {'text': 'RT @cathsherman: Coral and Limestone Beach, Great Abaco Island, The Bahamas #Bahamas #FineArtAmerica #CLS \\n#ArtForSale\\nhttps://t.co/5Uk1lc1…',\n",
       "  'favourite_count': 0,\n",
       "  'retweet_count': 39,\n",
       "  'created_at': datetime.datetime(2021, 6, 19, 2, 37, 42)},\n",
       " {'text': \"@BjornIronsights At one point in time I had one overnight a month (developmentally disabled kiddo.)\\nI drove 2 or 3 hours to a scruffy little seaside motel in Long Island. I'd bring a journal and my guitar. No TV. Fried clams. Coffee. Pancakes. Room 66 every time.\",\n",
       "  'favourite_count': 0,\n",
       "  'retweet_count': 0,\n",
       "  'created_at': datetime.datetime(2021, 6, 19, 2, 13, 55)},\n",
       " {'text': 'RT @TheW0lfpup: Coffee island',\n",
       "  'favourite_count': 0,\n",
       "  'retweet_count': 20,\n",
       "  'created_at': datetime.datetime(2021, 6, 19, 1, 31, 15)},\n",
       " {'text': '@Merkabagaming Man before we got it we’d go to the local coffee shop. Now we have even better coffee!\\n\\nWe loved the Big Island coffee roasters you recommended, and are on I think our 3rd or 4th bag now 😂',\n",
       "  'favourite_count': 1,\n",
       "  'retweet_count': 0,\n",
       "  'created_at': datetime.datetime(2021, 6, 19, 1, 21, 35)},\n",
       " {'text': 'RT @CatherineSher10: Dauphin Island Sunset\\nClouds streak across the setting sun on #DauphinIsland #Alabama #SunsetCapital #Sunset #GulfofMe…',\n",
       "  'favourite_count': 0,\n",
       "  'retweet_count': 62,\n",
       "  'created_at': datetime.datetime(2021, 6, 19, 1, 12, 39)},\n",
       " {'text': 'RT @CatherineSher10: A statue of Hawaiian King Kamehameha the Great, Wailoa State Park in #Hilo #Hawaii on the Big Island. 🌺\\n#BigIsland #CL…',\n",
       "  'favourite_count': 0,\n",
       "  'retweet_count': 28,\n",
       "  'created_at': datetime.datetime(2021, 6, 19, 0, 20, 52)},\n",
       " {'text': 'Small Town Coffee! Loving the island life! https://t.co/6SghIKp8sg',\n",
       "  'favourite_count': 0,\n",
       "  'retweet_count': 0,\n",
       "  'created_at': datetime.datetime(2021, 6, 19, 0, 19, 21)},\n",
       " {'text': 'RT @TheArtist1329: Strolling Great Egret on #GreatAbaco Island in The #Bahamas #BeachLife #FineArtAmerica #CLS 🌴\\n#ArtForSale \\nhttps://t.co/…',\n",
       "  'favourite_count': 0,\n",
       "  'retweet_count': 47,\n",
       "  'created_at': datetime.datetime(2021, 6, 18, 22, 54, 11)},\n",
       " {'text': 'RT @CatherineSher10: A statue of Hawaiian King Kamehameha the Great, Wailoa State Park in #Hilo #Hawaii on the Big Island. 🌺\\n#BigIsland #CL…',\n",
       "  'favourite_count': 0,\n",
       "  'retweet_count': 28,\n",
       "  'created_at': datetime.datetime(2021, 6, 18, 22, 53, 1)},\n",
       " {'text': 'RT @cathsherman: A great blue heron stands near mossy rocks near Pelican Point on Dauphin Island #Alabama \\nIn the background, a brown pelic…',\n",
       "  'favourite_count': 0,\n",
       "  'retweet_count': 85,\n",
       "  'created_at': datetime.datetime(2021, 6, 18, 22, 42, 10)},\n",
       " {'text': 'RT @cathsherman: Afternoon at the Eighteenth Hole, Kiawah Island, South Carolina #KiawahIsland #Golf ⛳️🏌️  #SouthCarolina Clubhouse \\n#SOLD…',\n",
       "  'favourite_count': 0,\n",
       "  'retweet_count': 49,\n",
       "  'created_at': datetime.datetime(2021, 6, 18, 22, 39, 29)},\n",
       " {'text': 'For the next month #Nanaimo artist Melissa Anderson presents her oil painting exhibit ‘Seascapes’ at White Rabbit Coffee Co. https://t.co/KuMV7e5r4o',\n",
       "  'favourite_count': 2,\n",
       "  'retweet_count': 0,\n",
       "  'created_at': datetime.datetime(2021, 6, 18, 22, 18, 34)},\n",
       " {'text': 'RT @KauaiCoffeeCo: Guaranteed to get you out of bed faster than your alarm clock. Try 100% Kauai Coffee with a hint of delicious island-ins…',\n",
       "  'favourite_count': 0,\n",
       "  'retweet_count': 3,\n",
       "  'created_at': datetime.datetime(2021, 6, 18, 22, 7, 30)},\n",
       " {'text': 'RT @cathsherman: Afternoon at the Eighteenth Hole, Kiawah Island, South Carolina #KiawahIsland #Golf ⛳️🏌️  #SouthCarolina Clubhouse \\n#SOLD…',\n",
       "  'favourite_count': 0,\n",
       "  'retweet_count': 49,\n",
       "  'created_at': datetime.datetime(2021, 6, 18, 21, 51, 20)},\n",
       " {'text': 'RT @cathsherman: Afternoon at the Eighteenth Hole, Kiawah Island, South Carolina #KiawahIsland #Golf ⛳️🏌️  #SouthCarolina Clubhouse \\n#SOLD…',\n",
       "  'favourite_count': 0,\n",
       "  'retweet_count': 49,\n",
       "  'created_at': datetime.datetime(2021, 6, 18, 20, 52, 59)},\n",
       " {'text': 'RT @cathsherman: Afternoon at the Eighteenth Hole, Kiawah Island, South Carolina #KiawahIsland #Golf ⛳️🏌️  #SouthCarolina Clubhouse \\n#SOLD…',\n",
       "  'favourite_count': 0,\n",
       "  'retweet_count': 49,\n",
       "  'created_at': datetime.datetime(2021, 6, 18, 20, 52, 31)},\n",
       " {'text': '@JadahParadox No but I won a set of hand painted coffee mugs at the St. George Island Fire Station Bingo Night!  😃',\n",
       "  'favourite_count': 1,\n",
       "  'retweet_count': 0,\n",
       "  'created_at': datetime.datetime(2021, 6, 18, 20, 2, 46)},\n",
       " {'text': '@wd3ncha does this explain my island (i should clarify i played for an additional month-ish before kenneth spilled coffee on my switch and i had to get a new one and start over)',\n",
       "  'favourite_count': 1,\n",
       "  'retweet_count': 0,\n",
       "  'created_at': datetime.datetime(2021, 6, 18, 19, 47, 13)},\n",
       " {'text': 'RT @TheW0lfpup: Coffee island',\n",
       "  'favourite_count': 0,\n",
       "  'retweet_count': 20,\n",
       "  'created_at': datetime.datetime(2021, 6, 18, 19, 11, 10)},\n",
       " {'text': 'RT @TheW0lfpup: Coffee island',\n",
       "  'favourite_count': 0,\n",
       "  'retweet_count': 20,\n",
       "  'created_at': datetime.datetime(2021, 6, 18, 19, 1, 57)},\n",
       " {'text': 'RT @TheW0lfpup: Coffee island',\n",
       "  'favourite_count': 0,\n",
       "  'retweet_count': 20,\n",
       "  'created_at': datetime.datetime(2021, 6, 18, 18, 58, 23)},\n",
       " {'text': 'RT @TheW0lfpup: Coffee island',\n",
       "  'favourite_count': 0,\n",
       "  'retweet_count': 20,\n",
       "  'created_at': datetime.datetime(2021, 6, 18, 18, 23, 19)},\n",
       " {'text': 'Read Treasure Island and drink some chilled lemonade from a irish coffee glass.',\n",
       "  'favourite_count': 0,\n",
       "  'retweet_count': 0,\n",
       "  'created_at': datetime.datetime(2021, 6, 18, 18, 6, 4)},\n",
       " {'text': 'honestly you can leave me in an island alone but i would need thousand of books and my own coffee maker. if you’re kind enough to give me a non-ending supply of coffee beans. it would be deeply appreciated',\n",
       "  'favourite_count': 4,\n",
       "  'retweet_count': 0,\n",
       "  'created_at': datetime.datetime(2021, 6, 18, 18, 4, 29)},\n",
       " {'text': 'RT @visitcyprus: Morning coffee by the sea at charming locations, here, at your favourite island destination! Where are you having your cof…',\n",
       "  'favourite_count': 0,\n",
       "  'retweet_count': 24,\n",
       "  'created_at': datetime.datetime(2021, 6, 18, 17, 40, 19)},\n",
       " {'text': '@nikkimwalls There was a coffee shop in Rhode Island that was adjacent to this jewelry store—really great coffee &amp; work vibes, but the catch was they could *only* play the jewelry store approved Pandora radio station that cycled through the same 20 songs endlessly…',\n",
       "  'favourite_count': 1,\n",
       "  'retweet_count': 0,\n",
       "  'created_at': datetime.datetime(2021, 6, 18, 17, 39, 48)},\n",
       " {'text': 'RT @premierhop: 📦 &amp; Online\\n—\\n@mikkelleruk x Seven Island x @WarPigs_Brewpub / Beer Greek Breakfast / 12.5% / 375ml\\n—\\nCoffee from Cafetierra…',\n",
       "  'favourite_count': 0,\n",
       "  'retweet_count': 1,\n",
       "  'created_at': datetime.datetime(2021, 6, 18, 16, 41, 20)},\n",
       " {'text': 'ここー\\n[Friends+]Treasure Hunt Island #VRCinHere 0:19:10',\n",
       "  'favourite_count': 0,\n",
       "  'retweet_count': 0,\n",
       "  'created_at': datetime.datetime(2021, 6, 18, 15, 16, 59)},\n",
       " {'text': '📦 &amp; Online\\n—\\n@mikkelleruk x Seven Island x @WarPigs_Brewpub / Beer Greek Breakfast / 12.5% / 375ml\\n—\\nCoffee from Cafetierra roastery based on Corfu Island; Mahleb from Thessaloniki as well as Carob flour from Chios Island which can be described as a Mediterranean Cocoa. https://t.co/S57qKRjkyG',\n",
       "  'favourite_count': 0,\n",
       "  'retweet_count': 1,\n",
       "  'created_at': datetime.datetime(2021, 6, 18, 14, 54, 21)},\n",
       " {'text': '@The_MoBiz Got to admit I haven’t taken the ferry off the Island in about 2 years now. May do that just for a relaxing there and back trip; sit on the deck, drink coffee, watch the scenery go by. Are you doing the Tsawassen-Swartz Bay route?',\n",
       "  'favourite_count': 2,\n",
       "  'retweet_count': 0,\n",
       "  'created_at': datetime.datetime(2021, 6, 18, 14, 39, 30)},\n",
       " {'text': 'ここー\\n[Friends+]Treasure Hunt Island #VRCinHere 23:40:46',\n",
       "  'favourite_count': 0,\n",
       "  'retweet_count': 0,\n",
       "  'created_at': datetime.datetime(2021, 6, 18, 14, 38, 35)},\n",
       " {'text': 'ここー\\n[Friends+]Treasure Hunt Island #VRCinHere 23:29:42',\n",
       "  'favourite_count': 0,\n",
       "  'retweet_count': 0,\n",
       "  'created_at': datetime.datetime(2021, 6, 18, 14, 27, 31)},\n",
       " {'text': 'Coffee with David (@ Cat Island Coffeehouse/Pass Christian Books in Pass Christian, MS) https://t.co/4kMXKMLuAP',\n",
       "  'favourite_count': 0,\n",
       "  'retweet_count': 0,\n",
       "  'created_at': datetime.datetime(2021, 6, 18, 14, 25, 17)},\n",
       " {'text': 'ここー\\n[Friends+]Treasure Hunt Island #VRCinHere 23:11:51',\n",
       "  'favourite_count': 0,\n",
       "  'retweet_count': 0,\n",
       "  'created_at': datetime.datetime(2021, 6, 18, 14, 9, 54)},\n",
       " {'text': 'Spread over five acres along the cruise port in Ocho Rios, this shopping center has around 30 duty-free shops selling souvenirs, clothing, sunglasses, Blue Mountain coffee, sauces, books, and Bob Marley memorabilia.  #walkthevillage #islandvillage https://t.co/htUz8w4wsu',\n",
       "  'favourite_count': 0,\n",
       "  'retweet_count': 0,\n",
       "  'created_at': datetime.datetime(2021, 6, 18, 14, 2, 10)},\n",
       " {'text': '@AlexaGagosz Understandably! haha\\n\\nIt’s very cool to see them have grown from a coffee truck to now have three locations. Love their drinks/food/service/vibes &amp; their seasonal Maple Sea Salt Latte from fall 2019 remains the best non-alcoholic coffee drink I’ve had in Rhode Island',\n",
       "  'favourite_count': 1,\n",
       "  'retweet_count': 0,\n",
       "  'created_at': datetime.datetime(2021, 6, 18, 13, 51, 15)},\n",
       " {'text': 'I showed up on time for my train to Fire Island with an iced coffee in hand. This is my biggest accomplishment since getting a master’s degree.',\n",
       "  'favourite_count': 45,\n",
       "  'retweet_count': 0,\n",
       "  'created_at': datetime.datetime(2021, 6, 18, 13, 20, 28)},\n",
       " {'text': \"@jessicahodlr DM use to reserve Satoshi's Selection coffee. its Bitcoin coffee from the enchanted island of Puerto Rico 🇵🇷☕️ Available in 2 weeks for shipping\",\n",
       "  'favourite_count': 0,\n",
       "  'retweet_count': 0,\n",
       "  'created_at': datetime.datetime(2021, 6, 18, 13, 18, 12)},\n",
       " {'text': \"Colourful handmade chocolates being boxed up from Arlene's Island Artisan Chocolate 🍫 😋\\n\\nAvailable here  ➡️ https://t.co/yT7USQMTcx https://t.co/BzsOiRjgoh\",\n",
       "  'favourite_count': 2,\n",
       "  'retweet_count': 0,\n",
       "  'created_at': datetime.datetime(2021, 6, 18, 12, 55, 2)},\n",
       " {'text': '90% of socializing in Rhode Island involves iced coffee',\n",
       "  'favourite_count': 2,\n",
       "  'retweet_count': 0,\n",
       "  'created_at': datetime.datetime(2021, 6, 18, 12, 52, 35)},\n",
       " {'text': 'ここー\\n[Friends+]Treasure Hunt Island #VRCinHere 21:37:10',\n",
       "  'favourite_count': 0,\n",
       "  'retweet_count': 0,\n",
       "  'created_at': datetime.datetime(2021, 6, 18, 12, 35, 14)},\n",
       " {'text': '@island_iverson This tweet made me spill hot coffee on my d region. Good stuff.',\n",
       "  'favourite_count': 0,\n",
       "  'retweet_count': 0,\n",
       "  'created_at': datetime.datetime(2021, 6, 18, 12, 24, 47)},\n",
       " {'text': 'RT @CatherineSher10: A statue of Hawaiian King Kamehameha the Great, Wailoa State Park in #Hilo #Hawaii on the Big Island. 🌺\\n#BigIsland #CL…',\n",
       "  'favourite_count': 0,\n",
       "  'retweet_count': 28,\n",
       "  'created_at': datetime.datetime(2021, 6, 18, 12, 24, 11)},\n",
       " {'text': 'RT @cathsherman: Afternoon at the Eighteenth Hole, Kiawah Island, South Carolina #KiawahIsland #Golf ⛳️🏌️  #SouthCarolina Clubhouse \\n#SOLD…',\n",
       "  'favourite_count': 0,\n",
       "  'retweet_count': 49,\n",
       "  'created_at': datetime.datetime(2021, 6, 18, 12, 24)},\n",
       " {'text': 'RT @cathsherman: Afternoon at the Eighteenth Hole, Kiawah Island, South Carolina #KiawahIsland #Golf ⛳️🏌️  #SouthCarolina Clubhouse \\n#SOLD…',\n",
       "  'favourite_count': 0,\n",
       "  'retweet_count': 49,\n",
       "  'created_at': datetime.datetime(2021, 6, 18, 12, 14, 57)},\n",
       " {'text': 'Good morning from Hilton Head Island, SC! Coffee and a great book by @JulieDiCaro on the balcony. https://t.co/Z8R2VdSubX',\n",
       "  'favourite_count': 6,\n",
       "  'retweet_count': 0,\n",
       "  'created_at': datetime.datetime(2021, 6, 18, 12, 9, 3)},\n",
       " {'text': '@LorinOnTV Found a great Long Island coffee company.\\nhttps://t.co/GMdMO6ndPv',\n",
       "  'favourite_count': 1,\n",
       "  'retweet_count': 0,\n",
       "  'created_at': datetime.datetime(2021, 6, 18, 11, 30, 46)},\n",
       " {'text': 'RT @visitcyprus: Morning coffee by the sea at charming locations, here, at your favourite island destination! Where are you having your cof…',\n",
       "  'favourite_count': 0,\n",
       "  'retweet_count': 24,\n",
       "  'created_at': datetime.datetime(2021, 6, 18, 11, 28, 50)},\n",
       " {'text': \"Here's your OTD trivia for 6/18... Join us tonight at Amelia Island Coffee, and have a great Friday! #trivia30 #wakeupyourbrain #OnThisDay #Monterey #California #JimiHendrix #JanisJoplin #TheWho #OtisRedding #USSR #FastAndFurious #Spain #CarolKane #KurtBrowning #BlakeShelton https://t.co/K6IMU3DNGy\",\n",
       "  'favourite_count': 0,\n",
       "  'retweet_count': 0,\n",
       "  'created_at': datetime.datetime(2021, 6, 18, 11, 10, 7)},\n",
       " {'text': 'Join us tonight for an evening of TRIVIA:30 at Amelia Island Coffee! The fun starts at 6:00... Free answer is *Ensenada* See you there! #whattimeisit #TRIVIA30 #wakeupyourbrain #trivia #fridaynight #AmeliaIsland #FernandinaBeach #LoveAmelia #Fernandina #trivia #fridayfun https://t.co/T2JENW0hlT',\n",
       "  'favourite_count': 0,\n",
       "  'retweet_count': 0,\n",
       "  'created_at': datetime.datetime(2021, 6, 18, 11, 5, 5)},\n",
       " {'text': \"Good Morning, I've got the coffee on for you.\",\n",
       "  'favourite_count': 0,\n",
       "  'retweet_count': 0,\n",
       "  'created_at': datetime.datetime(2021, 6, 18, 11, 0, 42)},\n",
       " {'text': 'RT @TheW0lfpup: Coffee island',\n",
       "  'favourite_count': 0,\n",
       "  'retweet_count': 20,\n",
       "  'created_at': datetime.datetime(2021, 6, 18, 10, 37, 3)},\n",
       " {'text': 'RT @GySgt2: @justmeagain34 Good morning my friend, it is 73 degrees here on Parris island,  the coffee is strong and black,  the spiders wh…',\n",
       "  'favourite_count': 0,\n",
       "  'retweet_count': 2,\n",
       "  'created_at': datetime.datetime(2021, 6, 18, 10, 29, 26)},\n",
       " {'text': '@justmeagain34 Good morning my friend, it is 73 degrees here on Parris island,  the coffee is strong and black,  the spiders where All over me this morning leaving my house I guess I am just going to have to get a flame thrower for the armory be fir I go home tonight, TGIF 😎',\n",
       "  'favourite_count': 7,\n",
       "  'retweet_count': 2,\n",
       "  'created_at': datetime.datetime(2021, 6, 18, 10, 15, 7)},\n",
       " {'text': '@mochis_island_ 👀👀👀 I’m watching tv and kissing coffee but I should be working',\n",
       "  'favourite_count': 1,\n",
       "  'retweet_count': 0,\n",
       "  'created_at': datetime.datetime(2021, 6, 18, 9, 47, 31)},\n",
       " {'text': '@SarkySage coffee followed by Russell Island tap water vintage 2021',\n",
       "  'favourite_count': 1,\n",
       "  'retweet_count': 0,\n",
       "  'created_at': datetime.datetime(2021, 6, 18, 8, 50, 14)},\n",
       " {'text': \"Bonjour! Let's make a sandwich to start a happy day!  Open the fridge, and grab two pieces of toasts.  Take ham as the protein, tomato and spinach as veggies.  Finally, add some thousand island dressing and cheddar cheese.  Have it with a cup of black coffee.  Enjoy your morning! https://t.co/lzew0c0HhG\",\n",
       "  'favourite_count': 0,\n",
       "  'retweet_count': 0,\n",
       "  'created_at': datetime.datetime(2021, 6, 18, 8, 20, 55)},\n",
       " {'text': 'Read Treasure Island and enjoy some kombucha out of a irish coffee glass.',\n",
       "  'favourite_count': 0,\n",
       "  'retweet_count': 0,\n",
       "  'created_at': datetime.datetime(2021, 6, 18, 8, 15, 39)},\n",
       " {'text': 'Magical island #Howth🏝☀️\\nView from #Blackrock #Dublin💙\\n\\nMorning dip &amp; coffee with pals 🏊🏻\\u200d♀️☕️\\n#Reset #VitaminSea💖\\n\\n \\u2066@janeconan\\u2069 \\u2066@TheGinaLondon\\u2069 https://t.co/LQd53AoUz4',\n",
       "  'favourite_count': 29,\n",
       "  'retweet_count': 0,\n",
       "  'created_at': datetime.datetime(2021, 6, 18, 7, 6, 5)},\n",
       " {'text': 'RT @TheW0lfpup: Coffee island',\n",
       "  'favourite_count': 0,\n",
       "  'retweet_count': 20,\n",
       "  'created_at': datetime.datetime(2021, 6, 18, 6, 47, 43)},\n",
       " {'text': 'RT @TheW0lfpup: Coffee island https://t.co/52WId63NXo',\n",
       "  'favourite_count': 0,\n",
       "  'retweet_count': 20,\n",
       "  'created_at': datetime.datetime(2021, 6, 18, 6, 39, 20)},\n",
       " {'text': 'RT @TheW0lfpup: Coffee island',\n",
       "  'favourite_count': 0,\n",
       "  'retweet_count': 20,\n",
       "  'created_at': datetime.datetime(2021, 6, 18, 6, 36, 32)},\n",
       " {'text': 'RT @TheW0lfpup: Coffee island',\n",
       "  'favourite_count': 0,\n",
       "  'retweet_count': 20,\n",
       "  'created_at': datetime.datetime(2021, 6, 18, 6, 17, 58)},\n",
       " {'text': 'RT @TheW0lfpup: Coffee island https://t.co/52WId63NXo',\n",
       "  'favourite_count': 0,\n",
       "  'retweet_count': 20,\n",
       "  'created_at': datetime.datetime(2021, 6, 18, 6, 15, 42)},\n",
       " {'text': 'RT @visitcyprus: Morning coffee by the sea at charming locations, here, at your favourite island destination! Where are you having your cof…',\n",
       "  'favourite_count': 0,\n",
       "  'retweet_count': 24,\n",
       "  'created_at': datetime.datetime(2021, 6, 18, 5, 37, 19)},\n",
       " {'text': 'RT @TheW0lfpup: Coffee island',\n",
       "  'favourite_count': 0,\n",
       "  'retweet_count': 20,\n",
       "  'created_at': datetime.datetime(2021, 6, 18, 4, 32, 7)},\n",
       " {'text': 'Coffee Island https://t.co/yM2zbp9hp3',\n",
       "  'favourite_count': 2,\n",
       "  'retweet_count': 0,\n",
       "  'created_at': datetime.datetime(2021, 6, 18, 4, 6, 35)},\n",
       " {'text': 'DDDaniel just supported @cretetravel on @buymeacoffee! 🎉\\n\\n@cretetravel is ... creating memorable experiences in lovely Crete Island! . You can support by buying a coffee ☕️ here — https://t.co/Qo8h8xTPAN',\n",
       "  'favourite_count': 1,\n",
       "  'retweet_count': 0,\n",
       "  'created_at': datetime.datetime(2021, 6, 18, 4, 2, 26)},\n",
       " {'text': 'RT @TheW0lfpup: Coffee island',\n",
       "  'favourite_count': 0,\n",
       "  'retweet_count': 20,\n",
       "  'created_at': datetime.datetime(2021, 6, 18, 3, 57, 17)},\n",
       " {'text': \"@SerpicoDet That's incredible! It would have been in Nanaimo, my family spoke very highly of you. If you ever end up on the island you're more than welcome over for coffee again. Thanks for confirming an old story!\",\n",
       "  'favourite_count': 3,\n",
       "  'retweet_count': 0,\n",
       "  'created_at': datetime.datetime(2021, 6, 18, 3, 55, 4)},\n",
       " {'text': 'RT @TheW0lfpup: Coffee island',\n",
       "  'favourite_count': 0,\n",
       "  'retweet_count': 20,\n",
       "  'created_at': datetime.datetime(2021, 6, 18, 3, 41, 52)},\n",
       " {'text': 'RT @visitcyprus: Morning coffee by the sea at charming locations, here, at your favourite island destination! Where are you having your cof…',\n",
       "  'favourite_count': 0,\n",
       "  'retweet_count': 24,\n",
       "  'created_at': datetime.datetime(2021, 6, 18, 3, 35, 29)},\n",
       " {'text': 'Read Treasure Island and drink some chilled kombucha from a irish coffee glass.',\n",
       "  'favourite_count': 0,\n",
       "  'retweet_count': 0,\n",
       "  'created_at': datetime.datetime(2021, 6, 18, 3, 26, 41)},\n",
       " {'text': '@ARlESVENUSX the coffee ice cream slander here is disturbing. i am here to say you would not survive in rhode island 🍦',\n",
       "  'favourite_count': 1,\n",
       "  'retweet_count': 0,\n",
       "  'created_at': datetime.datetime(2021, 6, 18, 1, 58, 12)},\n",
       " {'text': '\"She also loves to travel around the world and sip coffee along the way, so if we are ever able to connect in real life, I think we’d get along splendidly.\" 🌎☕️\\n\\nTruth, Dr. Hasty!🥰\\n\\nThanks for a fun #bookfeature with #IslandCharm from @PelicanBookGrp.📚\\n\\nhttps://t.co/EfOH61FEky',\n",
       "  'favourite_count': 5,\n",
       "  'retweet_count': 0,\n",
       "  'created_at': datetime.datetime(2021, 6, 18, 1, 40, 34)},\n",
       " {'text': \"RT @lizwadsworth65: @quinncy Exile and Duke, a used bookstore/cafe specializing in historical romances with unhappy endings. It's located i…\",\n",
       "  'favourite_count': 0,\n",
       "  'retweet_count': 1,\n",
       "  'created_at': datetime.datetime(2021, 6, 18, 1, 1, 30)},\n",
       " {'text': \"@quinncy Exile and Duke, a used bookstore/cafe specializing in historical romances with unhappy endings. It's located in a refurbished island prison in which all the cells are private reading rooms with French press coffee makers and complimentary macarons.\",\n",
       "  'favourite_count': 25,\n",
       "  'retweet_count': 1,\n",
       "  'created_at': datetime.datetime(2021, 6, 18, 0, 59, 47)},\n",
       " {'text': '@bananzers I wanna visit the big island and drink Kona coffee from the source 🤤',\n",
       "  'favourite_count': 2,\n",
       "  'retweet_count': 0,\n",
       "  'created_at': datetime.datetime(2021, 6, 18, 0, 17, 45)}]"
      ]
     },
     "metadata": {},
     "execution_count": 31
    }
   ],
   "source": [
    "output"
   ]
  },
  {
   "cell_type": "code",
   "execution_count": 32,
   "metadata": {},
   "outputs": [
    {
     "output_type": "execute_result",
     "data": {
      "text/plain": [
       "644"
      ]
     },
     "metadata": {},
     "execution_count": 32
    }
   ],
   "source": [
    "len(output)"
   ]
  },
  {
   "source": [
    "---\n",
    "### create pdf from list"
   ],
   "cell_type": "markdown",
   "metadata": {}
  },
  {
   "cell_type": "markdown",
   "metadata": {},
   "source": [
    "Finally, we convert the `output` list to a `pandas DataFrame` and we store results."
   ]
  },
  {
   "cell_type": "code",
   "execution_count": 33,
   "metadata": {},
   "outputs": [],
   "source": [
    "pdf_cof_island = pd.DataFrame(output)\n"
   ]
  },
  {
   "cell_type": "code",
   "execution_count": 34,
   "metadata": {},
   "outputs": [
    {
     "output_type": "execute_result",
     "data": {
      "text/plain": [
       "(644, 4)"
      ]
     },
     "metadata": {},
     "execution_count": 34
    }
   ],
   "source": [
    "pdf_cof_island.shape"
   ]
  },
  {
   "cell_type": "code",
   "execution_count": 35,
   "metadata": {},
   "outputs": [
    {
     "output_type": "execute_result",
     "data": {
      "text/plain": [
       "                                                text  favourite_count  \\\n",
       "0  Stop by the @nespressousa store after my docto...                0   \n",
       "1  RT @witch_mote: Legend has is that if you fini...                0   \n",
       "\n",
       "   retweet_count          created_at  \n",
       "0              0 2021-06-24 23:53:05  \n",
       "1            143 2021-06-24 23:48:56  "
      ],
      "text/html": "<div>\n<style scoped>\n    .dataframe tbody tr th:only-of-type {\n        vertical-align: middle;\n    }\n\n    .dataframe tbody tr th {\n        vertical-align: top;\n    }\n\n    .dataframe thead th {\n        text-align: right;\n    }\n</style>\n<table border=\"1\" class=\"dataframe\">\n  <thead>\n    <tr style=\"text-align: right;\">\n      <th></th>\n      <th>text</th>\n      <th>favourite_count</th>\n      <th>retweet_count</th>\n      <th>created_at</th>\n    </tr>\n  </thead>\n  <tbody>\n    <tr>\n      <th>0</th>\n      <td>Stop by the @nespressousa store after my docto...</td>\n      <td>0</td>\n      <td>0</td>\n      <td>2021-06-24 23:53:05</td>\n    </tr>\n    <tr>\n      <th>1</th>\n      <td>RT @witch_mote: Legend has is that if you fini...</td>\n      <td>0</td>\n      <td>143</td>\n      <td>2021-06-24 23:48:56</td>\n    </tr>\n  </tbody>\n</table>\n</div>"
     },
     "metadata": {},
     "execution_count": 35
    }
   ],
   "source": [
    "pdf_cof_island.head(2)"
   ]
  },
  {
   "cell_type": "code",
   "execution_count": 40,
   "metadata": {},
   "outputs": [
    {
     "output_type": "stream",
     "name": "stdout",
     "text": [
      "<class 'pandas.core.frame.DataFrame'>\nRangeIndex: 644 entries, 0 to 643\nData columns (total 4 columns):\n #   Column           Non-Null Count  Dtype         \n---  ------           --------------  -----         \n 0   text             644 non-null    object        \n 1   favourite_count  644 non-null    int64         \n 2   retweet_count    644 non-null    int64         \n 3   created_at       644 non-null    datetime64[ns]\ndtypes: datetime64[ns](1), int64(2), object(1)\nmemory usage: 20.2+ KB\n"
     ]
    }
   ],
   "source": [
    "pdf_cof_island.info()"
   ]
  },
  {
   "source": [
    "Selecting specific columns in a pandas dataframe"
   ],
   "cell_type": "markdown",
   "metadata": {}
  },
  {
   "cell_type": "code",
   "execution_count": 37,
   "metadata": {},
   "outputs": [
    {
     "output_type": "execute_result",
     "data": {
      "text/plain": [
       "                                                  text          created_at\n",
       "0    Stop by the @nespressousa store after my docto... 2021-06-24 23:53:05\n",
       "1    RT @witch_mote: Legend has is that if you fini... 2021-06-24 23:48:56\n",
       "2    RT @SafemoonWarrior: #SAFEMOON🕵🏻‍♂️ \\nCan some... 2021-06-24 23:45:59\n",
       "3    @orangepillpod @maxkeiser @stacyherbert DM us ... 2021-06-24 23:34:34\n",
       "4    RT @SafemoonWarrior: #SAFEMOON🕵🏻‍♂️ \\nCan some... 2021-06-24 23:24:31\n",
       "..                                                 ...                 ...\n",
       "639  @ARlESVENUSX the coffee ice cream slander here... 2021-06-18 01:58:12\n",
       "640  \"She also loves to travel around the world and... 2021-06-18 01:40:34\n",
       "641  RT @lizwadsworth65: @quinncy Exile and Duke, a... 2021-06-18 01:01:30\n",
       "642  @quinncy Exile and Duke, a used bookstore/cafe... 2021-06-18 00:59:47\n",
       "643  @bananzers I wanna visit the big island and dr... 2021-06-18 00:17:45\n",
       "\n",
       "[644 rows x 2 columns]"
      ],
      "text/html": "<div>\n<style scoped>\n    .dataframe tbody tr th:only-of-type {\n        vertical-align: middle;\n    }\n\n    .dataframe tbody tr th {\n        vertical-align: top;\n    }\n\n    .dataframe thead th {\n        text-align: right;\n    }\n</style>\n<table border=\"1\" class=\"dataframe\">\n  <thead>\n    <tr style=\"text-align: right;\">\n      <th></th>\n      <th>text</th>\n      <th>created_at</th>\n    </tr>\n  </thead>\n  <tbody>\n    <tr>\n      <th>0</th>\n      <td>Stop by the @nespressousa store after my docto...</td>\n      <td>2021-06-24 23:53:05</td>\n    </tr>\n    <tr>\n      <th>1</th>\n      <td>RT @witch_mote: Legend has is that if you fini...</td>\n      <td>2021-06-24 23:48:56</td>\n    </tr>\n    <tr>\n      <th>2</th>\n      <td>RT @SafemoonWarrior: #SAFEMOON🕵🏻‍♂️ \\nCan some...</td>\n      <td>2021-06-24 23:45:59</td>\n    </tr>\n    <tr>\n      <th>3</th>\n      <td>@orangepillpod @maxkeiser @stacyherbert DM us ...</td>\n      <td>2021-06-24 23:34:34</td>\n    </tr>\n    <tr>\n      <th>4</th>\n      <td>RT @SafemoonWarrior: #SAFEMOON🕵🏻‍♂️ \\nCan some...</td>\n      <td>2021-06-24 23:24:31</td>\n    </tr>\n    <tr>\n      <th>...</th>\n      <td>...</td>\n      <td>...</td>\n    </tr>\n    <tr>\n      <th>639</th>\n      <td>@ARlESVENUSX the coffee ice cream slander here...</td>\n      <td>2021-06-18 01:58:12</td>\n    </tr>\n    <tr>\n      <th>640</th>\n      <td>\"She also loves to travel around the world and...</td>\n      <td>2021-06-18 01:40:34</td>\n    </tr>\n    <tr>\n      <th>641</th>\n      <td>RT @lizwadsworth65: @quinncy Exile and Duke, a...</td>\n      <td>2021-06-18 01:01:30</td>\n    </tr>\n    <tr>\n      <th>642</th>\n      <td>@quinncy Exile and Duke, a used bookstore/cafe...</td>\n      <td>2021-06-18 00:59:47</td>\n    </tr>\n    <tr>\n      <th>643</th>\n      <td>@bananzers I wanna visit the big island and dr...</td>\n      <td>2021-06-18 00:17:45</td>\n    </tr>\n  </tbody>\n</table>\n<p>644 rows × 2 columns</p>\n</div>"
     },
     "metadata": {},
     "execution_count": 37
    }
   ],
   "source": [
    "pdf_cof_island[['text', 'created_at']]"
   ]
  },
  {
   "cell_type": "code",
   "execution_count": 39,
   "metadata": {},
   "outputs": [
    {
     "output_type": "execute_result",
     "data": {
      "text/plain": [
       "                                                                  text\n",
       "created_at                                                            \n",
       "2021-06-18 00:17:45  @bananzers I wanna visit the big island and dr...\n",
       "2021-06-18 00:59:47  @quinncy Exile and Duke, a used bookstore/cafe...\n",
       "2021-06-18 01:01:30  RT @lizwadsworth65: @quinncy Exile and Duke, a...\n",
       "2021-06-18 01:40:34  \"She also loves to travel around the world and...\n",
       "2021-06-18 01:58:12  @ARlESVENUSX the coffee ice cream slander here...\n",
       "...                                                                ...\n",
       "2021-06-24 23:24:31  RT @SafemoonWarrior: #SAFEMOON🕵🏻‍♂️ \\nCan some...\n",
       "2021-06-24 23:34:34  @orangepillpod @maxkeiser @stacyherbert DM us ...\n",
       "2021-06-24 23:45:59  RT @SafemoonWarrior: #SAFEMOON🕵🏻‍♂️ \\nCan some...\n",
       "2021-06-24 23:48:56  RT @witch_mote: Legend has is that if you fini...\n",
       "2021-06-24 23:53:05  Stop by the @nespressousa store after my docto...\n",
       "\n",
       "[641 rows x 1 columns]"
      ],
      "text/html": "<div>\n<style scoped>\n    .dataframe tbody tr th:only-of-type {\n        vertical-align: middle;\n    }\n\n    .dataframe tbody tr th {\n        vertical-align: top;\n    }\n\n    .dataframe thead th {\n        text-align: right;\n    }\n</style>\n<table border=\"1\" class=\"dataframe\">\n  <thead>\n    <tr style=\"text-align: right;\">\n      <th></th>\n      <th>text</th>\n    </tr>\n    <tr>\n      <th>created_at</th>\n      <th></th>\n    </tr>\n  </thead>\n  <tbody>\n    <tr>\n      <th>2021-06-18 00:17:45</th>\n      <td>@bananzers I wanna visit the big island and dr...</td>\n    </tr>\n    <tr>\n      <th>2021-06-18 00:59:47</th>\n      <td>@quinncy Exile and Duke, a used bookstore/cafe...</td>\n    </tr>\n    <tr>\n      <th>2021-06-18 01:01:30</th>\n      <td>RT @lizwadsworth65: @quinncy Exile and Duke, a...</td>\n    </tr>\n    <tr>\n      <th>2021-06-18 01:40:34</th>\n      <td>\"She also loves to travel around the world and...</td>\n    </tr>\n    <tr>\n      <th>2021-06-18 01:58:12</th>\n      <td>@ARlESVENUSX the coffee ice cream slander here...</td>\n    </tr>\n    <tr>\n      <th>...</th>\n      <td>...</td>\n    </tr>\n    <tr>\n      <th>2021-06-24 23:24:31</th>\n      <td>RT @SafemoonWarrior: #SAFEMOON🕵🏻‍♂️ \\nCan some...</td>\n    </tr>\n    <tr>\n      <th>2021-06-24 23:34:34</th>\n      <td>@orangepillpod @maxkeiser @stacyherbert DM us ...</td>\n    </tr>\n    <tr>\n      <th>2021-06-24 23:45:59</th>\n      <td>RT @SafemoonWarrior: #SAFEMOON🕵🏻‍♂️ \\nCan some...</td>\n    </tr>\n    <tr>\n      <th>2021-06-24 23:48:56</th>\n      <td>RT @witch_mote: Legend has is that if you fini...</td>\n    </tr>\n    <tr>\n      <th>2021-06-24 23:53:05</th>\n      <td>Stop by the @nespressousa store after my docto...</td>\n    </tr>\n  </tbody>\n</table>\n<p>641 rows × 1 columns</p>\n</div>"
     },
     "metadata": {},
     "execution_count": 39
    }
   ],
   "source": [
    "pdf_cof_island[['text', 'created_at']].groupby('created_at').first()"
   ]
  },
  {
   "source": [
    "---\n",
    "### save and read pdf without header"
   ],
   "cell_type": "markdown",
   "metadata": {}
  },
  {
   "cell_type": "code",
   "execution_count": 28,
   "metadata": {},
   "outputs": [],
   "source": [
    "pdf_cof_island.to_csv('output_cof_island.csv', mode='a', header = False, index = False )\n",
    "#df.to_csv('output.csv')"
   ]
  },
  {
   "cell_type": "code",
   "execution_count": 29,
   "metadata": {},
   "outputs": [
    {
     "output_type": "execute_result",
     "data": {
      "text/plain": [
       "                                                text  favourite_count  \\\n",
       "0                                               text  favourite_count   \n",
       "1  @breakfasttv I received the Astrazeneca vaccin...                0   \n",
       "2  #Pfizer\\n#AstraZeneca\\n#Moderna\\n#JohnsonAndJo...                3   \n",
       "3  RT @TimWattsMP: Can you believe this?\\n\\nThe M...                0   \n",
       "4  RT @DrEricDing: 5) One dose of the vaccine is ...                0   \n",
       "\n",
       "   retweet_count           created_at  \n",
       "0  retweet_count           created_at  \n",
       "1              0  2021-06-20 23:59:37  \n",
       "2              5  2021-06-20 23:59:33  \n",
       "3            212  2021-06-20 23:58:46  \n",
       "4            270  2021-06-20 23:57:54  "
      ],
      "text/html": "<div>\n<style scoped>\n    .dataframe tbody tr th:only-of-type {\n        vertical-align: middle;\n    }\n\n    .dataframe tbody tr th {\n        vertical-align: top;\n    }\n\n    .dataframe thead th {\n        text-align: right;\n    }\n</style>\n<table border=\"1\" class=\"dataframe\">\n  <thead>\n    <tr style=\"text-align: right;\">\n      <th></th>\n      <th>text</th>\n      <th>favourite_count</th>\n      <th>retweet_count</th>\n      <th>created_at</th>\n    </tr>\n  </thead>\n  <tbody>\n    <tr>\n      <th>0</th>\n      <td>text</td>\n      <td>favourite_count</td>\n      <td>retweet_count</td>\n      <td>created_at</td>\n    </tr>\n    <tr>\n      <th>1</th>\n      <td>@breakfasttv I received the Astrazeneca vaccin...</td>\n      <td>0</td>\n      <td>0</td>\n      <td>2021-06-20 23:59:37</td>\n    </tr>\n    <tr>\n      <th>2</th>\n      <td>#Pfizer\\n#AstraZeneca\\n#Moderna\\n#JohnsonAndJo...</td>\n      <td>3</td>\n      <td>5</td>\n      <td>2021-06-20 23:59:33</td>\n    </tr>\n    <tr>\n      <th>3</th>\n      <td>RT @TimWattsMP: Can you believe this?\\n\\nThe M...</td>\n      <td>0</td>\n      <td>212</td>\n      <td>2021-06-20 23:58:46</td>\n    </tr>\n    <tr>\n      <th>4</th>\n      <td>RT @DrEricDing: 5) One dose of the vaccine is ...</td>\n      <td>0</td>\n      <td>270</td>\n      <td>2021-06-20 23:57:54</td>\n    </tr>\n  </tbody>\n</table>\n</div>"
     },
     "metadata": {},
     "execution_count": 29
    }
   ],
   "source": [
    "pdf_cof_island = pd.read_csv('output3.csv', names=['text',\t'favourite_count',\t'retweet_count','created_at'], parse_dates=['created_at',])\n",
    "df2.head(5)"
   ]
  },
  {
   "cell_type": "code",
   "execution_count": 30,
   "metadata": {},
   "outputs": [
    {
     "output_type": "error",
     "ename": "TypeError",
     "evalue": "'tuple' object is not callable",
     "traceback": [
      "\u001b[0;31m---------------------------------------------------------------------------\u001b[0m",
      "\u001b[0;31mTypeError\u001b[0m                                 Traceback (most recent call last)",
      "\u001b[0;32m<ipython-input-30-7e9cd4b4d6a5>\u001b[0m in \u001b[0;36m<module>\u001b[0;34m\u001b[0m\n\u001b[1;32m      1\u001b[0m \u001b[0mpdf\u001b[0m\u001b[0;34m=\u001b[0m\u001b[0mdf2\u001b[0m\u001b[0;34m\u001b[0m\u001b[0;34m\u001b[0m\u001b[0m\n\u001b[1;32m      2\u001b[0m \u001b[0;34m\u001b[0m\u001b[0m\n\u001b[0;32m----> 3\u001b[0;31m \u001b[0mpdf\u001b[0m\u001b[0;34m.\u001b[0m\u001b[0mshape\u001b[0m\u001b[0;34m(\u001b[0m\u001b[0;34m)\u001b[0m\u001b[0;34m\u001b[0m\u001b[0;34m\u001b[0m\u001b[0m\n\u001b[0m",
      "\u001b[0;31mTypeError\u001b[0m: 'tuple' object is not callable"
     ]
    }
   ],
   "source": [
    "pdf=df2\n",
    "\n",
    "pdf.shape("
   ]
  },
  {
   "cell_type": "code",
   "execution_count": 31,
   "metadata": {},
   "outputs": [
    {
     "output_type": "execute_result",
     "data": {
      "text/plain": [
       "(13089, 4)"
      ]
     },
     "metadata": {},
     "execution_count": 31
    }
   ],
   "source": [
    "pdf_cof_island.shape"
   ]
  },
  {
   "source": [
    "---\n",
    "### save a pdf to a csv file with header"
   ],
   "cell_type": "markdown",
   "metadata": {}
  },
  {
   "cell_type": "code",
   "execution_count": 46,
   "metadata": {},
   "outputs": [],
   "source": [
    "#df = pd.DataFrame(output)\n",
    "pdf_cof_island.to_csv('output_cof_island.csv', mode='a', header=True, index = False)"
   ]
  },
  {
   "source": [
    "---\n",
    "# Create a pdf and a sdf from a csv file with header"
   ],
   "cell_type": "markdown",
   "metadata": {}
  },
  {
   "source": [
    "---\n",
    "### pdf"
   ],
   "cell_type": "markdown",
   "metadata": {}
  },
  {
   "cell_type": "code",
   "execution_count": 39,
   "metadata": {},
   "outputs": [
    {
     "output_type": "execute_result",
     "data": {
      "text/plain": [
       "                                                text  favourite_count  \\\n",
       "0  RT @NikosPachilas: Mikel και Coffee Island αντ...                0   \n",
       "1  RT @NikosPachilas: Mikel και Coffee Island αντ...                0   \n",
       "2  RT @RealTime_eu: Mikel και Coffee Island ανταγ...                0   \n",
       "3  RT @RealTime_eu: Mikel και Coffee Island ανταγ...                0   \n",
       "4  Mikel και Coffee Island ανταγωνίζονται στην αγ...                2   \n",
       "\n",
       "   retweet_count          created_at  \n",
       "0              2 2021-06-24 12:26:01  \n",
       "1              2 2021-06-24 12:20:35  \n",
       "2              2 2021-06-24 12:20:27  \n",
       "3              2 2021-06-24 12:19:07  \n",
       "4              2 2021-06-24 12:15:01  "
      ],
      "text/html": "<div>\n<style scoped>\n    .dataframe tbody tr th:only-of-type {\n        vertical-align: middle;\n    }\n\n    .dataframe tbody tr th {\n        vertical-align: top;\n    }\n\n    .dataframe thead th {\n        text-align: right;\n    }\n</style>\n<table border=\"1\" class=\"dataframe\">\n  <thead>\n    <tr style=\"text-align: right;\">\n      <th></th>\n      <th>text</th>\n      <th>favourite_count</th>\n      <th>retweet_count</th>\n      <th>created_at</th>\n    </tr>\n  </thead>\n  <tbody>\n    <tr>\n      <th>0</th>\n      <td>RT @NikosPachilas: Mikel και Coffee Island αντ...</td>\n      <td>0</td>\n      <td>2</td>\n      <td>2021-06-24 12:26:01</td>\n    </tr>\n    <tr>\n      <th>1</th>\n      <td>RT @NikosPachilas: Mikel και Coffee Island αντ...</td>\n      <td>0</td>\n      <td>2</td>\n      <td>2021-06-24 12:20:35</td>\n    </tr>\n    <tr>\n      <th>2</th>\n      <td>RT @RealTime_eu: Mikel και Coffee Island ανταγ...</td>\n      <td>0</td>\n      <td>2</td>\n      <td>2021-06-24 12:20:27</td>\n    </tr>\n    <tr>\n      <th>3</th>\n      <td>RT @RealTime_eu: Mikel και Coffee Island ανταγ...</td>\n      <td>0</td>\n      <td>2</td>\n      <td>2021-06-24 12:19:07</td>\n    </tr>\n    <tr>\n      <th>4</th>\n      <td>Mikel και Coffee Island ανταγωνίζονται στην αγ...</td>\n      <td>2</td>\n      <td>2</td>\n      <td>2021-06-24 12:15:01</td>\n    </tr>\n  </tbody>\n</table>\n</div>"
     },
     "metadata": {},
     "execution_count": 39
    }
   ],
   "source": [
    "pdf_cof_island2 = pd.read_csv('output_cof_island.csv', parse_dates=['created_at',])\n",
    "pdf_cof_island2.head(5)"
   ]
  },
  {
   "cell_type": "code",
   "execution_count": 23,
   "metadata": {},
   "outputs": [
    {
     "output_type": "execute_result",
     "data": {
      "text/plain": [
       "(14, 4)"
      ]
     },
     "metadata": {},
     "execution_count": 23
    }
   ],
   "source": [
    "pdf_cof_island2.shape"
   ]
  },
  {
   "cell_type": "code",
   "execution_count": 25,
   "metadata": {},
   "outputs": [
    {
     "output_type": "stream",
     "name": "stdout",
     "text": [
      "<class 'pandas.core.frame.DataFrame'>\nRangeIndex: 14 entries, 0 to 13\nData columns (total 4 columns):\n #   Column           Non-Null Count  Dtype         \n---  ------           --------------  -----         \n 0   text             14 non-null     object        \n 1   favourite_count  14 non-null     int64         \n 2   retweet_count    14 non-null     int64         \n 3   created_at       14 non-null     datetime64[ns]\ndtypes: datetime64[ns](1), int64(2), object(1)\nmemory usage: 576.0+ bytes\n"
     ]
    }
   ],
   "source": [
    "pdf_cof_island2.info()"
   ]
  },
  {
   "source": [
    "#### Convert a pdf datetime column to date"
   ],
   "cell_type": "markdown",
   "metadata": {}
  },
  {
   "cell_type": "code",
   "execution_count": 36,
   "metadata": {},
   "outputs": [],
   "source": [
    "pdf_cof_island2['created_at'] = pdf_cof_island2['created_at'].dt.date"
   ]
  },
  {
   "cell_type": "code",
   "execution_count": 37,
   "metadata": {},
   "outputs": [
    {
     "output_type": "stream",
     "name": "stdout",
     "text": [
      "<class 'pandas.core.frame.DataFrame'>\nRangeIndex: 14 entries, 0 to 13\nData columns (total 4 columns):\n #   Column           Non-Null Count  Dtype \n---  ------           --------------  ----- \n 0   text             14 non-null     object\n 1   favourite_count  14 non-null     int64 \n 2   retweet_count    14 non-null     int64 \n 3   created_at       14 non-null     object\ndtypes: int64(2), object(2)\nmemory usage: 576.0+ bytes\n"
     ]
    }
   ],
   "source": [
    "pdf_cof_island2.info()"
   ]
  },
  {
   "cell_type": "code",
   "execution_count": 38,
   "metadata": {},
   "outputs": [
    {
     "output_type": "execute_result",
     "data": {
      "text/plain": [
       "datetime.date(2021, 6, 24)"
      ]
     },
     "metadata": {},
     "execution_count": 38
    }
   ],
   "source": [
    "pdf_cof_island2['created_at'][0]"
   ]
  },
  {
   "cell_type": "code",
   "execution_count": 29,
   "metadata": {},
   "outputs": [],
   "source": [
    "# pdf_cof_island2 = pd.to_csv('output_cof_island.csv', date_format='%Y-%m-%d')\n",
    "# \n",
    "# pdf_cof_island2.head(5)"
   ]
  },
  {
   "cell_type": "code",
   "execution_count": 111,
   "metadata": {},
   "outputs": [
    {
     "output_type": "execute_result",
     "data": {
      "text/plain": [
       "       favourite_count  retweet_count  negative_nltk  positive_nltk  \\\n",
       "count      6510.000000    6510.000000    6510.000000    6510.000000   \n",
       "mean          1.997081     903.088172       0.047635       0.038732   \n",
       "std          54.727334    1714.038097       0.083419       0.070628   \n",
       "min           0.000000       0.000000       0.000000       0.000000   \n",
       "25%           0.000000       8.000000       0.000000       0.000000   \n",
       "50%           0.000000     200.000000       0.000000       0.000000   \n",
       "75%           0.000000    1307.000000       0.096000       0.073000   \n",
       "max        3482.000000   19068.000000       0.375000       0.526000   \n",
       "\n",
       "       neutral_nltk  compound_nltk  \n",
       "count   6510.000000    6510.000000  \n",
       "mean       0.913632      -0.021985  \n",
       "std        0.106266       0.358451  \n",
       "min        0.474000      -0.957800  \n",
       "25%        0.847000      -0.077200  \n",
       "50%        0.960500       0.000000  \n",
       "75%        1.000000       0.000000  \n",
       "max        1.000000       0.940200  "
      ],
      "text/html": "<div>\n<style scoped>\n    .dataframe tbody tr th:only-of-type {\n        vertical-align: middle;\n    }\n\n    .dataframe tbody tr th {\n        vertical-align: top;\n    }\n\n    .dataframe thead th {\n        text-align: right;\n    }\n</style>\n<table border=\"1\" class=\"dataframe\">\n  <thead>\n    <tr style=\"text-align: right;\">\n      <th></th>\n      <th>favourite_count</th>\n      <th>retweet_count</th>\n      <th>negative_nltk</th>\n      <th>positive_nltk</th>\n      <th>neutral_nltk</th>\n      <th>compound_nltk</th>\n    </tr>\n  </thead>\n  <tbody>\n    <tr>\n      <th>count</th>\n      <td>6510.000000</td>\n      <td>6510.000000</td>\n      <td>6510.000000</td>\n      <td>6510.000000</td>\n      <td>6510.000000</td>\n      <td>6510.000000</td>\n    </tr>\n    <tr>\n      <th>mean</th>\n      <td>1.997081</td>\n      <td>903.088172</td>\n      <td>0.047635</td>\n      <td>0.038732</td>\n      <td>0.913632</td>\n      <td>-0.021985</td>\n    </tr>\n    <tr>\n      <th>std</th>\n      <td>54.727334</td>\n      <td>1714.038097</td>\n      <td>0.083419</td>\n      <td>0.070628</td>\n      <td>0.106266</td>\n      <td>0.358451</td>\n    </tr>\n    <tr>\n      <th>min</th>\n      <td>0.000000</td>\n      <td>0.000000</td>\n      <td>0.000000</td>\n      <td>0.000000</td>\n      <td>0.474000</td>\n      <td>-0.957800</td>\n    </tr>\n    <tr>\n      <th>25%</th>\n      <td>0.000000</td>\n      <td>8.000000</td>\n      <td>0.000000</td>\n      <td>0.000000</td>\n      <td>0.847000</td>\n      <td>-0.077200</td>\n    </tr>\n    <tr>\n      <th>50%</th>\n      <td>0.000000</td>\n      <td>200.000000</td>\n      <td>0.000000</td>\n      <td>0.000000</td>\n      <td>0.960500</td>\n      <td>0.000000</td>\n    </tr>\n    <tr>\n      <th>75%</th>\n      <td>0.000000</td>\n      <td>1307.000000</td>\n      <td>0.096000</td>\n      <td>0.073000</td>\n      <td>1.000000</td>\n      <td>0.000000</td>\n    </tr>\n    <tr>\n      <th>max</th>\n      <td>3482.000000</td>\n      <td>19068.000000</td>\n      <td>0.375000</td>\n      <td>0.526000</td>\n      <td>1.000000</td>\n      <td>0.940200</td>\n    </tr>\n  </tbody>\n</table>\n</div>"
     },
     "metadata": {},
     "execution_count": 111
    }
   ],
   "source": [
    "pdf.describe()"
   ]
  },
  {
   "source": [
    "---\n",
    "## sdf"
   ],
   "cell_type": "markdown",
   "metadata": {}
  },
  {
   "cell_type": "code",
   "execution_count": 18,
   "metadata": {},
   "outputs": [],
   "source": [
    "# spark.read.csv(\n",
    "#     \"some_input_file.csv\", \n",
    "#     header=True, \n",
    "#     mode=\"DROPMALFORMED\", \n",
    "#     schema=schema\n",
    "# )\n",
    "\n",
    "# or\n",
    "\n",
    "# (\n",
    "#     spark.read\n",
    "#     .schema(schema)\n",
    "#     .option(\"header\", \"true\")\n",
    "#     .option(\"mode\", \"DROPMALFORMED\")\n",
    "#     .csv(\"some_input_file.csv\")\n",
    "# )\n",
    "\n",
    "from pyspark.sql.types import StructType, StructField\n",
    "from pyspark.sql.types import DoubleType, IntegerType, StringType, DateType\n",
    "\n",
    "schema = StructType([\n",
    "    StructField(\"text\", StringType()),\n",
    "    StructField(\"favourite_count\", IntegerType()),\n",
    "    StructField(\"retweet_count\", IntegerType()),\n",
    "    StructField(\"created_at\", DateType())\n",
    "])\n",
    "# https://datascience.stackexchange.com/questions/12727/reading-csvs-with-new-lines-in-fields-with-spark\n",
    "sdf = spark.read.csv('output3.csv',schema=schema,header=True, escape = '\"', multiLine=True)"
   ]
  },
  {
   "cell_type": "code",
   "execution_count": 19,
   "metadata": {},
   "outputs": [
    {
     "output_type": "stream",
     "name": "stdout",
     "text": [
      "root\n |-- text: string (nullable = true)\n |-- favourite_count: integer (nullable = true)\n |-- retweet_count: integer (nullable = true)\n |-- created_at: date (nullable = true)\n\n"
     ]
    }
   ],
   "source": [
    "type(sdf)\n",
    "# pyspark.sql.dataframe.DataFrame\n",
    "sdf.printSchema()"
   ]
  },
  {
   "cell_type": "code",
   "execution_count": 20,
   "metadata": {},
   "outputs": [
    {
     "output_type": "execute_result",
     "data": {
      "text/plain": [
       "6510"
      ]
     },
     "metadata": {},
     "execution_count": 20
    }
   ],
   "source": [
    "sdf.count() "
   ]
  },
  {
   "cell_type": "code",
   "execution_count": 21,
   "metadata": {},
   "outputs": [
    {
     "output_type": "execute_result",
     "data": {
      "text/plain": [
       "['text', 'favourite_count', 'retweet_count', 'created_at']"
      ]
     },
     "metadata": {},
     "execution_count": 21
    }
   ],
   "source": [
    "sdf.columns"
   ]
  },
  {
   "cell_type": "code",
   "execution_count": 22,
   "metadata": {},
   "outputs": [
    {
     "output_type": "execute_result",
     "data": {
      "text/plain": [
       "4"
      ]
     },
     "metadata": {},
     "execution_count": 22
    }
   ],
   "source": [
    "len(sdf.columns)"
   ]
  },
  {
   "cell_type": "code",
   "execution_count": null,
   "metadata": {},
   "outputs": [],
   "source": [
    "# Add this to the your code:\n",
    "\n",
    "import pyspark\n",
    "def spark_shape(self):\n",
    "    return (self.count(), len(self.columns))\n",
    "pyspark.sql.dataframe.DataFrame.shape = spark_shape\n",
    "# Then you can do\n",
    "\n",
    "# >>> df.shape()\n",
    "# (10000, 10)"
   ]
  },
  {
   "cell_type": "code",
   "execution_count": 23,
   "metadata": {},
   "outputs": [
    {
     "output_type": "execute_result",
     "data": {
      "text/plain": [
       "                                                text  favourite_count  \\\n",
       "0  @breakfasttv I received the Astrazeneca vaccin...                0   \n",
       "1  #Pfizer\\n#AstraZeneca\\n#Moderna\\n#JohnsonAndJo...                3   \n",
       "2  RT @TimWattsMP: Can you believe this?\\n\\nThe M...                0   \n",
       "3  RT @DrEricDing: 5) One dose of the vaccine is ...                0   \n",
       "4  RT @DrEricDing: 5) One dose of the vaccine is ...                0   \n",
       "\n",
       "   retweet_count  created_at  \n",
       "0              0  2021-06-20  \n",
       "1              5  2021-06-20  \n",
       "2            212  2021-06-20  \n",
       "3            270  2021-06-20  \n",
       "4            270  2021-06-20  "
      ],
      "text/html": "<div>\n<style scoped>\n    .dataframe tbody tr th:only-of-type {\n        vertical-align: middle;\n    }\n\n    .dataframe tbody tr th {\n        vertical-align: top;\n    }\n\n    .dataframe thead th {\n        text-align: right;\n    }\n</style>\n<table border=\"1\" class=\"dataframe\">\n  <thead>\n    <tr style=\"text-align: right;\">\n      <th></th>\n      <th>text</th>\n      <th>favourite_count</th>\n      <th>retweet_count</th>\n      <th>created_at</th>\n    </tr>\n  </thead>\n  <tbody>\n    <tr>\n      <th>0</th>\n      <td>@breakfasttv I received the Astrazeneca vaccin...</td>\n      <td>0</td>\n      <td>0</td>\n      <td>2021-06-20</td>\n    </tr>\n    <tr>\n      <th>1</th>\n      <td>#Pfizer\\n#AstraZeneca\\n#Moderna\\n#JohnsonAndJo...</td>\n      <td>3</td>\n      <td>5</td>\n      <td>2021-06-20</td>\n    </tr>\n    <tr>\n      <th>2</th>\n      <td>RT @TimWattsMP: Can you believe this?\\n\\nThe M...</td>\n      <td>0</td>\n      <td>212</td>\n      <td>2021-06-20</td>\n    </tr>\n    <tr>\n      <th>3</th>\n      <td>RT @DrEricDing: 5) One dose of the vaccine is ...</td>\n      <td>0</td>\n      <td>270</td>\n      <td>2021-06-20</td>\n    </tr>\n    <tr>\n      <th>4</th>\n      <td>RT @DrEricDing: 5) One dose of the vaccine is ...</td>\n      <td>0</td>\n      <td>270</td>\n      <td>2021-06-20</td>\n    </tr>\n  </tbody>\n</table>\n</div>"
     },
     "metadata": {},
     "execution_count": 23
    }
   ],
   "source": [
    "sdf.toPandas().head(5)"
   ]
  },
  {
   "cell_type": "code",
   "execution_count": 29,
   "metadata": {},
   "outputs": [
    {
     "output_type": "execute_result",
     "data": {
      "text/plain": [
       "(6510, 4)"
      ]
     },
     "metadata": {},
     "execution_count": 29
    }
   ],
   "source": [
    "s = sdf.toPandas()\n",
    "\n",
    "s.shape"
   ]
  },
  {
   "source": [
    "---\n",
    "### def sentiment_scores & sentiment_scoresUDF"
   ],
   "cell_type": "markdown",
   "metadata": {}
  },
  {
   "cell_type": "code",
   "execution_count": 30,
   "metadata": {},
   "outputs": [],
   "source": [
    "import sys\n",
    "from pyspark.sql.functions import udf\n",
    "# DoubleType, FloatType, ByteType, IntegerType, LongType, ShortType, ArrayType,StructField, StructType, Row\n",
    "from pyspark.sql.functions import pandas_udf, PandasUDFType\n",
    "import pyspark.sql.types as Types\n",
    "from nltk.sentiment.vader import SentimentIntensityAnalyzer\n",
    "\n",
    "\n",
    "\n",
    "def sentiment_scores(sentance: str) -> dict :\n",
    "    # Create a SentimentIntensityAnalyzer object.\n",
    "    sid = SentimentIntensityAnalyzer()\n",
    "    # polarity_scores method of SentimentIntensityAnalyzer\n",
    "    # oject gives a sentiment dictionary.\n",
    "    # which contains pos, neg, neu, and compound scores.\n",
    "    r = sid.polarity_scores(sentance);\n",
    "    return r\n",
    "    # You can optionally set the return type of your UDF. The default return type␣,→is StringType.\n",
    "    # udffactorial_p = udf(factorial_p, LongType())\n",
    "\n",
    "sentiment_scoresUDF = udf(sentiment_scores, Types.MapType(Types.StringType(),Types.DoubleType()))"
   ]
  },
  {
   "source": [
    "---\n",
    "### pdf"
   ],
   "cell_type": "markdown",
   "metadata": {}
  },
  {
   "source": [
    "#### create a new column with sentiment_scores"
   ],
   "cell_type": "markdown",
   "metadata": {}
  },
  {
   "cell_type": "code",
   "execution_count": 56,
   "metadata": {},
   "outputs": [],
   "source": [
    "#df3['rating'] = df3['text'].apply(sid.polarity_scores)\n",
    "\n",
    "pdf['rating'] = pdf['text'].apply(sentiment_scores)"
   ]
  },
  {
   "cell_type": "code",
   "execution_count": 57,
   "metadata": {},
   "outputs": [
    {
     "output_type": "execute_result",
     "data": {
      "text/plain": [
       "                                                text  favourite_count  \\\n",
       "0  @breakfasttv I received the Astrazeneca vaccin...                0   \n",
       "1  #Pfizer\\n#AstraZeneca\\n#Moderna\\n#JohnsonAndJo...                3   \n",
       "\n",
       "   retweet_count           created_at  \\\n",
       "0              0  2021-06-20 23:59:37   \n",
       "1              5  2021-06-20 23:59:33   \n",
       "\n",
       "                                              rating  \n",
       "0  {'neg': 0.049, 'neu': 0.752, 'pos': 0.199, 'co...  \n",
       "1  {'neg': 0.0, 'neu': 0.603, 'pos': 0.397, 'comp...  "
      ],
      "text/html": "<div>\n<style scoped>\n    .dataframe tbody tr th:only-of-type {\n        vertical-align: middle;\n    }\n\n    .dataframe tbody tr th {\n        vertical-align: top;\n    }\n\n    .dataframe thead th {\n        text-align: right;\n    }\n</style>\n<table border=\"1\" class=\"dataframe\">\n  <thead>\n    <tr style=\"text-align: right;\">\n      <th></th>\n      <th>text</th>\n      <th>favourite_count</th>\n      <th>retweet_count</th>\n      <th>created_at</th>\n      <th>rating</th>\n    </tr>\n  </thead>\n  <tbody>\n    <tr>\n      <th>0</th>\n      <td>@breakfasttv I received the Astrazeneca vaccin...</td>\n      <td>0</td>\n      <td>0</td>\n      <td>2021-06-20 23:59:37</td>\n      <td>{'neg': 0.049, 'neu': 0.752, 'pos': 0.199, 'co...</td>\n    </tr>\n    <tr>\n      <th>1</th>\n      <td>#Pfizer\\n#AstraZeneca\\n#Moderna\\n#JohnsonAndJo...</td>\n      <td>3</td>\n      <td>5</td>\n      <td>2021-06-20 23:59:33</td>\n      <td>{'neg': 0.0, 'neu': 0.603, 'pos': 0.397, 'comp...</td>\n    </tr>\n  </tbody>\n</table>\n</div>"
     },
     "metadata": {},
     "execution_count": 57
    }
   ],
   "source": [
    "pdf.head(2)"
   ]
  },
  {
   "cell_type": "code",
   "execution_count": 33,
   "metadata": {},
   "outputs": [
    {
     "output_type": "execute_result",
     "data": {
      "text/plain": [
       "                                                   text  favourite_count  \\\n",
       "6508  RT @JohnRHewson: For the record, how many of o...                0   \n",
       "6509  RT @DrEricDing: 3) “After years of reading res...                0   \n",
       "\n",
       "      retweet_count           created_at  \\\n",
       "6508            890  2021-06-19 00:00:27   \n",
       "6509             55  2021-06-19 00:00:08   \n",
       "\n",
       "                                                 rating  \n",
       "6508  {'neg': 0.0, 'neu': 1.0, 'pos': 0.0, 'compound...  \n",
       "6509  {'neg': 0.0, 'neu': 1.0, 'pos': 0.0, 'compound...  "
      ],
      "text/html": "<div>\n<style scoped>\n    .dataframe tbody tr th:only-of-type {\n        vertical-align: middle;\n    }\n\n    .dataframe tbody tr th {\n        vertical-align: top;\n    }\n\n    .dataframe thead th {\n        text-align: right;\n    }\n</style>\n<table border=\"1\" class=\"dataframe\">\n  <thead>\n    <tr style=\"text-align: right;\">\n      <th></th>\n      <th>text</th>\n      <th>favourite_count</th>\n      <th>retweet_count</th>\n      <th>created_at</th>\n      <th>rating</th>\n    </tr>\n  </thead>\n  <tbody>\n    <tr>\n      <th>6508</th>\n      <td>RT @JohnRHewson: For the record, how many of o...</td>\n      <td>0</td>\n      <td>890</td>\n      <td>2021-06-19 00:00:27</td>\n      <td>{'neg': 0.0, 'neu': 1.0, 'pos': 0.0, 'compound...</td>\n    </tr>\n    <tr>\n      <th>6509</th>\n      <td>RT @DrEricDing: 3) “After years of reading res...</td>\n      <td>0</td>\n      <td>55</td>\n      <td>2021-06-19 00:00:08</td>\n      <td>{'neg': 0.0, 'neu': 1.0, 'pos': 0.0, 'compound...</td>\n    </tr>\n  </tbody>\n</table>\n</div>"
     },
     "metadata": {},
     "execution_count": 33
    }
   ],
   "source": [
    "pdf.tail(2)"
   ]
  },
  {
   "cell_type": "code",
   "execution_count": 58,
   "metadata": {},
   "outputs": [
    {
     "output_type": "stream",
     "name": "stdout",
     "text": [
      "<class 'pandas.core.frame.DataFrame'>\nRangeIndex: 6510 entries, 0 to 6509\nData columns (total 5 columns):\n #   Column           Non-Null Count  Dtype \n---  ------           --------------  ----- \n 0   text             6510 non-null   object\n 1   favourite_count  6510 non-null   int64 \n 2   retweet_count    6510 non-null   int64 \n 3   created_at       6510 non-null   object\n 4   rating           6510 non-null   object\ndtypes: int64(2), object(3)\nmemory usage: 254.4+ KB\n"
     ]
    }
   ],
   "source": [
    "pdf.info()"
   ]
  },
  {
   "source": [
    "---\n",
    "### sdf\n",
    "\n",
    "create a new column with sentiment_scores"
   ],
   "cell_type": "markdown",
   "metadata": {}
  },
  {
   "cell_type": "code",
   "execution_count": 40,
   "metadata": {},
   "outputs": [
    {
     "output_type": "error",
     "ename": "NameError",
     "evalue": "name 'sdf' is not defined",
     "traceback": [
      "\u001b[0;31m---------------------------------------------------------------------------\u001b[0m",
      "\u001b[0;31mNameError\u001b[0m                                 Traceback (most recent call last)",
      "\u001b[0;32m<ipython-input-40-6e66acc4473f>\u001b[0m in \u001b[0;36m<module>\u001b[0;34m\u001b[0m\n\u001b[1;32m      1\u001b[0m \u001b[0;32mfrom\u001b[0m \u001b[0mpyspark\u001b[0m\u001b[0;34m.\u001b[0m\u001b[0msql\u001b[0m\u001b[0;34m.\u001b[0m\u001b[0mfunctions\u001b[0m \u001b[0;32mimport\u001b[0m \u001b[0mcol\u001b[0m\u001b[0;34m,\u001b[0m\u001b[0msqrt\u001b[0m\u001b[0;34m,\u001b[0m\u001b[0mlog\u001b[0m\u001b[0;34m,\u001b[0m\u001b[0mreverse\u001b[0m\u001b[0;34m\u001b[0m\u001b[0;34m\u001b[0m\u001b[0m\n\u001b[0;32m----> 2\u001b[0;31m \u001b[0msdf\u001b[0m \u001b[0;34m=\u001b[0m \u001b[0msdf\u001b[0m\u001b[0;34m.\u001b[0m\u001b[0mwithColumn\u001b[0m\u001b[0;34m(\u001b[0m\u001b[0;34m\"rating\"\u001b[0m\u001b[0;34m,\u001b[0m \u001b[0msentiment_scoresUDF\u001b[0m\u001b[0;34m(\u001b[0m\u001b[0msdf\u001b[0m\u001b[0;34m.\u001b[0m\u001b[0mtext\u001b[0m\u001b[0;34m)\u001b[0m\u001b[0;34m)\u001b[0m\u001b[0;34m\u001b[0m\u001b[0;34m\u001b[0m\u001b[0m\n\u001b[0m\u001b[1;32m      3\u001b[0m \u001b[0;31m# t.show()\u001b[0m\u001b[0;34m\u001b[0m\u001b[0;34m\u001b[0m\u001b[0;34m\u001b[0m\u001b[0m\n\u001b[1;32m      4\u001b[0m \u001b[0msdf\u001b[0m\u001b[0;34m.\u001b[0m\u001b[0mtoPandas\u001b[0m\u001b[0;34m(\u001b[0m\u001b[0;34m)\u001b[0m\u001b[0;34m.\u001b[0m\u001b[0mstyle\u001b[0m\u001b[0;34m.\u001b[0m\u001b[0mset_properties\u001b[0m\u001b[0;34m(\u001b[0m\u001b[0msubset\u001b[0m\u001b[0;34m=\u001b[0m\u001b[0;34m[\u001b[0m\u001b[0;34m'text'\u001b[0m\u001b[0;34m]\u001b[0m\u001b[0;34m,\u001b[0m \u001b[0;34m**\u001b[0m\u001b[0;34m{\u001b[0m\u001b[0;34m'width'\u001b[0m\u001b[0;34m:\u001b[0m \u001b[0;34m'300px'\u001b[0m\u001b[0;34m}\u001b[0m\u001b[0;34m)\u001b[0m\u001b[0;34m\u001b[0m\u001b[0;34m\u001b[0m\u001b[0m\n",
      "\u001b[0;31mNameError\u001b[0m: name 'sdf' is not defined"
     ]
    }
   ],
   "source": [
    "from pyspark.sql.functions import col,sqrt,log,reverse\n",
    "sdf = sdf.withColumn(\"rating\", sentiment_scoresUDF(sdf.text))\n",
    "# t.show()\n",
    "sdf.toPandas().style.set_properties(subset=['text'], **{'width': '300px'})"
   ]
  },
  {
   "cell_type": "code",
   "execution_count": 60,
   "metadata": {},
   "outputs": [
    {
     "output_type": "execute_result",
     "data": {
      "text/plain": [
       "<pandas.io.formats.style.Styler at 0x7f2a56ca5c10>"
      ],
      "text/html": "<style  type=\"text/css\" >\n#T_4dd40856_d459_11eb_b3b3_0800278e5397row0_col0,#T_4dd40856_d459_11eb_b3b3_0800278e5397row1_col0{\n            width:  300px;\n        }</style><table id=\"T_4dd40856_d459_11eb_b3b3_0800278e5397\" ><thead>    <tr>        <th class=\"blank level0\" ></th>        <th class=\"col_heading level0 col0\" >text</th>        <th class=\"col_heading level0 col1\" >favourite_count</th>        <th class=\"col_heading level0 col2\" >retweet_count</th>        <th class=\"col_heading level0 col3\" >created_at</th>        <th class=\"col_heading level0 col4\" >negative_nltk</th>        <th class=\"col_heading level0 col5\" >positive_nltk</th>        <th class=\"col_heading level0 col6\" >neutral_nltk</th>        <th class=\"col_heading level0 col7\" >compound_nltk</th>        <th class=\"col_heading level0 col8\" >rating</th>    </tr></thead><tbody>\n                <tr>\n                        <th id=\"T_4dd40856_d459_11eb_b3b3_0800278e5397level0_row0\" class=\"row_heading level0 row0\" >0</th>\n                        <td id=\"T_4dd40856_d459_11eb_b3b3_0800278e5397row0_col0\" class=\"data row0 col0\" >@breakfasttv I received the Astrazeneca vaccine on April 9th. No, I do not regret it! I look forward to getting the Pfizer vaccine on the 28th of this month. I feel confident we will be fully protected. Even if it is unconventional. 😊</td>\n                        <td id=\"T_4dd40856_d459_11eb_b3b3_0800278e5397row0_col1\" class=\"data row0 col1\" >0</td>\n                        <td id=\"T_4dd40856_d459_11eb_b3b3_0800278e5397row0_col2\" class=\"data row0 col2\" >0</td>\n                        <td id=\"T_4dd40856_d459_11eb_b3b3_0800278e5397row0_col3\" class=\"data row0 col3\" >2021-06-20</td>\n                        <td id=\"T_4dd40856_d459_11eb_b3b3_0800278e5397row0_col4\" class=\"data row0 col4\" >0.049000</td>\n                        <td id=\"T_4dd40856_d459_11eb_b3b3_0800278e5397row0_col5\" class=\"data row0 col5\" >0.199000</td>\n                        <td id=\"T_4dd40856_d459_11eb_b3b3_0800278e5397row0_col6\" class=\"data row0 col6\" >0.752000</td>\n                        <td id=\"T_4dd40856_d459_11eb_b3b3_0800278e5397row0_col7\" class=\"data row0 col7\" >0.779300</td>\n                        <td id=\"T_4dd40856_d459_11eb_b3b3_0800278e5397row0_col8\" class=\"data row0 col8\" >{'neg': 0.049, 'pos': 0.199, 'compound': 0.7793, 'neu': 0.752}</td>\n            </tr>\n            <tr>\n                        <th id=\"T_4dd40856_d459_11eb_b3b3_0800278e5397level0_row1\" class=\"row_heading level0 row1\" >1</th>\n                        <td id=\"T_4dd40856_d459_11eb_b3b3_0800278e5397row1_col0\" class=\"data row1 col0\" >#Pfizer\n#AstraZeneca\n#Moderna\n#JohnsonAndJohnson \n\nWhat's up !  Safe and effective !\n\n⬇️\n⬇️ https://t.co/fvw1H8cmXT</td>\n                        <td id=\"T_4dd40856_d459_11eb_b3b3_0800278e5397row1_col1\" class=\"data row1 col1\" >3</td>\n                        <td id=\"T_4dd40856_d459_11eb_b3b3_0800278e5397row1_col2\" class=\"data row1 col2\" >5</td>\n                        <td id=\"T_4dd40856_d459_11eb_b3b3_0800278e5397row1_col3\" class=\"data row1 col3\" >2021-06-20</td>\n                        <td id=\"T_4dd40856_d459_11eb_b3b3_0800278e5397row1_col4\" class=\"data row1 col4\" >0.000000</td>\n                        <td id=\"T_4dd40856_d459_11eb_b3b3_0800278e5397row1_col5\" class=\"data row1 col5\" >0.397000</td>\n                        <td id=\"T_4dd40856_d459_11eb_b3b3_0800278e5397row1_col6\" class=\"data row1 col6\" >0.603000</td>\n                        <td id=\"T_4dd40856_d459_11eb_b3b3_0800278e5397row1_col7\" class=\"data row1 col7\" >0.763900</td>\n                        <td id=\"T_4dd40856_d459_11eb_b3b3_0800278e5397row1_col8\" class=\"data row1 col8\" >{'neg': 0.0, 'pos': 0.397, 'compound': 0.7639, 'neu': 0.603}</td>\n            </tr>\n    </tbody></table>"
     },
     "metadata": {},
     "execution_count": 60
    }
   ],
   "source": [
    "sdf.toPandas().head(2).style.set_properties(subset=['text'], **{'width': '300px'})"
   ]
  },
  {
   "cell_type": "code",
   "execution_count": 61,
   "metadata": {},
   "outputs": [
    {
     "output_type": "execute_result",
     "data": {
      "text/plain": [
       "<pandas.io.formats.style.Styler at 0x7f2a4876bb90>"
      ],
      "text/html": "<style  type=\"text/css\" >\n#T_309f510e_d45a_11eb_b3b3_0800278e5397row0_col0,#T_309f510e_d45a_11eb_b3b3_0800278e5397row1_col0{\n            width:  300px;\n        }</style><table id=\"T_309f510e_d45a_11eb_b3b3_0800278e5397\" ><thead>    <tr>        <th class=\"blank level0\" ></th>        <th class=\"col_heading level0 col0\" >text</th>        <th class=\"col_heading level0 col1\" >favourite_count</th>        <th class=\"col_heading level0 col2\" >retweet_count</th>        <th class=\"col_heading level0 col3\" >created_at</th>        <th class=\"col_heading level0 col4\" >negative_nltk</th>        <th class=\"col_heading level0 col5\" >positive_nltk</th>        <th class=\"col_heading level0 col6\" >neutral_nltk</th>        <th class=\"col_heading level0 col7\" >compound_nltk</th>        <th class=\"col_heading level0 col8\" >rating</th>    </tr></thead><tbody>\n                <tr>\n                        <th id=\"T_309f510e_d45a_11eb_b3b3_0800278e5397level0_row0\" class=\"row_heading level0 row0\" >6508</th>\n                        <td id=\"T_309f510e_d45a_11eb_b3b3_0800278e5397row0_col0\" class=\"data row0 col0\" >RT @JohnRHewson: For the record, how many of our political leaders had Pfizer rather than AstraZeneca?</td>\n                        <td id=\"T_309f510e_d45a_11eb_b3b3_0800278e5397row0_col1\" class=\"data row0 col1\" >0</td>\n                        <td id=\"T_309f510e_d45a_11eb_b3b3_0800278e5397row0_col2\" class=\"data row0 col2\" >890</td>\n                        <td id=\"T_309f510e_d45a_11eb_b3b3_0800278e5397row0_col3\" class=\"data row0 col3\" >2021-06-19</td>\n                        <td id=\"T_309f510e_d45a_11eb_b3b3_0800278e5397row0_col4\" class=\"data row0 col4\" >0.000000</td>\n                        <td id=\"T_309f510e_d45a_11eb_b3b3_0800278e5397row0_col5\" class=\"data row0 col5\" >0.000000</td>\n                        <td id=\"T_309f510e_d45a_11eb_b3b3_0800278e5397row0_col6\" class=\"data row0 col6\" >1.000000</td>\n                        <td id=\"T_309f510e_d45a_11eb_b3b3_0800278e5397row0_col7\" class=\"data row0 col7\" >0.000000</td>\n                        <td id=\"T_309f510e_d45a_11eb_b3b3_0800278e5397row0_col8\" class=\"data row0 col8\" >{'neg': 0.0, 'pos': 0.0, 'compound': 0.0, 'neu': 1.0}</td>\n            </tr>\n            <tr>\n                        <th id=\"T_309f510e_d45a_11eb_b3b3_0800278e5397level0_row1\" class=\"row_heading level0 row1\" >6509</th>\n                        <td id=\"T_309f510e_d45a_11eb_b3b3_0800278e5397row1_col0\" class=\"data row1 col0\" >RT @DrEricDing: 3) “After years of reading research on mixing vaccine types -- known as heterologous prime-boosting -- Morgon concluded tha…</td>\n                        <td id=\"T_309f510e_d45a_11eb_b3b3_0800278e5397row1_col1\" class=\"data row1 col1\" >0</td>\n                        <td id=\"T_309f510e_d45a_11eb_b3b3_0800278e5397row1_col2\" class=\"data row1 col2\" >55</td>\n                        <td id=\"T_309f510e_d45a_11eb_b3b3_0800278e5397row1_col3\" class=\"data row1 col3\" >2021-06-19</td>\n                        <td id=\"T_309f510e_d45a_11eb_b3b3_0800278e5397row1_col4\" class=\"data row1 col4\" >0.000000</td>\n                        <td id=\"T_309f510e_d45a_11eb_b3b3_0800278e5397row1_col5\" class=\"data row1 col5\" >0.000000</td>\n                        <td id=\"T_309f510e_d45a_11eb_b3b3_0800278e5397row1_col6\" class=\"data row1 col6\" >1.000000</td>\n                        <td id=\"T_309f510e_d45a_11eb_b3b3_0800278e5397row1_col7\" class=\"data row1 col7\" >0.000000</td>\n                        <td id=\"T_309f510e_d45a_11eb_b3b3_0800278e5397row1_col8\" class=\"data row1 col8\" >{'neg': 0.0, 'pos': 0.0, 'compound': 0.0, 'neu': 1.0}</td>\n            </tr>\n    </tbody></table>"
     },
     "metadata": {},
     "execution_count": 61
    }
   ],
   "source": [
    "sdf.toPandas().tail(2).style.set_properties(subset=['text'], **{'width': '300px'})"
   ]
  },
  {
   "cell_type": "code",
   "execution_count": 62,
   "metadata": {},
   "outputs": [
    {
     "output_type": "stream",
     "name": "stdout",
     "text": [
      "+------------------------------+---------------+-------------+----------+-------------+-------------+------------+-------------+------------------------------+\n|                          text|favourite_count|retweet_count|created_at|negative_nltk|positive_nltk|neutral_nltk|compound_nltk|                        rating|\n+------------------------------+---------------+-------------+----------+-------------+-------------+------------+-------------+------------------------------+\n|@breakfasttv I received the...|              0|            0|2021-06-20|        0.049|        0.199|       0.752|       0.7793|[neg -> 0.049, pos -> 0.199...|\n|#Pfizer\n#AstraZeneca\n#Moder...|              3|            5|2021-06-20|          0.0|        0.397|       0.603|       0.7639|[neg -> 0.0, pos -> 0.397, ...|\n+------------------------------+---------------+-------------+----------+-------------+-------------+------------+-------------+------------------------------+\nonly showing top 2 rows\n\n"
     ]
    }
   ],
   "source": [
    "sdf.show(2, truncate = 30)"
   ]
  },
  {
   "cell_type": "code",
   "execution_count": 49,
   "metadata": {},
   "outputs": [
    {
     "output_type": "execute_result",
     "data": {
      "text/plain": [
       "[Row(text='@breakfasttv I received the Astrazeneca vaccine on April 9th. No, I do not regret it! I look forward to getting the Pfizer vaccine on the 28th of this month. I feel confident we will be fully protected. Even if it is unconventional. 😊', favourite_count=0, retweet_count=0, created_at=datetime.date(2021, 6, 20), rating={'neg': 0.049, 'pos': 0.199, 'compound': 0.7793, 'neu': 0.752}),\n",
       " Row(text=\"#Pfizer\\n#AstraZeneca\\n#Moderna\\n#JohnsonAndJohnson \\n\\nWhat's up !  Safe and effective !\\n\\n⬇️\\n⬇️ https://t.co/fvw1H8cmXT\", favourite_count=3, retweet_count=5, created_at=datetime.date(2021, 6, 20), rating={'neg': 0.0, 'pos': 0.397, 'compound': 0.7639, 'neu': 0.603})]"
      ]
     },
     "metadata": {},
     "execution_count": 49
    }
   ],
   "source": [
    "# Returns the first num rows as a list of Row.\n",
    "# This method should only be used if the resulting array is expected to be small, as all the data is loaded into the driver’s memory.\n",
    "sdf.head(2)"
   ]
  },
  {
   "cell_type": "code",
   "execution_count": 50,
   "metadata": {},
   "outputs": [
    {
     "output_type": "execute_result",
     "data": {
      "text/plain": [
       "[Row(text='RT @JohnRHewson: For the record, how many of our political leaders had Pfizer rather than AstraZeneca?', favourite_count=0, retweet_count=890, created_at=datetime.date(2021, 6, 19), rating={'neg': 0.0, 'pos': 0.0, 'compound': 0.0, 'neu': 1.0}),\n",
       " Row(text='RT @DrEricDing: 3) “After years of reading research on mixing vaccine types -- known as heterologous prime-boosting -- Morgon concluded tha…', favourite_count=0, retweet_count=55, created_at=datetime.date(2021, 6, 19), rating={'neg': 0.0, 'pos': 0.0, 'compound': 0.0, 'neu': 1.0})]"
      ]
     },
     "metadata": {},
     "execution_count": 50
    }
   ],
   "source": [
    "# Returns the last num rows as a list of Row.\n",
    "sdf.tail(2)"
   ]
  },
  {
   "cell_type": "code",
   "execution_count": 63,
   "metadata": {},
   "outputs": [
    {
     "output_type": "stream",
     "name": "stdout",
     "text": [
      "root\n |-- text: string (nullable = true)\n |-- favourite_count: integer (nullable = true)\n |-- retweet_count: integer (nullable = true)\n |-- created_at: date (nullable = true)\n |-- negative_nltk: double (nullable = true)\n |-- positive_nltk: double (nullable = true)\n |-- neutral_nltk: double (nullable = true)\n |-- compound_nltk: double (nullable = true)\n |-- rating: map (nullable = true)\n |    |-- key: string\n |    |-- value: double (valueContainsNull = true)\n\n"
     ]
    }
   ],
   "source": [
    "sdf.printSchema()"
   ]
  },
  {
   "cell_type": "code",
   "execution_count": 64,
   "metadata": {},
   "outputs": [],
   "source": [
    " from pyspark.sql.functions import col \n",
    "\n",
    " sdf = sdf.withColumn('negative_nltk', col('rating')['neg']) \\\n",
    ".withColumn('positive_nltk', col('rating')['pos']) \\\n",
    ".withColumn('neutral_nltk', col('rating')['neu']) \\\n",
    ".withColumn('compound_nltk',col('rating')['compound']) \\\n",
    ".drop('rating')\n"
   ]
  },
  {
   "cell_type": "code",
   "execution_count": 65,
   "metadata": {},
   "outputs": [
    {
     "output_type": "execute_result",
     "data": {
      "text/plain": [
       "<pandas.io.formats.style.Styler at 0x7f2a4d28b0d0>"
      ],
      "text/html": "<style  type=\"text/css\" >\n#T_ae6c3844_d45b_11eb_b3b3_0800278e5397row0_col0,#T_ae6c3844_d45b_11eb_b3b3_0800278e5397row1_col0{\n            width:  300px;\n        }</style><table id=\"T_ae6c3844_d45b_11eb_b3b3_0800278e5397\" ><thead>    <tr>        <th class=\"blank level0\" ></th>        <th class=\"col_heading level0 col0\" >text</th>        <th class=\"col_heading level0 col1\" >favourite_count</th>        <th class=\"col_heading level0 col2\" >retweet_count</th>        <th class=\"col_heading level0 col3\" >created_at</th>        <th class=\"col_heading level0 col4\" >negative_nltk</th>        <th class=\"col_heading level0 col5\" >positive_nltk</th>        <th class=\"col_heading level0 col6\" >neutral_nltk</th>        <th class=\"col_heading level0 col7\" >compound_nltk</th>    </tr></thead><tbody>\n                <tr>\n                        <th id=\"T_ae6c3844_d45b_11eb_b3b3_0800278e5397level0_row0\" class=\"row_heading level0 row0\" >0</th>\n                        <td id=\"T_ae6c3844_d45b_11eb_b3b3_0800278e5397row0_col0\" class=\"data row0 col0\" >@breakfasttv I received the Astrazeneca vaccine on April 9th. No, I do not regret it! I look forward to getting the Pfizer vaccine on the 28th of this month. I feel confident we will be fully protected. Even if it is unconventional. 😊</td>\n                        <td id=\"T_ae6c3844_d45b_11eb_b3b3_0800278e5397row0_col1\" class=\"data row0 col1\" >0</td>\n                        <td id=\"T_ae6c3844_d45b_11eb_b3b3_0800278e5397row0_col2\" class=\"data row0 col2\" >0</td>\n                        <td id=\"T_ae6c3844_d45b_11eb_b3b3_0800278e5397row0_col3\" class=\"data row0 col3\" >2021-06-20</td>\n                        <td id=\"T_ae6c3844_d45b_11eb_b3b3_0800278e5397row0_col4\" class=\"data row0 col4\" >0.049000</td>\n                        <td id=\"T_ae6c3844_d45b_11eb_b3b3_0800278e5397row0_col5\" class=\"data row0 col5\" >0.199000</td>\n                        <td id=\"T_ae6c3844_d45b_11eb_b3b3_0800278e5397row0_col6\" class=\"data row0 col6\" >0.752000</td>\n                        <td id=\"T_ae6c3844_d45b_11eb_b3b3_0800278e5397row0_col7\" class=\"data row0 col7\" >0.779300</td>\n            </tr>\n            <tr>\n                        <th id=\"T_ae6c3844_d45b_11eb_b3b3_0800278e5397level0_row1\" class=\"row_heading level0 row1\" >1</th>\n                        <td id=\"T_ae6c3844_d45b_11eb_b3b3_0800278e5397row1_col0\" class=\"data row1 col0\" >#Pfizer\n#AstraZeneca\n#Moderna\n#JohnsonAndJohnson \n\nWhat's up !  Safe and effective !\n\n⬇️\n⬇️ https://t.co/fvw1H8cmXT</td>\n                        <td id=\"T_ae6c3844_d45b_11eb_b3b3_0800278e5397row1_col1\" class=\"data row1 col1\" >3</td>\n                        <td id=\"T_ae6c3844_d45b_11eb_b3b3_0800278e5397row1_col2\" class=\"data row1 col2\" >5</td>\n                        <td id=\"T_ae6c3844_d45b_11eb_b3b3_0800278e5397row1_col3\" class=\"data row1 col3\" >2021-06-20</td>\n                        <td id=\"T_ae6c3844_d45b_11eb_b3b3_0800278e5397row1_col4\" class=\"data row1 col4\" >0.000000</td>\n                        <td id=\"T_ae6c3844_d45b_11eb_b3b3_0800278e5397row1_col5\" class=\"data row1 col5\" >0.397000</td>\n                        <td id=\"T_ae6c3844_d45b_11eb_b3b3_0800278e5397row1_col6\" class=\"data row1 col6\" >0.603000</td>\n                        <td id=\"T_ae6c3844_d45b_11eb_b3b3_0800278e5397row1_col7\" class=\"data row1 col7\" >0.763900</td>\n            </tr>\n    </tbody></table>"
     },
     "metadata": {},
     "execution_count": 65
    }
   ],
   "source": [
    "sdf.toPandas().head(2).style.set_properties(subset=['text'], **{'width': '300px'})"
   ]
  },
  {
   "cell_type": "code",
   "execution_count": 66,
   "metadata": {},
   "outputs": [
    {
     "output_type": "execute_result",
     "data": {
      "text/plain": [
       "<pandas.io.formats.style.Styler at 0x7f2a4d305750>"
      ],
      "text/html": "<style  type=\"text/css\" >\n#T_ebd5efbc_d45c_11eb_b3b3_0800278e5397row0_col0,#T_ebd5efbc_d45c_11eb_b3b3_0800278e5397row1_col0{\n            width:  300px;\n        }</style><table id=\"T_ebd5efbc_d45c_11eb_b3b3_0800278e5397\" ><thead>    <tr>        <th class=\"blank level0\" ></th>        <th class=\"col_heading level0 col0\" >text</th>        <th class=\"col_heading level0 col1\" >favourite_count</th>        <th class=\"col_heading level0 col2\" >retweet_count</th>        <th class=\"col_heading level0 col3\" >created_at</th>        <th class=\"col_heading level0 col4\" >negative_nltk</th>        <th class=\"col_heading level0 col5\" >positive_nltk</th>        <th class=\"col_heading level0 col6\" >neutral_nltk</th>        <th class=\"col_heading level0 col7\" >compound_nltk</th>    </tr></thead><tbody>\n                <tr>\n                        <th id=\"T_ebd5efbc_d45c_11eb_b3b3_0800278e5397level0_row0\" class=\"row_heading level0 row0\" >6508</th>\n                        <td id=\"T_ebd5efbc_d45c_11eb_b3b3_0800278e5397row0_col0\" class=\"data row0 col0\" >RT @JohnRHewson: For the record, how many of our political leaders had Pfizer rather than AstraZeneca?</td>\n                        <td id=\"T_ebd5efbc_d45c_11eb_b3b3_0800278e5397row0_col1\" class=\"data row0 col1\" >0</td>\n                        <td id=\"T_ebd5efbc_d45c_11eb_b3b3_0800278e5397row0_col2\" class=\"data row0 col2\" >890</td>\n                        <td id=\"T_ebd5efbc_d45c_11eb_b3b3_0800278e5397row0_col3\" class=\"data row0 col3\" >2021-06-19</td>\n                        <td id=\"T_ebd5efbc_d45c_11eb_b3b3_0800278e5397row0_col4\" class=\"data row0 col4\" >0.000000</td>\n                        <td id=\"T_ebd5efbc_d45c_11eb_b3b3_0800278e5397row0_col5\" class=\"data row0 col5\" >0.000000</td>\n                        <td id=\"T_ebd5efbc_d45c_11eb_b3b3_0800278e5397row0_col6\" class=\"data row0 col6\" >1.000000</td>\n                        <td id=\"T_ebd5efbc_d45c_11eb_b3b3_0800278e5397row0_col7\" class=\"data row0 col7\" >0.000000</td>\n            </tr>\n            <tr>\n                        <th id=\"T_ebd5efbc_d45c_11eb_b3b3_0800278e5397level0_row1\" class=\"row_heading level0 row1\" >6509</th>\n                        <td id=\"T_ebd5efbc_d45c_11eb_b3b3_0800278e5397row1_col0\" class=\"data row1 col0\" >RT @DrEricDing: 3) “After years of reading research on mixing vaccine types -- known as heterologous prime-boosting -- Morgon concluded tha…</td>\n                        <td id=\"T_ebd5efbc_d45c_11eb_b3b3_0800278e5397row1_col1\" class=\"data row1 col1\" >0</td>\n                        <td id=\"T_ebd5efbc_d45c_11eb_b3b3_0800278e5397row1_col2\" class=\"data row1 col2\" >55</td>\n                        <td id=\"T_ebd5efbc_d45c_11eb_b3b3_0800278e5397row1_col3\" class=\"data row1 col3\" >2021-06-19</td>\n                        <td id=\"T_ebd5efbc_d45c_11eb_b3b3_0800278e5397row1_col4\" class=\"data row1 col4\" >0.000000</td>\n                        <td id=\"T_ebd5efbc_d45c_11eb_b3b3_0800278e5397row1_col5\" class=\"data row1 col5\" >0.000000</td>\n                        <td id=\"T_ebd5efbc_d45c_11eb_b3b3_0800278e5397row1_col6\" class=\"data row1 col6\" >1.000000</td>\n                        <td id=\"T_ebd5efbc_d45c_11eb_b3b3_0800278e5397row1_col7\" class=\"data row1 col7\" >0.000000</td>\n            </tr>\n    </tbody></table>"
     },
     "metadata": {},
     "execution_count": 66
    }
   ],
   "source": [
    "sdf.toPandas().tail(2).style.set_properties(subset=['text'], **{'width': '300px'})"
   ]
  },
  {
   "cell_type": "code",
   "execution_count": 228,
   "metadata": {},
   "outputs": [
    {
     "output_type": "stream",
     "name": "stdout",
     "text": [
      "+--------------------+---------------+-------------+----------+-------------+-------------+------------+-------------+\n|                text|favourite_count|retweet_count|created_at|negative_nltk|positive_nltk|neutral_nltk|compound_nltk|\n+--------------------+---------------+-------------+----------+-------------+-------------+------------+-------------+\n|RT @JohnRHewson: ...|              0|          890|2021-06-19|          0.0|          0.0|         1.0|          0.0|\n|RT @DrEricDing: 3...|              0|           55|2021-06-19|          0.0|          0.0|         1.0|          0.0|\n+--------------------+---------------+-------------+----------+-------------+-------------+------------+-------------+\n\n"
     ]
    }
   ],
   "source": [
    "sdf_from_list_of_rows = spark.createDataFrame(sdf.tail(2))\n",
    "\n",
    "sdf_from_list_of_rows.show()"
   ]
  },
  {
   "cell_type": "code",
   "execution_count": 229,
   "metadata": {},
   "outputs": [
    {
     "output_type": "stream",
     "name": "stdout",
     "text": [
      "+--------------------+---------------+-------------+----------+-------------+-------------+------------+-------------+\n|                text|favourite_count|retweet_count|created_at|negative_nltk|positive_nltk|neutral_nltk|compound_nltk|\n+--------------------+---------------+-------------+----------+-------------+-------------+------------+-------------+\n|RT @JohnRHewson: ...|              0|          890|2021-06-19|          0.0|          0.0|         1.0|          0.0|\n|RT @DrEricDing: 3...|              0|           55|2021-06-19|          0.0|          0.0|         1.0|          0.0|\n+--------------------+---------------+-------------+----------+-------------+-------------+------------+-------------+\n\n"
     ]
    }
   ],
   "source": [
    "sdf_from_pdf = spark.createDataFrame(pdf)\n",
    "\n",
    "sdf_from_list_of_rows.show(2)"
   ]
  },
  {
   "source": [
    "https://stackoverflow.com/questions/61608057/output-vader-sentiment-scores-in-columns-based-on-dataframe-rows-of-tweets"
   ],
   "cell_type": "markdown",
   "metadata": {}
  },
  {
   "source": [
    "---"
   ],
   "cell_type": "markdown",
   "metadata": {}
  },
  {
   "cell_type": "code",
   "execution_count": 67,
   "metadata": {},
   "outputs": [
    {
     "output_type": "execute_result",
     "data": {
      "text/plain": [
       "                                                   text  favourite_count  \\\n",
       "0     @breakfasttv I received the Astrazeneca vaccin...                0   \n",
       "1     #Pfizer\\n#AstraZeneca\\n#Moderna\\n#JohnsonAndJo...                3   \n",
       "2     RT @TimWattsMP: Can you believe this?\\n\\nThe M...                0   \n",
       "3     RT @DrEricDing: 5) One dose of the vaccine is ...                0   \n",
       "4     RT @DrEricDing: 5) One dose of the vaccine is ...                0   \n",
       "...                                                 ...              ...   \n",
       "6505  @Fab485617452 @JohnRHewson I'm 73 and my wife ...                6   \n",
       "6506  RT @kyle_minogue: @bjornradstrom Pfizer - 12-1...                0   \n",
       "6507  RT @JohnRHewson: For the record, how many of o...                0   \n",
       "6508  RT @JohnRHewson: For the record, how many of o...                0   \n",
       "6509  RT @DrEricDing: 3) “After years of reading res...                0   \n",
       "\n",
       "      retweet_count           created_at  \\\n",
       "0                 0  2021-06-20 23:59:37   \n",
       "1                 5  2021-06-20 23:59:33   \n",
       "2               212  2021-06-20 23:58:46   \n",
       "3               270  2021-06-20 23:57:54   \n",
       "4               270  2021-06-20 23:56:29   \n",
       "...             ...                  ...   \n",
       "6505              0  2021-06-19 00:02:33   \n",
       "6506              2  2021-06-19 00:02:21   \n",
       "6507            890  2021-06-19 00:01:32   \n",
       "6508            890  2021-06-19 00:00:27   \n",
       "6509             55  2021-06-19 00:00:08   \n",
       "\n",
       "                                                 rating  \n",
       "0     {'neg': 0.049, 'neu': 0.752, 'pos': 0.199, 'co...  \n",
       "1     {'neg': 0.0, 'neu': 0.603, 'pos': 0.397, 'comp...  \n",
       "2     {'neg': 0.124, 'neu': 0.876, 'pos': 0.0, 'comp...  \n",
       "3     {'neg': 0.0, 'neu': 1.0, 'pos': 0.0, 'compound...  \n",
       "4     {'neg': 0.0, 'neu': 1.0, 'pos': 0.0, 'compound...  \n",
       "...                                                 ...  \n",
       "6505  {'neg': 0.0, 'neu': 0.927, 'pos': 0.073, 'comp...  \n",
       "6506  {'neg': 0.0, 'neu': 1.0, 'pos': 0.0, 'compound...  \n",
       "6507  {'neg': 0.0, 'neu': 1.0, 'pos': 0.0, 'compound...  \n",
       "6508  {'neg': 0.0, 'neu': 1.0, 'pos': 0.0, 'compound...  \n",
       "6509  {'neg': 0.0, 'neu': 1.0, 'pos': 0.0, 'compound...  \n",
       "\n",
       "[6510 rows x 5 columns]"
      ],
      "text/html": "<div>\n<style scoped>\n    .dataframe tbody tr th:only-of-type {\n        vertical-align: middle;\n    }\n\n    .dataframe tbody tr th {\n        vertical-align: top;\n    }\n\n    .dataframe thead th {\n        text-align: right;\n    }\n</style>\n<table border=\"1\" class=\"dataframe\">\n  <thead>\n    <tr style=\"text-align: right;\">\n      <th></th>\n      <th>text</th>\n      <th>favourite_count</th>\n      <th>retweet_count</th>\n      <th>created_at</th>\n      <th>rating</th>\n    </tr>\n  </thead>\n  <tbody>\n    <tr>\n      <th>0</th>\n      <td>@breakfasttv I received the Astrazeneca vaccin...</td>\n      <td>0</td>\n      <td>0</td>\n      <td>2021-06-20 23:59:37</td>\n      <td>{'neg': 0.049, 'neu': 0.752, 'pos': 0.199, 'co...</td>\n    </tr>\n    <tr>\n      <th>1</th>\n      <td>#Pfizer\\n#AstraZeneca\\n#Moderna\\n#JohnsonAndJo...</td>\n      <td>3</td>\n      <td>5</td>\n      <td>2021-06-20 23:59:33</td>\n      <td>{'neg': 0.0, 'neu': 0.603, 'pos': 0.397, 'comp...</td>\n    </tr>\n    <tr>\n      <th>2</th>\n      <td>RT @TimWattsMP: Can you believe this?\\n\\nThe M...</td>\n      <td>0</td>\n      <td>212</td>\n      <td>2021-06-20 23:58:46</td>\n      <td>{'neg': 0.124, 'neu': 0.876, 'pos': 0.0, 'comp...</td>\n    </tr>\n    <tr>\n      <th>3</th>\n      <td>RT @DrEricDing: 5) One dose of the vaccine is ...</td>\n      <td>0</td>\n      <td>270</td>\n      <td>2021-06-20 23:57:54</td>\n      <td>{'neg': 0.0, 'neu': 1.0, 'pos': 0.0, 'compound...</td>\n    </tr>\n    <tr>\n      <th>4</th>\n      <td>RT @DrEricDing: 5) One dose of the vaccine is ...</td>\n      <td>0</td>\n      <td>270</td>\n      <td>2021-06-20 23:56:29</td>\n      <td>{'neg': 0.0, 'neu': 1.0, 'pos': 0.0, 'compound...</td>\n    </tr>\n    <tr>\n      <th>...</th>\n      <td>...</td>\n      <td>...</td>\n      <td>...</td>\n      <td>...</td>\n      <td>...</td>\n    </tr>\n    <tr>\n      <th>6505</th>\n      <td>@Fab485617452 @JohnRHewson I'm 73 and my wife ...</td>\n      <td>6</td>\n      <td>0</td>\n      <td>2021-06-19 00:02:33</td>\n      <td>{'neg': 0.0, 'neu': 0.927, 'pos': 0.073, 'comp...</td>\n    </tr>\n    <tr>\n      <th>6506</th>\n      <td>RT @kyle_minogue: @bjornradstrom Pfizer - 12-1...</td>\n      <td>0</td>\n      <td>2</td>\n      <td>2021-06-19 00:02:21</td>\n      <td>{'neg': 0.0, 'neu': 1.0, 'pos': 0.0, 'compound...</td>\n    </tr>\n    <tr>\n      <th>6507</th>\n      <td>RT @JohnRHewson: For the record, how many of o...</td>\n      <td>0</td>\n      <td>890</td>\n      <td>2021-06-19 00:01:32</td>\n      <td>{'neg': 0.0, 'neu': 1.0, 'pos': 0.0, 'compound...</td>\n    </tr>\n    <tr>\n      <th>6508</th>\n      <td>RT @JohnRHewson: For the record, how many of o...</td>\n      <td>0</td>\n      <td>890</td>\n      <td>2021-06-19 00:00:27</td>\n      <td>{'neg': 0.0, 'neu': 1.0, 'pos': 0.0, 'compound...</td>\n    </tr>\n    <tr>\n      <th>6509</th>\n      <td>RT @DrEricDing: 3) “After years of reading res...</td>\n      <td>0</td>\n      <td>55</td>\n      <td>2021-06-19 00:00:08</td>\n      <td>{'neg': 0.0, 'neu': 1.0, 'pos': 0.0, 'compound...</td>\n    </tr>\n  </tbody>\n</table>\n<p>6510 rows × 5 columns</p>\n</div>"
     },
     "metadata": {},
     "execution_count": 67
    }
   ],
   "source": [
    "pdf"
   ]
  },
  {
   "cell_type": "code",
   "execution_count": 68,
   "metadata": {},
   "outputs": [
    {
     "output_type": "execute_result",
     "data": {
      "text/plain": [
       "                                                text  favourite_count  \\\n",
       "0  @breakfasttv I received the Astrazeneca vaccin...                0   \n",
       "1  #Pfizer\\n#AstraZeneca\\n#Moderna\\n#JohnsonAndJo...                3   \n",
       "\n",
       "   retweet_count           created_at  \\\n",
       "0              0  2021-06-20 23:59:37   \n",
       "1              5  2021-06-20 23:59:33   \n",
       "\n",
       "                                              rating  negative_nltk  \\\n",
       "0  {'neg': 0.049, 'neu': 0.752, 'pos': 0.199, 'co...          0.049   \n",
       "1  {'neg': 0.0, 'neu': 0.603, 'pos': 0.397, 'comp...          0.000   \n",
       "\n",
       "   positive_nltk  neutral_nltk  ncompound_nltk  \n",
       "0          0.199         0.752          0.7793  \n",
       "1          0.397         0.603          0.7639  "
      ],
      "text/html": "<div>\n<style scoped>\n    .dataframe tbody tr th:only-of-type {\n        vertical-align: middle;\n    }\n\n    .dataframe tbody tr th {\n        vertical-align: top;\n    }\n\n    .dataframe thead th {\n        text-align: right;\n    }\n</style>\n<table border=\"1\" class=\"dataframe\">\n  <thead>\n    <tr style=\"text-align: right;\">\n      <th></th>\n      <th>text</th>\n      <th>favourite_count</th>\n      <th>retweet_count</th>\n      <th>created_at</th>\n      <th>rating</th>\n      <th>negative_nltk</th>\n      <th>positive_nltk</th>\n      <th>neutral_nltk</th>\n      <th>ncompound_nltk</th>\n    </tr>\n  </thead>\n  <tbody>\n    <tr>\n      <th>0</th>\n      <td>@breakfasttv I received the Astrazeneca vaccin...</td>\n      <td>0</td>\n      <td>0</td>\n      <td>2021-06-20 23:59:37</td>\n      <td>{'neg': 0.049, 'neu': 0.752, 'pos': 0.199, 'co...</td>\n      <td>0.049</td>\n      <td>0.199</td>\n      <td>0.752</td>\n      <td>0.7793</td>\n    </tr>\n    <tr>\n      <th>1</th>\n      <td>#Pfizer\\n#AstraZeneca\\n#Moderna\\n#JohnsonAndJo...</td>\n      <td>3</td>\n      <td>5</td>\n      <td>2021-06-20 23:59:33</td>\n      <td>{'neg': 0.0, 'neu': 0.603, 'pos': 0.397, 'comp...</td>\n      <td>0.000</td>\n      <td>0.397</td>\n      <td>0.603</td>\n      <td>0.7639</td>\n    </tr>\n  </tbody>\n</table>\n</div>"
     },
     "metadata": {},
     "execution_count": 68
    }
   ],
   "source": [
    "pdf['negative_nltk']=[i['neg'] for i in pdf.rating]\n",
    "pdf['positive_nltk']=[i['pos'] for i in pdf.rating]\n",
    "pdf['neutral_nltk']=[i['neu'] for i in pdf.rating]\n",
    "pdf['ncompound_nltk']=[i['compound'] for i in pdf.rating]\n",
    "\n",
    "pdf.head(2)"
   ]
  },
  {
   "cell_type": "code",
   "execution_count": 69,
   "metadata": {},
   "outputs": [
    {
     "output_type": "execute_result",
     "data": {
      "text/plain": [
       "                                                text  favourite_count  \\\n",
       "0  @breakfasttv I received the Astrazeneca vaccin...                0   \n",
       "1  #Pfizer\\n#AstraZeneca\\n#Moderna\\n#JohnsonAndJo...                3   \n",
       "\n",
       "   retweet_count           created_at  negative_nltk  positive_nltk  \\\n",
       "0              0  2021-06-20 23:59:37          0.049          0.199   \n",
       "1              5  2021-06-20 23:59:33          0.000          0.397   \n",
       "\n",
       "   neutral_nltk  ncompound_nltk  \n",
       "0         0.752          0.7793  \n",
       "1         0.603          0.7639  "
      ],
      "text/html": "<div>\n<style scoped>\n    .dataframe tbody tr th:only-of-type {\n        vertical-align: middle;\n    }\n\n    .dataframe tbody tr th {\n        vertical-align: top;\n    }\n\n    .dataframe thead th {\n        text-align: right;\n    }\n</style>\n<table border=\"1\" class=\"dataframe\">\n  <thead>\n    <tr style=\"text-align: right;\">\n      <th></th>\n      <th>text</th>\n      <th>favourite_count</th>\n      <th>retweet_count</th>\n      <th>created_at</th>\n      <th>negative_nltk</th>\n      <th>positive_nltk</th>\n      <th>neutral_nltk</th>\n      <th>ncompound_nltk</th>\n    </tr>\n  </thead>\n  <tbody>\n    <tr>\n      <th>0</th>\n      <td>@breakfasttv I received the Astrazeneca vaccin...</td>\n      <td>0</td>\n      <td>0</td>\n      <td>2021-06-20 23:59:37</td>\n      <td>0.049</td>\n      <td>0.199</td>\n      <td>0.752</td>\n      <td>0.7793</td>\n    </tr>\n    <tr>\n      <th>1</th>\n      <td>#Pfizer\\n#AstraZeneca\\n#Moderna\\n#JohnsonAndJo...</td>\n      <td>3</td>\n      <td>5</td>\n      <td>2021-06-20 23:59:33</td>\n      <td>0.000</td>\n      <td>0.397</td>\n      <td>0.603</td>\n      <td>0.7639</td>\n    </tr>\n  </tbody>\n</table>\n</div>"
     },
     "metadata": {},
     "execution_count": 69
    }
   ],
   "source": [
    "pdf['negative_nltk'] = pdf['rating'].apply(lambda x : x['neg'])\n",
    "pdf['positive_nltk'] = pdf['rating'].apply(lambda x : x['pos'])\n",
    "pdf['neutral_nltk'] = pdf['rating'].apply(lambda x : x['neu'])\n",
    "pdf['compound_nltk'] = pdf['rating'].apply(lambda x : x['compound'])\n",
    "\n",
    "pdf = pdf.drop('rating', axis=1)\n",
    "pdf.head(2)"
   ]
  },
  {
   "source": [
    "# Create the dataframe\n",
    "# df = spark.createDataFrame([(\"a\", 1), (\"b\", 2), (\"c\", 3)], [\"letter\", \"name\"])\n",
    "\n",
    "# Function to get rows at `rownums`\n",
    "# def getrows(df, rownums=None):\n",
    "    # return df.rdd.zipWithIndex().filter(lambda x: x[1] in rownums).map(lambda x: x[0])\n",
    "\n",
    "# Get rows at positions 0 and 2.\n",
    "# getrows(df, rownums=[0, 2]).collect()"
   ],
   "cell_type": "code",
   "metadata": {
    "tags": []
   },
   "execution_count": 13,
   "outputs": []
  },
  {
   "cell_type": "code",
   "execution_count": 14,
   "metadata": {},
   "outputs": [
    {
     "output_type": "error",
     "ename": "NameError",
     "evalue": "name 'pdf' is not defined",
     "traceback": [
      "\u001b[0;31m---------------------------------------------------------------------------\u001b[0m",
      "\u001b[0;31mNameError\u001b[0m                                 Traceback (most recent call last)",
      "\u001b[0;32m<ipython-input-14-c5a6861a52d3>\u001b[0m in \u001b[0;36m<module>\u001b[0;34m\u001b[0m\n\u001b[0;32m----> 1\u001b[0;31m \u001b[0mpdf\u001b[0m\u001b[0;34m.\u001b[0m\u001b[0minfo\u001b[0m\u001b[0;34m\u001b[0m\u001b[0;34m\u001b[0m\u001b[0m\n\u001b[0m",
      "\u001b[0;31mNameError\u001b[0m: name 'pdf' is not defined"
     ]
    }
   ],
   "source": [
    "pdf.info"
   ]
  },
  {
   "source": [
    "show last's row date"
   ],
   "cell_type": "markdown",
   "metadata": {}
  },
  {
   "cell_type": "code",
   "execution_count": 70,
   "metadata": {},
   "outputs": [
    {
     "output_type": "execute_result",
     "data": {
      "text/plain": [
       "'2021-06-19 00:00:08'"
      ]
     },
     "metadata": {},
     "execution_count": 70
    }
   ],
   "source": [
    "pdf['created_at'][pdf.shape[0]-1]"
   ]
  },
  {
   "cell_type": "code",
   "execution_count": 71,
   "metadata": {},
   "outputs": [
    {
     "output_type": "execute_result",
     "data": {
      "text/plain": [
       "6510"
      ]
     },
     "metadata": {},
     "execution_count": 71
    }
   ],
   "source": [
    "pdf['text'].count()"
   ]
  },
  {
   "cell_type": "code",
   "execution_count": 72,
   "metadata": {},
   "outputs": [
    {
     "output_type": "execute_result",
     "data": {
      "text/plain": [
       "text               6510\n",
       "favourite_count    6510\n",
       "retweet_count      6510\n",
       "created_at         6510\n",
       "negative_nltk      6510\n",
       "positive_nltk      6510\n",
       "neutral_nltk       6510\n",
       "ncompound_nltk     6510\n",
       "dtype: int64"
      ]
     },
     "metadata": {},
     "execution_count": 72
    }
   ],
   "source": [
    "pdf.count()"
   ]
  },
  {
   "cell_type": "code",
   "execution_count": 73,
   "metadata": {},
   "outputs": [
    {
     "output_type": "execute_result",
     "data": {
      "text/plain": [
       "text               6510\n",
       "favourite_count    6510\n",
       "retweet_count      6510\n",
       "created_at         6510\n",
       "negative_nltk      6510\n",
       "positive_nltk      6510\n",
       "neutral_nltk       6510\n",
       "ncompound_nltk     6510\n",
       "dtype: int64"
      ]
     },
     "metadata": {},
     "execution_count": 73
    }
   ],
   "source": [
    "pdf.count(axis=0)"
   ]
  },
  {
   "cell_type": "code",
   "execution_count": 74,
   "metadata": {},
   "outputs": [
    {
     "output_type": "execute_result",
     "data": {
      "text/plain": [
       "6510"
      ]
     },
     "metadata": {},
     "execution_count": 74
    }
   ],
   "source": [
    "pdf.shape[0]"
   ]
  },
  {
   "cell_type": "code",
   "execution_count": 75,
   "metadata": {},
   "outputs": [
    {
     "output_type": "execute_result",
     "data": {
      "text/plain": [
       "6510"
      ]
     },
     "metadata": {},
     "execution_count": 75
    }
   ],
   "source": [
    "len(pdf.index)"
   ]
  },
  {
   "source": [
    "---"
   ],
   "cell_type": "markdown",
   "metadata": {}
  },
  {
   "source": [
    "# Spark GroupBy and Aggregate Functions\n",
    "\n",
    "`GroupBy` allows you to group rows together based off some column value, for example, you could group together sales data by the day the sale occured, or group repeast customer data based off the name of the customer.\n",
    "\n",
    "Once you've performed the GroupBy operation you can use an aggregate function off that data.An `aggregate function` aggregates multiple rows of data into a single output, such as taking the sum of inputs, or counting the number of inputs.\n",
    "\n",
    "**`Dataframe Aggregation`**\n",
    "\n",
    "A set of methods for aggregations on a DataFrame:\n",
    "\n",
    "    agg\n",
    "    avg\n",
    "    count\n",
    "    max\n",
    "    mean\n",
    "    min\n",
    "    pivot\n",
    "    sum\n",
    "\n",
    "https://hendra-herviawan.github.io/pyspark-groupby-and-aggregate-functions.html\n"
   ],
   "cell_type": "markdown",
   "metadata": {}
  },
  {
   "cell_type": "code",
   "execution_count": 77,
   "metadata": {},
   "outputs": [
    {
     "output_type": "execute_result",
     "data": {
      "text/plain": [
       "['text',\n",
       " 'favourite_count',\n",
       " 'retweet_count',\n",
       " 'created_at',\n",
       " 'negative_nltk',\n",
       " 'positive_nltk',\n",
       " 'neutral_nltk',\n",
       " 'compound_nltk']"
      ]
     },
     "metadata": {},
     "execution_count": 77
    }
   ],
   "source": [
    "sdf.columns"
   ]
  },
  {
   "cell_type": "code",
   "execution_count": 108,
   "metadata": {},
   "outputs": [
    {
     "output_type": "execute_result",
     "data": {
      "text/plain": [
       "DataFrame[created_at: date]"
      ]
     },
     "metadata": {},
     "execution_count": 108
    }
   ],
   "source": [
    "sdf.select('created_at')"
   ]
  },
  {
   "source": [
    "\n",
    "# sdf_agg_byDate =  sdf.groupBy('created_at').agg({'negative_nltk':'sum'}, {'positive_nltk':'sum'}, {'neutral_nltk':'sum'},\t{'compound_nltk':'sum'})\n",
    "import pyspark.sql.functions as f\n",
    "from pyspark.sql.functions import col\n",
    "\n",
    "sdf_agg_byDate =  sdf.groupBy('created_at').agg({'negative_nltk':'sum','positive_nltk':'sum','neutral_nltk':'sum','compound_nltk':'sum','created_at':'count'})\n",
    "\n",
    "sdf_agg_byDate.count()"
   ],
   "cell_type": "markdown",
   "metadata": {}
  },
  {
   "cell_type": "code",
   "execution_count": 79,
   "metadata": {},
   "outputs": [],
   "source": [
    "# sdf.groupBy('created_at').count().select('created_at', f.col('count').alias('tweets')).show()"
   ]
  },
  {
   "cell_type": "code",
   "execution_count": 81,
   "metadata": {},
   "outputs": [
    {
     "output_type": "stream",
     "name": "stdout",
     "text": [
      "+----------+------+\n|created_at|tweets|\n+----------+------+\n|2021-06-20|  2407|\n|2021-06-19|  4103|\n+----------+------+\n\n"
     ]
    }
   ],
   "source": [
    "(sdf\n",
    ".groupBy('created_at')\n",
    ".agg(f.count('created_at').alias('tweets'))\n",
    ".show())"
   ]
  },
  {
   "cell_type": "code",
   "execution_count": 82,
   "metadata": {},
   "outputs": [
    {
     "output_type": "stream",
     "name": "stdout",
     "text": [
      "+----------+-------------------+------------------+-----------------+------------------+------------------+\n|created_at| sum(compound_nltk)|sum(positive_nltk)|count(created_at)|sum(negative_nltk)| sum(neutral_nltk)|\n+----------+-------------------+------------------+-----------------+------------------+------------------+\n|2021-06-20| -36.28830000000009| 112.9250000000001|             2407|           133.614|2160.4989999999916|\n|2021-06-19|-106.83589999999874| 139.2199999999993|             4103|176.49200000000073|3787.2440000000083|\n+----------+-------------------+------------------+-----------------+------------------+------------------+\n\n"
     ]
    }
   ],
   "source": [
    "sdf_agg_byDate.show()"
   ]
  },
  {
   "cell_type": "code",
   "execution_count": null,
   "metadata": {},
   "outputs": [],
   "source": [
    "# sdf_agg_byDate = sdf_agg_byDate.withColumn(\"sum\", col(\"sum(negative_nltk)\")+col(\"science_score\"))\n",
    "# \tdf1.show()"
   ]
  },
  {
   "cell_type": "code",
   "execution_count": 83,
   "metadata": {},
   "outputs": [
    {
     "output_type": "stream",
     "name": "stdout",
     "text": [
      "+----------+------+--------------------+--------------------+--------------------+------------------+\n|created_at|tweets|       compound_nltk|       positive_nltk|       negativen_ltk|      neutral_nltk|\n+----------+------+--------------------+--------------------+--------------------+------------------+\n|2021-06-20|  2407|-0.01507615288741...|0.046915247195679306|0.055510594100540094|0.8975899459908565|\n|2021-06-19|  4103|-0.02603848403607...|0.033931269802583305|0.043015354618571956| 0.923042651718257|\n+----------+------+--------------------+--------------------+--------------------+------------------+\n\n"
     ]
    }
   ],
   "source": [
    "# How to delete columns in pyspark dataframe\n",
    "columns_to_drop = ['sum(compound_nltk)', 'sum(positive_nltk)', 'sum(negative_nltk)', 'sum(neutral_nltk)']\n",
    "\n",
    "sdf_agg_byDate = (sdf_agg_byDate\n",
    "    .withColumn('compound_nltk', f.col('sum(compound_nltk)')/f.col('count(created_at)'))\n",
    "    .withColumn( 'positive_nltk',f.col('sum(positive_nltk)')/f.col('count(created_at)'))\n",
    "    .withColumn( 'negativen_ltk',f.col('sum(negative_nltk)')/f.col('count(created_at)'))\n",
    "    .withColumn( 'neutral_nltk',f.col('sum(neutral_nltk)')/f.col('count(created_at)'))\n",
    "    .withColumnRenamed('count(created_at)', 'tweets')).drop(*columns_to_drop)\n",
    "\n",
    "sdf_agg_byDate.show()"
   ]
  },
  {
   "cell_type": "code",
   "execution_count": 97,
   "metadata": {},
   "outputs": [
    {
     "output_type": "execute_result",
     "data": {
      "text/plain": [
       "   created_at  count(created_at)  compound_nltk  positive_nltk  negativen_ltk  \\\n",
       "0  2021-06-20               2407      -0.015076       0.046915       0.055511   \n",
       "1  2021-06-19               4103      -0.026038       0.033931       0.043015   \n",
       "\n",
       "   neutral_nltk  \n",
       "0      0.897590  \n",
       "1      0.923043  "
      ],
      "text/html": "<div>\n<style scoped>\n    .dataframe tbody tr th:only-of-type {\n        vertical-align: middle;\n    }\n\n    .dataframe tbody tr th {\n        vertical-align: top;\n    }\n\n    .dataframe thead th {\n        text-align: right;\n    }\n</style>\n<table border=\"1\" class=\"dataframe\">\n  <thead>\n    <tr style=\"text-align: right;\">\n      <th></th>\n      <th>created_at</th>\n      <th>count(created_at)</th>\n      <th>compound_nltk</th>\n      <th>positive_nltk</th>\n      <th>negativen_ltk</th>\n      <th>neutral_nltk</th>\n    </tr>\n  </thead>\n  <tbody>\n    <tr>\n      <th>0</th>\n      <td>2021-06-20</td>\n      <td>2407</td>\n      <td>-0.015076</td>\n      <td>0.046915</td>\n      <td>0.055511</td>\n      <td>0.897590</td>\n    </tr>\n    <tr>\n      <th>1</th>\n      <td>2021-06-19</td>\n      <td>4103</td>\n      <td>-0.026038</td>\n      <td>0.033931</td>\n      <td>0.043015</td>\n      <td>0.923043</td>\n    </tr>\n  </tbody>\n</table>\n</div>"
     },
     "metadata": {},
     "execution_count": 97
    }
   ],
   "source": [
    "sdf_agg_byDate.toPandas()\n",
    "# .drop(*columns_to_drop)"
   ]
  },
  {
   "cell_type": "code",
   "execution_count": 101,
   "metadata": {},
   "outputs": [
    {
     "output_type": "execute_result",
     "data": {
      "text/plain": [
       "Column<b'created_at[0]'>"
      ]
     },
     "metadata": {},
     "execution_count": 101
    }
   ],
   "source": [
    "sdf.created_at[0]"
   ]
  },
  {
   "cell_type": "code",
   "execution_count": 84,
   "metadata": {},
   "outputs": [],
   "source": [
    "# The below statement changes column 'count(created_at)' to 'tweets' on PySpark DataFrame. \n",
    "sdf_agg_byDate = (sdf_agg_byDate\n",
    "    .withColumnRenamed('count(created_at)', 'tweets'))"
   ]
  },
  {
   "cell_type": "code",
   "execution_count": 85,
   "metadata": {},
   "outputs": [
    {
     "output_type": "execute_result",
     "data": {
      "text/plain": [
       "   created_at  tweets  compound_nltk  positive_nltk  negativen_ltk  \\\n",
       "0  2021-06-20    2407      -0.015076       0.046915       0.055511   \n",
       "1  2021-06-19    4103      -0.026038       0.033931       0.043015   \n",
       "\n",
       "   neutral_nltk  \n",
       "0      0.897590  \n",
       "1      0.923043  "
      ],
      "text/html": "<div>\n<style scoped>\n    .dataframe tbody tr th:only-of-type {\n        vertical-align: middle;\n    }\n\n    .dataframe tbody tr th {\n        vertical-align: top;\n    }\n\n    .dataframe thead th {\n        text-align: right;\n    }\n</style>\n<table border=\"1\" class=\"dataframe\">\n  <thead>\n    <tr style=\"text-align: right;\">\n      <th></th>\n      <th>created_at</th>\n      <th>tweets</th>\n      <th>compound_nltk</th>\n      <th>positive_nltk</th>\n      <th>negativen_ltk</th>\n      <th>neutral_nltk</th>\n    </tr>\n  </thead>\n  <tbody>\n    <tr>\n      <th>0</th>\n      <td>2021-06-20</td>\n      <td>2407</td>\n      <td>-0.015076</td>\n      <td>0.046915</td>\n      <td>0.055511</td>\n      <td>0.897590</td>\n    </tr>\n    <tr>\n      <th>1</th>\n      <td>2021-06-19</td>\n      <td>4103</td>\n      <td>-0.026038</td>\n      <td>0.033931</td>\n      <td>0.043015</td>\n      <td>0.923043</td>\n    </tr>\n  </tbody>\n</table>\n</div>"
     },
     "metadata": {},
     "execution_count": 85
    }
   ],
   "source": [
    "sdf_agg_byDate.toPandas()"
   ]
  },
  {
   "cell_type": "code",
   "execution_count": 218,
   "metadata": {},
   "outputs": [
    {
     "output_type": "execute_result",
     "data": {
      "text/plain": [
       "   created_at  tweets  compound_nltk  positive_nltk  negativen_ltk  \\\n",
       "0  2021-06-19    4103      -0.026038       0.033931       0.043015   \n",
       "1  2021-06-20    2407      -0.015076       0.046915       0.055511   \n",
       "\n",
       "   neutral_nltk  \n",
       "0      0.923043  \n",
       "1      0.897590  "
      ],
      "text/html": "<div>\n<style scoped>\n    .dataframe tbody tr th:only-of-type {\n        vertical-align: middle;\n    }\n\n    .dataframe tbody tr th {\n        vertical-align: top;\n    }\n\n    .dataframe thead th {\n        text-align: right;\n    }\n</style>\n<table border=\"1\" class=\"dataframe\">\n  <thead>\n    <tr style=\"text-align: right;\">\n      <th></th>\n      <th>created_at</th>\n      <th>tweets</th>\n      <th>compound_nltk</th>\n      <th>positive_nltk</th>\n      <th>negativen_ltk</th>\n      <th>neutral_nltk</th>\n    </tr>\n  </thead>\n  <tbody>\n    <tr>\n      <th>0</th>\n      <td>2021-06-19</td>\n      <td>4103</td>\n      <td>-0.026038</td>\n      <td>0.033931</td>\n      <td>0.043015</td>\n      <td>0.923043</td>\n    </tr>\n    <tr>\n      <th>1</th>\n      <td>2021-06-20</td>\n      <td>2407</td>\n      <td>-0.015076</td>\n      <td>0.046915</td>\n      <td>0.055511</td>\n      <td>0.897590</td>\n    </tr>\n  </tbody>\n</table>\n</div>"
     },
     "metadata": {},
     "execution_count": 218
    }
   ],
   "source": [
    "# DataFrame.sort(*cols, **kwargs) - Returns a new DataFrame sorted by the specified column(s).\n",
    "sdf_agg_byDate = sdf_agg_byDate.sort('created_at')\n",
    "\n",
    "sdf_agg_byDate.toPandas()"
   ]
  },
  {
   "cell_type": "code",
   "execution_count": 224,
   "metadata": {},
   "outputs": [
    {
     "output_type": "execute_result",
     "data": {
      "text/plain": [
       "[('created_at', 'date'),\n",
       " ('tweets', 'bigint'),\n",
       " ('compound_nltk', 'double'),\n",
       " ('positive_nltk', 'double'),\n",
       " ('negativen_ltk', 'double'),\n",
       " ('neutral_nltk', 'double')]"
      ]
     },
     "metadata": {},
     "execution_count": 224
    }
   ],
   "source": [
    "# \n",
    "sdf_agg_byDate.dtypes"
   ]
  },
  {
   "cell_type": "code",
   "execution_count": 225,
   "metadata": {},
   "outputs": [
    {
     "output_type": "execute_result",
     "data": {
      "text/plain": [
       "[Row(created_at=datetime.date(2021, 6, 19), tweets=4103, compound_nltk=-0.026038484036070862, positive_nltk=0.033931269802583305, negativen_ltk=0.043015354618571956, neutral_nltk=0.923042651718257)]"
      ]
     },
     "metadata": {},
     "execution_count": 225
    }
   ],
   "source": [
    "sdf_agg_byDate.head(1)"
   ]
  },
  {
   "cell_type": "code",
   "execution_count": 226,
   "metadata": {},
   "outputs": [
    {
     "output_type": "stream",
     "name": "stdout",
     "text": [
      "+----------+------+--------------------+--------------------+--------------------+-----------------+\n|created_at|tweets|       compound_nltk|       positive_nltk|       negativen_ltk|     neutral_nltk|\n+----------+------+--------------------+--------------------+--------------------+-----------------+\n|2021-06-19|  4103|-0.02603848403607...|0.033931269802583305|0.043015354618571956|0.923042651718257|\n+----------+------+--------------------+--------------------+--------------------+-----------------+\n\n"
     ]
    }
   ],
   "source": [
    "sdf_agg_byDate.limit(1).show()"
   ]
  },
  {
   "cell_type": "code",
   "execution_count": null,
   "metadata": {},
   "outputs": [],
   "source": []
  },
  {
   "cell_type": "code",
   "execution_count": 223,
   "metadata": {},
   "outputs": [
    {
     "output_type": "execute_result",
     "data": {
      "text/plain": [
       "Row(created_at=datetime.date(2021, 6, 19), tweets=4103, compound_nltk=-0.026038484036070862, positive_nltk=0.033931269802583305, negativen_ltk=0.043015354618571956, neutral_nltk=0.923042651718257)"
      ]
     },
     "metadata": {},
     "execution_count": 223
    }
   ],
   "source": [
    "# last, head, tail\n",
    "sdf_agg_byDate.first()"
   ]
  },
  {
   "cell_type": "code",
   "execution_count": null,
   "metadata": {},
   "outputs": [],
   "source": [
    "import datetime, time \n",
    "# dates = (\"2021-06-19 00:00:00\",  \"2021-06-20 00:00:00\")\n",
    "date_from, date_to = (\"2021-06-19\",  \"2021-06-20\")\n",
    "\n",
    "timestamps = (\n",
    "    time.mktime(datetime.datetime.strptime(s, \"%Y-%m-%d %H:%M:%S\").timetuple())\n",
    "    for s in dates)\n",
    "\n",
    "\n",
    "\n",
    "sdf_agg_byDate.filter(col('created_at') > )"
   ]
  },
  {
   "cell_type": "code",
   "execution_count": null,
   "metadata": {},
   "outputs": [],
   "source": []
  },
  {
   "cell_type": "code",
   "execution_count": 220,
   "metadata": {},
   "outputs": [
    {
     "output_type": "error",
     "ename": "AttributeError",
     "evalue": "'function' object has no attribute 'shuffle'",
     "traceback": [
      "\u001b[0;31m---------------------------------------------------------------------------\u001b[0m",
      "\u001b[0;31mAttributeError\u001b[0m                            Traceback (most recent call last)",
      "\u001b[0;32m<ipython-input-220-bfd28aba44c4>\u001b[0m in \u001b[0;36m<module>\u001b[0;34m\u001b[0m\n\u001b[1;32m      2\u001b[0m \u001b[0;34m\u001b[0m\u001b[0m\n\u001b[1;32m      3\u001b[0m \u001b[0;34m\u001b[0m\u001b[0m\n\u001b[0;32m----> 4\u001b[0;31m \u001b[0mspark\u001b[0m\u001b[0;34m.\u001b[0m\u001b[0msql\u001b[0m\u001b[0;34m.\u001b[0m\u001b[0mshuffle\u001b[0m\u001b[0;34m.\u001b[0m\u001b[0mpartitions\u001b[0m\u001b[0;34m\u001b[0m\u001b[0;34m\u001b[0m\u001b[0m\n\u001b[0m",
      "\u001b[0;31mAttributeError\u001b[0m: 'function' object has no attribute 'shuffle'"
     ]
    }
   ],
   "source": [
    "# sqlContext.sql(\"set spark.sql.shuffle.partitions=10\")\n",
    "\n",
    "\n",
    "spark.sql.functions.shuffle.partitions"
   ]
  },
  {
   "source": [
    "---\n",
    "## Pandas groupBy and aggregate functions "
   ],
   "cell_type": "markdown",
   "metadata": {}
  },
  {
   "cell_type": "code",
   "execution_count": 88,
   "metadata": {},
   "outputs": [
    {
     "output_type": "execute_result",
     "data": {
      "text/plain": [
       "                                                text  favourite_count  \\\n",
       "0  @breakfasttv I received the Astrazeneca vaccin...                0   \n",
       "1  #Pfizer\\n#AstraZeneca\\n#Moderna\\n#JohnsonAndJo...                3   \n",
       "\n",
       "   retweet_count           created_at  negative_nltk  positive_nltk  \\\n",
       "0              0  2021-06-20 23:59:37          0.049          0.199   \n",
       "1              5  2021-06-20 23:59:33          0.000          0.397   \n",
       "\n",
       "   neutral_nltk  compound_nltk  \n",
       "0         0.752         0.7793  \n",
       "1         0.603         0.7639  "
      ],
      "text/html": "<div>\n<style scoped>\n    .dataframe tbody tr th:only-of-type {\n        vertical-align: middle;\n    }\n\n    .dataframe tbody tr th {\n        vertical-align: top;\n    }\n\n    .dataframe thead th {\n        text-align: right;\n    }\n</style>\n<table border=\"1\" class=\"dataframe\">\n  <thead>\n    <tr style=\"text-align: right;\">\n      <th></th>\n      <th>text</th>\n      <th>favourite_count</th>\n      <th>retweet_count</th>\n      <th>created_at</th>\n      <th>negative_nltk</th>\n      <th>positive_nltk</th>\n      <th>neutral_nltk</th>\n      <th>compound_nltk</th>\n    </tr>\n  </thead>\n  <tbody>\n    <tr>\n      <th>0</th>\n      <td>@breakfasttv I received the Astrazeneca vaccin...</td>\n      <td>0</td>\n      <td>0</td>\n      <td>2021-06-20 23:59:37</td>\n      <td>0.049</td>\n      <td>0.199</td>\n      <td>0.752</td>\n      <td>0.7793</td>\n    </tr>\n    <tr>\n      <th>1</th>\n      <td>#Pfizer\\n#AstraZeneca\\n#Moderna\\n#JohnsonAndJo...</td>\n      <td>3</td>\n      <td>5</td>\n      <td>2021-06-20 23:59:33</td>\n      <td>0.000</td>\n      <td>0.397</td>\n      <td>0.603</td>\n      <td>0.7639</td>\n    </tr>\n  </tbody>\n</table>\n</div>"
     },
     "metadata": {},
     "execution_count": 88
    }
   ],
   "source": [
    "# Change name of a specific column\n",
    "# pdf = pdf.rename(columns={'ncompound_nltk':'compound_nltk'})\n",
    "# pdf.head(2)"
   ]
  },
  {
   "cell_type": "code",
   "execution_count": 202,
   "metadata": {},
   "outputs": [
    {
     "output_type": "stream",
     "name": "stdout",
     "text": [
      "<class 'pandas.core.frame.DataFrame'>\nRangeIndex: 6510 entries, 0 to 6509\nData columns (total 8 columns):\n #   Column           Non-Null Count  Dtype  \n---  ------           --------------  -----  \n 0   text             6510 non-null   object \n 1   favourite_count  6510 non-null   int64  \n 2   retweet_count    6510 non-null   int64  \n 3   created_at       6510 non-null   object \n 4   negative_nltk    6510 non-null   float64\n 5   positive_nltk    6510 non-null   float64\n 6   neutral_nltk     6510 non-null   float64\n 7   compound_nltk    6510 non-null   float64\ndtypes: float64(4), int64(2), object(2)\nmemory usage: 407.0+ KB\n"
     ]
    }
   ],
   "source": [
    "pdf.info()"
   ]
  },
  {
   "cell_type": "code",
   "execution_count": 203,
   "metadata": {},
   "outputs": [],
   "source": [
    "pdf['created_at'] = pd.to_datetime(pdf['created_at'])\n"
   ]
  },
  {
   "cell_type": "code",
   "execution_count": 204,
   "metadata": {},
   "outputs": [
    {
     "output_type": "stream",
     "name": "stdout",
     "text": [
      "<class 'pandas.core.frame.DataFrame'>\nRangeIndex: 6510 entries, 0 to 6509\nData columns (total 8 columns):\n #   Column           Non-Null Count  Dtype         \n---  ------           --------------  -----         \n 0   text             6510 non-null   object        \n 1   favourite_count  6510 non-null   int64         \n 2   retweet_count    6510 non-null   int64         \n 3   created_at       6510 non-null   datetime64[ns]\n 4   negative_nltk    6510 non-null   float64       \n 5   positive_nltk    6510 non-null   float64       \n 6   neutral_nltk     6510 non-null   float64       \n 7   compound_nltk    6510 non-null   float64       \ndtypes: datetime64[ns](1), float64(4), int64(2), object(1)\nmemory usage: 407.0+ KB\n"
     ]
    }
   ],
   "source": [
    "pdf.info()"
   ]
  },
  {
   "cell_type": "code",
   "execution_count": 165,
   "metadata": {},
   "outputs": [
    {
     "output_type": "execute_result",
     "data": {
      "text/plain": [
       "                                                text  favourite_count  \\\n",
       "0  @breakfasttv I received the Astrazeneca vaccin...                0   \n",
       "1  #Pfizer\\n#AstraZeneca\\n#Moderna\\n#JohnsonAndJo...                3   \n",
       "\n",
       "   retweet_count created_at  negative_nltk  positive_nltk  neutral_nltk  \\\n",
       "0              0 2021-06-20          0.049          0.199         0.752   \n",
       "1              5 2021-06-20          0.000          0.397         0.603   \n",
       "\n",
       "   compound_nltk  \n",
       "0         0.7793  \n",
       "1         0.7639  "
      ],
      "text/html": "<div>\n<style scoped>\n    .dataframe tbody tr th:only-of-type {\n        vertical-align: middle;\n    }\n\n    .dataframe tbody tr th {\n        vertical-align: top;\n    }\n\n    .dataframe thead th {\n        text-align: right;\n    }\n</style>\n<table border=\"1\" class=\"dataframe\">\n  <thead>\n    <tr style=\"text-align: right;\">\n      <th></th>\n      <th>text</th>\n      <th>favourite_count</th>\n      <th>retweet_count</th>\n      <th>created_at</th>\n      <th>negative_nltk</th>\n      <th>positive_nltk</th>\n      <th>neutral_nltk</th>\n      <th>compound_nltk</th>\n    </tr>\n  </thead>\n  <tbody>\n    <tr>\n      <th>0</th>\n      <td>@breakfasttv I received the Astrazeneca vaccin...</td>\n      <td>0</td>\n      <td>0</td>\n      <td>2021-06-20</td>\n      <td>0.049</td>\n      <td>0.199</td>\n      <td>0.752</td>\n      <td>0.7793</td>\n    </tr>\n    <tr>\n      <th>1</th>\n      <td>#Pfizer\\n#AstraZeneca\\n#Moderna\\n#JohnsonAndJo...</td>\n      <td>3</td>\n      <td>5</td>\n      <td>2021-06-20</td>\n      <td>0.000</td>\n      <td>0.397</td>\n      <td>0.603</td>\n      <td>0.7639</td>\n    </tr>\n  </tbody>\n</table>\n</div>"
     },
     "metadata": {},
     "execution_count": 165
    }
   ],
   "source": [
    "pdf.head(2)"
   ]
  },
  {
   "cell_type": "code",
   "execution_count": 205,
   "metadata": {},
   "outputs": [],
   "source": [
    "pdf['created_at'] = pdf['created_at'].dt.strftime('%Y-%m-%d')"
   ]
  },
  {
   "cell_type": "code",
   "execution_count": 206,
   "metadata": {},
   "outputs": [
    {
     "output_type": "stream",
     "name": "stdout",
     "text": [
      "<class 'pandas.core.frame.DataFrame'>\nRangeIndex: 6510 entries, 0 to 6509\nData columns (total 8 columns):\n #   Column           Non-Null Count  Dtype  \n---  ------           --------------  -----  \n 0   text             6510 non-null   object \n 1   favourite_count  6510 non-null   int64  \n 2   retweet_count    6510 non-null   int64  \n 3   created_at       6510 non-null   object \n 4   negative_nltk    6510 non-null   float64\n 5   positive_nltk    6510 non-null   float64\n 6   neutral_nltk     6510 non-null   float64\n 7   compound_nltk    6510 non-null   float64\ndtypes: float64(4), int64(2), object(2)\nmemory usage: 407.0+ KB\n"
     ]
    }
   ],
   "source": [
    "pdf.info()"
   ]
  },
  {
   "cell_type": "code",
   "execution_count": 174,
   "metadata": {},
   "outputs": [
    {
     "output_type": "execute_result",
     "data": {
      "text/plain": [
       "negative_nltk    2\n",
       "positive_nltk    2\n",
       "neutral_nltk     2\n",
       "compound_nltk    2\n",
       "created_at       2\n",
       "dtype: int64"
      ]
     },
     "metadata": {},
     "execution_count": 174
    }
   ],
   "source": [
    "# For a DataFrame, by default the aggregates return results within each column:\n",
    "# pdf['created_at'].dt.date => Converts Datetime to Date in Pandas df\n",
    "pdf_agg_byDate =  pdf.groupby('created_at').agg({'negative_nltk':'sum','positive_nltk':'sum','neutral_nltk':'sum','compound_nltk':'sum', 'created_at':'size'})\n",
    "\n",
    "pdf_agg_byDate.count()"
   ]
  },
  {
   "cell_type": "code",
   "execution_count": 175,
   "metadata": {},
   "outputs": [
    {
     "output_type": "execute_result",
     "data": {
      "text/plain": [
       "            negative_nltk  positive_nltk  neutral_nltk  compound_nltk  \\\n",
       "created_at                                                              \n",
       "2021-06-19        176.492        139.220      3787.244      -106.8359   \n",
       "2021-06-20        133.614        112.925      2160.499       -36.2883   \n",
       "\n",
       "            created_at  \n",
       "created_at              \n",
       "2021-06-19        4103  \n",
       "2021-06-20        2407  "
      ],
      "text/html": "<div>\n<style scoped>\n    .dataframe tbody tr th:only-of-type {\n        vertical-align: middle;\n    }\n\n    .dataframe tbody tr th {\n        vertical-align: top;\n    }\n\n    .dataframe thead th {\n        text-align: right;\n    }\n</style>\n<table border=\"1\" class=\"dataframe\">\n  <thead>\n    <tr style=\"text-align: right;\">\n      <th></th>\n      <th>negative_nltk</th>\n      <th>positive_nltk</th>\n      <th>neutral_nltk</th>\n      <th>compound_nltk</th>\n      <th>created_at</th>\n    </tr>\n    <tr>\n      <th>created_at</th>\n      <th></th>\n      <th></th>\n      <th></th>\n      <th></th>\n      <th></th>\n    </tr>\n  </thead>\n  <tbody>\n    <tr>\n      <th>2021-06-19</th>\n      <td>176.492</td>\n      <td>139.220</td>\n      <td>3787.244</td>\n      <td>-106.8359</td>\n      <td>4103</td>\n    </tr>\n    <tr>\n      <th>2021-06-20</th>\n      <td>133.614</td>\n      <td>112.925</td>\n      <td>2160.499</td>\n      <td>-36.2883</td>\n      <td>2407</td>\n    </tr>\n  </tbody>\n</table>\n</div>"
     },
     "metadata": {},
     "execution_count": 175
    }
   ],
   "source": [
    "pdf_agg_byDate"
   ]
  },
  {
   "cell_type": "code",
   "execution_count": 209,
   "metadata": {},
   "outputs": [
    {
     "output_type": "execute_result",
     "data": {
      "text/plain": [
       "created_at       2\n",
       "negative_nltk    2\n",
       "positive_nltk    2\n",
       "neutral_nltk     2\n",
       "compound_nltk    2\n",
       "tweets           2\n",
       "dtype: int64"
      ]
     },
     "metadata": {},
     "execution_count": 209
    }
   ],
   "source": [
    "pdf_agg_byDate =  pdf.groupby('created_at').agg(negative_nltk=('negative_nltk','sum'),positive_nltk=('positive_nltk','sum'),neutral_nltk=('neutral_nltk','sum'),compound_nltk=('compound_nltk','sum'), tweets = ('created_at','size'))\n",
    "\n",
    "pdf_agg_byDate.reset_index(level=0, inplace=True)\n",
    "pdf_agg_byDate.count()"
   ]
  },
  {
   "cell_type": "code",
   "execution_count": 210,
   "metadata": {},
   "outputs": [
    {
     "output_type": "execute_result",
     "data": {
      "text/plain": [
       "str"
      ]
     },
     "metadata": {},
     "execution_count": 210
    }
   ],
   "source": [
    "# row 0\n",
    "type(pdf.created_at[0])"
   ]
  },
  {
   "cell_type": "code",
   "execution_count": 211,
   "metadata": {},
   "outputs": [
    {
     "output_type": "execute_result",
     "data": {
      "text/plain": [
       "str"
      ]
     },
     "metadata": {},
     "execution_count": 211
    }
   ],
   "source": [
    "# row 5\n",
    "type(pdf.created_at[5])"
   ]
  },
  {
   "cell_type": "code",
   "execution_count": 212,
   "metadata": {},
   "outputs": [
    {
     "output_type": "execute_result",
     "data": {
      "text/plain": [
       "   created_at  negative_nltk  positive_nltk  neutral_nltk  compound_nltk  \\\n",
       "0  2021-06-19        176.492        139.220      3787.244      -106.8359   \n",
       "1  2021-06-20        133.614        112.925      2160.499       -36.2883   \n",
       "\n",
       "   tweets  \n",
       "0    4103  \n",
       "1    2407  "
      ],
      "text/html": "<div>\n<style scoped>\n    .dataframe tbody tr th:only-of-type {\n        vertical-align: middle;\n    }\n\n    .dataframe tbody tr th {\n        vertical-align: top;\n    }\n\n    .dataframe thead th {\n        text-align: right;\n    }\n</style>\n<table border=\"1\" class=\"dataframe\">\n  <thead>\n    <tr style=\"text-align: right;\">\n      <th></th>\n      <th>created_at</th>\n      <th>negative_nltk</th>\n      <th>positive_nltk</th>\n      <th>neutral_nltk</th>\n      <th>compound_nltk</th>\n      <th>tweets</th>\n    </tr>\n  </thead>\n  <tbody>\n    <tr>\n      <th>0</th>\n      <td>2021-06-19</td>\n      <td>176.492</td>\n      <td>139.220</td>\n      <td>3787.244</td>\n      <td>-106.8359</td>\n      <td>4103</td>\n    </tr>\n    <tr>\n      <th>1</th>\n      <td>2021-06-20</td>\n      <td>133.614</td>\n      <td>112.925</td>\n      <td>2160.499</td>\n      <td>-36.2883</td>\n      <td>2407</td>\n    </tr>\n  </tbody>\n</table>\n</div>"
     },
     "metadata": {},
     "execution_count": 212
    }
   ],
   "source": [
    "pdf_agg_byDate"
   ]
  },
  {
   "cell_type": "code",
   "execution_count": 193,
   "metadata": {},
   "outputs": [
    {
     "output_type": "stream",
     "name": "stdout",
     "text": [
      "<class 'pandas.core.frame.DataFrame'>\nRangeIndex: 2 entries, 0 to 1\nData columns (total 6 columns):\n #   Column         Non-Null Count  Dtype  \n---  ------         --------------  -----  \n 0   created_at     2 non-null      object \n 1   negative_nltk  2 non-null      float64\n 2   positive_nltk  2 non-null      float64\n 3   neutral_nltk   2 non-null      float64\n 4   compound_nltk  2 non-null      float64\n 5   tweets         2 non-null      int64  \ndtypes: float64(4), int64(1), object(1)\nmemory usage: 224.0+ bytes\n"
     ]
    }
   ],
   "source": [
    "pdf_agg_byDate.info()"
   ]
  },
  {
   "cell_type": "code",
   "execution_count": 20,
   "metadata": {},
   "outputs": [
    {
     "output_type": "error",
     "ename": "AttributeError",
     "evalue": "Can only use .dt accessor with datetimelike values",
     "traceback": [
      "\u001b[0;31m---------------------------------------------------------------------------\u001b[0m",
      "\u001b[0;31mAttributeError\u001b[0m                            Traceback (most recent call last)",
      "\u001b[0;32m<ipython-input-20-c43b2a166aa5>\u001b[0m in \u001b[0;36m<module>\u001b[0;34m\u001b[0m\n\u001b[0;32m----> 1\u001b[0;31m \u001b[0mpdf_cof_island2\u001b[0m\u001b[0;34m[\u001b[0m\u001b[0;34m'created_at'\u001b[0m\u001b[0;34m]\u001b[0m \u001b[0;34m=\u001b[0m \u001b[0mpdf_cof_island2\u001b[0m\u001b[0;34m[\u001b[0m\u001b[0;34m'created_at'\u001b[0m\u001b[0;34m]\u001b[0m\u001b[0;34m.\u001b[0m\u001b[0mdt\u001b[0m\u001b[0;34m.\u001b[0m\u001b[0mdate\u001b[0m\u001b[0;34m\u001b[0m\u001b[0;34m\u001b[0m\u001b[0m\n\u001b[0m",
      "\u001b[0;32m/opt/anaconda/envs/pyspark_env/lib/python3.7/site-packages/pandas/core/generic.py\u001b[0m in \u001b[0;36m__getattr__\u001b[0;34m(self, name)\u001b[0m\n\u001b[1;32m   5135\u001b[0m             \u001b[0;32mor\u001b[0m \u001b[0mname\u001b[0m \u001b[0;32min\u001b[0m \u001b[0mself\u001b[0m\u001b[0;34m.\u001b[0m\u001b[0m_accessors\u001b[0m\u001b[0;34m\u001b[0m\u001b[0;34m\u001b[0m\u001b[0m\n\u001b[1;32m   5136\u001b[0m         ):\n\u001b[0;32m-> 5137\u001b[0;31m             \u001b[0;32mreturn\u001b[0m \u001b[0mobject\u001b[0m\u001b[0;34m.\u001b[0m\u001b[0m__getattribute__\u001b[0m\u001b[0;34m(\u001b[0m\u001b[0mself\u001b[0m\u001b[0;34m,\u001b[0m \u001b[0mname\u001b[0m\u001b[0;34m)\u001b[0m\u001b[0;34m\u001b[0m\u001b[0;34m\u001b[0m\u001b[0m\n\u001b[0m\u001b[1;32m   5138\u001b[0m         \u001b[0;32melse\u001b[0m\u001b[0;34m:\u001b[0m\u001b[0;34m\u001b[0m\u001b[0;34m\u001b[0m\u001b[0m\n\u001b[1;32m   5139\u001b[0m             \u001b[0;32mif\u001b[0m \u001b[0mself\u001b[0m\u001b[0;34m.\u001b[0m\u001b[0m_info_axis\u001b[0m\u001b[0;34m.\u001b[0m\u001b[0m_can_hold_identifiers_and_holds_name\u001b[0m\u001b[0;34m(\u001b[0m\u001b[0mname\u001b[0m\u001b[0;34m)\u001b[0m\u001b[0;34m:\u001b[0m\u001b[0;34m\u001b[0m\u001b[0;34m\u001b[0m\u001b[0m\n",
      "\u001b[0;32m/opt/anaconda/envs/pyspark_env/lib/python3.7/site-packages/pandas/core/accessor.py\u001b[0m in \u001b[0;36m__get__\u001b[0;34m(self, obj, cls)\u001b[0m\n\u001b[1;32m    185\u001b[0m             \u001b[0;31m# we're accessing the attribute of the class, i.e., Dataset.geo\u001b[0m\u001b[0;34m\u001b[0m\u001b[0;34m\u001b[0m\u001b[0;34m\u001b[0m\u001b[0m\n\u001b[1;32m    186\u001b[0m             \u001b[0;32mreturn\u001b[0m \u001b[0mself\u001b[0m\u001b[0;34m.\u001b[0m\u001b[0m_accessor\u001b[0m\u001b[0;34m\u001b[0m\u001b[0;34m\u001b[0m\u001b[0m\n\u001b[0;32m--> 187\u001b[0;31m         \u001b[0maccessor_obj\u001b[0m \u001b[0;34m=\u001b[0m \u001b[0mself\u001b[0m\u001b[0;34m.\u001b[0m\u001b[0m_accessor\u001b[0m\u001b[0;34m(\u001b[0m\u001b[0mobj\u001b[0m\u001b[0;34m)\u001b[0m\u001b[0;34m\u001b[0m\u001b[0;34m\u001b[0m\u001b[0m\n\u001b[0m\u001b[1;32m    188\u001b[0m         \u001b[0;31m# Replace the property with the accessor object. Inspired by:\u001b[0m\u001b[0;34m\u001b[0m\u001b[0;34m\u001b[0m\u001b[0;34m\u001b[0m\u001b[0m\n\u001b[1;32m    189\u001b[0m         \u001b[0;31m# https://www.pydanny.com/cached-property.html\u001b[0m\u001b[0;34m\u001b[0m\u001b[0;34m\u001b[0m\u001b[0;34m\u001b[0m\u001b[0m\n",
      "\u001b[0;32m/opt/anaconda/envs/pyspark_env/lib/python3.7/site-packages/pandas/core/indexes/accessors.py\u001b[0m in \u001b[0;36m__new__\u001b[0;34m(cls, data)\u001b[0m\n\u001b[1;32m    478\u001b[0m             \u001b[0;32mreturn\u001b[0m \u001b[0mPeriodProperties\u001b[0m\u001b[0;34m(\u001b[0m\u001b[0mdata\u001b[0m\u001b[0;34m,\u001b[0m \u001b[0morig\u001b[0m\u001b[0;34m)\u001b[0m\u001b[0;34m\u001b[0m\u001b[0;34m\u001b[0m\u001b[0m\n\u001b[1;32m    479\u001b[0m \u001b[0;34m\u001b[0m\u001b[0m\n\u001b[0;32m--> 480\u001b[0;31m         \u001b[0;32mraise\u001b[0m \u001b[0mAttributeError\u001b[0m\u001b[0;34m(\u001b[0m\u001b[0;34m\"Can only use .dt accessor with datetimelike values\"\u001b[0m\u001b[0;34m)\u001b[0m\u001b[0;34m\u001b[0m\u001b[0;34m\u001b[0m\u001b[0m\n\u001b[0m",
      "\u001b[0;31mAttributeError\u001b[0m: Can only use .dt accessor with datetimelike values"
     ]
    }
   ],
   "source": [
    "pdf_cof_island2['created_at'] = pdf_cof_island2['created_at'].dt.date"
   ]
  },
  {
   "cell_type": "code",
   "execution_count": 21,
   "metadata": {},
   "outputs": [
    {
     "output_type": "stream",
     "name": "stdout",
     "text": [
      "<class 'pandas.core.frame.DataFrame'>\nRangeIndex: 14 entries, 0 to 13\nData columns (total 4 columns):\n #   Column           Non-Null Count  Dtype \n---  ------           --------------  ----- \n 0   text             14 non-null     object\n 1   favourite_count  14 non-null     int64 \n 2   retweet_count    14 non-null     int64 \n 3   created_at       14 non-null     object\ndtypes: int64(2), object(2)\nmemory usage: 576.0+ bytes\n"
     ]
    }
   ],
   "source": [
    "pdf_cof_island2.info()"
   ]
  },
  {
   "source": [
    "### Divide multiple columns by another column in pandas"
   ],
   "cell_type": "markdown",
   "metadata": {}
  },
  {
   "cell_type": "code",
   "execution_count": 216,
   "metadata": {},
   "outputs": [
    {
     "output_type": "execute_result",
     "data": {
      "text/plain": [
       "   created_at  negative_nltk  positive_nltk  neutral_nltk  compound_nltk  \\\n",
       "0  2021-06-19       0.043015       0.033931      0.923043      -0.026038   \n",
       "1  2021-06-20       0.055511       0.046915      0.897590      -0.015076   \n",
       "\n",
       "   tweets  \n",
       "0    4103  \n",
       "1    2407  "
      ],
      "text/html": "<div>\n<style scoped>\n    .dataframe tbody tr th:only-of-type {\n        vertical-align: middle;\n    }\n\n    .dataframe tbody tr th {\n        vertical-align: top;\n    }\n\n    .dataframe thead th {\n        text-align: right;\n    }\n</style>\n<table border=\"1\" class=\"dataframe\">\n  <thead>\n    <tr style=\"text-align: right;\">\n      <th></th>\n      <th>created_at</th>\n      <th>negative_nltk</th>\n      <th>positive_nltk</th>\n      <th>neutral_nltk</th>\n      <th>compound_nltk</th>\n      <th>tweets</th>\n    </tr>\n  </thead>\n  <tbody>\n    <tr>\n      <th>0</th>\n      <td>2021-06-19</td>\n      <td>0.043015</td>\n      <td>0.033931</td>\n      <td>0.923043</td>\n      <td>-0.026038</td>\n      <td>4103</td>\n    </tr>\n    <tr>\n      <th>1</th>\n      <td>2021-06-20</td>\n      <td>0.055511</td>\n      <td>0.046915</td>\n      <td>0.897590</td>\n      <td>-0.015076</td>\n      <td>2407</td>\n    </tr>\n  </tbody>\n</table>\n</div>"
     },
     "metadata": {},
     "execution_count": 216
    }
   ],
   "source": [
    "\n",
    "# pdf_agg_byDate = (pdf_agg_byDate.apply(['compound_nltk']/pdf_agg_byDate['tweets']\n",
    "#     .withColumn( 'positive_nltk',f.col('sum(positive_nltk)')/f.col('count(created_at)'))\n",
    "#     .withColumn( 'negativen_ltk',f.col('sum(negative_nltk)')/f.col('count(created_at)'))\n",
    "#     .withColumn( 'neutral_nltk',f.col('sum(neutral_nltk)')/f.col('count(created_at)'))\n",
    "#     .withColumnRenamed('count(created_at)', 'tweets')).drop(*columns_to_drop\n",
    "\n",
    "pdf_agg_byDate[['negative_nltk','positive_nltk','neutral_nltk','compound_nltk']]=\\\n",
    "    (pdf_agg_byDate[['negative_nltk','positive_nltk','neutral_nltk','compound_nltk']].divide(pdf_agg_byDate ['tweets'], axis = 'index'))\n",
    "\n",
    "\n",
    "pdf_agg_byDate\n"
   ]
  },
  {
   "cell_type": "code",
   "execution_count": 208,
   "metadata": {},
   "outputs": [
    {
     "output_type": "execute_result",
     "data": {
      "text/plain": [
       "   negative_nltk  positive_nltk  neutral_nltk  compound_nltk\n",
       "0       0.043015       0.033931      0.923043      -0.026038\n",
       "1       0.055511       0.046915      0.897590      -0.015076"
      ],
      "text/html": "<div>\n<style scoped>\n    .dataframe tbody tr th:only-of-type {\n        vertical-align: middle;\n    }\n\n    .dataframe tbody tr th {\n        vertical-align: top;\n    }\n\n    .dataframe thead th {\n        text-align: right;\n    }\n</style>\n<table border=\"1\" class=\"dataframe\">\n  <thead>\n    <tr style=\"text-align: right;\">\n      <th></th>\n      <th>negative_nltk</th>\n      <th>positive_nltk</th>\n      <th>neutral_nltk</th>\n      <th>compound_nltk</th>\n    </tr>\n  </thead>\n  <tbody>\n    <tr>\n      <th>0</th>\n      <td>0.043015</td>\n      <td>0.033931</td>\n      <td>0.923043</td>\n      <td>-0.026038</td>\n    </tr>\n    <tr>\n      <th>1</th>\n      <td>0.055511</td>\n      <td>0.046915</td>\n      <td>0.897590</td>\n      <td>-0.015076</td>\n    </tr>\n  </tbody>\n</table>\n</div>"
     },
     "metadata": {},
     "execution_count": 208
    }
   ],
   "source": [
    "pdf_agg_byDate"
   ]
  },
  {
   "source": [
    "# perfplot"
   ],
   "cell_type": "markdown",
   "metadata": {}
  },
  {
   "cell_type": "code",
   "execution_count": 68,
   "metadata": {},
   "outputs": [
    {
     "output_type": "display_data",
     "data": {
      "text/plain": "Output()",
      "application/vnd.jupyter.widget-view+json": {
       "version_major": 2,
       "version_minor": 0,
       "model_id": "888ad0ae7731483fb3b8c5d2faa93965"
      }
     },
     "metadata": {}
    }
   ],
   "source": [
    "import numpy as np\n",
    "import pandas as pd\n",
    "import perfplot\n",
    "\n",
    "perfplot.save(\n",
    "    \"out.png\",\n",
    "    setup=lambda n: pd.DataFrame(np.arange(n * 3).reshape(n, 3)),\n",
    "    n_range=[2**k for k in range(25)],\n",
    "    kernels=[\n",
    "        lambda df: len(df.index),\n",
    "        lambda df: df.shape[0],\n",
    "        lambda df: df[df.columns[0]].count(),\n",
    "    ],\n",
    "    labels=[\"len(df.index)\", \"df.shape[0]\", \"df[df.columns[0]].count()\"],\n",
    "    xlabel=\"Number of rows\",\n",
    ")"
   ]
  },
  {
   "cell_type": "code",
   "execution_count": null,
   "metadata": {},
   "outputs": [],
   "source": []
  }
 ],
 "metadata": {
  "kernelspec": {
   "name": "python3",
   "display_name": "Python 3.7.10 64-bit ('base': conda)"
  },
  "language_info": {
   "codemirror_mode": {
    "name": "ipython",
    "version": 3
   },
   "file_extension": ".py",
   "mimetype": "text/x-python",
   "name": "python",
   "nbconvert_exporter": "python",
   "pygments_lexer": "ipython3",
   "version": "3.7.10"
  },
  "interpreter": {
   "hash": "c027416a0caaaf5e4fd3b25f66102efea033e33be1f6b9d7ac7164ef671d094d"
  }
 },
 "nbformat": 4,
 "nbformat_minor": 4
}