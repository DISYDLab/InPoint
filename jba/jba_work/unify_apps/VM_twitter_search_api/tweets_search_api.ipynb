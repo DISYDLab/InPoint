{
 "cells": [
  {
   "cell_type": "markdown",
   "metadata": {},
   "source": [
    "# Get Tweets\n",
    "\n",
    "This script extracts all the tweets with hashtag #covid-19 related to the day before today (yesterday) and saves them into a .csv file.\n",
    "We use the `tweepy` library, which can be installed with the command `pip install tweepy`.\n",
    "\n",
    "Firstly, we import the configuration file, called `config.py`, which is located in the same directory of this script."
   ]
  },
  {
   "cell_type": "code",
   "execution_count": 17,
   "metadata": {},
   "outputs": [],
   "source": [
    "from config import *\n",
    "import tweepy\n",
    "import datetime\n",
    "\n",
    "import sys\n",
    "import logging\n",
    "\n",
    "logger = logging.getLogger('tweets_search')"
   ]
  },
  {
   "cell_type": "code",
   "execution_count": 18,
   "metadata": {},
   "outputs": [],
   "source": [
    "format = \"%(asctime)s - %(levelname)s - %(message)s\"\n",
    "logging.basicConfig(format=format, stream=sys.stdout, level = logging.DEBUG)"
   ]
  },
  {
   "cell_type": "markdown",
   "metadata": {},
   "source": [
    "We setup the connection to our Twitter App by using the `OAuthHandler()` class and its `access_token()` function. Then we call the Twitter API through the `API()` function."
   ]
  },
  {
   "cell_type": "code",
   "execution_count": 19,
   "metadata": {},
   "outputs": [],
   "source": [
    "auth = tweepy.OAuthHandler(TWITTER_CONSUMER_KEY, TWITTER_CONSUMER_SECRET)\n",
    "auth.set_access_token(TWITTER_ACCESS_TOKEN, TWITTER_ACCESS_TOKEN_SECRET)\n",
    "api = tweepy.API(auth,wait_on_rate_limit=True)"
   ]
  },
  {
   "cell_type": "markdown",
   "metadata": {},
   "source": [
    "Now we setup dates. We need to setup today and yesterday."
   ]
  },
  {
   "cell_type": "code",
   "execution_count": 20,
   "metadata": {},
   "outputs": [
    {
     "output_type": "execute_result",
     "data": {
      "text/plain": [
       "(datetime.date(2021, 6, 20), datetime.date(2021, 6, 19))"
      ]
     },
     "metadata": {},
     "execution_count": 20
    }
   ],
   "source": [
    "today = datetime.date.today()\n",
    "yesterday= today - datetime.timedelta(days=1)\n",
    "today, yesterday"
   ]
  },
  {
   "cell_type": "markdown",
   "metadata": {},
   "source": [
    "We search for tweets on Twitter by using the `Cursor()` function. \n",
    "We pass the `api.search` parameter to the cursor, as well as the query string, which is specified through the `q` parameter of the cursor.\n",
    "The query string can receive many parameters, such as the following (not mandatory) ones:\n",
    "* `from:` - to specify a specific Twitter user profile\n",
    "* `since:` - to specify the beginning date of search\n",
    "* `until:` - to specify the ending date of search\n",
    "The cursor can also receive other parameters, such as the language and the `tweet_mode`. If `tweet_mode='extended'`, all the text of the tweet is returned, otherwise only the first 140 characters."
   ]
  },
  {
   "cell_type": "code",
   "execution_count": null,
   "metadata": {},
   "outputs": [],
   "source": [
    "# # example \n",
    "# code tweets = tweepy.Cursor(api.search, tweet_mode=’extended’) \n",
    "# for tweet in tweets:\n",
    "#     content = tweet.full_text"
   ]
  },
  {
   "cell_type": "code",
   "execution_count": 13,
   "metadata": {},
   "outputs": [],
   "source": [
    "# tweets_list = tweepy.Cursor(api.search, q=\"#Covid-19 since:\" + str(yesterday)+ \" until:\" + str(today),tweet_mode='extended', lang='en').items()"
   ]
  },
  {
   "cell_type": "code",
   "execution_count": 21,
   "metadata": {},
   "outputs": [],
   "source": [
    "tweets_list = tweepy.Cursor(api.search, q=f\"#Covid-19 since:{str(yesterday)} until:{str(today)}\",tweet_mode='extended', lang='en').items(5)"
   ]
  },
  {
   "cell_type": "markdown",
   "metadata": {},
   "source": [
    "Now we loop across the `tweets_list`, and, for each tweet, we extract the text, the creation date, the number of retweets and the favourite count. We store every tweet into a list, called `output`."
   ]
  },
  {
   "cell_type": "code",
   "execution_count": 22,
   "metadata": {},
   "outputs": [
    {
     "output_type": "stream",
     "name": "stdout",
     "text": [
      "2021-06-20 12:31:49,011 - DEBUG - PARAMS: {'q': b'#Covid-19 since:2021-06-19 until:2021-06-20', 'tweet_mode': b'extended', 'lang': b'en'}\n",
      "2021-06-20 12:31:49,027 - DEBUG - Signing request <PreparedRequest [GET]> using client <Client client_key=pw0ihLFxH3nwDrd4HBd7pqUrc, client_secret=****, resource_owner_key=1360011857969479682-iLrxBUlqdtExwkqiN9iZsHYDXIFTZz, resource_owner_secret=****, signature_method=HMAC-SHA1, signature_type=AUTH_HEADER, callback_uri=None, rsa_key=None, verifier=None, realm=None, encoding=utf-8, decoding=None, nonce=None, timestamp=None>\n",
      "2021-06-20 12:31:49,033 - DEBUG - Including body in call to sign: False\n",
      "2021-06-20 12:31:49,035 - DEBUG - Collected params: [('q', '#Covid-19 since:2021-06-19 until:2021-06-20'), ('tweet_mode', 'extended'), ('lang', 'en'), ('oauth_nonce', '102771151222866023801624181509'), ('oauth_timestamp', '1624181509'), ('oauth_version', '1.0'), ('oauth_signature_method', 'HMAC-SHA1'), ('oauth_consumer_key', 'pw0ihLFxH3nwDrd4HBd7pqUrc'), ('oauth_token', '1360011857969479682-iLrxBUlqdtExwkqiN9iZsHYDXIFTZz')]\n",
      "2021-06-20 12:31:49,039 - DEBUG - Normalized params: lang=en&oauth_consumer_key=pw0ihLFxH3nwDrd4HBd7pqUrc&oauth_nonce=102771151222866023801624181509&oauth_signature_method=HMAC-SHA1&oauth_timestamp=1624181509&oauth_token=1360011857969479682-iLrxBUlqdtExwkqiN9iZsHYDXIFTZz&oauth_version=1.0&q=%23Covid-19%20since%3A2021-06-19%20until%3A2021-06-20&tweet_mode=extended\n",
      "2021-06-20 12:31:49,041 - DEBUG - Normalized URI: https://api.twitter.com/1.1/search/tweets.json\n",
      "2021-06-20 12:31:49,043 - DEBUG - Signing: signature base string: GET&https%3A%2F%2Fapi.twitter.com%2F1.1%2Fsearch%2Ftweets.json&lang%3Den%26oauth_consumer_key%3Dpw0ihLFxH3nwDrd4HBd7pqUrc%26oauth_nonce%3D102771151222866023801624181509%26oauth_signature_method%3DHMAC-SHA1%26oauth_timestamp%3D1624181509%26oauth_token%3D1360011857969479682-iLrxBUlqdtExwkqiN9iZsHYDXIFTZz%26oauth_version%3D1.0%26q%3D%2523Covid-19%2520since%253A2021-06-19%2520until%253A2021-06-20%26tweet_mode%3Dextended\n",
      "2021-06-20 12:31:49,045 - DEBUG - Signature: LNVFLCBCDJHkeQt0lNZpYapndyA=\n",
      "2021-06-20 12:31:49,048 - DEBUG - Updated url: https://api.twitter.com/1.1/search/tweets.json?q=%23Covid-19+since%3A2021-06-19+until%3A2021-06-20&tweet_mode=extended&lang=en\n",
      "2021-06-20 12:31:49,049 - DEBUG - Updated headers: {'Host': 'api.twitter.com', 'Authorization': 'OAuth oauth_nonce=\"102771151222866023801624181509\", oauth_timestamp=\"1624181509\", oauth_version=\"1.0\", oauth_signature_method=\"HMAC-SHA1\", oauth_consumer_key=\"pw0ihLFxH3nwDrd4HBd7pqUrc\", oauth_token=\"1360011857969479682-iLrxBUlqdtExwkqiN9iZsHYDXIFTZz\", oauth_signature=\"LNVFLCBCDJHkeQt0lNZpYapndyA%3D\"'}\n",
      "2021-06-20 12:31:49,051 - DEBUG - Updated body: None\n",
      "2021-06-20 12:31:49,062 - DEBUG - Starting new HTTPS connection (1): api.twitter.com:443\n",
      "2021-06-20 12:31:49,977 - DEBUG - https://api.twitter.com:443 \"GET /1.1/search/tweets.json?q=%23Covid-19+since%3A2021-06-19+until%3A2021-06-20&tweet_mode=extended&lang=en HTTP/1.1\" 429 56\n",
      "2021-06-20 12:37:48,082 - DEBUG - Signing request <PreparedRequest [GET]> using client <Client client_key=pw0ihLFxH3nwDrd4HBd7pqUrc, client_secret=****, resource_owner_key=1360011857969479682-iLrxBUlqdtExwkqiN9iZsHYDXIFTZz, resource_owner_secret=****, signature_method=HMAC-SHA1, signature_type=AUTH_HEADER, callback_uri=None, rsa_key=None, verifier=None, realm=None, encoding=utf-8, decoding=None, nonce=None, timestamp=None>\n",
      "2021-06-20 12:37:48,092 - DEBUG - Including body in call to sign: False\n",
      "2021-06-20 12:37:48,095 - DEBUG - Collected params: [('q', '#Covid-19 since:2021-06-19 until:2021-06-20'), ('tweet_mode', 'extended'), ('lang', 'en'), ('oauth_nonce', '142674709351810131161624181868'), ('oauth_timestamp', '1624181868'), ('oauth_version', '1.0'), ('oauth_signature_method', 'HMAC-SHA1'), ('oauth_consumer_key', 'pw0ihLFxH3nwDrd4HBd7pqUrc'), ('oauth_token', '1360011857969479682-iLrxBUlqdtExwkqiN9iZsHYDXIFTZz')]\n",
      "2021-06-20 12:37:48,105 - DEBUG - Normalized params: lang=en&oauth_consumer_key=pw0ihLFxH3nwDrd4HBd7pqUrc&oauth_nonce=142674709351810131161624181868&oauth_signature_method=HMAC-SHA1&oauth_timestamp=1624181868&oauth_token=1360011857969479682-iLrxBUlqdtExwkqiN9iZsHYDXIFTZz&oauth_version=1.0&q=%23Covid-19%20since%3A2021-06-19%20until%3A2021-06-20&tweet_mode=extended\n",
      "2021-06-20 12:37:48,109 - DEBUG - Normalized URI: https://api.twitter.com/1.1/search/tweets.json\n",
      "2021-06-20 12:37:48,117 - DEBUG - Signing: signature base string: GET&https%3A%2F%2Fapi.twitter.com%2F1.1%2Fsearch%2Ftweets.json&lang%3Den%26oauth_consumer_key%3Dpw0ihLFxH3nwDrd4HBd7pqUrc%26oauth_nonce%3D142674709351810131161624181868%26oauth_signature_method%3DHMAC-SHA1%26oauth_timestamp%3D1624181868%26oauth_token%3D1360011857969479682-iLrxBUlqdtExwkqiN9iZsHYDXIFTZz%26oauth_version%3D1.0%26q%3D%2523Covid-19%2520since%253A2021-06-19%2520until%253A2021-06-20%26tweet_mode%3Dextended\n",
      "2021-06-20 12:37:48,126 - DEBUG - Signature: QimLQ1GbMsL/HlpdaBJ3SzXznxs=\n",
      "2021-06-20 12:37:48,136 - DEBUG - Updated url: https://api.twitter.com/1.1/search/tweets.json?q=%23Covid-19+since%3A2021-06-19+until%3A2021-06-20&tweet_mode=extended&lang=en\n",
      "2021-06-20 12:37:48,137 - DEBUG - Updated headers: {'Host': 'api.twitter.com', 'Cookie': 'guest_id=v1%3A162418151149249322; personalization_id=\"v1_D4vy02JJ4XznOtsUrfP+zQ==\"', 'Authorization': 'OAuth oauth_nonce=\"142674709351810131161624181868\", oauth_timestamp=\"1624181868\", oauth_version=\"1.0\", oauth_signature_method=\"HMAC-SHA1\", oauth_consumer_key=\"pw0ihLFxH3nwDrd4HBd7pqUrc\", oauth_token=\"1360011857969479682-iLrxBUlqdtExwkqiN9iZsHYDXIFTZz\", oauth_signature=\"QimLQ1GbMsL%2FHlpdaBJ3SzXznxs%3D\"'}\n",
      "2021-06-20 12:37:48,138 - DEBUG - Updated body: None\n",
      "2021-06-20 12:37:48,152 - DEBUG - Resetting dropped connection: api.twitter.com\n",
      "2021-06-20 12:37:49,477 - DEBUG - https://api.twitter.com:443 \"GET /1.1/search/tweets.json?q=%23Covid-19+since%3A2021-06-19+until%3A2021-06-20&tweet_mode=extended&lang=en HTTP/1.1\" 200 97072\n",
      "2021-06-20 12:37:49,690 - DEBUG - PARAMS: {'create': b'True'}\n",
      "RT @StateDeptSpox: Wheels up! Our donation of 2.5 million vaccine doses is on the way to Taiwan, whose health partnership with the U.S. hel…\n",
      "2021-06-20 12:37:49,733 - DEBUG - full_text: 'RT @StateDeptSpox: Wheels up! Our donation of 2.5 million vaccine doses is on the way to Taiwan, whose health partnership with the U.S. hel…'\n",
      "“On average, it takes about two weeks for [immunoglobulin G] antibodies to be detectable...so now we’re talking about a December 24 potential infection or sometime even prior to that.” —@kerinalthoff https://t.co/CDoLJ4GAHz\n",
      "2021-06-20 12:37:49,753 - DEBUG - full_text: '“On average, it takes about two weeks for [immunoglobulin G] antibodies to be detectable...so now we’re talking about a December 24 potential infection or sometime even prior to that.” —@kerinalthoff https://t.co/CDoLJ4GAHz'\n",
      "RT @CNNIndonesia: Jubir Satgas Covid-19 Wiku Adisasmito Positif Corona https://t.co/4SMFUBwwTY\n",
      "2021-06-20 12:37:49,760 - DEBUG - full_text: 'RT @CNNIndonesia: Jubir Satgas Covid-19 Wiku Adisasmito Positif Corona https://t.co/4SMFUBwwTY'\n",
      "RT @BrianMteleSUR: Brazil reached the horrible milestone of 500,000 Covid 19 deaths today. This is US-puppet ruler Jair Bolsonaro's grim le…\n",
      "2021-06-20 12:37:49,763 - DEBUG - full_text: 'RT @BrianMteleSUR: Brazil reached the horrible milestone of 500,000 Covid 19 deaths today. This is US-puppet ruler Jair Bolsonaro's grim le…'\n",
      "RT @thehill: Unvaccinated NFL player rips league's COVID-19 rules: \"I'd rather die living\" https://t.co/85riqOASQE https://t.co/w5b3IOTA3E\n",
      "2021-06-20 12:37:49,803 - DEBUG - full_text: 'RT @thehill: Unvaccinated NFL player rips league's COVID-19 rules: \"I'd rather die living\" https://t.co/85riqOASQE https://t.co/w5b3IOTA3E'\n"
     ]
    }
   ],
   "source": [
    "output = []\n",
    "for tweet in tweets_list:\n",
    "    text = tweet._json[\"full_text\"]\n",
    "    print(text)\n",
    "    logger.debug(f\"full_text: '{text}'\")\n",
    "    favourite_count = tweet.favorite_count\n",
    "    retweet_count = tweet.retweet_count\n",
    "    created_at = tweet.created_at\n",
    "    \n",
    "    line = {'text' : text, 'favourite_count' : favourite_count, 'retweet_count' : retweet_count, 'created_at' : created_at}\n",
    "    output.append(line)"
   ]
  },
  {
   "cell_type": "code",
   "execution_count": 23,
   "metadata": {},
   "outputs": [
    {
     "output_type": "execute_result",
     "data": {
      "text/plain": [
       "[{'text': 'RT @StateDeptSpox: Wheels up! Our donation of 2.5 million vaccine doses is on the way to Taiwan, whose health partnership with the U.S. hel…',\n",
       "  'favourite_count': 0,\n",
       "  'retweet_count': 1419,\n",
       "  'created_at': datetime.datetime(2021, 6, 19, 23, 59, 59)},\n",
       " {'text': '“On average, it takes about two weeks for [immunoglobulin G] antibodies to be detectable...so now we’re talking about a December 24 potential infection or sometime even prior to that.” —@kerinalthoff https://t.co/CDoLJ4GAHz',\n",
       "  'favourite_count': 3,\n",
       "  'retweet_count': 1,\n",
       "  'created_at': datetime.datetime(2021, 6, 19, 23, 59, 59)},\n",
       " {'text': 'RT @CNNIndonesia: Jubir Satgas Covid-19 Wiku Adisasmito Positif Corona https://t.co/4SMFUBwwTY',\n",
       "  'favourite_count': 0,\n",
       "  'retweet_count': 191,\n",
       "  'created_at': datetime.datetime(2021, 6, 19, 23, 59, 59)},\n",
       " {'text': \"RT @BrianMteleSUR: Brazil reached the horrible milestone of 500,000 Covid 19 deaths today. This is US-puppet ruler Jair Bolsonaro's grim le…\",\n",
       "  'favourite_count': 0,\n",
       "  'retweet_count': 74,\n",
       "  'created_at': datetime.datetime(2021, 6, 19, 23, 59, 59)},\n",
       " {'text': 'RT @thehill: Unvaccinated NFL player rips league\\'s COVID-19 rules: \"I\\'d rather die living\" https://t.co/85riqOASQE https://t.co/w5b3IOTA3E',\n",
       "  'favourite_count': 0,\n",
       "  'retweet_count': 40,\n",
       "  'created_at': datetime.datetime(2021, 6, 19, 23, 59, 58)}]"
      ]
     },
     "metadata": {},
     "execution_count": 23
    }
   ],
   "source": [
    "output"
   ]
  },
  {
   "cell_type": "markdown",
   "metadata": {},
   "source": [
    "Finally, we convert the `output` list to a `pandas DataFrame` and we store results."
   ]
  },
  {
   "cell_type": "code",
   "execution_count": null,
   "metadata": {},
   "outputs": [],
   "source": [
    "output"
   ]
  },
  {
   "cell_type": "code",
   "execution_count": 24,
   "metadata": {},
   "outputs": [],
   "source": [
    "import pandas as pd\n",
    "\n",
    "df = pd.DataFrame(output)\n",
    "df.to_csv('output.csv', mode='a', header=False)\n",
    "#df.to_csv('output.csv')"
   ]
  },
  {
   "cell_type": "code",
   "execution_count": 25,
   "metadata": {},
   "outputs": [
    {
     "output_type": "execute_result",
     "data": {
      "text/plain": [
       "(5, 4)"
      ]
     },
     "metadata": {},
     "execution_count": 25
    }
   ],
   "source": [
    "df.shape"
   ]
  },
  {
   "cell_type": "code",
   "execution_count": 26,
   "metadata": {},
   "outputs": [
    {
     "output_type": "execute_result",
     "data": {
      "text/plain": [
       "                                                text  favourite_count  \\\n",
       "0  RT @StateDeptSpox: Wheels up! Our donation of ...                0   \n",
       "1  “On average, it takes about two weeks for [imm...                3   \n",
       "2  RT @CNNIndonesia: Jubir Satgas Covid-19 Wiku A...                0   \n",
       "3  RT @BrianMteleSUR: Brazil reached the horrible...                0   \n",
       "4  RT @thehill: Unvaccinated NFL player rips leag...                0   \n",
       "\n",
       "   retweet_count          created_at  \n",
       "0           1419 2021-06-19 23:59:59  \n",
       "1              1 2021-06-19 23:59:59  \n",
       "2            191 2021-06-19 23:59:59  \n",
       "3             74 2021-06-19 23:59:59  \n",
       "4             40 2021-06-19 23:59:58  "
      ],
      "text/html": "<div>\n<style scoped>\n    .dataframe tbody tr th:only-of-type {\n        vertical-align: middle;\n    }\n\n    .dataframe tbody tr th {\n        vertical-align: top;\n    }\n\n    .dataframe thead th {\n        text-align: right;\n    }\n</style>\n<table border=\"1\" class=\"dataframe\">\n  <thead>\n    <tr style=\"text-align: right;\">\n      <th></th>\n      <th>text</th>\n      <th>favourite_count</th>\n      <th>retweet_count</th>\n      <th>created_at</th>\n    </tr>\n  </thead>\n  <tbody>\n    <tr>\n      <th>0</th>\n      <td>RT @StateDeptSpox: Wheels up! Our donation of ...</td>\n      <td>0</td>\n      <td>1419</td>\n      <td>2021-06-19 23:59:59</td>\n    </tr>\n    <tr>\n      <th>1</th>\n      <td>“On average, it takes about two weeks for [imm...</td>\n      <td>3</td>\n      <td>1</td>\n      <td>2021-06-19 23:59:59</td>\n    </tr>\n    <tr>\n      <th>2</th>\n      <td>RT @CNNIndonesia: Jubir Satgas Covid-19 Wiku A...</td>\n      <td>0</td>\n      <td>191</td>\n      <td>2021-06-19 23:59:59</td>\n    </tr>\n    <tr>\n      <th>3</th>\n      <td>RT @BrianMteleSUR: Brazil reached the horrible...</td>\n      <td>0</td>\n      <td>74</td>\n      <td>2021-06-19 23:59:59</td>\n    </tr>\n    <tr>\n      <th>4</th>\n      <td>RT @thehill: Unvaccinated NFL player rips leag...</td>\n      <td>0</td>\n      <td>40</td>\n      <td>2021-06-19 23:59:58</td>\n    </tr>\n  </tbody>\n</table>\n</div>"
     },
     "metadata": {},
     "execution_count": 26
    }
   ],
   "source": [
    "df.head(10)"
   ]
  },
  {
   "cell_type": "code",
   "execution_count": null,
   "metadata": {},
   "outputs": [],
   "source": []
  }
 ],
 "metadata": {
  "kernelspec": {
   "name": "python3",
   "display_name": "Python 3.7.10 64-bit ('base': conda)"
  },
  "language_info": {
   "codemirror_mode": {
    "name": "ipython",
    "version": 3
   },
   "file_extension": ".py",
   "mimetype": "text/x-python",
   "name": "python",
   "nbconvert_exporter": "python",
   "pygments_lexer": "ipython3",
   "version": "3.7.10"
  },
  "interpreter": {
   "hash": "c027416a0caaaf5e4fd3b25f66102efea033e33be1f6b9d7ac7164ef671d094d"
  }
 },
 "nbformat": 4,
 "nbformat_minor": 4
}